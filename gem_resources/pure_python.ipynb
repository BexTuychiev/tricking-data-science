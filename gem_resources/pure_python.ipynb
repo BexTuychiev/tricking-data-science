{
 "cells": [
  {
   "cell_type": "markdown",
   "id": "bf9e6a5f-485e-449b-84ba-34c82ea24050",
   "metadata": {},
   "source": [
    "# Best resources to learn Python"
   ]
  },
  {
   "cell_type": "markdown",
   "id": "a41fc93a-30f2-4d09-b656-10ac446ac657",
   "metadata": {},
   "source": [
    "## Implementation of virtually any algorithm in Python:"
   ]
  },
  {
   "cell_type": "markdown",
   "id": "bd449747-8679-4ff8-aedd-7a7011223f9b",
   "metadata": {},
   "source": []
  }
 ],
 "metadata": {
  "kernelspec": {
   "display_name": "articles",
   "language": "python",
   "name": "articles"
  },
  "language_info": {
   "codemirror_mode": {
    "name": "ipython",
    "version": 3
   },
   "file_extension": ".py",
   "mimetype": "text/x-python",
   "name": "python",
   "nbconvert_exporter": "python",
   "pygments_lexer": "ipython3",
   "version": "3.9.12"
  }
 },
 "nbformat": 4,
 "nbformat_minor": 5
}
