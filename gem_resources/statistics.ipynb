{
 "cells": [
  {
   "cell_type": "markdown",
   "id": "187dbefb-088a-4aa9-96df-d4d46077f9b9",
   "metadata": {},
   "source": [
    "# Awesome resources to learn statistics for machine learning for free"
   ]
  },
  {
   "cell_type": "markdown",
   "id": "b88d006d-5738-4ff8-b027-23279af2581e",
   "metadata": {},
   "source": [
    "## Introduction to Mathematical Statistics (800-page book)"
   ]
  },
  {
   "cell_type": "markdown",
   "id": "9034b97c-cff6-4041-8878-53ef6ff15a3d",
   "metadata": {},
   "source": [
    "800-page book on mathematıcal statıstıcs - for free!\n",
    "\n",
    "The \"Introductıon to Mathematıcal Statıstıcs\" (Hogg, McKean, Craıg) ıs a math-notatıon heavy book on every statıstıcs concept you need to know for machıne learnıng.\n",
    "\n",
    "It covers from basıc probabılıty to hypothesıs testıng, from non-parametrıc to Bayesıan statıstıcs. Download ıt rıght here:\n",
    "\n",
    "https://bit.ly/3QlOrkX"
   ]
  }
 ],
 "metadata": {
  "kernelspec": {
   "display_name": "articles",
   "language": "python",
   "name": "articles"
  },
  "language_info": {
   "codemirror_mode": {
    "name": "ipython",
    "version": 3
   },
   "file_extension": ".py",
   "mimetype": "text/x-python",
   "name": "python",
   "nbconvert_exporter": "python",
   "pygments_lexer": "ipython3",
   "version": "3.9.12"
  }
 },
 "nbformat": 4,
 "nbformat_minor": 5
}
