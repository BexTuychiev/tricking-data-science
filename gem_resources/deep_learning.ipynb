{
 "cells": [
  {
   "cell_type": "markdown",
   "id": "37b62365-ce35-49cc-b627-72564404855c",
   "metadata": {},
   "source": [
    "# Best free resources to \"deeply\" learn Deep Learning "
   ]
  },
  {
   "cell_type": "markdown",
   "id": "dac59f64-a48a-4db1-a5c8-b6157fa64939",
   "metadata": {},
   "source": [
    "## 50 Annotated Deep Learning papers"
   ]
  },
  {
   "cell_type": "markdown",
   "id": "bd72c52c-3c56-4bdc-a256-712d029a5293",
   "metadata": {},
   "source": []
  }
 ],
 "metadata": {
  "kernelspec": {
   "display_name": "articles",
   "language": "python",
   "name": "articles"
  },
  "language_info": {
   "codemirror_mode": {
    "name": "ipython",
    "version": 3
   },
   "file_extension": ".py",
   "mimetype": "text/x-python",
   "name": "python",
   "nbconvert_exporter": "python",
   "pygments_lexer": "ipython3",
   "version": "3.9.12"
  }
 },
 "nbformat": 4,
 "nbformat_minor": 5
}
