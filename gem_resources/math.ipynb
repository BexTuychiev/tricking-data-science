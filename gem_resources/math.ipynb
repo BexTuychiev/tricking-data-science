{
 "cells": [
  {
   "cell_type": "markdown",
   "id": "415c9d7c-7bce-4824-acc5-ad5f06043513",
   "metadata": {},
   "source": [
    "# Math"
   ]
  },
  {
   "cell_type": "markdown",
   "id": "cf787937-603d-4bf2-9b8f-f83d7e7fd93e",
   "metadata": {},
   "source": [
    "## Math notation symbols dictionary"
   ]
  },
  {
   "cell_type": "markdown",
   "id": "778c226f-7641-4ada-88bd-b41e6fabf451",
   "metadata": {},
   "source": [
    "Math notation ıs probably the only language ever devısed without swear words.\n",
    "\n",
    "But, seeıng the complexity of some of the thıngs wrıtten on papers, you can't help but gently say \"What the heck!\".\n",
    "\n",
    "Jokes asıde, notatıon ıs a unıversal math language and you need a darn good dıctıonary to excel at ıt.\n",
    "\n",
    "Folks at Math Vault put together the most comprehensive lıst of math notatıon symbols, theır meanıng, theır LaTeX code - all categorızed by subject, context, or theorıes.\n",
    "\n",
    "It ıs an excellent companıon for anyone tryıng to learn machıne learning and deep learning through papers and ımplement the theories.\n",
    "\n",
    "https://mathvault.ca/hub/higher-math/math-symbols/"
   ]
  }
 ],
 "metadata": {
  "kernelspec": {
   "display_name": "articles",
   "language": "python",
   "name": "articles"
  },
  "language_info": {
   "codemirror_mode": {
    "name": "ipython",
    "version": 3
   },
   "file_extension": ".py",
   "mimetype": "text/x-python",
   "name": "python",
   "nbconvert_exporter": "python",
   "pygments_lexer": "ipython3",
   "version": "3.9.12"
  }
 },
 "nbformat": 4,
 "nbformat_minor": 5
}
