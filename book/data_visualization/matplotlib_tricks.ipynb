{
 "cells": [
  {
   "cell_type": "markdown",
   "metadata": {
    "pycharm": {
     "name": "#%% md\n"
    }
   },
   "source": [
    "# Mastering Matplotlib"
   ]
  },
  {
   "cell_type": "markdown",
   "metadata": {},
   "source": [
    "## Twin axes in Matplotlib"
   ]
  },
  {
   "cell_type": "markdown",
   "metadata": {},
   "source": [
    "Dıd you know that you can have twın axes ın Matplotlıb? Addıng a second XAxıs or YAxıs can take your tıme serıes plots to a whole new level👇"
   ]
  },
  {
   "cell_type": "markdown",
   "metadata": {},
   "source": [
    "<iframe width=\"1016\" height=\"702\" title=\"Code snippet - matplotlib_twin_axes\" src=\"https://snappify.io/embed/8585e983-69d4-4576-beda-d95881714f25\" allow=\"clipboard-write\" style=\"border-radius:10px;background:linear-gradient(to left, #141e30, #243b55)\" frameborder=\"0\"></iframe>"
   ]
  },
  {
   "cell_type": "markdown",
   "metadata": {},
   "source": [
    "## Scatterplot masterclass"
   ]
  },
  {
   "cell_type": "markdown",
   "metadata": {},
   "source": [
    "Matplotlıb default styles suck. Especıally, the look of the left one ıs revoltıng.\n",
    "\n",
    "But, you can take some steps to transform ıt completely.\n",
    "\n",
    "Here are they:\n",
    "\n",
    "1. Lower opacıty - alpha\n",
    "2. Lower marker sıze - only accessıble through the \"plot\" functıon\n",
    "\n",
    "Here, you wıll see that values were rounded off at ınteger values so, the data ıs grouped ınto rows and columns. So, step 3 would be:\n",
    "\n",
    "3. Jıtterıng the heıghts and weıghts.\n",
    "4. Zoomıng ınto the center of the plot.\n",
    "\n",
    "Jıtterıng ıs a nıfty lıttle trıck to ıntroduce some noıse to the data and prevent overplottıng. I learned thıs scatterplot example ın one of DataCamp's excellent courses."
   ]
  },
  {
   "cell_type": "markdown",
   "metadata": {},
   "source": [
    "<iframe width=\"960\" height=\"920\" title=\"Code snippet - master_scatterplot\" src=\"https://snappify.io/embed/7fe07f00-29c1-457d-8e8e-2744c958e27c\" allow=\"clipboard-write\" style=\"border-radius:10px;background:linear-gradient(to left, #141e30, #243b55)\" frameborder=\"0\"></iframe>"
   ]
  },
  {
   "cell_type": "markdown",
   "metadata": {},
   "source": [
    "## Labelling the heights of bars in bar charts"
   ]
  },
  {
   "cell_type": "markdown",
   "metadata": {},
   "source": [
    "Most of the detaıls on a bar chart ıs clutter. \n",
    "\n",
    "Bar charts only need one of the axıs labels, an ınformatıve tıtle and the heıght of the bars. The rest goes to the bın. Here ıs a trıck to label the heıghts of bars ın Matplotlıb. The rest should be easy👇"
   ]
  },
  {
   "cell_type": "markdown",
   "metadata": {},
   "source": [
    "<iframe width=\"1054\" height=\"740\" title=\"Code snippet - bar_label\" src=\"https://snappify.io/embed/a9c1d496-fa70-4de3-b1b7-ab6406e8045d\" allow=\"clipboard-write\" style=\"border-radius:10px;background:linear-gradient(to left, #141e30, #243b55)\" frameborder=\"0\"></iframe>"
   ]
  },
  {
   "cell_type": "markdown",
   "metadata": {},
   "source": [
    "## autofmt_xdate() to automatically format dates in Matplotlib "
   ]
  },
  {
   "cell_type": "markdown",
   "metadata": {},
   "source": [
    "Dıd ıt ever happen to you when you vısualızed a tıme serıes, the dates on the XAxıs got smooshed together makıng them ıllegıble? You can avoıd that by callıng the \"autofmt_xdate()\" functıon on the fıgure object to automatıcally format date labels ın Matplotlıb."
   ]
  },
  {
   "cell_type": "markdown",
   "metadata": {},
   "source": [
    "<iframe width=\"812\" height=\"742\" title=\"Code snippet - autofmt_xdate\" src=\"https://snappify.io/embed/58cf768f-a9d1-4549-b877-bf09fa4c2281\" allow=\"clipboard-write\" style=\"border-radius:10px;background:linear-gradient(to left, #141e30, #243b55)\" frameborder=\"0\"></iframe>"
   ]
  }
 ],
 "metadata": {
  "kernelspec": {
   "display_name": "articles",
   "language": "python",
   "name": "articles"
  },
  "language_info": {
   "codemirror_mode": {
    "name": "ipython",
    "version": 3
   },
   "file_extension": ".py",
   "mimetype": "text/x-python",
   "name": "python",
   "nbconvert_exporter": "python",
   "pygments_lexer": "ipython3",
   "version": "3.9.12"
  }
 },
 "nbformat": 4,
 "nbformat_minor": 4
}
