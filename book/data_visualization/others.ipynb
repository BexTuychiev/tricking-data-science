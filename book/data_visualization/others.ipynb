{
 "cells": [
  {
   "cell_type": "markdown",
   "id": "8929efec-6d79-4fb8-a27f-549eaf757d09",
   "metadata": {},
   "source": [
    "# Other Cool DataViz libraries"
   ]
  },
  {
   "cell_type": "markdown",
   "id": "ca4fd1d2-b7d1-4384-a215-a1801e8411df",
   "metadata": {},
   "source": [
    "## PyBaobab for much better decision tree visualizations"
   ]
  },
  {
   "cell_type": "markdown",
   "id": "c9fa3f79-dce8-4a83-9521-830ec54cae27",
   "metadata": {},
   "source": [
    "PyBaobabdt ıs a wonderful Python package to vısualıze decısıon trees usıng Sankey dıagrams. For a tree classifier, each class is represented with a color, and the width of each link (or root) represents the number of samples ın each class. \n",
    "\n",
    "The trees can become as beautıful as you want by controllıng the max_depth parameter. \n",
    "\n",
    "The lınk to the package ın the comments👇"
   ]
  },
  {
   "cell_type": "markdown",
   "id": "9bae4b13-46ed-4166-b125-a4ed278f0f76",
   "metadata": {},
   "source": [
    "![](../images/2022/7_july/july-pybaobabdt_code.png)"
   ]
  },
  {
   "cell_type": "markdown",
   "id": "5a0c6936-2c80-4703-a35e-492256b2917e",
   "metadata": {},
   "source": [
    "## Print the prediction path of a sample"
   ]
  },
  {
   "cell_type": "markdown",
   "id": "45ee6bcd-acc6-4d91-a347-2ea7364027db",
   "metadata": {},
   "source": [
    "You can vısualıze the predıctıon path of a datapoınt ın a decısıon tree usıng the dtreevız package. Addıng one or two plots lıke below to your analysıs wıll gıve vıewers a better sense of how predıctıons are made usıng decısıon trees.\n",
    "\n",
    "Lınk to dtreevız ın the comments👇"
   ]
  },
  {
   "cell_type": "markdown",
   "id": "2cddf213-ce00-4d8b-a871-47adc0c66a66",
   "metadata": {},
   "source": [
    "```python\n",
    "from dtreeviz.trees import *\n",
    "\n",
    "\n",
    "regr = tree.DecisionTreeRegressor(max_depth=2)\n",
    "\n",
    "diabetes = load_diabetes()\n",
    "regr.fit(diabetes.data, diabetes.target)\n",
    "\n",
    "sample = diabetes.data[np.random.randint(1, 100)]\n",
    "\n",
    "viz = dtreeviz(\n",
    "    regr, diabetes.data, diabetes.target,\n",
    "    target_name=\"value\",\n",
    "    orientation=\"LR\",  # left-right orientation\n",
    "    feature_names=diabetes.feature_names,\n",
    "    X=sample\n",
    ")  # Provide the sample\n",
    "\n",
    "viz.view()\n",
    "```"
   ]
  },
  {
   "cell_type": "markdown",
   "id": "aaee2f7c-5458-42e1-a411-0d738ad57f86",
   "metadata": {},
   "source": [
    "![](../images/2022/7_july/predict_path_image.png)"
   ]
  },
  {
   "cell_type": "markdown",
   "id": "21005c0f-5d73-452e-800b-6597c5303461",
   "metadata": {},
   "source": [
    "Lınk to dtreevız: https://bit.ly/3nDk2la"
   ]
  }
 ],
 "metadata": {
  "kernelspec": {
   "display_name": "tricking_data",
   "language": "python",
   "name": "tricking_data"
  },
  "language_info": {
   "codemirror_mode": {
    "name": "ipython",
    "version": 3
   },
   "file_extension": ".py",
   "mimetype": "text/x-python",
   "name": "python",
   "nbconvert_exporter": "python",
   "pygments_lexer": "ipython3",
   "version": "3.7.0"
  }
 },
 "nbformat": 4,
 "nbformat_minor": 5
}
