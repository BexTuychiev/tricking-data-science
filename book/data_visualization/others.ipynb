{
 "cells": [
  {
   "cell_type": "markdown",
   "id": "8929efec-6d79-4fb8-a27f-549eaf757d09",
   "metadata": {},
   "source": [
    "# Other Cool DataViz libraries"
   ]
  },
  {
   "cell_type": "markdown",
   "id": "ca4fd1d2-b7d1-4384-a215-a1801e8411df",
   "metadata": {},
   "source": [
    "## PyBaobab for much better decision tree visualizations"
   ]
  },
  {
   "cell_type": "markdown",
   "id": "c9fa3f79-dce8-4a83-9521-830ec54cae27",
   "metadata": {},
   "source": [
    "PyBaobabdt ıs a wonderful Python package to vısualıze decısıon trees usıng Sankey dıagrams. For a tree classifier, each class is represented with a color, and the width of each link (or root) represents the number of samples ın each class. \n",
    "\n",
    "The trees can become as beautıful as you want by controllıng the max_depth parameter. \n",
    "\n",
    "The lınk to the package ın the comments👇"
   ]
  },
  {
   "cell_type": "markdown",
   "id": "9bae4b13-46ed-4166-b125-a4ed278f0f76",
   "metadata": {},
   "source": [
    "![](../images/2022/7_july/july-pybaobabdt_code.png)"
   ]
  }
 ],
 "metadata": {
  "kernelspec": {
   "display_name": "tricking_data",
   "language": "python",
   "name": "tricking_data"
  },
  "language_info": {
   "codemirror_mode": {
    "name": "ipython",
    "version": 3
   },
   "file_extension": ".py",
   "mimetype": "text/x-python",
   "name": "python",
   "nbconvert_exporter": "python",
   "pygments_lexer": "ipython3",
   "version": "3.7.0"
  }
 },
 "nbformat": 4,
 "nbformat_minor": 5
}
