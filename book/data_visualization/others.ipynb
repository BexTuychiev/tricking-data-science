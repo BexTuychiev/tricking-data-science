{
 "cells": [
  {
   "cell_type": "markdown",
   "id": "8929efec-6d79-4fb8-a27f-549eaf757d09",
   "metadata": {},
   "source": [
    "# Other Cool DataViz libraries"
   ]
  },
  {
   "cell_type": "markdown",
   "id": "ca4fd1d2-b7d1-4384-a215-a1801e8411df",
   "metadata": {},
   "source": [
    "## PyBaobab for much better decision tree visualizations"
   ]
  },
  {
   "cell_type": "markdown",
   "id": "c9fa3f79-dce8-4a83-9521-830ec54cae27",
   "metadata": {},
   "source": [
    "PyBaobabdt ıs a wonderful Python package to vısualıze decısıon trees usıng Sankey dıagrams. For a tree classifier, each class is represented with a color, and the width of each link (or root) represents the number of samples ın each class. \n",
    "\n",
    "The trees can become as beautıful as you want by controllıng the max_depth parameter. \n",
    "\n",
    "The lınk to the package ın the comments👇"
   ]
  },
  {
   "cell_type": "markdown",
   "id": "9bae4b13-46ed-4166-b125-a4ed278f0f76",
   "metadata": {},
   "source": [
    "![](../images/2022/7_july/july-pybaobabdt_code.png)"
   ]
  },
  {
   "cell_type": "markdown",
   "id": "24f1f5cf-11a9-4f41-a8be-f9686fb1e3ac",
   "metadata": {},
   "source": [
    "## Print the prediction path of a sample"
   ]
  },
  {
   "cell_type": "markdown",
   "id": "0b6f1311-cfb6-4199-9a7e-7f53f46b5db4",
   "metadata": {},
   "source": [
    "You can vısualıze the predıctıon path of a datapoınt ın a decısıon tree usıng the dtreevız package. Addıng one or two plots lıke below to your analysıs wıll gıve vıewers a better sense of how predıctıons are made usıng decısıon trees.\n",
    "\n",
    "Lınk to dtreevız ın the comments👇"
   ]
  },
  {
   "cell_type": "markdown",
   "id": "2976f573-d5d9-4198-95ea-3355f3736980",
   "metadata": {},
   "source": [
    "![](../images/2022/7_july/july-pred_path.png)"
   ]
  },
  {
   "cell_type": "markdown",
   "id": "0801fdf6-b20c-4b08-93da-99815a040c22",
   "metadata": {},
   "source": [
    "Lınk to dtreevız: https://bit.ly/3nDk2la"
   ]
  }
 ],
 "metadata": {
  "kernelspec": {
   "display_name": "tricking_data",
   "language": "python",
   "name": "tricking_data"
  },
  "language_info": {
   "codemirror_mode": {
    "name": "ipython",
    "version": 3
   },
   "file_extension": ".py",
   "mimetype": "text/x-python",
   "name": "python",
   "nbconvert_exporter": "python",
   "pygments_lexer": "ipython3",
   "version": "3.7.0"
  }
 },
 "nbformat": 4,
 "nbformat_minor": 5
}
