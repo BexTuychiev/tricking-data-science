{
 "cells": [
  {
   "cell_type": "markdown",
   "id": "fc1a16d1-e3f6-4f10-a9f4-fa420143304b",
   "metadata": {},
   "source": [
    "# Code"
   ]
  },
  {
   "cell_type": "markdown",
   "id": "038da6b7-2de2-406f-8a10-1e65f8762465",
   "metadata": {},
   "source": [
    "## 1."
   ]
  },
  {
   "cell_type": "markdown",
   "id": "3d36d45f-70e4-46aa-b4b6-f1991b7188b1",
   "metadata": {},
   "source": [
    "## 2."
   ]
  },
  {
   "cell_type": "markdown",
   "id": "d2f484f3-a292-4a27-91ee-f16c48d00aeb",
   "metadata": {},
   "source": [
    "## 3."
   ]
  },
  {
   "cell_type": "markdown",
   "id": "9257179f-d3ab-4b42-8fe8-b853b82610a1",
   "metadata": {},
   "source": [
    "## 4."
   ]
  },
  {
   "cell_type": "markdown",
   "id": "472506ee-f9fd-43e2-a466-3ed710fd2e2d",
   "metadata": {},
   "source": [
    "## 5. "
   ]
  },
  {
   "cell_type": "markdown",
   "id": "430942c2-4479-4ad6-9627-06a0c3afd05c",
   "metadata": {},
   "source": [
    "## 6."
   ]
  },
  {
   "cell_type": "markdown",
   "id": "e04ebce0-e7cb-4a2b-a9c1-d7f7ec7d7557",
   "metadata": {},
   "source": [
    "## 7."
   ]
  },
  {
   "cell_type": "markdown",
   "id": "b543d530-5e51-4116-a4eb-32fbf1131663",
   "metadata": {},
   "source": [
    "## 8."
   ]
  },
  {
   "cell_type": "markdown",
   "id": "8b248314-d1ef-4d87-ae3b-2d814507642d",
   "metadata": {},
   "source": [
    "## 9. "
   ]
  },
  {
   "cell_type": "markdown",
   "id": "5e44e680-df4e-4eed-89c1-92d9a6efe631",
   "metadata": {},
   "source": [
    "## 10."
   ]
  },
  {
   "cell_type": "markdown",
   "id": "adb42ca7-4780-4002-90f1-8563c8e41876",
   "metadata": {},
   "source": [
    "## 11. "
   ]
  },
  {
   "cell_type": "markdown",
   "id": "15b3d548-fa72-436c-9f1a-d8e710d12f44",
   "metadata": {},
   "source": [
    "## 12."
   ]
  },
  {
   "cell_type": "markdown",
   "id": "ecf0dd74-00e2-4a0c-bb06-99ba2698db3c",
   "metadata": {},
   "source": [
    "## 13."
   ]
  },
  {
   "cell_type": "markdown",
   "id": "f1ad4cef-f8f4-4282-a4d7-abebec31ed63",
   "metadata": {},
   "source": [
    "## 14."
   ]
  },
  {
   "cell_type": "markdown",
   "id": "d5cb835d-a97f-4016-9377-0d21e1972462",
   "metadata": {},
   "source": [
    "## 15."
   ]
  },
  {
   "cell_type": "markdown",
   "id": "cbb68287-0e35-4728-9442-7e83d8251993",
   "metadata": {},
   "source": [
    "## 16. "
   ]
  },
  {
   "cell_type": "markdown",
   "id": "86873a50-8367-42e1-b0ba-6c2df37ecfb8",
   "metadata": {},
   "source": [
    "## 17."
   ]
  },
  {
   "cell_type": "markdown",
   "id": "09392661-592e-4dd0-877e-4c670d03f401",
   "metadata": {},
   "source": [
    "## 18."
   ]
  },
  {
   "cell_type": "markdown",
   "id": "22e47c89-c805-42a2-b674-5e045af073f6",
   "metadata": {},
   "source": [
    "## 19."
   ]
  },
  {
   "cell_type": "markdown",
   "id": "8f6abbf7-050f-475e-8897-cfdf49d0b5e1",
   "metadata": {},
   "source": [
    "## 20."
   ]
  },
  {
   "cell_type": "markdown",
   "id": "eda211c1-de7c-41df-89ed-1a790345a5e4",
   "metadata": {},
   "source": [
    "## 21."
   ]
  },
  {
   "cell_type": "markdown",
   "id": "a5241af5-60bc-46df-994e-ee0e96f99d84",
   "metadata": {},
   "source": [
    "# Resources"
   ]
  },
  {
   "cell_type": "markdown",
   "id": "201bc454-14e4-4e70-8f61-33d1b67c8576",
   "metadata": {},
   "source": [
    "## 22."
   ]
  },
  {
   "cell_type": "markdown",
   "id": "a0ae4b73-dc09-4c3b-9934-56b3b9d20df2",
   "metadata": {},
   "source": [
    "## 23. "
   ]
  },
  {
   "cell_type": "markdown",
   "id": "1fc89056-aee9-4f4f-871a-f89ca5d79ba1",
   "metadata": {},
   "source": [
    "## 24."
   ]
  },
  {
   "cell_type": "markdown",
   "id": "7e076c11-f4df-4e7c-bba2-347d5e016ba0",
   "metadata": {},
   "source": [
    "## 25."
   ]
  },
  {
   "cell_type": "markdown",
   "id": "0daec6f4-0a11-42e2-b1e5-77c2bb87fda1",
   "metadata": {},
   "source": [
    "## 26. "
   ]
  },
  {
   "cell_type": "markdown",
   "id": "d828db6b-de2c-4abd-84bb-b02553a8d24a",
   "metadata": {},
   "source": [
    "## 27."
   ]
  },
  {
   "cell_type": "markdown",
   "id": "735c5a3d-8dcf-4f6b-92ec-3dc26f99954b",
   "metadata": {},
   "source": [
    "## 28."
   ]
  }
 ],
 "metadata": {
  "kernelspec": {
   "display_name": "tricking-data-science",
   "language": "python",
   "name": "tricking-data-science"
  },
  "language_info": {
   "codemirror_mode": {
    "name": "ipython",
    "version": 3
   },
   "file_extension": ".py",
   "mimetype": "text/x-python",
   "name": "python",
   "nbconvert_exporter": "python",
   "pygments_lexer": "ipython3",
   "version": "3.7.13"
  }
 },
 "nbformat": 4,
 "nbformat_minor": 5
}
