{
 "cells": [
  {
   "cell_type": "markdown",
   "id": "1acd28b0-98cd-4953-a176-a6b4b11d593c",
   "metadata": {},
   "source": [
    "# Code tricks"
   ]
  },
  {
   "cell_type": "markdown",
   "id": "409bea69-4cb4-4265-8254-d5f0045bcb32",
   "metadata": {},
   "source": [
    "## 1. Displaying ROC Curve without generating predictions"
   ]
  },
  {
   "cell_type": "markdown",
   "id": "0ff674a9-db5a-42bd-8ad8-adaa2baa64b9",
   "metadata": {},
   "source": [
    "Can you spell out ROC curve without looking it up? If yes, don't flatter yourself, because a lot of people can😁.\n",
    "\n",
    "But not a lot of people know that you can draw the ROC curve without even generating predictions. Just use the RocCurveDisplay class and its from_estimator method👇"
   ]
  },
  {
   "cell_type": "markdown",
   "id": "6fcb0020-ff04-4663-90f8-fd0b2c9e6c0d",
   "metadata": {},
   "source": [
    "![](../images/2022/7_july/july-roc_curve.png)"
   ]
  },
  {
   "cell_type": "markdown",
   "id": "85b04434-aa6d-41fe-a79d-077f892b99fd",
   "metadata": {},
   "source": [
    "## 2. Paquet vs. Feather in terms of memory"
   ]
  },
  {
   "cell_type": "markdown",
   "id": "64e1dab3-bf92-43cc-a396-86841ebcd4e6",
   "metadata": {},
   "source": [
    "Parquet is twice more memory-efficient than Feather.\n",
    "\n",
    "As Parquet file format uses dictionary and RLE (Run-length) encodings and data page compression, it takes far less disk space than feather.\n",
    "\n",
    "If you want to learn more about the differences, I dropped a link to a SO discussion below👇"
   ]
  },
  {
   "cell_type": "markdown",
   "id": "4bff2084-034c-4085-beff-a635051b2dee",
   "metadata": {},
   "source": [
    "![](../images/2022/7_july/july-parquet_vs_feather.png)"
   ]
  },
  {
   "cell_type": "markdown",
   "id": "bbd00284-079a-4f55-9a62-b8166b41bdc7",
   "metadata": {},
   "source": [
    "Link to SO thread: https://bit.ly/3yuDYvx"
   ]
  },
  {
   "cell_type": "markdown",
   "id": "f224125a-7800-41d8-87f8-fdd8912cd942",
   "metadata": {},
   "source": [
    "## 3. HTML representation of an Sklearn pipeline"
   ]
  },
  {
   "cell_type": "markdown",
   "id": "e5609beb-2324-4b35-bf23-b758d62a613b",
   "metadata": {},
   "source": [
    "You can get an interactive HTML representation of your Sklearn pipeline right inside a notebook.\n",
    "\n",
    "Just import set_config function from Sklearn and set display to \"diagram\"👇"
   ]
  },
  {
   "cell_type": "markdown",
   "id": "500d3281-65cb-4e45-8617-cd897c6a6b11",
   "metadata": {},
   "source": [
    "![](../images/2022/7_july/sklearn_pipe.gif)"
   ]
  },
  {
   "cell_type": "markdown",
   "id": "619b85c0-c3a7-4b10-984e-1f8d6c9b6add",
   "metadata": {},
   "source": [
    "## 4. How to choose correct DPI and figure size in Matplotlib"
   ]
  },
  {
   "cell_type": "markdown",
   "id": "008a76b0-239f-481f-aef7-e4139affe23e",
   "metadata": {},
   "source": [
    "How to choose a correct DPI and figure size in Matplotlib so you don't lose quality by zooming in?\n",
    "\n",
    "Matplotlib sets figure size in inches - figsize of (12, 6) is 12 inches wide and 6 inches tall. \n",
    "\n",
    "The DPI represents dots or pixels per inch. The default DPI of 100 means for a figsize of (12, 6), the image resolution will be 1200x600 pixels. \n",
    "\n",
    "Now, there is also the size of the points, lines or other elements in a plot. Those are measured in points per inch - there are 72 points in an inch. So, in a DPI of 72, a single dot would have the area of a single pixel.\n",
    "\n",
    "At 144 DPI, the dot would be two pixels or a line would be two pixels thick. So, DPI is like a magnifying glass - a higher DPI scales all elements in a plot.\n",
    "\n",
    "So, to not lose image quality when zooming in, increase DPI while keeping the figsize constant.\n",
    "\n",
    "Image and content credit: an SO thread down below👇\n",
    "\n",
    "![](../images/2022/7_july/dpi.png)"
   ]
  },
  {
   "cell_type": "markdown",
   "id": "8e92b6f5-a59f-406b-8c52-92208fe01415",
   "metadata": {},
   "source": [
    "StackOverflow thread on the topic: https://bit.ly/3IrsLjY"
   ]
  },
  {
   "cell_type": "markdown",
   "id": "68fa2840-c18b-4d1f-930f-631731e38df1",
   "metadata": {},
   "source": [
    "## 5. Generate business-day frequency time series with certain workweeks"
   ]
  },
  {
   "cell_type": "markdown",
   "id": "37de74c5-20c6-41fb-8c6d-b65d27d4fd16",
   "metadata": {},
   "source": [
    "How to generate a business-day frequency time series with only certain workweeks?\n",
    "\n",
    "Use the bdate_range function of Pandas and its weekmask parameter. Below, we create a time series from 2020 to 2022, with only Mondays, Wednesdays and Fridays as working weeks.\n",
    "\n",
    "Such time series can be useful when analyzing data from financial sources."
   ]
  },
  {
   "cell_type": "markdown",
   "id": "80ac9d4f-9348-4b90-b4cf-c392fc3e93ce",
   "metadata": {},
   "source": [
    "![](../images/2022/7_july/july-bdate_workweeks.png)"
   ]
  },
  {
   "cell_type": "markdown",
   "id": "a99fc579-68af-4923-8409-bd27ada555c7",
   "metadata": {},
   "source": [
    "## 6. Visualize all trees of RandomForest"
   ]
  },
  {
   "cell_type": "markdown",
   "id": "8fafcc73-887a-499e-9cd5-d96036d34933",
   "metadata": {},
   "source": [
    "It would be freakishly cool to visualize all the trees in a Random Forest. But how?\n",
    "\n",
    "Last time, I showed how you can draw a single Decision Tree using PyBaobabdt package using Sankey diagrams. To visualize multiple trees of a RandomForest, we can use Matplotlib subplots like below.\n",
    "\n",
    "Just remember to set high DPI and high figure size before saving.\n",
    "\n",
    "Image credit: Pybaobabdt docs. Code to create the plot is down below👇"
   ]
  },
  {
   "cell_type": "markdown",
   "id": "3c5333fb-faef-4494-8bb9-a5187a8672c8",
   "metadata": {},
   "source": [
    "![](../images/2022/7_july/trees_forest.png)"
   ]
  },
  {
   "cell_type": "markdown",
   "id": "5723836d-8104-4b52-b957-0ab0800ed686",
   "metadata": {},
   "source": [
    "Pybaobabdt docs: https://bit.ly/3unYtJc\n",
    "\n",
    "Code to generate the plot: https://bit.ly/3yT9CUV"
   ]
  },
  {
   "cell_type": "markdown",
   "id": "1edd831e-b1e5-445c-b3d5-ad9ce388e4ea",
   "metadata": {},
   "source": [
    "## 7. Time series offset aliases"
   ]
  },
  {
   "cell_type": "markdown",
   "id": "700d2e1e-9d03-47db-aa39-82525f5e3f32",
   "metadata": {},
   "source": [
    "There are no less than 27 time series offset aliases. What are they?\n",
    "\n",
    "Many Pandas functions like date_range have a parameter called freq (frequency) - it denotes how often each data point should occur in a time series. \n",
    "\n",
    "Possible values are daily, hourly, weekly, all work days, month start and end, quarterly, yearly, etc. Check out the link below to learn more about them.\n",
    "\n",
    "List of offset aliases: https://bit.ly/3Roy7Rb\n",
    "\n",
    "Image credit: Pexels\n",
    "\n",
    "![](../images/2022/7_july/time.jpg)"
   ]
  },
  {
   "cell_type": "markdown",
   "id": "5dd7c209-fe0a-4afe-9232-28a9369841eb",
   "metadata": {},
   "source": [
    "## 8. Filtering by partial date components"
   ]
  },
  {
   "cell_type": "markdown",
   "id": "d3cd4607-2da9-4c53-8c67-052766a398df",
   "metadata": {},
   "source": [
    "If you have a DateTimeIndex in your Pandas dataframes, you can filter it by partial date components.\n",
    "\n",
    "For example, from 1995 to 1997, from 5th month of 1995 to the end of 2000, from the beginning of 2015 to 17th of July of 2018, etc.\n",
    "\n",
    "And these all work regardless of the time series index granularity. All courtesy of Pandas."
   ]
  },
  {
   "cell_type": "markdown",
   "id": "a17cd2d0-ba84-45b6-add5-54b21b109ce3",
   "metadata": {},
   "source": [
    "![](../images/2022/7_july/july-partial_filtering.png)"
   ]
  },
  {
   "cell_type": "markdown",
   "id": "d712e19e-aa80-4739-afb1-f9c7e8b6a42c",
   "metadata": {},
   "source": [
    "## 9. 10 Sklearn Features buried in the docs"
   ]
  },
  {
   "cell_type": "markdown",
   "id": "d358b14a-35b1-4600-90b2-08e7a55aad84",
   "metadata": {},
   "source": [
    "There are more than TWO THOUSAND and five hundred pages in the Sklearn user guide PDF. I've handpicked 10 subtle features that were buried deep inside👇\n",
    "\n",
    "Link to the article: https://bit.ly/3Isd4ZM"
   ]
  },
  {
   "cell_type": "markdown",
   "id": "0e9276ee-a04a-4d67-9b45-dbaf6959e4eb",
   "metadata": {},
   "source": [
    "## 10. Displaying Precision/Recall curve without generating predictions"
   ]
  },
  {
   "cell_type": "markdown",
   "id": "3eca7efb-8ec6-4506-922a-4bbe9044e95c",
   "metadata": {},
   "source": [
    "Area under the Precision/Recall curve is one of the best metrics to evaluate the performance of models in imbalanced classification problems.\n",
    "\n",
    "Precision measures the percentage of true predictions (true positives / (true positives + false positives)).\n",
    "\n",
    "Recall is the same as sensitivity (true positives / (true positives + false negatives)).\n",
    "\n",
    "In an imbalanced problem, we are interested in correctly classifying as much of the minority class (positive class or 1) as possible - i.e. true positives. As both the above metrics focus on true positives and don't care about correctly classifying the majority class (true negatives), they are one of the best metrics in this context. \n",
    "\n",
    "By varying the decision threshold of the classifier and plotting precision and recall for each threshold, we get a Precision/Recall curve. \n",
    "\n",
    "A perfect classifier for an imbalanced problem would have area of 1.\n",
    "\n",
    "Below is how you can plot the curve in the easiest way possible in Sklearn👇"
   ]
  },
  {
   "cell_type": "markdown",
   "id": "3da0aa9b-e804-46a9-937b-a03d6ae0c9a4",
   "metadata": {},
   "source": [
    "![](../images/2022/7_july/july-precision_recall_display.png)"
   ]
  },
  {
   "cell_type": "markdown",
   "id": "535f57dc-7cc0-40c3-9f58-58446dcb91df",
   "metadata": {},
   "source": [
    "## 11. Full list of datetime format strings"
   ]
  },
  {
   "cell_type": "markdown",
   "id": "e7929a64-8939-4f91-9fe5-b2f52882bf8b",
   "metadata": {},
   "source": [
    "Do you know all the TWENTY FOUR datetime format codes? Of course not and neither do I! But I know where to look.\n",
    "\n",
    "Format codes are those little strings you pass into Python datetime functions like %H, %m, %D, %c, %j, etc. They can denote everything from nanoseconds to whole years and with different name representations in string dates.\n",
    "\n",
    "Here is the full list from the Python docs: https://bit.ly/3uzMuYT\n",
    "\n",
    "Image credit: Pexels\n",
    "\n",
    "![](../images/2022/7_july/time_2.jpg)"
   ]
  },
  {
   "cell_type": "markdown",
   "id": "118d10dd-5223-47eb-90f6-1d2eaece7215",
   "metadata": {},
   "source": [
    "## 12. Time series index with holidays"
   ]
  },
  {
   "cell_type": "markdown",
   "id": "15500da2-887a-4930-8266-d429e6a3f008",
   "metadata": {},
   "source": [
    "How do you leave out holidays in a time series and still keep its frequency intact? \n",
    "\n",
    "Pandas bdate_range function has a \"holidays\" parameter that accepts a list of datetime objects as holiday dates. The result is a time series with daily frequency with weekends and provided holidays ignored👇"
   ]
  },
  {
   "cell_type": "markdown",
   "id": "429ecf1b-3f0f-4779-89f4-f3716c87a660",
   "metadata": {},
   "source": [
    "![](../images/2022/7_july/july-holiday_ts.png)"
   ]
  },
  {
   "cell_type": "markdown",
   "id": "445c1a39-4615-4a3e-9a15-a9482c91a735",
   "metadata": {},
   "source": [
    "## 13. All Pandas functions to manipulate time series"
   ]
  },
  {
   "cell_type": "markdown",
   "id": "391bf38f-ed64-46a5-b062-6c1fe65fae06",
   "metadata": {},
   "source": [
    "A while ago, I went completely berserk and wrote about all the Pandas functions you can use to manipulate time series. While the article recieved more than 10k views on Medium, the notebook got a gold medal on Kaggle with over 110 upvotes and 8k views.\n",
    "\n",
    "Topics covered are:\n",
    "\n",
    "✅ Basic date and time functions\n",
    "\n",
    "✅ Missing data imputation in time series (pretty fun stuff here)\n",
    "\n",
    "✅ Shifts, lags and percent changes\n",
    "\n",
    "✅ Upsampling and downsampling\n",
    "\n",
    "✅ Comparing the growth of multiple time series\n",
    "\n",
    "✅ All about window functions\n",
    "\n",
    "The article is 13 minutes long, so you better bookmark it!\n",
    "\n",
    "Link to the article: https://bit.ly/3NZaIme"
   ]
  },
  {
   "cell_type": "markdown",
   "id": "98b1f701-21d3-4c5d-ab0f-cea55024ba89",
   "metadata": {},
   "source": [
    "## 14. Python for/else clause"
   ]
  },
  {
   "cell_type": "markdown",
   "id": "ffcec187-abfa-4d46-8095-125ead52a0ad",
   "metadata": {},
   "source": [
    "Did you know that for loops in Python has an \"else\" clause?\n",
    "\n",
    "An else in a for loop is executed as soon as a loop finishes or encounters a break statement. In the second snippet below, you can see an example usage from the Python docs. Pretty neat, huh?"
   ]
  },
  {
   "cell_type": "markdown",
   "id": "e667f42b-3474-4ec8-a7ce-498c57009779",
   "metadata": {},
   "source": [
    "![](../images/2022/7_july/july-for_else.png)"
   ]
  },
  {
   "cell_type": "markdown",
   "id": "1eba4132-41e3-400b-961e-0d75214c8a9a",
   "metadata": {},
   "source": [
    "## 15. Reading the text of files with Pathlib"
   ]
  },
  {
   "cell_type": "markdown",
   "id": "b7d8a12c-c91b-46dd-b448-f248b6b0239e",
   "metadata": {},
   "source": [
    "You don't have to use \"open\" function to read the contents of a file. You can use a much better alternative with Pathlib.\n",
    "\n",
    "After passing the full file path to the Path class, you can call the read_text method which returns the contents as string👇"
   ]
  },
  {
   "cell_type": "markdown",
   "id": "b2df4f66-2037-4d5c-9e54-26b4dbbb9443",
   "metadata": {},
   "source": [
    "![](../images/2022/7_july/july-pathlib_read_text.png)"
   ]
  },
  {
   "cell_type": "markdown",
   "id": "b0eca7cf-9da7-45c7-bdbc-708095e60ebd",
   "metadata": {},
   "source": [
    "## 16. \\_\\_file\\_\\_ variable"
   ]
  },
  {
   "cell_type": "markdown",
   "id": "fb492f77-6a8b-4a1f-8aee-59a88ac84d8e",
   "metadata": {},
   "source": [
    "Python has a \\_\\_file\\_\\_ variable that lets you see the full path to the current script. The variable isn't available in notebooks or in REPL."
   ]
  },
  {
   "cell_type": "markdown",
   "id": "c09089db-874b-4422-a17e-a6f47865bc8e",
   "metadata": {},
   "source": [
    "![](../images/2022/7_july/july-__file__.png)"
   ]
  },
  {
   "cell_type": "markdown",
   "id": "51fd26e2-089a-4b13-9f9f-5337612defda",
   "metadata": {},
   "source": [
    "## 17. Mapping any crazy distribution to normal with QuantileTransformer"
   ]
  },
  {
   "cell_type": "markdown",
   "id": "b0ae3e1a-450c-46db-a722-6abea590e6ad",
   "metadata": {},
   "source": [
    "How do you make crazy distributions like bimodals, trimodals, or multimodals normally distributed? Traditional classes like StandardScaler or MinMaxScaler won't work.\n",
    "\n",
    "Instead, you can use QuantileTransformer of Sklearn which is guaranteed to cast almost any distribution of any shape to normal by using quantile calculations. Don't forget to set output distribution to \"normal\". Otherwise, you get a uniform distribution."
   ]
  },
  {
   "cell_type": "markdown",
   "id": "c9639ad1-5900-4298-bfed-b40f495b45f5",
   "metadata": {},
   "source": [
    "![](../images/2022/7_july/july-quantile_transformer.png)"
   ]
  },
  {
   "cell_type": "markdown",
   "id": "c3c61784-932c-45c7-a7a4-cebaf7272a05",
   "metadata": {},
   "source": [
    "## 18. Decomposing time series into trend, seasonality and residuals"
   ]
  },
  {
   "cell_type": "markdown",
   "id": "b026c64e-7abc-4eaf-b68d-cb71175f94fd",
   "metadata": {},
   "source": [
    "Time series has three core components - seasonality, trend and noise (residuals). \n",
    "\n",
    "These components aren't easily discernible by looking at the plot of the series itself. So, we often use decomposition to isolate each of these components. \n",
    "\n",
    "Seasonality lets you see repeating patterns over the time period of the series. \n",
    "\n",
    "Trend shows you the general upwards or downwards progress of the time series from the beginning of its earliest date to the latest. \n",
    "\n",
    "Anything left out from these two components is noise.\n",
    "\n",
    "You can use statsmodels' tsa_decompose function to perform this operation and plot the results. The first subplot displays the series itself while the rest shows the individual components.\n",
    "\n",
    "You can learn more about time series decomposition in my separate artilce on the topic. Link in the first comment👇"
   ]
  },
  {
   "cell_type": "markdown",
   "id": "e386005c-4fd5-46e3-97eb-e11899c9a363",
   "metadata": {},
   "source": [
    "![](../images/2022/7_july/july-decomposition.png)"
   ]
  },
  {
   "cell_type": "markdown",
   "id": "e6f2051d-a327-40b0-8a1c-a29ecc38eda2",
   "metadata": {},
   "source": [
    "Time series decomposition article: https://bit.ly/3Pmt2qM"
   ]
  },
  {
   "cell_type": "markdown",
   "id": "db99bbfa-eaab-44e0-91dd-436ebf8d5e41",
   "metadata": {},
   "source": [
    "## 19. How to load and upload files to AWS S3"
   ]
  },
  {
   "cell_type": "markdown",
   "id": "77a8d3a9-935a-48b5-a4d5-60099c5585ba",
   "metadata": {},
   "source": [
    "AWS S3 is one of the best options for storing your data. In this article, I show you how to upload/download files in Python to your S3 buckets.\n",
    "\n",
    "The code itself is fairly straightforward but writing the permissions and settings to allow programmatic access to them is the real pain. So, the article focuses mainly on programmatic access with A LOT OF GIFs. \n",
    "\n",
    "Feel free to bookmark it for future reference.\n",
    "\n",
    "Link to the article: https://bit.ly/3RrKJqu"
   ]
  },
  {
   "cell_type": "markdown",
   "id": "b0f57b1f-2fcd-44c4-b4d1-e3a5e1d2868e",
   "metadata": {},
   "source": [
    "## 20. Git Cheat Sheet with DataCamp"
   ]
  },
  {
   "cell_type": "markdown",
   "id": "74975964-b676-453b-946e-183c8ed910fb",
   "metadata": {},
   "source": [
    "This is one of the most comprehensive Git cheat sheets on the Internet. I am not just saying that because I wrote the contents but while writing it, I made sure to add tricks and commands not available in many of the most popular Git cheat sheets of other platforms.\n",
    "\n",
    "Thank you to the DataCamp team for making the text contents awesome with graphics.\n",
    "\n",
    "Cheat sheet link: https://bit.ly/3PmaKpl"
   ]
  },
  {
   "cell_type": "markdown",
   "id": "2aa11f72-b886-47fd-845b-f9724b7a4c39",
   "metadata": {},
   "source": [
    "## 21. Transformed Target Regressor to manipulate the target array in Sklearn"
   ]
  },
  {
   "cell_type": "markdown",
   "id": "1a8de9fd-1ad2-40c9-8518-f88596488c38",
   "metadata": {},
   "source": [
    "Wouldn't be so freakishly comfortable if you could manipulate the target (Y) array right inside Sklearn pipelines?\n",
    "\n",
    "As you know, in some problems like regression, you have to transform the target array to be normally distributed. But the operation would have to be performed outside your Sklearn pipeline because all Sklearn transformers work on the feature (X) array.\n",
    "\n",
    "Well, except for one.\n",
    "\n",
    "The TransformedTargetRegressor let's you add a regression model on top of a transformation function like \"np.log\" and pass the whole class inside a pipeline.\n",
    "\n",
    "I have never seen a library who loves its users as much as Sklearn."
   ]
  },
  {
   "cell_type": "markdown",
   "id": "b2441e37-2bdc-4ae1-b481-bebe0a3da221",
   "metadata": {},
   "source": [
    "![](../images/2022/7_july/july-transformed_target_regressor.png)"
   ]
  },
  {
   "cell_type": "markdown",
   "id": "a7dbab87-51bc-4492-a62d-342af6f0b378",
   "metadata": {},
   "source": [
    "# Resources"
   ]
  },
  {
   "cell_type": "markdown",
   "id": "7144b705-be75-4a37-8602-01dd28a0cbd2",
   "metadata": {},
   "source": [
    "## 22. Resume guide and template by Terence Kuo to get a job from FAANG"
   ]
  },
  {
   "cell_type": "markdown",
   "id": "114bea63-6902-4e59-b369-9ed135b84760",
   "metadata": {},
   "source": [
    "Here is a CV guide and template that got offers from five of the FAANG companies by Terence Kuo.\n",
    "\n",
    "The article is for all types of programmers alike and is one the most viral posts I've seen on Medium.\n",
    "\n",
    "https://bit.ly/3OQcgQV"
   ]
  },
  {
   "cell_type": "markdown",
   "id": "2fddb3ba-b066-4c62-b437-0975fb8313a9",
   "metadata": {},
   "source": [
    "## 23. Calculus playlist by Dr. Trefor Bazett"
   ]
  },
  {
   "cell_type": "markdown",
   "id": "a38ec67a-6d51-4fe4-9913-ecad77a35ea6",
   "metadata": {},
   "source": [
    "Calculus is one of the three core pillars of mathematics for machine learning. While 3Blue1Brown gives me a deep visual intuition about its fundamentals, I turn to Dr. Trefor Bazett for more hairier details.\n",
    "\n",
    "His YouTube playlist on calculus is one of the simplest and yet, most comprehensive resources on learning fascinating calculus.\n",
    "\n",
    "Link in the first commet👇"
   ]
  },
  {
   "cell_type": "markdown",
   "id": "118d26fb-6899-4b75-8cd5-7109bf670fd3",
   "metadata": {},
   "source": [
    "![](../images/2022/7_july/calculus.jpg)"
   ]
  },
  {
   "cell_type": "markdown",
   "id": "b991a0b9-04b9-49e5-8bb0-7a9679b3cb99",
   "metadata": {},
   "source": [
    "Link: https://bit.ly/3P0O2U5\n",
    "\n",
    "Image credit: https://www.quotemaster.org/Calculus"
   ]
  },
  {
   "cell_type": "markdown",
   "id": "6b94ca88-ac73-40ff-a289-cbb8daf63889",
   "metadata": {},
   "source": [
    "## 24. MLOps course by Iterative AI"
   ]
  },
  {
   "cell_type": "markdown",
   "id": "4a995efe-80d0-489f-8b44-98a982116e71",
   "metadata": {},
   "source": [
    "MOOC ecosystem is effectively dead in terms of MLOps resources. We keep seeing cheap courses on ML algorithms but don't see a lot of creators focusing on MLOps, which is just as important.\n",
    "\n",
    "So, if a company with a massive reputation in the MLOps field releases a comprehensive course on the topic (with certification) completely free of charge, you should gobble up its contents like TicTacs. \n",
    "\n",
    "@Iterative AI offers a course with 7 modules and over 70 video lessons on data versioning, pipelining, collaborating, tracking and visualizing model experiments in machine learning projects.\n",
    "\n",
    "Sign up for free!\n",
    "\n",
    "Link: https://learn.iterative.ai/"
   ]
  },
  {
   "cell_type": "markdown",
   "id": "014e4fa1-3a4f-4b3a-bde1-24414703cac0",
   "metadata": {},
   "source": [
    "## 25. Multivariable Calculus by 3Blue1Brown on Khan Academy"
   ]
  },
  {
   "cell_type": "markdown",
   "id": "5eddb6c5-dea7-4a42-bdb7-bd1efe94eb97",
   "metadata": {},
   "source": [
    "Would you beleive me if I said 3Blue1Brown (Grant Sanderson) made 175 hidden videos on pure Multivariable Calculus? Well, he did!\n",
    "\n",
    "Not many people know that Khan Academy's mutivariable calculus playlist is actually taught by Grant Sanderson. Although the videos are not stellar animations like on his own channel, he uses Manim (the animation library he created) in almost every one of them to explain hard multivariable topics in 2D and 3D.\n",
    "\n",
    "Link to the playlist in the first comment👇\n",
    "\n",
    "![](../images/2022/7_july/curl.jpg)"
   ]
  },
  {
   "cell_type": "markdown",
   "id": "7922977c-9f9d-43fb-bf57-8579683d26b3",
   "metadata": {},
   "source": [
    "Mutlivariable Calculus on Khan Academy: https://www.khanacademy.org/math/multivariable-calculus\n",
    "\n",
    "YouTube Playlist: https://bit.ly/3nYPrid\n",
    "\n",
    "Image credit: 3blue1brown.com"
   ]
  },
  {
   "cell_type": "markdown",
   "id": "1538dd92-07a5-4679-812e-5d5bad50b2b6",
   "metadata": {},
   "source": [
    "## 26. Rich library for CLI color formatting"
   ]
  },
  {
   "cell_type": "markdown",
   "id": "0514e309-19fe-48ab-894e-764a206433d6",
   "metadata": {},
   "source": [
    "Rich is one of the most beautiful and useful Python libraries. Put simply, it makes terminal output awesome!\n",
    "\n",
    "Its features are:\n",
    "\n",
    "✅ Python code formatting in REPL\n",
    "\n",
    "✅ Text markup (bold, italic, underline)\n",
    "\n",
    "✅ +16.7 MILLION truecolors\n",
    "\n",
    "✅ Logging\n",
    "\n",
    "✅ Markdown support\n",
    "\n",
    "✅ Progress bars (in Jupyter as well)\n",
    "\n",
    "Check out the library link down below👇"
   ]
  },
  {
   "cell_type": "markdown",
   "id": "31c3656a-63eb-415d-86ee-ef42e73cbfdc",
   "metadata": {},
   "source": [
    "![](../images/2022/7_july/rich_progress.gif)"
   ]
  },
  {
   "cell_type": "markdown",
   "id": "70c7b9ef-ec9b-413e-b975-eddf31cedaf6",
   "metadata": {},
   "source": [
    "Link to Rich: https://github.com/Textualize/rich"
   ]
  },
  {
   "cell_type": "markdown",
   "id": "0d65d1a1-eaa4-4757-802f-c875b2d63fd2",
   "metadata": {},
   "source": [
    "## 27. 9 distance metrics explained in data science"
   ]
  },
  {
   "cell_type": "markdown",
   "id": "4a232d0c-e460-416a-ac70-bfc5e8da51b4",
   "metadata": {},
   "source": [
    "Distance metrics play an important role in many ML algorithms. A leading example is KNN, which uses distance measurements in multiple dimensions for classification and regression problems.\n",
    "\n",
    "There are other algorithms as well like Local Outlier Factor for outlier detection, UMAP for dimensionality reduction and many more. And the code implementations for each have a distance parameter that lets you choose the method of calculating the distance between data points.\n",
    "\n",
    "This article gives you an overview of 9 of the most popular ones and when to use them.\n",
    "\n",
    "Article link: https://bit.ly/3yzhKse"
   ]
  },
  {
   "cell_type": "markdown",
   "id": "303d33aa-660d-4ff0-9932-afb69e141ad9",
   "metadata": {},
   "source": [
    "## 28. choosealicense.com"
   ]
  },
  {
   "cell_type": "markdown",
   "id": "6c35600b-120f-4287-9d5a-89115f8c7522",
   "metadata": {},
   "source": [
    "![](../images/2022/7_july/license.png)"
   ]
  },
  {
   "cell_type": "markdown",
   "id": "72394228-d2d7-4927-aa85-63877d6aca04",
   "metadata": {},
   "source": [
    "Choosing the right license for your open-source project is of paramount importance. It protects you and your work and ensures that business and other law-abiding users can approach your project safely.\n",
    "\n",
    "The best place to find the correct license is https://choosealicense.com website. It outlines all the available open-source licenses, their limitations and the text contents you can copy/paste inside a file."
   ]
  }
 ],
 "metadata": {
  "kernelspec": {
   "display_name": "tricking_data",
   "language": "python",
   "name": "tricking_data"
  },
  "language_info": {
   "codemirror_mode": {
    "name": "ipython",
    "version": 3
   },
   "file_extension": ".py",
   "mimetype": "text/x-python",
   "name": "python",
   "nbconvert_exporter": "python",
   "pygments_lexer": "ipython3",
   "version": "3.7.0"
  }
 },
 "nbformat": 4,
 "nbformat_minor": 5
}
