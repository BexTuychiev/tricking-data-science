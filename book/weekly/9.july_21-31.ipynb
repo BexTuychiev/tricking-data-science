{
 "cells": [
  {
   "cell_type": "markdown",
   "id": "fc1a16d1-e3f6-4f10-a9f4-fa420143304b",
   "metadata": {
    "pycharm": {
     "name": "#%% md\n"
    }
   },
   "source": [
    "# Code"
   ]
  },
  {
   "cell_type": "markdown",
   "id": "038da6b7-2de2-406f-8a10-1e65f8762465",
   "metadata": {
    "pycharm": {
     "name": "#%% md\n"
    }
   },
   "source": [
    "## 1. Progress bars with Rich"
   ]
  },
  {
   "cell_type": "markdown",
   "id": "14fb2b84-1b90-4d9a-a380-030e4608617b",
   "metadata": {
    "pycharm": {
     "name": "#%% md\n"
    }
   },
   "source": [
    "TQDM for progress bars in Jupyter is outdated. Instead, go with Rich!\n",
    "\n",
    "Apart from being an excellent CLI tool, Rich works greatly with Jupyter Lab as well. \n",
    "\n",
    "The display is fully customizable. You can tweak the text labels, the width and ordering of the bars and much more.\n",
    "\n",
    "Check out the docs for more details in the first comment."
   ]
  },
  {
   "cell_type": "markdown",
   "id": "6655e2fd-29e4-4301-905d-121001e2117b",
   "metadata": {
    "pycharm": {
     "name": "#%% md\n"
    }
   },
   "source": [
    "![](../images/2022/7_july/progress_bar_2.gif)"
   ]
  },
  {
   "cell_type": "markdown",
   "id": "c7670ce3-d7b6-49c9-b0a8-7342e5258e5a",
   "metadata": {
    "pycharm": {
     "name": "#%% md\n"
    }
   },
   "source": [
    "Rich progress bar display: https://bit.ly/3vdDw3U"
   ]
  },
  {
   "cell_type": "markdown",
   "id": "3d36d45f-70e4-46aa-b4b6-f1991b7188b1",
   "metadata": {
    "pycharm": {
     "name": "#%% md\n"
    }
   },
   "source": [
    "## 2. Pretty printing with rich"
   ]
  },
  {
   "cell_type": "markdown",
   "id": "f5cb9708-eacc-4fa8-906d-4b327f373f74",
   "metadata": {
    "pycharm": {
     "name": "#%% md\n"
    }
   },
   "source": [
    "Python REPL is one of the ugliest things you will see in programming. Give it more style with colorful pretty-printing with rich👇"
   ]
  },
  {
   "cell_type": "markdown",
   "id": "ce948a62-a0ec-4eaa-b38c-4b64fa975c72",
   "metadata": {
    "pycharm": {
     "name": "#%% md\n"
    }
   },
   "source": [
    "![](../images/2022/7_july/pprint.gif)"
   ]
  },
  {
   "cell_type": "markdown",
   "id": "d2f484f3-a292-4a27-91ee-f16c48d00aeb",
   "metadata": {
    "pycharm": {
     "name": "#%% md\n"
    }
   },
   "source": [
    "## 3. Python news 3.11 article - lying with statistics"
   ]
  },
  {
   "cell_type": "markdown",
   "id": "896f72db-75ca-4b75-be09-eff57447c38c",
   "metadata": {
    "pycharm": {
     "name": "#%% md\n"
    }
   },
   "source": [
    "Lying with statistics in action: Python 3.11 is 60% faster than 3.10.\n",
    "\n",
    "Don't easily trust headlines that twist the truth with statistics. In the benchmark test I performed, the median speed improvement was about 25% and in the extreme cases, it exceeded well over 60%.\n",
    "\n",
    "However, should you even be excited about this improvement? \n",
    "\n",
    "I don't think so. The benchmark was performed using functions from native Python libraries people rarely use. If you regularly use libraries like NumPy and TensorFlow which are Python wrappers around other languages, you might not notice the speed up.\n",
    "\n",
    "Check out the article I wrote for DataCamp down below for the details about the benchmark and how you can rerun it."
   ]
  },
  {
   "cell_type": "markdown",
   "id": "55095b08-c1db-40de-bec9-8cccaf691b55",
   "metadata": {
    "pycharm": {
     "name": "#%% md\n"
    }
   },
   "source": [
    "Article: https://www.datacamp.com/blog/whats-new-in-python-311-and-should-you-even-bother-with-it"
   ]
  },
  {
   "cell_type": "markdown",
   "id": "9257179f-d3ab-4b42-8fe8-b853b82610a1",
   "metadata": {
    "pycharm": {
     "name": "#%% md\n"
    }
   },
   "source": [
    "## 4. Encoding rare labels with RareLabelEncoder"
   ]
  },
  {
   "cell_type": "markdown",
   "id": "8663aec1-3440-42e8-9ab2-116becbadaf9",
   "metadata": {},
   "source": [
    "Often, when a categorical variable has a high cardinality (too many categories), many of the categories represent only a small proportion of the total. \n",
    "\n",
    "Having too many classes with very few samples is noise. For ML models to generalize well for all classes, each class must have enough samples.\n",
    "\n",
    "One solution to the problem is to group rare categories into a single category called \"rare\" or \"other\". The \"rarity\" can be chosen by selecting a proportion threshold.\n",
    "\n",
    "You can do this manually in Python but there is a better way. Using the feature-engine library, you can perform the operation using a Sklearn-like transformer.\n",
    "\n",
    "Useful parameters of RareLabelEncoder:\n",
    "\n",
    "- tol: threshold\n",
    "- replace_with: custom text to replace rare categories\n",
    "- ignore_format: when True, the transformer will work on numerically-encoded features as well. By default, it only works on Pandas \"other\" or \"category\" data types.\n",
    "\n",
    "Link to the transformer docs in the comments👇"
   ]
  },
  {
   "cell_type": "markdown",
   "id": "9e3638de-7465-41cf-b813-fd20d18f3aac",
   "metadata": {},
   "source": [
    "RareLabelEncoder: https://bit.ly/3vfjNkv"
   ]
  },
  {
   "cell_type": "markdown",
   "id": "b81d70a0-3f65-4669-b5ca-4f5692de0dba",
   "metadata": {},
   "source": [
    "![](../images/2022/7_july/july-rare_label.png)"
   ]
  },
  {
   "cell_type": "markdown",
   "id": "472506ee-f9fd-43e2-a466-3ed710fd2e2d",
   "metadata": {
    "pycharm": {
     "name": "#%% md\n"
    }
   },
   "source": [
    "## 5. Should you always cross-validate? "
   ]
  },
  {
   "cell_type": "markdown",
   "id": "bd309b5e-73d2-4fb6-8603-3c230f36a25c",
   "metadata": {},
   "source": [
    "Is it a requirement to use cross-validation every time? The answer is a tentative \"Yes\".\n",
    "\n",
    "When your dataset is sufficiently large, every random split of train/test sets should resemble the original data well. However, each model comes with its inherent bias and it will have samples that it favors over others. \n",
    "\n",
    "That's why it is always recommended to use CV techniques. Even when the data is large, you should at least go for 2-3 fold CV. \n",
    "\n",
    "As the dataset size gets smaller, you can increase the folds. When it is dangerously small, like below 100 rows, you can go for extreme CV techniques such as LeaveOneOut or LeavePOut. \n",
    "\n",
    "I have talked about CV techniques in detail in one of my recent articles. Give it a read!\n",
    "\n",
    "https://bit.ly/3z5e02c"
   ]
  },
  {
   "cell_type": "markdown",
   "id": "430942c2-4479-4ad6-9627-06a0c3afd05c",
   "metadata": {
    "pycharm": {
     "name": "#%% md\n"
    }
   },
   "source": [
    "## 6. Group KFold"
   ]
  },
  {
   "cell_type": "markdown",
   "id": "33ec2f25-084f-4971-9d01-f88d51808790",
   "metadata": {},
   "source": [
    "What is a Group KFold cross validation and when should you use it? Hint: non-IID data.\n",
    "\n",
    "Traditional CV techniques like KFold are all designed for IID data - independent and identically distributed. In other words, the process that generates each row of the dataset does not have a memory of the past samples. \n",
    "\n",
    "But, what if the data is non-IID?\n",
    "\n",
    "For example, in the Google Brain Ventilator Pressure competiton on Kaggle, participants worked with a simulated dataset of lung pressure of sedated patients connected to a breathing pump.\n",
    "\n",
    "Each row records several physical attributes of lungs as oxygen goes in and out. So, each \"breath\" of oxygen into the lungs has over 50 rows of measurements with a timestamp.\n",
    "\n",
    "Here, we can't use plain-old KFold because the dataset is grouped into thousands of breaths and each breath has more than 50 records. Using KFold has the danger of cutting the dataset \"mid-breath\".\n",
    "\n",
    "As a solution, you can use a CV technique called GroupKFold which accepts an additional \"groups\" argument that tells the estimator where the group IDs are stored in the dataset. \n",
    "\n",
    "For the lungs dataset, the \"groups\" argument would accept the \"breath_id\" column.\n",
    "\n",
    "Below is an example of GroupKFold in Sklearn.\n",
    "\n",
    "To learn more about such CV techniques, you can check out my latest article: https://bit.ly/3z5e02c"
   ]
  },
  {
   "cell_type": "markdown",
   "id": "2ff154b5-7620-41f8-9a6c-0c02652fbffb",
   "metadata": {
    "pycharm": {
     "name": "#%% md\n"
    }
   },
   "source": [
    "![](../images/2022/7_july/july-groupkfold.png)"
   ]
  },
  {
   "cell_type": "markdown",
   "id": "e04ebce0-e7cb-4a2b-a9c1-d7f7ec7d7557",
   "metadata": {
    "pycharm": {
     "name": "#%% md\n"
    }
   },
   "source": [
    "## 7. Shuffle CV"
   ]
  },
  {
   "cell_type": "markdown",
   "id": "fa0d8c43-a14a-4955-b84b-1c53c325cf62",
   "metadata": {},
   "source": [
    "How can you flirt with the idea of cross validation and yet, still not do it? Hint: Use ShuffleSplit. \n",
    "\n",
    "ShuffleSplit is an Sklearn CV estimator that does the following:\n",
    "\n",
    "It accepts an integer for its n_splits argument and each time, returns shuffled versions of the dataset with custom training/test set proportions.\n",
    "\n",
    "It is a great alternative to KFold CV because it allows a finer control on the number of folds and samples on in train/test sets. It is also a better choice than KFold for when you have limited data.\n",
    "\n",
    "To learn more about such CV techniques, you can check out my latest article: https://bit.ly/3z5e02c"
   ]
  },
  {
   "cell_type": "markdown",
   "id": "8bd53c82-60cf-4ea4-915b-e40b41ae22a1",
   "metadata": {},
   "source": [
    "![](../images/2022/7_july/july-shufflecv.png)"
   ]
  },
  {
   "cell_type": "markdown",
   "id": "b543d530-5e51-4116-a4eb-32fbf1131663",
   "metadata": {
    "pycharm": {
     "name": "#%% md\n"
    }
   },
   "source": [
    "## 8. Cross validation in time series "
   ]
  },
  {
   "cell_type": "markdown",
   "id": "b7e631e1-ecf6-4141-b6a3-be47479b9423",
   "metadata": {},
   "source": [
    "Cross validating using time series data is tricky. You can't use traditional KFold because you will end up training on \"future\" samples and predicting on the \"past\". Instead, use TimeSeriesSplit of Sklearn.\n",
    "\n",
    "The syntax is the same as other CV estimators but with one major difference:\n",
    "\n",
    "In each fold, the training indices will always come before the test indices. So, each successive train set is a superset of previous sets. "
   ]
  },
  {
   "cell_type": "markdown",
   "id": "4bc83a0c-c845-4c09-aef8-529a1d960e64",
   "metadata": {},
   "source": [
    "![](../images/2022/7_july/july-time_series_cv.png)"
   ]
  },
  {
   "cell_type": "markdown",
   "id": "8b248314-d1ef-4d87-ae3b-2d814507642d",
   "metadata": {
    "pycharm": {
     "name": "#%% md\n"
    }
   },
   "source": [
    "## 9. CTGAN for imbalanced class"
   ]
  },
  {
   "cell_type": "markdown",
   "id": "5acf1973-317e-4631-8dc4-a141a271e15b",
   "metadata": {},
   "source": [
    "Do you use SMOTE in practice? How effective is it?\n",
    "\n",
    "Lately, I have been thinking about alternatives to SMOTE for severe imbalanced classification problems. More specifically, I was wondering if synthetic data generators like CTGAN can be used to oversample the minority class.\n",
    "\n",
    "SMOTE uses neighbors in the feature space and draws new samples along the lines between them. Whereas, CTGAN uses GANs to model the distribution of continuous and discrete columns to synthesize new examples. \n",
    "\n",
    "How effective do you think CTGAN would be?"
   ]
  },
  {
   "cell_type": "markdown",
   "id": "5e44e680-df4e-4eed-89c1-92d9a6efe631",
   "metadata": {
    "pycharm": {
     "name": "#%% md\n"
    }
   },
   "source": [
    "## 10. Autocorrelation in time series with statsmodels"
   ]
  },
  {
   "cell_type": "markdown",
   "id": "d320dc6b-383c-4147-96e1-db068c75756b",
   "metadata": {},
   "source": [
    "I always found time series analysis fascinating. Especially, autocorrelation.\n",
    "\n",
    "Autocorrelation is the same as correlation coefficient but it is calculated between a series and its lagging version. Here, lagging means shifting the series a few periods behind, so the present values can be compared to their past. \n",
    "\n",
    "Autocorrelation can help discover great insights about the time series, such as:\n",
    "\n",
    "1. Trend - when a clear trend exists in time series, autocorrelation goes up or down as you further shift the series\n",
    "2. Seasonality - if autocorrelation goes up and down in fixed periods, seasonality exists in the series.\n",
    "3. Predictability - high autocorrelation suggests strong predictive power of the series, meaning you can train on the past samples to predict the future.\n",
    "\n",
    "To make autocorrelation analysis easier, you can plot it using statsmodels. Below is an example autocorrelation plot of temperature in Celcius. As you would expect, there is a strong seasonality in the series, occuring at every 12 lags."
   ]
  },
  {
   "cell_type": "markdown",
   "id": "d3282b77-9c18-47bf-90f4-58f9e9fe42f8",
   "metadata": {
    "pycharm": {
     "name": "#%% md\n"
    }
   },
   "source": [
    "![](../images/2022/7_july/july-autocorr.png)"
   ]
  },
  {
   "cell_type": "markdown",
   "id": "5d164cd3-785c-49f2-9d15-9237689cb14a",
   "metadata": {
    "pycharm": {
     "name": "#%% md\n"
    }
   },
   "source": [
    "Advanced time series analysis article: https://bit.ly/3Pmt2qM"
   ]
  },
  {
   "cell_type": "markdown",
   "id": "adb42ca7-4780-4002-90f1-8563c8e41876",
   "metadata": {
    "pycharm": {
     "name": "#%% md\n"
    }
   },
   "source": [
    "## 11. Session expiry trick in Colab"
   ]
  },
  {
   "cell_type": "markdown",
   "id": "34a59bbd-6e2b-47de-b59f-ee04e8024e74",
   "metadata": {},
   "source": [
    "What kind of dirty tricks do you use in Colab?\n",
    "\n",
    "For me, If I have to get away from my computer and am worried about losing the session, I just import the time module and set the cell to sleep for a few hours - 60 * 60 * 10.\n",
    "\n",
    "That way, the session will never go idle even if the previous cells finish execution. "
   ]
  },
  {
   "cell_type": "markdown",
   "id": "15b3d548-fa72-436c-9f1a-d8e710d12f44",
   "metadata": {
    "pycharm": {
     "name": "#%% md\n"
    }
   },
   "source": [
    "## 12. Git-story"
   ]
  },
  {
   "cell_type": "markdown",
   "id": "a8f9f4a6-d023-428d-935c-f4bf79865ac2",
   "metadata": {
    "pycharm": {
     "name": "#%% md\n"
    }
   },
   "source": [
    "A project's Git tree can become quite complex. To explain how the commits, branchs and tags criss-cross in the repo, use new tool called Git-story to animate the tree. \n",
    "\n",
    "Under the hood, Git-story uses Manim, the same animation engine used in 3Blue1Brown videos. Features of Git-story:\n",
    "\n",
    "1. Single command to create an .mp4 video of git history\n",
    "2. Move the animation start to any commit\n",
    "3. Different labels for commits, branch and tags\n",
    "4. Dark and light mode\n",
    "\n",
    "Git-story can be a great tool to lower the barriers to contributing many open-source projects by displaying the animation history."
   ]
  },
  {
   "cell_type": "markdown",
   "id": "c4e85cb0-55e7-44c3-8256-0a42e9684dd6",
   "metadata": {
    "pycharm": {
     "name": "#%% md\n"
    }
   },
   "source": [
    "![](../images/2022/7_july/git_story.gif)"
   ]
  },
  {
   "cell_type": "markdown",
   "id": "e6059dc9-d1ae-4ea2-96be-4b1f2aea0e92",
   "metadata": {
    "pycharm": {
     "name": "#%% md\n"
    }
   },
   "source": [
    "Link to git-story: https://initialcommit.com/tools/git-story"
   ]
  },
  {
   "cell_type": "markdown",
   "id": "ecf0dd74-00e2-4a0c-bb06-99ba2698db3c",
   "metadata": {
    "pycharm": {
     "name": "#%% md\n"
    }
   },
   "source": [
    "## 13. Cyclic and seasonal time series patterns"
   ]
  },
  {
   "cell_type": "markdown",
   "id": "fbfdb025-e77c-4202-902f-3dcb8b5e7b17",
   "metadata": {},
   "source": [
    "How to spot cyclic and seasonal time series patterns from a mile away?\n",
    "\n",
    "If the pattern is repeating with a fixed period frequency or connected to the calendar in some way, the pattern is seasonal or periodic. Examples are temperature between seasons, retail sales, economic data, etc.\n",
    "\n",
    "If the ups and downs of the series are irregular and resemble random fluctuations, the pattern is cyclic. Usually, the duration of these fluctuations last at least 2 years and you can't reasonably predict when the next spike will occur based on the previous ones. \n",
    "\n",
    "Cyclic patterns are usually associated with four phases of the business cycle - prosperity or boom, recession, depression and recovery."
   ]
  },
  {
   "cell_type": "markdown",
   "id": "f1ad4cef-f8f4-4282-a4d7-abebec31ed63",
   "metadata": {
    "pycharm": {
     "name": "#%% md\n"
    }
   },
   "source": [
    "## 14. SQLGlot for changing SQL dialects"
   ]
  },
  {
   "cell_type": "markdown",
   "id": "173c15b0-79c4-49a1-9e7b-407c32356ad7",
   "metadata": {},
   "source": [
    "Do you know how to change between all SQL dialects - Hive, Presto, Spark, MySQL, PostgreSQL, DuckDB, BigQuery, etc?\n",
    "\n",
    "With SQLGlot you don't have to. It is a Python library that has the following features:\n",
    "\n",
    "- Written in pure Python\n",
    "- Prettify complex SQL queries\n",
    "- Translate queries between dialects\n",
    "- Rewrite queries into optimized form\n",
    "- Parse errors\n",
    "- Build and modify queries with Python functions\n",
    "\n",
    "Have you seen it Danny Ma, sir?\n",
    "\n",
    "Link to the library in the comments."
   ]
  },
  {
   "cell_type": "markdown",
   "id": "9b7df7e4-fadf-4cd9-a393-c7f71152db26",
   "metadata": {},
   "source": [
    "![](../images/2022/7_july/july-sqlglot.png)"
   ]
  },
  {
   "cell_type": "markdown",
   "id": "556e7949-a505-4ba0-be85-dd9e7c5ef839",
   "metadata": {},
   "source": [
    "Link to the library: https://github.com/tobymao/sqlglot"
   ]
  },
  {
   "cell_type": "markdown",
   "id": "d5cb835d-a97f-4016-9377-0d21e1972462",
   "metadata": {
    "pycharm": {
     "name": "#%% md\n"
    }
   },
   "source": [
    "## 15. Handcalcs library in Python"
   ]
  },
  {
   "cell_type": "markdown",
   "id": "3ac274b1-7020-4b74-b426-6d0d29ee6ebf",
   "metadata": {
    "tags": []
   },
   "source": [
    "Handcalcs is a nifty Python library that converts math code into formulas that look like they were written by hand.\n",
    "\n",
    "It has got %%render magic command that automatically converts a cell's code into written LaTeX output, which you can save as PDF later.\n",
    "\n",
    "Handcalcs also exposes a decorator that show the calculation of custom functions with user-provided values just like you would use substitute variables in a formula while solving a problem.\n",
    "\n",
    "Link to handcalcs in the first comment!"
   ]
  },
  {
   "cell_type": "markdown",
   "id": "2309407e-a831-4c20-9261-e6cc37b14374",
   "metadata": {
    "pycharm": {
     "name": "#%% md\n"
    }
   },
   "source": [
    "![](../images/2022/7_july/handcalcs.gif)"
   ]
  },
  {
   "cell_type": "markdown",
   "id": "dd588a38-ba3e-4171-81e7-a30576558db7",
   "metadata": {
    "pycharm": {
     "name": "#%% md\n"
    }
   },
   "source": [
    "Link to handcalcs: https://github.com/connorferster/handcalcs"
   ]
  },
  {
   "cell_type": "markdown",
   "id": "cbb68287-0e35-4728-9442-7e83d8251993",
   "metadata": {
    "pycharm": {
     "name": "#%% md\n"
    }
   },
   "source": [
    "## 16. Avatarify Python"
   ]
  },
  {
   "cell_type": "markdown",
   "id": "6678a8a4-6b38-40fa-b781-fbc6720175a5",
   "metadata": {},
   "source": [
    "Photorealistic avatars for video conferencing with Python Avatarify.\n",
    "\n",
    "Avatarify is a project for swapping your face with anyone you like on Zoom and Skype. Apart from the initial fun of it, you might be interested in the implementation of the project.\n",
    "\n",
    "The animation engine is based on the First Order Motion Model paper by Aliaksandr Siarohin. I am not gonna pretend I am smart enough to understand what that is but you can check out the first comment for the paper link and the desktop app of the project."
   ]
  },
  {
   "cell_type": "markdown",
   "id": "4ca8602e-79b3-4821-bc8f-90931b275148",
   "metadata": {
    "pycharm": {
     "name": "#%% md\n"
    }
   },
   "source": [
    "![](../images/2022/7_july/avatarify.gif)"
   ]
  },
  {
   "cell_type": "markdown",
   "id": "26f4b460-ccbf-47d2-9292-21e5248889e7",
   "metadata": {},
   "source": [
    "Avatirfy GitHub (Desktop app): https://github.com/alievk/avatarify-python\n",
    "\n",
    "Paper: https://bit.ly/3PIOxmj"
   ]
  },
  {
   "cell_type": "markdown",
   "id": "86873a50-8367-42e1-b0ba-6c2df37ecfb8",
   "metadata": {
    "pycharm": {
     "name": "#%% md\n"
    },
    "tags": []
   },
   "source": [
    "## 17. Venn diagrams in Python"
   ]
  },
  {
   "cell_type": "markdown",
   "id": "87e380a6-ae75-46c1-97f8-de22134565ab",
   "metadata": {},
   "source": [
    "Drawing Venn diagrams in Matplotlib!\n",
    "\n",
    "Matplotlib is built upon tiny moving classes called Artists. Everything is an artist in Matplotlib - each dot, circle, line, text, spine, etc. They all inherit from a base class called Artist.\n",
    "\n",
    "If you use these Artists correctly you can draw practically everything in Matplotlib (even the Mandelbrot set). matplotlib_venn is a library that takes advantage of this feature and allows you to plot Venn diagrams.\n",
    "\n",
    "Link to the library in the first comment."
   ]
  },
  {
   "cell_type": "markdown",
   "id": "dc518163-2905-4b2a-9a4c-1e4449e8545c",
   "metadata": {},
   "source": [
    "![](../images/2022/7_july/july-venn.png)"
   ]
  },
  {
   "cell_type": "markdown",
   "id": "1132ac16-3396-419f-810e-925c69920f8b",
   "metadata": {},
   "source": [
    "The library: https://github.com/konstantint/matplotlib-venn"
   ]
  },
  {
   "cell_type": "markdown",
   "id": "b295035e-614e-4dac-b558-1c57c7ee0498",
   "metadata": {
    "pycharm": {
     "name": "#%% md\n"
    }
   },
   "source": [
    "## 18. Why does ensembling work better than single models?"
   ]
  },
  {
   "cell_type": "markdown",
   "id": "772f91eb-e15e-4a49-9c6f-fb4cfdef37ba",
   "metadata": {},
   "source": [
    "Why does ensembling work better than single models?\n",
    "\n",
    "########\n",
    "\n",
    "Reason 1\n",
    "\n",
    "########\n",
    "\n",
    "Members of the ensemble learn different mapping functions from input to output. A good ensemble contains members with as different learning functions as possible that explore the information space created by the data from all angles. They make different assumptions about the structure and make errors in different cases.\n",
    "\n",
    "########\n",
    "\n",
    "Reason 2\n",
    "\n",
    "########\n",
    "\n",
    "The predictions are always combined in some way. This allows the ensemble to exploit the differences of predictions in all members. In other words, you don't just have to take the word of one model but get a collective opinion on each case, lowering the risk of making an inaccurate prediction.\n",
    "\n",
    "########\n",
    "\n",
    "Reason 3\n",
    "\n",
    "########\n",
    "\n",
    "There is also a beautiful probabilistic reason why ensemble of models with different scores beat another set of models with similar scores. The prove is a bit long but I will definitely talk about it next week.\n",
    "\n",
    "We have a heated debate on whether the benefits gained from ensembles outweigh their advantages but that's also topic for another post."
   ]
  },
  {
   "cell_type": "markdown",
   "id": "09392661-592e-4dd0-877e-4c670d03f401",
   "metadata": {
    "pycharm": {
     "name": "#%% md\n"
    }
   },
   "source": [
    "## 19. Voting classifier/regressor"
   ]
  },
  {
   "cell_type": "markdown",
   "id": "b4402afb-f9f4-4347-a1dd-dbffbe83b637",
   "metadata": {},
   "source": [
    "How to reach democracy in machine learning? By using a voting ensemble!\n",
    "\n",
    "Max voting is a common ensembling technique that uses the majority of vote to label new classification samples. If we have three models with the following predictions in a binary classification problem:\n",
    "\n",
    "- Model 1 -> class 1\n",
    "- Model 2 -> class 2\n",
    "- Model 3 -> class 1\n",
    "\n",
    "The final prediction would be class 1. VotingClassifier of Sklearn can be used to build such an ensemble.\n",
    "\n",
    "It takes a list of individual classifiers and ensembles them with the max voting technique when its \"voting\" parameter is set to \"hard\". When it is set to \"soft\", the ensemble uses predicted class probabilities and averages them and thresholds the result.\n",
    "\n",
    "VotingRegressor is the same as VotingClassifier when its \"voting\" is set to \"soft\" and works for regression."
   ]
  },
  {
   "cell_type": "markdown",
   "id": "1ca1d581-bf0e-497f-8b52-e132410288e8",
   "metadata": {},
   "source": [
    "![](../images/2022/7_july/july-voting_classifier.png)"
   ]
  },
  {
   "cell_type": "markdown",
   "id": "22e47c89-c805-42a2-b674-5e045af073f6",
   "metadata": {
    "pycharm": {
     "name": "#%% md\n"
    }
   },
   "source": [
    "## 20. Stacking ensemble/regressor"
   ]
  },
  {
   "cell_type": "markdown",
   "id": "8b2e5049-e16f-4b16-8d97-94570fb08c67",
   "metadata": {},
   "source": [
    "People use stacking to silently win competitions on Kaggle. How does it work?\n",
    "\n",
    "As a rule, multiple performant models with as different learning functions as possible are chosen to form an ensemble. Then, using KFold cross-validation, predictions are generated for each model.\n",
    "\n",
    "As an example, with 5 models in a stack doing a 5-fold CV on the data, we will have 25 columns of predictions. This concludes the level 1 of the stack. \n",
    "\n",
    "In the next level, using these 25 columns of predictions as features, a final - meta estimator is trained with cross-validation and final predictions are made.\n",
    "\n",
    "This leverages the strength of each individual model in the stack and uses their output as inputs to the final estimator. This helps greatly reduce bias in the predictions.\n",
    "\n",
    "This complicated ensembling technique is implemented in its basic format in Sklearn as Stacking Classifier/Regressor. You pass a list of base estimators and one final lightweight meta estimator like Logistic Regression. Works just like any Sklearn model."
   ]
  },
  {
   "cell_type": "markdown",
   "id": "98eb80cb-0c16-4b51-a692-6bdb8a53bb4d",
   "metadata": {},
   "source": [
    "![](../images/2022/7_july/july-stack.png)"
   ]
  },
  {
   "cell_type": "markdown",
   "id": "c8ed88cd-4c38-4459-8747-3fc2a8372774",
   "metadata": {
    "pycharm": {
     "name": "#%% md\n"
    }
   },
   "source": [
    "## 21. StackOverflow homepage"
   ]
  },
  {
   "cell_type": "markdown",
   "id": "64787692-a094-4010-88ad-41b1eb639721",
   "metadata": {
    "pycharm": {
     "name": "#%% md\n"
    }
   },
   "source": [
    "This is the StackOverflow homepage, for those who is seeing it for the first time in their lives.\n",
    "\n",
    "![](../images/2022/7_july/so_homepage.gif)"
   ]
  },
  {
   "cell_type": "markdown",
   "id": "70a03814-f2cd-46e3-bc9d-e0298143bdac",
   "metadata": {},
   "source": [
    "## 22. PReGex - human-readable RegEx"
   ]
  },
  {
   "cell_type": "markdown",
   "id": "9e817e49-c154-4143-bdd1-07338410aae7",
   "metadata": {},
   "source": [
    "Human-readable RegEx is finally here! Using the PReGex library, you don't have to use a single RegEx character. \n",
    "\n",
    "Below is an example Pregex pattern for matching an email, one of the most common RegEx operations. \n",
    "\n",
    "Pregex exposes classes for almost all RegEx characters such as quantifiers, groups, operators, character classes, assertions, etc. Pregex stands for Programmable regex and rightly so, all its classes can be combined into more complex patterns using Python operators.\n",
    "\n",
    "You can learn more about Pregex in an article written by Khuyen Tran and from the official docs in the first comment."
   ]
  },
  {
   "cell_type": "markdown",
   "id": "02d206b1-11a7-4e35-b5be-9420555ad645",
   "metadata": {},
   "source": [
    "![](../images/2022/7_july/july-pregex.png)"
   ]
  },
  {
   "cell_type": "markdown",
   "id": "463d589f-332b-4d35-9d58-40d30c8c2063",
   "metadata": {},
   "source": [
    "Article by Khuyen Tran: https://bit.ly/3S6Q6fh\n",
    "\n",
    "Pregex docs: https://pregex.readthedocs.io/en/latest/"
   ]
  },
  {
   "cell_type": "markdown",
   "id": "a5241af5-60bc-46df-994e-ee0e96f99d84",
   "metadata": {
    "pycharm": {
     "name": "#%% md\n"
    }
   },
   "source": [
    "# Resources"
   ]
  },
  {
   "cell_type": "markdown",
   "id": "a0ae4b73-dc09-4c3b-9934-56b3b9d20df2",
   "metadata": {
    "pycharm": {
     "name": "#%% md\n"
    }
   },
   "source": [
    "## 23. Workera.ai for individuals"
   ]
  },
  {
   "cell_type": "markdown",
   "id": "c52b093c-afb7-471b-9f57-554511f351bf",
   "metadata": {},
   "source": [
    "How are your data compared to employees' of FAANG companies?\n",
    "\n",
    "You can easily find out by taking a skill assessment on Workera AI. The platform offers 10 different AI-based tests for your domain. Example tests are:\n",
    "\n",
    "- AI Fluent/Literate (decision making and communication)\n",
    "- Data analyst\n",
    "- Data engineer\n",
    "- ML and deep learning engineer, etc.\n",
    "\n",
    "Each skill assessment have separate tests for sub-skills and return a score out of 300. Then, you can compare your score against others who have taken the tests in other companies.\n",
    "\n",
    "It is free for individuals: https://workera.ai/"
   ]
  },
  {
   "cell_type": "markdown",
   "id": "ed39a592-6f7b-4a63-a1eb-554132a197fb",
   "metadata": {
    "pycharm": {
     "name": "#%% md\n"
    }
   },
   "source": [
    "![](../images/2022/7_july/workera.png)"
   ]
  },
  {
   "cell_type": "markdown",
   "id": "1fc89056-aee9-4f4f-871a-f89ca5d79ba1",
   "metadata": {
    "pycharm": {
     "name": "#%% md\n"
    }
   },
   "source": [
    "## 24. Rachel Thomas's Computational Linear Algebra"
   ]
  },
  {
   "cell_type": "markdown",
   "id": "20e5930c-5111-4cec-93f1-de58d260eb84",
   "metadata": {},
   "source": [
    "YouTube gems: Computational Linear Algebra Course taught by Rachel Thomas, co-founder of Fast AI with Jeremy Howard.\n",
    "\n",
    "According to Forbes, Rachel Thomas is one of the 20 most incredible women in AI. And if she is teaching a course for free on YouTube, you better take it.\n",
    "\n",
    "Her Computational Linear Algebra course will give you hands-on practice in implementing the theory of matrix computations in code. The topics covered are: \n",
    "\n",
    "- Parallelization\n",
    "- SVD - Singular Value Decomposition\n",
    "- PCA - Principle Component Analysis\n",
    "- LU-factorization\n",
    "- PageRank\n",
    "\n",
    "Linear Algebra is one of the core components of ML math and being able to understand its concepts at a level where you can implement them in code goes a long way.\n",
    "\n",
    "Link to the course in the first comment."
   ]
  },
  {
   "cell_type": "markdown",
   "id": "33005ebe-658a-403a-ab64-5b0ae09f01f6",
   "metadata": {
    "pycharm": {
     "name": "#%% md\n"
    }
   },
   "source": [
    "![](../images/2022/7_july/linalg.png)"
   ]
  },
  {
   "cell_type": "markdown",
   "id": "74fcddfe-4e20-477b-a673-50cc7dcb500a",
   "metadata": {},
   "source": [
    "Link to the course: https://bit.ly/3vmMBHN"
   ]
  },
  {
   "cell_type": "markdown",
   "id": "7e076c11-f4df-4e7c-bba2-347d5e016ba0",
   "metadata": {
    "pycharm": {
     "name": "#%% md\n"
    }
   },
   "source": [
    "## 25. Andrey Karpathy blog on recipe for training neural networks"
   ]
  },
  {
   "cell_type": "markdown",
   "id": "22d485e5-dc56-4f43-9387-c7444a5200f3",
   "metadata": {},
   "source": [
    "The secret recipe for training neural networks - by the former director of AI @Tesla.\n",
    "\n",
    "In one of his articles, Anrej Karapathy shares his valuable knowledge on how best train neural nets and the common mistakes to avoid. It covers:\n",
    "\n",
    "- why neural networks are not easy \"plug and play\" software code\n",
    "- how networks fail silently\n",
    "- 6-step detailed recipe on applying neural nets to any problem\n",
    "\n",
    "Check out the article in the first comment."
   ]
  },
  {
   "cell_type": "markdown",
   "id": "cb20cd59-c063-4a91-9233-ec62020ba4fd",
   "metadata": {
    "pycharm": {
     "name": "#%% md\n"
    }
   },
   "source": [
    "The secret recipe for training neural networs - Andrej Karapathy: https://bit.ly/3PtCZTE"
   ]
  },
  {
   "cell_type": "markdown",
   "id": "0daec6f4-0a11-42e2-b1e5-77c2bb87fda1",
   "metadata": {
    "pycharm": {
     "name": "#%% md\n"
    }
   },
   "source": [
    "## 26. Google dataset search"
   ]
  },
  {
   "cell_type": "markdown",
   "id": "8a566d9c-fb7c-4cc8-8448-633b66108a34",
   "metadata": {},
   "source": [
    "Google has a custom domain for dataset search!\n",
    "\n",
    "Once you type in a keyword, the search will crawl across hundreds of dataset sources to find the best matches. It has got filters for data format (structured, unstructured), usage rights, topics and when it was last updated.\n",
    "\n",
    "I found the results of this sub-domain much cleaner than plain old Google Search, which always contains unnecessary pages and slows down your dataset search.\n",
    "\n",
    "Link to the tool in the first comment👇"
   ]
  },
  {
   "cell_type": "markdown",
   "id": "c2f2a264-f2fc-4e20-a379-9be69ce2f0f9",
   "metadata": {
    "pycharm": {
     "name": "#%% md\n"
    }
   },
   "source": [
    "![](../images/2022/7_july/google_data_search.gif)"
   ]
  },
  {
   "cell_type": "markdown",
   "id": "fbdb53d8-c324-4693-958f-ea38644e4493",
   "metadata": {},
   "source": [
    "Link to the tool: https://datasetsearch.research.google.com/"
   ]
  },
  {
   "cell_type": "markdown",
   "id": "d828db6b-de2c-4abd-84bb-b02553a8d24a",
   "metadata": {
    "pycharm": {
     "name": "#%% md\n"
    }
   },
   "source": [
    "## 27. 3Blue1Brown blogs on math"
   ]
  },
  {
   "cell_type": "markdown",
   "id": "c4900dd2-50a8-4861-a988-2b6c5309abc1",
   "metadata": {
    "pycharm": {
     "name": "#%% md\n"
    }
   },
   "source": [
    "Love 3Blue1Brown videos? Wait till you read the articles!\n",
    "\n",
    "I recently discovered that 3Blue1Brown website features written lessons of Grant Sanderson's most popular videos. Given that all his videos are exceptional, the number of articles (with play-with-it-yourself animations) is roughly around 100, grouped into 16 categories.\n",
    "\n",
    "![](../images/2022/7_july/3b1b_articles.gif)"
   ]
  },
  {
   "cell_type": "markdown",
   "id": "735c5a3d-8dcf-4f6b-92ec-3dc26f99954b",
   "metadata": {
    "pycharm": {
     "name": "#%% md\n"
    }
   },
   "source": [
    "## 28. ML pen and paper exercises"
   ]
  },
  {
   "cell_type": "markdown",
   "id": "a06286a7-d342-47d0-892d-0cde96992a6e",
   "metadata": {},
   "source": [
    "If you keep relearning math concepts for ML, you need some solid deliberate practice.\n",
    "\n",
    "Watching YouTube videos and reading articles on math concepts gives you the comfortable illusion of \"making progress\" and \"learning something worthwhile\". In reality, you are just sitting inside your comfort zone, learning things you know you will inevitable relearn.\n",
    "\n",
    "Give yourself some serious challenge by solving ML exercises which can mostly be done using pen and paper. You can download them from Arxiv or from the GitHub repo.\n",
    "\n",
    "Links to both in the first comment👇"
   ]
  },
  {
   "cell_type": "markdown",
   "id": "598da967-d208-48bd-86f4-c850471b5189",
   "metadata": {
    "pycharm": {
     "name": "#%% md\n"
    }
   },
   "source": [
    "![](../images/2022/7_july/pen_paper.png)"
   ]
  },
  {
   "cell_type": "markdown",
   "id": "7df8baca-63de-441f-8972-c96be9f56f87",
   "metadata": {},
   "source": [
    "Exercises (GitHub): https://github.com/michaelgutmann/ml-pen-and-paper-exercises\n",
    "\n",
    "Exercises (Arxiv): https://arxiv.org/abs/2206.13446"
   ]
  }
 ],
 "metadata": {
  "kernelspec": {
   "display_name": "articles",
   "language": "python",
   "name": "articles"
  },
  "language_info": {
   "codemirror_mode": {
    "name": "ipython",
    "version": 3
   },
   "file_extension": ".py",
   "mimetype": "text/x-python",
   "name": "python",
   "nbconvert_exporter": "python",
   "pygments_lexer": "ipython3",
   "version": "3.9.12"
  }
 },
 "nbformat": 4,
 "nbformat_minor": 5
}
