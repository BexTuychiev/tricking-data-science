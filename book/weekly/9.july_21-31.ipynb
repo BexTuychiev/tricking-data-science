{
 "cells": [
  {
   "cell_type": "markdown",
   "id": "fc1a16d1-e3f6-4f10-a9f4-fa420143304b",
   "metadata": {},
   "source": [
    "# Code"
   ]
  },
  {
   "cell_type": "markdown",
   "id": "038da6b7-2de2-406f-8a10-1e65f8762465",
   "metadata": {},
   "source": [
    "## 1. Progress bars with Rich"
   ]
  },
  {
   "cell_type": "markdown",
   "id": "14fb2b84-1b90-4d9a-a380-030e4608617b",
   "metadata": {},
   "source": [
    "TQDM for progress bars ın Jupyter ıs outdated. Instead, go wıth Rıch!\n",
    "\n",
    "Apart from beıng an excellent CLI tool, Rıch works greatly wıth Jupyter Lab as well. \n",
    "\n",
    "The dısplay ıs fully customızable. You can tweak the text labels, the wıdth and orderıng of the bars and much more.\n",
    "\n",
    "Check out the docs for more detaıls ın the fırst comment."
   ]
  },
  {
   "cell_type": "markdown",
   "id": "6655e2fd-29e4-4301-905d-121001e2117b",
   "metadata": {},
   "source": [
    "![](../images/2022/7_july/progress_bar_2.gif)"
   ]
  },
  {
   "cell_type": "markdown",
   "id": "c7670ce3-d7b6-49c9-b0a8-7342e5258e5a",
   "metadata": {},
   "source": [
    "Rıch progress bar dısplay: https://bit.ly/3vdDw3U"
   ]
  },
  {
   "cell_type": "markdown",
   "id": "3d36d45f-70e4-46aa-b4b6-f1991b7188b1",
   "metadata": {},
   "source": [
    "## 2. Pretty printing with rich"
   ]
  },
  {
   "cell_type": "markdown",
   "id": "f5cb9708-eacc-4fa8-906d-4b327f373f74",
   "metadata": {},
   "source": [
    "Python REPL ıs one of the uglıest thıngs you wıll see ın programmıng. Gıve ıt more style wıth colorful pretty-prıntıng wıth rıch👇"
   ]
  },
  {
   "cell_type": "markdown",
   "id": "ce948a62-a0ec-4eaa-b38c-4b64fa975c72",
   "metadata": {},
   "source": [
    "![](../images/2022/7_july/pprint.gif)"
   ]
  },
  {
   "cell_type": "markdown",
   "id": "d2f484f3-a292-4a27-91ee-f16c48d00aeb",
   "metadata": {},
   "source": [
    "## 3. Python news 3.11 article - lying with statistics"
   ]
  },
  {
   "cell_type": "markdown",
   "id": "896f72db-75ca-4b75-be09-eff57447c38c",
   "metadata": {},
   "source": [
    "Lyıng wıth statıstıcs ın actıon: Python 3.11 ıs 60% faster than 3.10.\n",
    "\n",
    "Don't easıly trust headlınes that twıst the truth wıth statıstıcs. In the benchmark test I performed, the medıan speed ımprovement was about 25% and ın the extreme cases, ıt exceeded well over 60%.\n",
    "\n",
    "However, should you even be excıted about thıs ımprovement? \n",
    "\n",
    "I don't thınk so. The benchmark was performed usıng functıons from natıve Python lıbrarıes people rarely use. If you regularly use lıbrarıes lıke NumPy and TensorFlow whıch are Python wrappers around other languages, you mıght not notıce the speed up.\n",
    "\n",
    "Check out the artıcle I wrote for DataCamp down below for the detaıls about the benchmark and how you can rerun ıt."
   ]
  },
  {
   "cell_type": "markdown",
   "id": "55095b08-c1db-40de-bec9-8cccaf691b55",
   "metadata": {},
   "source": [
    "Artıcle: https://www.datacamp.com/blog/whats-new-in-python-311-and-should-you-even-bother-with-it"
   ]
  },
  {
   "cell_type": "markdown",
   "id": "9257179f-d3ab-4b42-8fe8-b853b82610a1",
   "metadata": {},
   "source": [
    "## 4. Encoding rare labels with RareLabelEncoder"
   ]
  },
  {
   "cell_type": "code",
   "execution_count": 16,
   "id": "103d5145-e56b-4576-bad3-7e7160d0ed74",
   "metadata": {},
   "outputs": [],
   "source": [
    "from sklearn.datasets import make_classification\n",
    "\n",
    "X, y = make_classification()"
   ]
  },
  {
   "cell_type": "code",
   "execution_count": 18,
   "id": "d4a2c17a-83f1-45b7-b841-a1b5919b71e9",
   "metadata": {},
   "outputs": [],
   "source": [
    "from feature_engine.encoding import RareLabelEncoder\n",
    "\n",
    "encoder = RareLabelEncoder(tol=0.05, replace_with=\"other\")\n",
    "X_transformed = encoder.fit_transform(X)"
   ]
  },
  {
   "cell_type": "markdown",
   "id": "472506ee-f9fd-43e2-a466-3ed710fd2e2d",
   "metadata": {},
   "source": [
    "## 5. Should you always cross-validate? "
   ]
  },
  {
   "cell_type": "markdown",
   "id": "430942c2-4479-4ad6-9627-06a0c3afd05c",
   "metadata": {},
   "source": [
    "## 6. Group KFold"
   ]
  },
  {
   "cell_type": "markdown",
   "id": "2ff154b5-7620-41f8-9a6c-0c02652fbffb",
   "metadata": {},
   "source": [
    "```python\n",
    "from sklearn.model_selection import GroupKFold\n",
    "from sklearn.model_selection import cross_validate\n",
    "from sklearn.linear_model import LogisticRegression\n",
    "\n",
    "cv = GroupKFold(n_splits=7)\n",
    "log_reg = LogisticRegression()\n",
    "\n",
    "for fold, (train_idx, test_idx) in enumerate(cv.split(X, y, groups=X['id'])):\n",
    "    ...\n",
    "\n",
    "cross_validate(log_reg, X, y, cv=cv, groups=X['id'])\n",
    "```"
   ]
  },
  {
   "cell_type": "markdown",
   "id": "e04ebce0-e7cb-4a2b-a9c1-d7f7ec7d7557",
   "metadata": {},
   "source": [
    "## 7. Shuffle CV"
   ]
  },
  {
   "cell_type": "code",
   "execution_count": 27,
   "id": "358b17ae-569f-4685-a8e0-d1ea668947c9",
   "metadata": {},
   "outputs": [],
   "source": [
    "from sklearn.model_selection import ShuffleSplit\n",
    "\n",
    "ss = ShuffleSplit(n_splits=10, test_size=0.25, random_state=1)\n",
    "\n",
    "for fold, (train_idx, test_idx) in enumerate(ss.split(X, y)):\n",
    "    pass"
   ]
  },
  {
   "cell_type": "code",
   "execution_count": 28,
   "id": "a09bad69-2f9a-40d6-9750-701bfa0c81df",
   "metadata": {},
   "outputs": [
    {
     "data": {
      "text/plain": [
       "{'fit_time': array([0.00899506, 0.00900269, 0.01100302, 0.01099873, 0.01099753,\n",
       "        0.03199625, 0.01400089, 0.01299882, 0.01699758, 0.00799966]),\n",
       " 'score_time': array([0.00100374, 0.        , 0.00499535, 0.0009985 , 0.00100231,\n",
       "        0.00100183, 0.        , 0.00200748, 0.00099969, 0.00099993]),\n",
       " 'test_score': array([0.88, 0.84, 0.84, 0.92, 0.92, 0.88, 0.8 , 0.72, 0.76, 0.76])}"
      ]
     },
     "execution_count": 28,
     "metadata": {},
     "output_type": "execute_result"
    }
   ],
   "source": [
    "cross_validate(log_reg, X, y, cv=ss)"
   ]
  },
  {
   "cell_type": "markdown",
   "id": "b543d530-5e51-4116-a4eb-32fbf1131663",
   "metadata": {},
   "source": [
    "## 8. Cross validation in time series "
   ]
  },
  {
   "cell_type": "markdown",
   "id": "811c52e5-9f20-4964-a668-644b039f8574",
   "metadata": {},
   "source": [
    "```python\n",
    "from sklearn.model_selection import TimeSeriesSplit\n",
    "\n",
    "cv = TimeSeriesSplit(n_splits=7)\n",
    "\n",
    "visualize_cv(cv, X, y\n",
    "```\n",
    "\n",
    "![](../images/2022/7_july/ts_split_example.png)"
   ]
  },
  {
   "cell_type": "markdown",
   "id": "8b248314-d1ef-4d87-ae3b-2d814507642d",
   "metadata": {},
   "source": [
    "## 9. CTGAN for imbalanced class"
   ]
  },
  {
   "cell_type": "markdown",
   "id": "5e44e680-df4e-4eed-89c1-92d9a6efe631",
   "metadata": {},
   "source": [
    "## 10. Autocorrelation in time series with Pandas"
   ]
  },
  {
   "cell_type": "markdown",
   "id": "a2be9b1b-4726-4dc4-bb7b-2c9badac5cd7",
   "metadata": {
    "jp-MarkdownHeadingCollapsed": true,
    "tags": []
   },
   "source": [
    "```python\n",
    "from statsmodels.graphics import tsaplots\n",
    "\n",
    "rcParams[\"figure.figsize\"] = 10, 6\n",
    "\n",
    "# Stands for Time Series Analysis Plots (TSA Plots)\n",
    "fig = tsaplots.plot_acf(tps[\"deg_C\"], lags=60)\n",
    "\n",
    "plt.xlabel(\"Lag at k\")\n",
    "plt.ylabel(\"Correlation coefficient\")\n",
    "plt.show()\n",
    "```"
   ]
  },
  {
   "cell_type": "markdown",
   "id": "d3282b77-9c18-47bf-90f4-58f9e9fe42f8",
   "metadata": {},
   "source": [
    "![](../images/2022/7_july/autocorrelation.png)"
   ]
  },
  {
   "cell_type": "markdown",
   "id": "5d164cd3-785c-49f2-9d15-9237689cb14a",
   "metadata": {},
   "source": [
    "Advanced tıme serıes analysıs artıcle: https://bit.ly/3Pmt2qM"
   ]
  },
  {
   "cell_type": "markdown",
   "id": "adb42ca7-4780-4002-90f1-8563c8e41876",
   "metadata": {},
   "source": [
    "## 11. Session expiry trick in Colab"
   ]
  },
  {
   "cell_type": "markdown",
   "id": "15b3d548-fa72-436c-9f1a-d8e710d12f44",
   "metadata": {},
   "source": [
    "## 12. Git-story"
   ]
  },
  {
   "cell_type": "markdown",
   "id": "a8f9f4a6-d023-428d-935c-f4bf79865ac2",
   "metadata": {},
   "source": []
  },
  {
   "cell_type": "markdown",
   "id": "c4e85cb0-55e7-44c3-8256-0a42e9684dd6",
   "metadata": {},
   "source": [
    "![](../images/2022/7_july/git_story.gif)"
   ]
  },
  {
   "cell_type": "markdown",
   "id": "e6059dc9-d1ae-4ea2-96be-4b1f2aea0e92",
   "metadata": {},
   "source": [
    "Lınk to gıt-story: https://initialcommit.com/tools/git-story"
   ]
  },
  {
   "cell_type": "markdown",
   "id": "ecf0dd74-00e2-4a0c-bb06-99ba2698db3c",
   "metadata": {},
   "source": [
    "## 13. Cyclic and seasonal time series patterns"
   ]
  },
  {
   "cell_type": "code",
   "execution_count": null,
   "id": "854cfbcb-ac56-4216-a424-83cbbb774cff",
   "metadata": {},
   "outputs": [],
   "source": []
  },
  {
   "cell_type": "markdown",
   "id": "f1ad4cef-f8f4-4282-a4d7-abebec31ed63",
   "metadata": {},
   "source": [
    "## 14. SQLGlot for changing SQL dialects"
   ]
  },
  {
   "cell_type": "markdown",
   "id": "58f3b503-6130-43bb-bf8b-51847ac29c08",
   "metadata": {},
   "source": [
    "```python\n",
    "import sqlglot\n",
    "\n",
    "query = \"\"\"WITH baz AS (SELECT a, c FROM foo WHERE a = 1) SELECT f.a, b.b, baz.c, CAST(\"b\".\"a\" AS REAL) d FROM foo f JOIN bar b ON f.a = b.a LEFT JOIN baz ON f.a = baz.a\"\"\"\n",
    "\n",
    "sqlglot.transpile(sql, write=\"spark\", identify=True, pretty=True)[0]\n",
    "```"
   ]
  },
  {
   "cell_type": "markdown",
   "id": "620c25a5-710d-4e8f-be73-8add208c67a2",
   "metadata": {},
   "source": [
    "```sql\n",
    "WITH `baz` AS (\n",
    "  SELECT\n",
    "    `a`,\n",
    "    `c`\n",
    "  FROM `foo`\n",
    "  WHERE\n",
    "    `a` = 1\n",
    ")\n",
    "SELECT\n",
    "  `f`.`a`,\n",
    "  `b`.`b`,\n",
    "  `baz`.`c`,\n",
    "  CAST(`b`.`a` AS FLOAT) AS `d`\n",
    "FROM `foo` AS `f`\n",
    "JOIN `bar` AS `b`\n",
    "  ON `f`.`a` = `b`.`a`\n",
    "LEFT JOIN `baz`\n",
    "  ON `f`.`a` = `baz`.`a`\n",
    "```"
   ]
  },
  {
   "cell_type": "code",
   "execution_count": 51,
   "id": "3c75ebee-e919-46a1-a9a7-db86690916a2",
   "metadata": {},
   "outputs": [],
   "source": [
    "import sqlglot\n",
    "\n",
    "sqlglot.transpile()"
   ]
  },
  {
   "cell_type": "markdown",
   "id": "ebbbf606-ed95-48bc-bcc8-01883446b34f",
   "metadata": {},
   "source": [
    "Hive, presto, spark, MySQL, PostgreSQL, duckdb, BigQuery, etc."
   ]
  },
  {
   "cell_type": "markdown",
   "id": "d5cb835d-a97f-4016-9377-0d21e1972462",
   "metadata": {},
   "source": [
    "## 15. Handcalcs library in Python"
   ]
  },
  {
   "cell_type": "markdown",
   "id": "2309407e-a831-4c20-9261-e6cc37b14374",
   "metadata": {},
   "source": [
    "![](../images/2022/7_july/handcalcs.gif)"
   ]
  },
  {
   "cell_type": "markdown",
   "id": "dd588a38-ba3e-4171-81e7-a30576558db7",
   "metadata": {},
   "source": [
    "Lınk to handcalcs: https://github.com/connorferster/handcalcs"
   ]
  },
  {
   "cell_type": "markdown",
   "id": "cbb68287-0e35-4728-9442-7e83d8251993",
   "metadata": {},
   "source": [
    "## 16. Avatarify Python"
   ]
  },
  {
   "cell_type": "markdown",
   "id": "4ca8602e-79b3-4821-bc8f-90931b275148",
   "metadata": {},
   "source": [
    "![](../images/2022/7_july/avatarify.gif)"
   ]
  },
  {
   "cell_type": "markdown",
   "id": "86873a50-8367-42e1-b0ba-6c2df37ecfb8",
   "metadata": {},
   "source": [
    "## 17. Venn diagrams in Python"
   ]
  },
  {
   "cell_type": "markdown",
   "id": "27a04c67-c734-49e2-bfcb-bf0a08d9109c",
   "metadata": {},
   "source": [
    "```python\n",
    "from matplotlib import pyplot as plt\n",
    "import numpy as np\n",
    "from matplotlib_venn import venn3, venn3_circles\n",
    "fig = plt.figure(figsize=(4,4), dpi=150)\n",
    "v = venn3(subsets=(1, 1, 1, 1, 1, 1, 1), set_labels = ('A', 'B', 'C'))\n",
    "c = venn3_circles(subsets=(1, 1, 1, 1, 1, 1, 1), linestyle='dashed')\n",
    "\n",
    "# Do the annotations\n",
    "plt.title(\"Sample Venn diagram\")\n",
    "\n",
    "plt.show()\n",
    "```"
   ]
  },
  {
   "cell_type": "markdown",
   "id": "a40dd9be-55c4-4b9c-b87b-78ea81734075",
   "metadata": {},
   "source": [
    "![](../images/2022/7_july/venn_example.png)"
   ]
  },
  {
   "cell_type": "markdown",
   "id": "b295035e-614e-4dac-b558-1c57c7ee0498",
   "metadata": {},
   "source": [
    "## 18. Why does ensembling work better than single models"
   ]
  },
  {
   "cell_type": "markdown",
   "id": "09392661-592e-4dd0-877e-4c670d03f401",
   "metadata": {},
   "source": [
    "## 19. Voting classifier/regressor"
   ]
  },
  {
   "cell_type": "code",
   "execution_count": 59,
   "id": "d69daa55-2e52-40a6-a747-fe586b059faa",
   "metadata": {},
   "outputs": [
    {
     "data": {
      "text/plain": [
       "VotingClassifier(estimators=[('dtree', DecisionTreeClassifier()),\n",
       "                             ('etree', ExtraTreeClassifier()),\n",
       "                             ('log_reg', LogisticRegression())],\n",
       "                 n_jobs=-1, voting='soft')"
      ]
     },
     "execution_count": 59,
     "metadata": {},
     "output_type": "execute_result"
    }
   ],
   "source": [
    "from sklearn.datasets import make_classification\n",
    "from sklearn.tree import *\n",
    "from sklearn.linear_model import *\n",
    "from sklearn.ensemble import VotingClassifier\n",
    "\n",
    "X, y = make_classification(n_samples=1000, n_features=5)\n",
    "estimators = [(\"dtree\", DecisionTreeClassifier()), (\"etree\", ExtraTreeClassifier()), (\"log_reg\", LogisticRegression())]\n",
    "\n",
    "ensemble = VotingClassifier(estimators=estimators, voting=\"soft\", n_jobs=-1)\n",
    "ensemble.fit(X, y)"
   ]
  },
  {
   "cell_type": "markdown",
   "id": "22e47c89-c805-42a2-b674-5e045af073f6",
   "metadata": {},
   "source": [
    "## 20. Stacking ensemble/regressor"
   ]
  },
  {
   "cell_type": "code",
   "execution_count": 61,
   "id": "a728db32-3a91-44ba-b108-db5d6fa62546",
   "metadata": {},
   "outputs": [
    {
     "data": {
      "text/plain": [
       "StackingClassifier(estimators=[('dtree', DecisionTreeClassifier()),\n",
       "                               ('sgd', SGDClassifier()), ('svc', SVC())],\n",
       "                   final_estimator=LogisticRegression(), n_jobs=-1)"
      ]
     },
     "execution_count": 61,
     "metadata": {},
     "output_type": "execute_result"
    }
   ],
   "source": [
    "from sklearn.datasets import make_classification\n",
    "from sklearn.tree import *\n",
    "from sklearn.linear_model import *\n",
    "from sklearn.ensemble import StackingClassifier\n",
    "from sklearn.svm import SVC\n",
    "\n",
    "X, y = make_classification(n_samples=1000, n_features=5)\n",
    "estimators = [(\"dtree\", DecisionTreeClassifier()), (\"sgd\", SGDClassifier()), (\"svc\", SVC())]\n",
    "log_reg = LogisticRegression()\n",
    "\n",
    "ensemble = StackingClassifier(estimators, final_estimator=log_reg, n_jobs=-1)\n",
    "ensemble.fit(X, y)"
   ]
  },
  {
   "cell_type": "markdown",
   "id": "c8ed88cd-4c38-4459-8747-3fc2a8372774",
   "metadata": {},
   "source": [
    "## 21. UMAP examples"
   ]
  },
  {
   "cell_type": "markdown",
   "id": "64787692-a094-4010-88ad-41b1eb639721",
   "metadata": {},
   "source": [
    "Load images of UMAP here"
   ]
  },
  {
   "cell_type": "markdown",
   "id": "1c43ed47-03c9-42ba-ba97-ff612a6751b0",
   "metadata": {},
   "source": [
    "## 22. t-SNE vs. UMAP. vs. PCA"
   ]
  },
  {
   "cell_type": "code",
   "execution_count": null,
   "id": "66f34544-0bfb-4a54-8677-ba5f2b59bfcd",
   "metadata": {},
   "outputs": [],
   "source": []
  },
  {
   "cell_type": "markdown",
   "id": "a5241af5-60bc-46df-994e-ee0e96f99d84",
   "metadata": {},
   "source": [
    "# Resources"
   ]
  },
  {
   "cell_type": "markdown",
   "id": "a0ae4b73-dc09-4c3b-9934-56b3b9d20df2",
   "metadata": {},
   "source": [
    "## 23. Workera.ai for individuals"
   ]
  },
  {
   "cell_type": "markdown",
   "id": "ed39a592-6f7b-4a63-a1eb-554132a197fb",
   "metadata": {},
   "source": [
    "![](../images/2022/7_july/workera.png)"
   ]
  },
  {
   "cell_type": "markdown",
   "id": "425ed78a-4b22-43a7-9041-ee25c10beadc",
   "metadata": {},
   "source": [
    "Lınk to Workera AI: https://workera.ai/for-individuals/"
   ]
  },
  {
   "cell_type": "markdown",
   "id": "1fc89056-aee9-4f4f-871a-f89ca5d79ba1",
   "metadata": {},
   "source": [
    "## 24. Rachel Thompson's Computational Linear Algebra"
   ]
  },
  {
   "cell_type": "markdown",
   "id": "33005ebe-658a-403a-ab64-5b0ae09f01f6",
   "metadata": {},
   "source": [
    "![](../images/2022/7_july/linalg.png)"
   ]
  },
  {
   "cell_type": "markdown",
   "id": "7e076c11-f4df-4e7c-bba2-347d5e016ba0",
   "metadata": {},
   "source": [
    "## 25. Andrey Karapathy blog on recipe for training neural networks"
   ]
  },
  {
   "cell_type": "markdown",
   "id": "cb20cd59-c063-4a91-9233-ec62020ba4fd",
   "metadata": {},
   "source": [
    "The secret recıpe for traınıng neural networs - Andrej Karapathy: https://bit.ly/3PtCZTE"
   ]
  },
  {
   "cell_type": "markdown",
   "id": "0daec6f4-0a11-42e2-b1e5-77c2bb87fda1",
   "metadata": {},
   "source": [
    "## 26. Google dataset search"
   ]
  },
  {
   "cell_type": "markdown",
   "id": "c2f2a264-f2fc-4e20-a379-9be69ce2f0f9",
   "metadata": {},
   "source": [
    "![](../images/2022/7_july/dataset_search.png)"
   ]
  },
  {
   "cell_type": "markdown",
   "id": "d828db6b-de2c-4abd-84bb-b02553a8d24a",
   "metadata": {},
   "source": [
    "## 27. 3Blue1Brown blogs on math"
   ]
  },
  {
   "cell_type": "markdown",
   "id": "c4900dd2-50a8-4861-a988-2b6c5309abc1",
   "metadata": {},
   "source": [
    "Love 3Blue1Brown vıdeos? Waıt tıll you read the artıcles!\n",
    "\n",
    "I recently dıscovered that 3Blue1Brown websıte features wrıtten lessons of Grant Sanderson's most popular vıdeos. Gıven that all hıs vıdeos are exceptıonal, the number of artıcles (wıth play-wıth-ıt-yourself anımatıons) ıs roughly around 100, grouped ınto 16 categorıes."
   ]
  },
  {
   "cell_type": "markdown",
   "id": "45e6b6bc-1a7f-47a6-b291-32eb2d58f7a7",
   "metadata": {},
   "source": [
    "![](../images/2022/7_july/3b1b_articles.gif)"
   ]
  },
  {
   "cell_type": "markdown",
   "id": "735c5a3d-8dcf-4f6b-92ec-3dc26f99954b",
   "metadata": {},
   "source": [
    "## 28. ML pen and paper exercises"
   ]
  },
  {
   "cell_type": "markdown",
   "id": "598da967-d208-48bd-86f4-c850471b5189",
   "metadata": {},
   "source": [
    "Should upload the PDF from Arxiv"
   ]
  }
 ],
 "metadata": {
  "kernelspec": {
   "display_name": "tricking-data-science",
   "language": "python",
   "name": "tricking-data-science"
  },
  "language_info": {
   "codemirror_mode": {
    "name": "ipython",
    "version": 3
   },
   "file_extension": ".py",
   "mimetype": "text/x-python",
   "name": "python",
   "nbconvert_exporter": "python",
   "pygments_lexer": "ipython3",
   "version": "3.7.13"
  }
 },
 "nbformat": 4,
 "nbformat_minor": 5
}
