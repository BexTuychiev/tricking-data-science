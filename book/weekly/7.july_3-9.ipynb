{
 "cells": [
  {
   "cell_type": "markdown",
   "id": "255be250-6890-4ba4-be8a-d1cca111df89",
   "metadata": {},
   "source": [
    "# Code"
   ]
  },
  {
   "cell_type": "markdown",
   "id": "e61c4659-c4f9-4a95-a03c-f011355f9823",
   "metadata": {},
   "source": [
    "## 1. The difference between two time series dates"
   ]
  },
  {
   "cell_type": "markdown",
   "id": "e46a9058-9bf5-4423-90d7-3f974ca21547",
   "metadata": {},
   "source": [
    "How do you find the difference between the dates of two time series?\n",
    "\n",
    "As long as they have the same format, you can use the difference method of Pandas DateTimeIndex objects.\n",
    "\n",
    "Below, we create two time series: one for a full year and one for only business days. The rest is fairly easy👇"
   ]
  },
  {
   "cell_type": "markdown",
   "id": "054f0ad7-5b6e-46f3-9234-3a0afc847eba",
   "metadata": {},
   "source": [
    "![](../images/2022/7_july/july-ts_difference.png)"
   ]
  },
  {
   "cell_type": "markdown",
   "id": "e51bdb1d-84e6-470a-bca9-e9d4974c67a3",
   "metadata": {},
   "source": [
    "## 2. Set errors to coerce while converting to datetime"
   ]
  },
  {
   "cell_type": "markdown",
   "id": "4a2fe19b-5afe-4da3-9ff4-681d2e9b8a17",
   "metadata": {},
   "source": [
    "When you load a datetime column into Pandas, the default datatype will be \"object\". To convert it to datetime, you can use pd.to_datetime() function.\n",
    "\n",
    "However, if the datetime index is corrupted you will get rad, fat errors. You can set those faulty dates to NaT (Not a Time, i.e. datetime NaN) by setting errors to \"coerce\"."
   ]
  },
  {
   "cell_type": "markdown",
   "id": "9f88707f-b4dd-49cd-a9fc-e5c3670be952",
   "metadata": {},
   "source": [
    "![](../images/2022/7_july/july-errors_coerce.png)"
   ]
  },
  {
   "cell_type": "markdown",
   "id": "3e438cc5-b9d7-4d33-9de1-dc7d9d3bb5a0",
   "metadata": {},
   "source": [
    "## 3. Print the prediction path of a sample"
   ]
  },
  {
   "cell_type": "markdown",
   "id": "5fa7eb70-25e7-4c91-9b9f-12ef610298aa",
   "metadata": {},
   "source": [
    "You can visualize the prediction path of a datapoint in a decision tree using the dtreeviz package. Adding one or two plots like below to your analysis will give viewers a better sense of how predictions are made using decision trees.\n",
    "\n",
    "Link to dtreeviz in the comments👇"
   ]
  },
  {
   "cell_type": "markdown",
   "id": "afb5e73c-3a79-4aeb-9eac-0cded3ee5b82",
   "metadata": {},
   "source": [
    "![](../images/2022/7_july/july-pred_path.png)"
   ]
  },
  {
   "cell_type": "markdown",
   "id": "b55608ce-bd17-41a9-9eff-ecede9d17248",
   "metadata": {},
   "source": [
    "Link to dtreeviz: https://bit.ly/3nDk2la"
   ]
  },
  {
   "cell_type": "markdown",
   "id": "3d7c1ec5-ab4b-4e3a-bcdb-5fb6f5134f80",
   "metadata": {},
   "source": [
    "## 4. PyBaobab for much better decision tree visualizations"
   ]
  },
  {
   "cell_type": "markdown",
   "id": "9966de35-494e-4c0c-a065-eb895f6901b8",
   "metadata": {},
   "source": [
    "PyBaobabdt is a wonderful Python package to visualize decision trees using Sankey diagrams. For a tree classifier, each class is represented with a color, and the width of each link (or root) represents the number of samples in each class. \n",
    "\n",
    "The trees can become as beautiful as you want by controlling the max_depth parameter. \n",
    "\n",
    "The link to the package in the comments👇"
   ]
  },
  {
   "cell_type": "markdown",
   "id": "04181a12-4024-4104-84f4-6f7b4490af51",
   "metadata": {},
   "source": [
    "![](../images/2022/7_july/july-pybaobabdt_code.png)"
   ]
  },
  {
   "cell_type": "markdown",
   "id": "794b8fe6-a7ef-4a0f-a9c3-823c3146df0b",
   "metadata": {},
   "source": [
    "Comments:\n",
    "\n",
    "Link to the package: https://gitlab.tue.nl/20040367/pybaobab\n",
    "\n",
    "Code to create the below tree: https://snappify.io/view/85603a55-6127-4a10-b04d-076a4604c5a9"
   ]
  },
  {
   "cell_type": "markdown",
   "id": "3d7e482e-f643-4b3a-9a6a-14abefee14a8",
   "metadata": {},
   "source": [
    "![](../images/2022/7_july/pybaobab_sample.png)"
   ]
  },
  {
   "cell_type": "markdown",
   "id": "d822efbc-5b82-42b8-b076-6927dacb4ae2",
   "metadata": {},
   "source": [
    "## 5. Mount Google Drive on Colab"
   ]
  },
  {
   "cell_type": "markdown",
   "id": "876359c8-af11-450b-a4e4-81c04a3c42b8",
   "metadata": {},
   "source": [
    "It is infuriating that once a session is ended, Google Colab discards uploaded files. So, instead of uploading your CSVs directly to Colab, you can store them in your Google Drive and access them from your notebooks. Here is how👇"
   ]
  },
  {
   "cell_type": "markdown",
   "id": "d134b38e-cb37-43fe-b57e-02c7387049f2",
   "metadata": {},
   "source": [
    "![](../images/2022/7_july/july-gdrive_mount.png)"
   ]
  },
  {
   "cell_type": "markdown",
   "id": "bf799a66-4218-4eb1-acfa-1e480980e8ea",
   "metadata": {},
   "source": [
    "## 6. Strip unnecessary components from a datetime object"
   ]
  },
  {
   "cell_type": "markdown",
   "id": "551422d1-0aab-443e-9a4d-5913a6dbf95d",
   "metadata": {},
   "source": [
    "Sometimes, date time objects come in unnecessary granularity. They may have nanoseconds or seconds information when you are just interested in the year/month/day. You can use Pandas to_period function with a frequency name to strip away clutter."
   ]
  },
  {
   "cell_type": "markdown",
   "id": "67c0db26-087d-45cf-b1a9-999be6783577",
   "metadata": {},
   "source": [
    "![](../images/2022/7_july/july-to_period.png)"
   ]
  },
  {
   "cell_type": "markdown",
   "id": "9a9bb205-6529-41a8-995e-a4125dd49803",
   "metadata": {},
   "source": [
    "## 7. Pandas explode"
   ]
  },
  {
   "cell_type": "markdown",
   "id": "8cfaf4cf-999e-4f38-a563-f2a07c5177cc",
   "metadata": {},
   "source": [
    "What do you do if a dataframe cell contains a list of values? Well, you explode💣 them!\n",
    "\n",
    "Pandas' explode function takes a column and expands it vertically so that any cells that contain more than one value is stretched across multiple rows. "
   ]
  },
  {
   "cell_type": "markdown",
   "id": "e869f79f-bbde-4d7d-9e3e-bf0286ce1b74",
   "metadata": {},
   "source": [
    "![](../images/2022/7_july/july-pandas_explode.png)"
   ]
  },
  {
   "cell_type": "markdown",
   "id": "14223b68-9594-468a-b8d1-94db04bae657",
   "metadata": {},
   "source": [
    "## 8. Why beginners won't do LR and keep choosing XGBoost"
   ]
  },
  {
   "cell_type": "markdown",
   "id": "8726dd59-d7c5-4033-970b-5739ae1a9175",
   "metadata": {},
   "source": [
    "Last year, I saw that a tabular competition on Kaggle was won by an ensemble of Quadratic Discriminant Analysis models. What is QDA, you ask? I had no idea either.\n",
    "\n",
    "It was a very eye-opening experience for me as a beginner, because I have thought having learned XGBoost, I could just ignore any other older models. \n",
    "\n",
    "I was disctracted by the hot tools. Turns out, it isn't about the tool but how quickly and efficiently you can solve a problem.\n",
    "\n",
    "Later, I found that for that particular competition's data, QDA was orders of magnitude faster than any tree-based models and could easily beat them in terms of performance.\n",
    "\n",
    "So, the moral here is that don't approach problems with tools-first mindset. Rather, find the best way to solve it in the simplest way possible. Don't try to look \"cool\" by using whatever is being popular at the time."
   ]
  },
  {
   "cell_type": "markdown",
   "id": "2ca7d5ac-2c32-4cce-9fdf-21d921684c88",
   "metadata": {},
   "source": [
    "## 9. Set datetime index for plotting"
   ]
  },
  {
   "cell_type": "markdown",
   "id": "b537e29f-c11b-4a5a-bb9a-0ac483a84dd1",
   "metadata": {},
   "source": [
    "Having a Date Time Index in your dataframe makes it stupidly easy to visualize time series. You don't even have to import matplotlib, just extract the column(s) you want from the dataframe and call plot() on them. Pandas takes care of the rest."
   ]
  },
  {
   "cell_type": "markdown",
   "id": "1a5f9f34-0911-4e39-aead-d5bf57ccd162",
   "metadata": {},
   "source": [
    "![](../images/2022/7_july/july-datetime_index_plot.png)"
   ]
  },
  {
   "cell_type": "markdown",
   "id": "2a442db6-b6cb-4eb1-8e98-9c6d2b04b549",
   "metadata": {},
   "source": [
    "## 10. Chaining multiple Pandas functions with Pandas pipe"
   ]
  },
  {
   "cell_type": "markdown",
   "id": "c9f82898-3eb6-410a-977b-800fe6dea533",
   "metadata": {},
   "source": [
    "Pandas has a similar \"pipeline\" feature like in Sklearn. By chaining multiple \"pipe\" functions together, you can call multiple preprocessing functions in a single line of code. Makes your code much more readable and easier to debug."
   ]
  },
  {
   "cell_type": "markdown",
   "id": "85f8b1af-6773-4031-bc0d-3da8962c442b",
   "metadata": {},
   "source": [
    "![](../images/2022/7_july/july-pandas_pipe.png)"
   ]
  },
  {
   "cell_type": "markdown",
   "id": "ad38b7a7-8b7d-4715-aab3-95e9fbe69d3f",
   "metadata": {},
   "source": [
    "## 11. Reading missing values with custom representation"
   ]
  },
  {
   "cell_type": "markdown",
   "id": "9d658de9-e4c4-4e2a-b3dd-3112f3df5abe",
   "metadata": {},
   "source": [
    "People denote missing values on a whim. It might be 0, -9999, # or any other symbol/word that comes to their mind. You can immediately catch those values and encode them properly as NaN values while reading the data with read_csv. Just pass the custom missing value to \"na_values\"."
   ]
  },
  {
   "cell_type": "markdown",
   "id": "acf4efbc-b562-434a-96f7-5b232a56a887",
   "metadata": {},
   "source": [
    "![](../images/2022/7_july/july-pandas_na_values.png)"
   ]
  },
  {
   "cell_type": "markdown",
   "id": "5afa0511-e28d-41e8-b3f6-3c58567e16ca",
   "metadata": {},
   "source": [
    "## 12. Format dates in Matplotlib plots"
   ]
  },
  {
   "cell_type": "markdown",
   "id": "241d60e6-8cbd-419b-a02d-8f3192e74756",
   "metadata": {},
   "source": [
    "Did it ever happen to you when you visualized a time series, the dates on the XAxis got smooshed together making them illegible? You can avoid that by calling the \"autofmt_xdate()\" function on the figure object to automatically format date labels in Matplotlib."
   ]
  },
  {
   "cell_type": "markdown",
   "id": "a91699bf-dd87-4f90-b2f1-4359675e5c40",
   "metadata": {},
   "source": [
    "![](../images/2022/7_july/july-autofmt_xdate.png)"
   ]
  },
  {
   "cell_type": "markdown",
   "id": "fe4825f3-905f-4054-8245-23eb4670a858",
   "metadata": {},
   "source": [
    "## 13. Array to latex library"
   ]
  },
  {
   "cell_type": "markdown",
   "id": "96cdd24d-805f-4337-863a-5d5a4b637345",
   "metadata": {},
   "source": [
    "array_to_latex is an awesome library that converts NumPy arrays and Pandas DataFrames to LaTeX code. Using the library, you can print the code, store it as a string in a variable or even cooler, copy it to your clipboard!"
   ]
  },
  {
   "cell_type": "markdown",
   "id": "c493f5fc-0c16-42f6-a931-c69f4c4ef7cb",
   "metadata": {},
   "source": [
    "![](../images/2022/7_july/july-array_to_latex.png)"
   ]
  },
  {
   "cell_type": "markdown",
   "id": "8edd6c45-1aa3-4cf9-9647-d248e5f5205c",
   "metadata": {},
   "source": [
    "Link: https://github.com/josephcslater/array_to_latex"
   ]
  },
  {
   "cell_type": "markdown",
   "id": "fd462cdc-96e1-4776-b039-65d036a2ef85",
   "metadata": {},
   "source": [
    "## 14. np.logspace"
   ]
  },
  {
   "cell_type": "markdown",
   "id": "29c7d2b9-320e-473a-86bf-08400c5eafbc",
   "metadata": {},
   "source": [
    "np.linspace has a younger brother in NumPy. While linspace generates evenly-spaced numbers, logspace returns evenly-spaced numbers on a log scale. You can choose any base you want."
   ]
  },
  {
   "cell_type": "markdown",
   "id": "4cc0ffe0-c992-4de4-9e85-820fa1fc941d",
   "metadata": {},
   "source": [
    "![](../images/2022/7_july/july-np_logspace.png)"
   ]
  },
  {
   "cell_type": "markdown",
   "id": "6450752a-5a0a-42b4-85bf-927967db6c29",
   "metadata": {},
   "source": [
    "## 15. Distfit"
   ]
  },
  {
   "cell_type": "markdown",
   "id": "6d8136b4-b5ef-4b07-8bc5-946e8b79640b",
   "metadata": {},
   "source": [
    "People fear the unknown - darkness, death, unfamiliar distributions in the data...\n",
    "\n",
    "Well, that's no longer the case (at least for distributions). Using the distfit library, you can test any distribution against 89 known distributions in SciPy. The resulting visual tells the best theoretical fit on your empirical data. You can throw in some values to check whether they are outliers or not, as well.\n",
    "\n",
    "The code to generate the plot and distfit library in the comments👇"
   ]
  },
  {
   "cell_type": "markdown",
   "id": "9ba925cd-8f7b-4a45-a1a1-82979925e304",
   "metadata": {},
   "source": [
    "![](../images/2022/7_july/distfit.png)"
   ]
  },
  {
   "cell_type": "markdown",
   "id": "f5102916-f8bb-46da-96a0-1b3c80c46009",
   "metadata": {},
   "source": [
    "Link to distfit: https://bit.ly/3Rdn2SW\n",
    "\n",
    "Link to the code that generated the plot: https://bit.ly/3nJMFgM"
   ]
  },
  {
   "cell_type": "markdown",
   "id": "5c93320a-3c7b-4e4d-9cdc-1ee398b862db",
   "metadata": {},
   "source": [
    "## 17. Faker - generate fake data"
   ]
  },
  {
   "cell_type": "markdown",
   "id": "825965c2-3305-41b1-a215-d6da95e203d1",
   "metadata": {},
   "source": [
    "As if all the data in the world is not enough, you can generate synthetic datasets as well. Faker is one of the best libraries to do this in Python.\n",
    "\n",
    "Every time you call a faker function, it returns a new random name, address, email, phone number or many dozens of other fake attributes. Below is a sample banking dataset with 10k records."
   ]
  },
  {
   "cell_type": "markdown",
   "id": "caacff2d-bba3-4a82-82f7-8d16908fb9bb",
   "metadata": {},
   "source": [
    "![](../images/2022/7_july/july-faker.png)"
   ]
  },
  {
   "cell_type": "markdown",
   "id": "77e93a27-a374-4862-b7a2-2c992ed738b1",
   "metadata": {},
   "source": [
    "Link to the library: https://faker.readthedocs.io/"
   ]
  },
  {
   "cell_type": "markdown",
   "id": "5bf675c0-0ce2-4417-be3d-00602d4b48bb",
   "metadata": {},
   "source": [
    "## 18. Mlextend - plot decision boundaries of classifiers"
   ]
  },
  {
   "cell_type": "markdown",
   "id": "2e659254-e28d-4683-98f7-7beb50fe8a85",
   "metadata": {},
   "source": [
    "One of the most fun things you can do with your classifier is plot its decision boundaries. But, you will quickly realize that the code to generate such a plot is, put mildly, a giant pain in the keyboard. \n",
    "\n",
    "Fortunately, the mlextend package collapses all that code into a function, so that you can draw decision boundaries of any classifier in a single line of code👇"
   ]
  },
  {
   "cell_type": "markdown",
   "id": "c2c7547c-30f2-44cb-beff-f19badf0c480",
   "metadata": {},
   "source": [
    "![](../images/2022/7_july/july-decision_boundaries.png)"
   ]
  },
  {
   "cell_type": "markdown",
   "id": "c53c1530-255f-4652-ab84-913313c6d965",
   "metadata": {},
   "source": [
    "## 19. Random Forest is the coolest name!\n",
    "Machine learning community won't come up with a name as cool as Random Forests ever again."
   ]
  },
  {
   "cell_type": "markdown",
   "id": "905be430-24fd-45f3-974b-47c352721262",
   "metadata": {},
   "source": [
    "# Resources"
   ]
  },
  {
   "cell_type": "markdown",
   "id": "781fcdf9-5bef-4826-965a-c0d854407470",
   "metadata": {},
   "source": [
    "## 20. Speech and language processing - Dan Jurafsky"
   ]
  },
  {
   "cell_type": "markdown",
   "id": "60098327-ceec-4ab0-84a4-5a7809f7abf7",
   "metadata": {},
   "source": [
    "Speech and Language Processing is one of the most comprehensive books on NLP theory. \n",
    "\n",
    "Even though the book claims to be introductory, it spans over 27 chapters and 600 pages covering NLP techniques from basic reGex to Chatbot & Dialogue systems. It is a great book for anyone trying to get to the bottom of NLP theory.\n",
    "\n",
    "Download link in the commets👇"
   ]
  },
  {
   "cell_type": "markdown",
   "id": "0be6d4a9-f565-4609-9ebb-a392c7077ce0",
   "metadata": {},
   "source": [
    "![](../images/2022/7_july/dan_jurafsky.jpg)"
   ]
  },
  {
   "cell_type": "markdown",
   "id": "cae75ce3-8875-4607-9d5d-20f221aa8f27",
   "metadata": {},
   "source": [
    "Download link: https://stanford.io/3yIUTf9"
   ]
  },
  {
   "cell_type": "markdown",
   "id": "4b76f8e4-913b-4a13-9c4f-434a76e49b95",
   "metadata": {},
   "source": [
    "## 21. CT-GAN - generate synthetic data from existing sources"
   ]
  },
  {
   "cell_type": "markdown",
   "id": "60c7c6cb-b2c9-4d59-8c0d-a27178eecac0",
   "metadata": {},
   "source": [
    "There are so much more private datasets than open-source. But private datasets can be shared too, if you make sure to preserve the anonymity and fidelity of the data.\n",
    "\n",
    "One of the best tools to do this is the CTGAN library, which when fit to a dataset, can generate a synthetic dataset with the same distributions and features as the original but hiding any sensitive information. \n",
    "\n",
    "The resulting dataset would be completely unrecognizable but still have the statistical properties of the original. \n",
    "\n",
    "The CTGAN library is based on the \"Modeling Tabular using Conditional GAN\" paper. Link to the Python API and paper in the comments👇"
   ]
  },
  {
   "cell_type": "markdown",
   "id": "b0861694-c206-43b9-9d8a-a26a69926a97",
   "metadata": {},
   "source": [
    "![](../images/2022/7_july/ctgan.png)"
   ]
  },
  {
   "cell_type": "markdown",
   "id": "b7b06c93-0b3d-4ebd-9d13-c528d0b97407",
   "metadata": {},
   "source": [
    "CTGAN Python package: https://github.com/sdv-dev/CTGAN\n",
    "\n",
    "CTGAN paper: https://bit.ly/3RgoPXw"
   ]
  },
  {
   "cell_type": "markdown",
   "id": "431a4111-7401-404b-86db-ed49fdf97dc3",
   "metadata": {},
   "source": [
    "## 22. Forecasting with Darts"
   ]
  },
  {
   "cell_type": "markdown",
   "id": "bfad1837-029f-45e3-83e7-36efeff2a169",
   "metadata": {},
   "source": [
    "Time Series forecasting with Darts🎯\n",
    "\n",
    "Darts is one of the most popular open-source libraries for time series forecasting. It offers a simple Sklearn-like API to work with univariate and multivariate time series datasets. \n",
    "\n",
    "It contains a large set of forecasting models from classic ARIMA to Torch models with GPUs and TPUs. It supports PyTorch Lightning as well!\n",
    "\n",
    "Check out the library from the link below👇"
   ]
  },
  {
   "cell_type": "markdown",
   "id": "21cf7d40-d561-47bb-976a-fc65ebda6580",
   "metadata": {},
   "source": [
    "![](../images/2022/7_july/darts_example.png)"
   ]
  },
  {
   "cell_type": "markdown",
   "id": "38977fe8-ef54-4bc2-bab7-e4d02d6109c4",
   "metadata": {},
   "source": [
    "Link to the library: https://bit.ly/3bKVcNv"
   ]
  },
  {
   "cell_type": "markdown",
   "id": "934a8ee6-3631-43ba-a75e-9fb8a4ba95a3",
   "metadata": {},
   "source": [
    "## 23. Discoart by Jina AI"
   ]
  },
  {
   "cell_type": "markdown",
   "id": "91aac546-575c-4d6d-8053-74bc601c8ffa",
   "metadata": {},
   "source": [
    "High-quality image generation right from Google Colab🔥\n",
    "\n",
    "@Jina AI recently released Discoart - an open-source project for generating Disco Diffusion artworks based on text prompts.\n",
    "\n",
    "Unlike many other image generating models, the library is fully optimized to work with Google Colab's free tier. It has a stupidly simple API allowing you to generate complex images in a single line of code.\n",
    "\n",
    "Link to the library in the comments👇"
   ]
  },
  {
   "cell_type": "markdown",
   "id": "09d6e455-95fa-4f33-8e64-80fb5833771b",
   "metadata": {},
   "source": [
    "![](../images/2022/7_july/discoart.gif)"
   ]
  },
  {
   "cell_type": "markdown",
   "id": "8649e568-58b7-428f-96ba-e58e6b9df8ab",
   "metadata": {},
   "source": [
    "Link to Discoart: https://github.com/jina-ai/discoart"
   ]
  },
  {
   "cell_type": "markdown",
   "id": "c839e3ce-0637-451e-b4ec-7e5b4993d142",
   "metadata": {},
   "source": [
    "## 24. Seeing Theory"
   ]
  },
  {
   "cell_type": "markdown",
   "id": "d2a0884e-5891-457f-9f77-372316c12b5d",
   "metadata": {},
   "source": [
    "You have probably rolled million dies and drew million cards while learning statistics. Wouldn't be just freakin' awesome to visualize all those?\n",
    "\n",
    "Seeing Theory is one of the best statistics resources on the Internet mainly for its interactive and user-animated content. It has beautiful, ingenius visualization tools and explanations that covers important probability concepts in 6 chapters:\n",
    "\n",
    "✅ Basic Probability\n",
    "\n",
    "✅ Compound Probability\n",
    "\n",
    "✅ Probability Distributions\n",
    "\n",
    "✅ Frequentist Inference\n",
    "\n",
    "✅ Bayesian Inference\n",
    "\n",
    "✅ Regression Analysis\n",
    "\n",
    "\n",
    "Seeing Theory website is an Internet gem. Link in the comments👇"
   ]
  },
  {
   "cell_type": "markdown",
   "id": "6a45ff3c-0516-4580-ba2b-3072001842e4",
   "metadata": {},
   "source": [
    "Comments:\n",
    "\n",
    "Seeing Theory: https://seeing-theory.brown.edu/"
   ]
  },
  {
   "cell_type": "markdown",
   "id": "0b6ddcf5-63c0-4259-ab12-3bad2581cfa0",
   "metadata": {},
   "source": [
    "![](../images/2022/7_july/seeing_theory.gif)"
   ]
  },
  {
   "cell_type": "markdown",
   "id": "6fedf1ce-48ef-4cdf-92c4-47513aabdf09",
   "metadata": {},
   "source": [
    "## 25. Intermediate Python - the book"
   ]
  },
  {
   "cell_type": "markdown",
   "id": "fde6545b-db37-4ee3-a6f9-525e877cd1a6",
   "metadata": {},
   "source": [
    "Most people are at Python standstill. What is that?\n",
    "\n",
    "When learning data science, beginners learn the basics of Python just enough to move on to fancier stuff like visualization and ML algorithms. Distracted by the vast data science stack, they never go back to strengthening their Python background.\n",
    "\n",
    "The open-source book - \"Intermediate Python\" is designed solely to fill in the gaps of your Python knowledge. With over 20 chapters, the book covers some cool Python concepts you never knew existed like:\n",
    "\n",
    "✅ Decorators\n",
    "✅ for/else blocks\n",
    "✅ Coroutines\n",
    "✅ Generators\n",
    "✅ Hidden gems from the built-in libraries\n",
    "\n",
    "and many more. Read it online in the link below👇"
   ]
  },
  {
   "cell_type": "markdown",
   "id": "e44518fe-bdcc-46f6-bd2e-8f6190bbdee2",
   "metadata": {},
   "source": [
    "Link: https://bit.ly/3yinAy9"
   ]
  },
  {
   "cell_type": "markdown",
   "id": "433eea0e-f4f2-4310-90b6-3fd55b945d7b",
   "metadata": {},
   "source": [
    "## 26. data-to-viz.com"
   ]
  },
  {
   "cell_type": "markdown",
   "id": "850019a3-a731-4ae4-96a0-5884d456b256",
   "metadata": {},
   "source": [
    "Become a data visualization wizard!\n",
    "\n",
    "Data to Viz is a masterpiece of a platform for anyone trying to convey data insights in the best way possible. \n",
    "\n",
    "It lets you choose the most appropriate chart for your data, shows you the code to do it and highlights how to avoid common pitfalls while plotting that chart.\n",
    "\n",
    "Its library contains almost 40 types of visuals, sorted by purpose and data type. \n",
    "\n",
    "Check out the platform from the link below👇"
   ]
  },
  {
   "cell_type": "markdown",
   "id": "9be4afb9-e7aa-4333-8995-31854ab915e1",
   "metadata": {},
   "source": [
    "![](../images/2022/7_july/datatoviz.gif)"
   ]
  },
  {
   "cell_type": "markdown",
   "id": "e4f6d453-1903-4f75-9a4a-b4525ae4aa77",
   "metadata": {},
   "source": [
    "Link: https://www.data-to-viz.com/"
   ]
  }
 ],
 "metadata": {
  "kernelspec": {
   "display_name": "tricking_data",
   "language": "python",
   "name": "tricking_data"
  },
  "language_info": {
   "codemirror_mode": {
    "name": "ipython",
    "version": 3
   },
   "file_extension": ".py",
   "mimetype": "text/x-python",
   "name": "python",
   "nbconvert_exporter": "python",
   "pygments_lexer": "ipython3",
   "version": "3.7.0"
  }
 },
 "nbformat": 4,
 "nbformat_minor": 5
}
