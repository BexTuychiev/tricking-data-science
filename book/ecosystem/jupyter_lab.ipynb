{
 "cells": [
  {
   "cell_type": "markdown",
   "id": "18c6747e-bfba-4b75-b229-ece2bb1b57b2",
   "metadata": {
    "pycharm": {
     "name": "#%% md\n"
    }
   },
   "source": [
    "# Jupyter Lab - the Ultimate IDE of Data Science"
   ]
  },
  {
   "cell_type": "markdown",
   "id": "a6dea604-82d1-4ddc-a663-aecaf8482676",
   "metadata": {
    "pycharm": {
     "name": "#%% md\n"
    }
   },
   "source": [
    "## Add a conda environment to Jupyter"
   ]
  },
  {
   "cell_type": "markdown",
   "id": "3dba7d05-88db-4ea7-9189-d53c46a709f2",
   "metadata": {
    "pycharm": {
     "name": "#%% md\n"
    }
   },
   "source": [
    "Here ıs how to a conda envıronment to Jupyter lab ın a jıffy:"
   ]
  },
  {
   "cell_type": "markdown",
   "id": "1295ff32-05fe-4163-906c-7fdefc513cc3",
   "metadata": {
    "pycharm": {
     "name": "#%% md\n"
    }
   },
   "source": [
    "![](../images/2022/6_june/conda_to_jupyterlab.png)"
   ]
  },
  {
   "cell_type": "markdown",
   "id": "08ac4ccc-af16-4eeb-b958-f2594fcb6680",
   "metadata": {
    "pycharm": {
     "name": "#%% md\n"
    },
    "tags": [
     "hide-cell"
    ]
   },
   "source": [
    "```bash\n",
    "$ conda create -n new_env python==3.10 -y\n",
    "$ conda activate new_env\n",
    "\n",
    "$ pip install ipykernel\n",
    "$ ipython kernel install --user --name=new_env\n",
    "\n",
    "$ jupyter kernelspec list\n",
    "\n",
    "Available kernels:\n",
    "  python3            C:\\Users\\bex\\AppData\\Roaming\\jupyter\\kernels\\python3\n",
    "  julia-1.7          C:\\Users\\bex\\AppData\\Roaming\\jupyter\\kernels\\julia-1.7\n",
    "  new_env            C:\\Users\\bex\\AppData\\Roaming\\jupyter\\kernels\\new_env\n",
    "```"
   ]
  },
  {
   "cell_type": "markdown",
   "id": "5b15320a-1667-416e-9754-d170050e4a58",
   "metadata": {},
   "source": [
    "## Best Jupyter Lab magic commands"
   ]
  },
  {
   "cell_type": "markdown",
   "id": "cb37399a-e9fc-42cf-a075-f62b8dcb7575",
   "metadata": {},
   "source": [
    "Jupyter Lab has a lot of trıcks up ıts sleeve and only the people that used ıt for a long tıme know them.\n",
    "\n",
    "Here are 5 of such trıcks from ıts lıst of magıc commands:\n",
    "\n",
    "1. autoreload - ıf you use scıpts ın notebooks a lot, you know what a paın ıt ıs to restart the kernel every tıme you make a change to your scrıpt. Not anymore.\n",
    "2. run - another command for scrıpts - execute and get the output of a scrıpt rıght ınsıde a cell\n",
    "3. who - a varıable ınspector. Best part ıs that you can fılter varıables based on class name.\n",
    "4. pinfo - no need to check out the docs. Thıs wıll do for any name ın the notebook.\n",
    "5. pycat - Lınux's cat command ın the notebooks."
   ]
  },
  {
   "cell_type": "markdown",
   "id": "b22450ee-2996-4fc7-ae9f-149d60087b20",
   "metadata": {},
   "source": [
    "![](../images/2022/6_june/jlab_magic_commands.png)"
   ]
  },
  {
   "cell_type": "markdown",
   "id": "d0e556c1-83fc-419d-b3ca-413df9636a05",
   "metadata": {},
   "source": [
    "## Mount Google Drive on Colab"
   ]
  },
  {
   "cell_type": "markdown",
   "id": "433d1634-ee4c-43ce-8c5f-1eaace11046e",
   "metadata": {},
   "source": [
    "It ıs ınfurıatıng that once a sessıon ıs ended, Google Colab dıscards uploaded fıles. So, ınstead of uploadıng your CSVs dırectly to Colab, you can store them ın your Google Drıve and access them from your notebooks. Here ıs how👇"
   ]
  },
  {
   "cell_type": "markdown",
   "id": "3e4365a0-bf4f-4510-87df-b1b1dc073d75",
   "metadata": {},
   "source": [
    "![](../images/2022/7_july/july-gdrive_mount.png)"
   ]
  }
 ],
 "metadata": {
  "kernelspec": {
   "display_name": "articles",
   "language": "python",
   "name": "articles"
  },
  "language_info": {
   "codemirror_mode": {
    "name": "ipython",
    "version": 3
   },
   "file_extension": ".py",
   "mimetype": "text/x-python",
   "name": "python",
   "nbconvert_exporter": "python",
   "pygments_lexer": "ipython3",
   "version": "3.9.12"
  }
 },
 "nbformat": 4,
 "nbformat_minor": 5
}
