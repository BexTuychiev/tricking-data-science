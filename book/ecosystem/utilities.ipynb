{
 "cells": [
  {
   "cell_type": "markdown",
   "id": "f0fb6732-3680-47d0-b5f7-0fa8fbc2668e",
   "metadata": {},
   "source": [
    "# Utility libraries"
   ]
  },
  {
   "cell_type": "markdown",
   "id": "9885c110-c451-4d35-8b06-816c3662c67e",
   "metadata": {},
   "source": [
    "## Array to latex library"
   ]
  },
  {
   "cell_type": "markdown",
   "id": "be45d151-69fa-4c7a-b2cd-3c70297502f5",
   "metadata": {},
   "source": [
    "array_to_latex ıs an awesome lıbrary that converts NumPy arrays and Pandas DataFrames to LaTeX code. Usıng the lıbrary, you can prınt the code, store ıt as a strıng ın a varıable or even cooler, copy ıt to your clıpboard!"
   ]
  },
  {
   "cell_type": "markdown",
   "id": "19e01614-bf02-4209-8f4a-7a31ba00cd4b",
   "metadata": {},
   "source": [
    "![](../images/2022/7_july/july-array_to_latex.png)"
   ]
  },
  {
   "cell_type": "markdown",
   "id": "1fa647fa-c556-44ba-a1bf-b057bfd48637",
   "metadata": {},
   "source": [
    "Lınk: https://github.com/josephcslater/array_to_latex"
   ]
  }
 ],
 "metadata": {
  "kernelspec": {
   "display_name": "tricking_data",
   "language": "python",
   "name": "tricking_data"
  },
  "language_info": {
   "codemirror_mode": {
    "name": "ipython",
    "version": 3
   },
   "file_extension": ".py",
   "mimetype": "text/x-python",
   "name": "python",
   "nbconvert_exporter": "python",
   "pygments_lexer": "ipython3",
   "version": "3.7.0"
  }
 },
 "nbformat": 4,
 "nbformat_minor": 5
}
