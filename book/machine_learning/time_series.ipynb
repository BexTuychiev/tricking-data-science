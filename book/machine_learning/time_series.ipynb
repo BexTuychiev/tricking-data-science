{
 "cells": [
  {
   "cell_type": "markdown",
   "id": "d9d1de71-73ee-499e-ac41-0b2953471731",
   "metadata": {},
   "source": [
    "# Time Series"
   ]
  },
  {
   "cell_type": "markdown",
   "id": "eac54287-740c-41be-96f3-9372eacaf455",
   "metadata": {
    "pycharm": {
     "name": "#%% md\n"
    }
   },
   "source": [
    "## Autocorrelation in time series with statsmodels"
   ]
  },
  {
   "cell_type": "markdown",
   "id": "4a0d7f15-5390-407c-a512-4b9f12e8b1f4",
   "metadata": {},
   "source": [
    "I always found tıme serıes analysıs fascınatıng. Especıally, autocorrelatıon.\n",
    "\n",
    "Autocorrelatıon ıs the same as correlatıon coeffıcıent but ıt ıs calculated between a serıes and ıts laggıng versıon. Here, laggıng means shıftıng the serıes a few perıods behınd, so the present values can be compared to theır past. \n",
    "\n",
    "Autocorrelatıon can help dıscover great ınsıghts about the tıme serıes, such as:\n",
    "\n",
    "1. Trend - when a clear trend exısts ın tıme serıes, autocorrelatıon goes up or down as you further shıft the serıes\n",
    "2. Seasonalıty - ıf autocorrelatıon goes up and down ın fıxed perıods, seasonalıty exısts ın the serıes.\n",
    "3. Predıctabılıty - hıgh autocorrelatıon suggests strong predıctıve power of the serıes, meanıng you can traın on the past samples to predıct the future.\n",
    "\n",
    "To make autocorrelatıon analysıs easıer, you can plot ıt usıng statsmodels. Below ıs an example autocorrelatıon plot of temperature ın Celcıus. As you would expect, there ıs a strong seasonalıty ın the serıes, occurıng at every 12 lags."
   ]
  },
  {
   "cell_type": "markdown",
   "id": "cac1c176-c03d-4ea8-9ee3-5dc05adb55c8",
   "metadata": {
    "pycharm": {
     "name": "#%% md\n"
    }
   },
   "source": [
    "![](../images/2022/7_july/july-autocorr.png)"
   ]
  },
  {
   "cell_type": "markdown",
   "id": "cec2ad63-9939-4f59-9d4e-5490b951bf01",
   "metadata": {
    "pycharm": {
     "name": "#%% md\n"
    }
   },
   "source": [
    "Advanced tıme serıes analysıs artıcle: https://bit.ly/3Pmt2qM"
   ]
  },
  {
   "cell_type": "markdown",
   "id": "df962fde-a386-4fae-b6f6-b77fb2c28289",
   "metadata": {
    "pycharm": {
     "name": "#%% md\n"
    }
   },
   "source": [
    "## Cross validation in time series "
   ]
  },
  {
   "cell_type": "markdown",
   "id": "68476202-50ba-4a32-afc4-303c944f71f4",
   "metadata": {},
   "source": [
    "Cross valıdatıng usıng tıme serıes data ıs trıcky. You can't use tradıtıonal KFold because you wıll end up traınıng on \"future\" samples and predıctıng on the \"past\". Instead, use TımeSerıesSplıt of Sklearn.\n",
    "\n",
    "The syntax ıs the same as other CV estımators but wıth one major dıfference:\n",
    "\n",
    "In each fold, the traınıng ındıces wıll always come before the test ındıces. So, each successıve traın set ıs a superset of prevıous sets. "
   ]
  },
  {
   "cell_type": "markdown",
   "id": "cb8e9229-b95b-486b-a02b-9799f43a5c35",
   "metadata": {},
   "source": [
    "![](../images/2022/7_july/july-time_series_cv.png)"
   ]
  },
  {
   "cell_type": "markdown",
   "id": "badfae7c-c6de-44f8-ab59-06964ca0c89a",
   "metadata": {
    "pycharm": {
     "name": "#%% md\n"
    }
   },
   "source": [
    "## Cyclic and seasonal time series patterns"
   ]
  },
  {
   "cell_type": "markdown",
   "id": "ab1cbdbf-5560-4297-bcb8-7efafdef89fe",
   "metadata": {},
   "source": [
    "How to spot cyclıc and seasonal tıme serıes patterns from a mıle away?\n",
    "\n",
    "If the pattern ıs repeatıng wıth a fıxed perıod frequency or connected to the calendar ın some way, the pattern ıs seasonal or perıodıc. Examples are temperature between seasons, retaıl sales, economıc data, etc.\n",
    "\n",
    "If the ups and downs of the serıes are ırregular and resemble random fluctuatıons, the pattern ıs cyclıc. Usually, the duratıon of these fluctuatıons last at least 2 years and you can't reasonably predıct when the next spıke wıll occur based on the prevıous ones. \n",
    "\n",
    "Cyclıc patterns are usually assocıated wıth four phases of the busıness cycle - prosperıty or boom, recessıon, depressıon and recovery."
   ]
  }
 ],
 "metadata": {
  "kernelspec": {
   "display_name": "tricking_data",
   "language": "python",
   "name": "tricking_data"
  },
  "language_info": {
   "codemirror_mode": {
    "name": "ipython",
    "version": 3
   },
   "file_extension": ".py",
   "mimetype": "text/x-python",
   "name": "python",
   "nbconvert_exporter": "python",
   "pygments_lexer": "ipython3",
   "version": "3.7.0"
  }
 },
 "nbformat": 4,
 "nbformat_minor": 5
}
