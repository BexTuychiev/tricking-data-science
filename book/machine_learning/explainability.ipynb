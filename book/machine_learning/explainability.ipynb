{
 "cells": [
  {
   "cell_type": "markdown",
   "id": "32108f34-4b81-478f-ad05-08431d3918c3",
   "metadata": {},
   "source": [
    "# Model explainability"
   ]
  },
  {
   "cell_type": "markdown",
   "id": "6f9276cf-7bd2-4064-8509-dd628a349246",
   "metadata": {},
   "source": [
    "## Computing Shapley values via XGBoost very fast"
   ]
  },
  {
   "cell_type": "markdown",
   "id": "7625be94-c913-4e22-9b99-21a86841f13a",
   "metadata": {},
   "source": [
    "Calculating Shapley values eats CPU cores for dinner. You can prevent that by calculating them with XGBoost on GPUs if you are using tree-based models.\n",
    "\n",
    "If you use the Scikit-learn API of XGBoost, you can extract the core booster object and use its predict method by setting pred_contribs to True to calculate Shapley values on GPUs.\n",
    "\n",
    "Don't forget to drop the bias column XGBoost adds at the end."
   ]
  },
  {
   "cell_type": "markdown",
   "id": "fdb37ec6-b997-49b8-b2c0-6a6030f0b563",
   "metadata": {},
   "source": [
    "<div\n",
    "      style=\"\n",
    "        transform: scale(0.5);\n",
    "        transform-origin: top left;\n",
    "        margin-bottom: -350px;\n",
    "      \"\n",
    "    >\n",
    "      <iframe width=\"986\" height=\"614\" title=\"Code snippet - shap_xgboost\" src=\"https://snappify.io/embed/6f6710fa-14de-438a-a2f2-7a63b3870c1f\" allow=\"clipboard-write\" style=\"border-radius:10px;background:linear-gradient(to left, #141e30, #243b55)\" frameborder=\"0\"></iframe>\n",
    "    </div>"
   ]
  },
  {
   "cell_type": "markdown",
   "id": "3c3ac2e7-8fbf-425d-bb72-87c6310f765e",
   "metadata": {},
   "source": [
    "## Never trust feature importance scores of tree-based models"
   ]
  },
  {
   "cell_type": "markdown",
   "id": "27425cb6-488c-4d1d-afeb-7502d748ed63",
   "metadata": {
    "tags": []
   },
   "source": [
    "You should never, ever trust feature importance scores returned by tree-based models. Why?\n",
    "\n",
    "There are multiple ways of computing them and the importance order computed by each contradicts the others. Here is an example from XGBoost that shows three FI calculation methods.\n",
    "\n",
    "As you can see, the order of importance is different in each.\n",
    "\n",
    "You should always use more robust methods to calculate FI scores. The best consistency guarantee comes with Shapley values."
   ]
  },
  {
   "cell_type": "markdown",
   "id": "1b5a7f0d-822a-4bc3-a65d-0e76c9a31752",
   "metadata": {},
   "source": [
    "<div\n",
    "      style=\"\n",
    "        transform: scale(0.5);\n",
    "        transform-origin: top left;\n",
    "        margin-bottom: -350px;\n",
    "      \"\n",
    "    >\n",
    "      <iframe width=\"955\" height=\"636\" title=\"Code snippet - different_fi_scores\" src=\"https://snappify.io/embed/4d5bfd64-0fab-4ee0-9b8d-17a5ae79a24b\" allow=\"clipboard-write\" style=\"border-radius:10px;background:linear-gradient(to left, #141e30, #243b55)\" frameborder=\"0\"></iframe>\n",
    "    </div>"
   ]
  },
  {
   "cell_type": "markdown",
   "id": "55f36760-a1c1-4d29-a95f-2c1b7d0bd62e",
   "metadata": {},
   "source": [
    "## Permutation Importance with ELI5"
   ]
  },
  {
   "cell_type": "markdown",
   "id": "4554ab14-516e-41f8-b912-9db3cbd3a8a7",
   "metadata": {},
   "source": [
    "Permutation importance is one of the most reliable ways to see the important features in a model. \n",
    "\n",
    "Its advantages:\n",
    "\n",
    "1. Works on any type of model structure\n",
    "2. Easy to interpret and implement\n",
    "3. Consistent and reliable\n",
    "\n",
    "Permutation importance of a feature is defined as the change in model performance when that feature is randomly shuffled.\n",
    "\n",
    "PI is available through the eli5 package. Below are PI scores for an XGBoost Regressor model👇\n",
    "\n",
    "The show_weights function displays the features that hurt the model's performance the most after being shuffled - i.e. the most important features."
   ]
  },
  {
   "cell_type": "markdown",
   "id": "77191fca-da3e-459e-baec-e3f0a3bbaf04",
   "metadata": {},
   "source": [
    "<div\n",
    "      style=\"\n",
    "        transform: scale(0.5);\n",
    "        transform-origin: top left;\n",
    "        margin-bottom: -330px;\n",
    "      \"\n",
    "    >\n",
    "      <iframe width=\"993\" height=\"609\" title=\"Code snippet - eli5_pi\" src=\"https://snappify.io/embed/6c68d9f3-2fb7-4144-ab7a-353ed312c573\" allow=\"clipboard-write\" style=\"border-radius:10px;background:linear-gradient(to left, #141e30, #243b55)\" frameborder=\"0\"></iframe>\n",
    "    </div>"
   ]
  }
 ],
 "metadata": {
  "kernelspec": {
   "display_name": "tricking_data",
   "language": "python",
   "name": "tricking_data"
  },
  "language_info": {
   "codemirror_mode": {
    "name": "ipython",
    "version": 3
   },
   "file_extension": ".py",
   "mimetype": "text/x-python",
   "name": "python",
   "nbconvert_exporter": "python",
   "pygments_lexer": "ipython3",
   "version": "3.7.0"
  }
 },
 "nbformat": 4,
 "nbformat_minor": 5
}
