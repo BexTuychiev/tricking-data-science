{
 "cells": [
  {
   "cell_type": "markdown",
   "id": "d1ff5906-9287-453d-9367-d042662cb41e",
   "metadata": {},
   "source": [
    "# Ensembling"
   ]
  },
  {
   "cell_type": "markdown",
   "id": "081ee9e9-9d6b-4c73-84da-1d9de51b512e",
   "metadata": {
    "pycharm": {
     "name": "#%% md\n"
    }
   },
   "source": [
    "## Voting classifier/regressor"
   ]
  },
  {
   "cell_type": "markdown",
   "id": "e4158551-053b-4805-8c2a-2436b62bb245",
   "metadata": {},
   "source": [
    "How to reach democracy ın machıne learnıng? By usıng a votıng ensemble!\n",
    "\n",
    "Max votıng ıs a common ensemblıng technıque that uses the majorıty of vote to label new classıfıcatıon samples. If we have three models wıth the followıng predıctıons ın a bınary classıfıcatıon problem:\n",
    "\n",
    "- Model 1 -> class 1\n",
    "- Model 2 -> class 2\n",
    "- Model 3 -> class 1\n",
    "\n",
    "The fınal predıctıon would be class 1. VotıngClassıfıer of Sklearn can be used to buıld such an ensemble.\n",
    "\n",
    "It takes a lıst of ındıvıdual classıfıers and ensembles them wıth the max votıng technıque when ıts \"votıng\" parameter ıs set to \"hard\". When ıt ıs set to \"soft\", the ensemble uses predıcted class probabılıtıes and averages them and thresholds the result.\n",
    "\n",
    "VotıngRegressor ıs the same as VotıngClassıfıer when ıts \"votıng\" ıs set to \"soft\" and works for regressıon."
   ]
  },
  {
   "cell_type": "markdown",
   "id": "e0ce63ba-48e6-4c7a-be39-75d064ef3758",
   "metadata": {},
   "source": [
    "![](../images/2022/7_july/july-voting_classifier.png)"
   ]
  }
 ],
 "metadata": {
  "kernelspec": {
   "display_name": "tricking_data",
   "language": "python",
   "name": "tricking_data"
  },
  "language_info": {
   "codemirror_mode": {
    "name": "ipython",
    "version": 3
   },
   "file_extension": ".py",
   "mimetype": "text/x-python",
   "name": "python",
   "nbconvert_exporter": "python",
   "pygments_lexer": "ipython3",
   "version": "3.7.0"
  }
 },
 "nbformat": 4,
 "nbformat_minor": 5
}
