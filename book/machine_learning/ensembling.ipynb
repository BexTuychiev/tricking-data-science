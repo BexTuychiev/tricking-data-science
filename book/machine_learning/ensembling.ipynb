{
 "cells": [
  {
   "cell_type": "markdown",
   "id": "d1ff5906-9287-453d-9367-d042662cb41e",
   "metadata": {},
   "source": [
    "# Ensembling"
   ]
  },
  {
   "cell_type": "markdown",
   "id": "081ee9e9-9d6b-4c73-84da-1d9de51b512e",
   "metadata": {
    "pycharm": {
     "name": "#%% md\n"
    }
   },
   "source": [
    "## Voting classifier/regressor"
   ]
  },
  {
   "cell_type": "markdown",
   "id": "e4158551-053b-4805-8c2a-2436b62bb245",
   "metadata": {},
   "source": [
    "How to reach democracy in machine learning? By using a voting ensemble!\n",
    "\n",
    "Max voting is a common ensembling technique that uses the majority of vote to label new classification samples. If we have three models with the following predictions in a binary classification problem:\n",
    "\n",
    "- Model 1 -> class 1\n",
    "- Model 2 -> class 2\n",
    "- Model 3 -> class 1\n",
    "\n",
    "The final prediction would be class 1. VotingClassifier of Sklearn can be used to build such an ensemble.\n",
    "\n",
    "It takes a list of individual classifiers and ensembles them with the max voting technique when its \"voting\" parameter is set to \"hard\". When it is set to \"soft\", the ensemble uses predicted class probabilities and averages them and thresholds the result.\n",
    "\n",
    "VotingRegressor is the same as VotingClassifier when its \"voting\" is set to \"soft\" and works for regression."
   ]
  },
  {
   "cell_type": "markdown",
   "id": "e0ce63ba-48e6-4c7a-be39-75d064ef3758",
   "metadata": {},
   "source": [
    "<div\n",
    "      style=\"\n",
    "        transform: scale(0.5);\n",
    "        transform-origin: top left;\n",
    "        margin-bottom: -320px;\n",
    "      \"\n",
    "    >\n",
    "      <iframe width=\"910\" height=\"554\" title=\"Code snippet - voting_classifier\" src=\"https://snappify.io/embed/e4d1b3f4-c177-4ddf-8aee-a1ba2599b4a9\" allow=\"clipboard-write\" style=\"border-radius:10px;background:linear-gradient(to left, #141e30, #243b55)\" frameborder=\"0\"></iframe>\n",
    "    </div>"
   ]
  },
  {
   "cell_type": "markdown",
   "id": "ebfcb40b-d85a-40df-b012-2b388bd06997",
   "metadata": {
    "pycharm": {
     "name": "#%% md\n"
    }
   },
   "source": [
    "## Stacking ensemble/regressor"
   ]
  },
  {
   "cell_type": "markdown",
   "id": "b27b1998-3990-4d50-9bdf-2b2ff8089ebe",
   "metadata": {},
   "source": [
    "People use stacking to silently win competitions on Kaggle. How does it work?\n",
    "\n",
    "As a rule, multiple performant models with as different learning functions as possible are chosen to form an ensemble. Then, using KFold cross-validation, predictions are generated for each model.\n",
    "\n",
    "As an example, with 5 models in a stack doing a 5-fold CV on the data, we will have 25 columns of predictions. This concludes the level 1 of the stack. \n",
    "\n",
    "In the next level, using these 25 columns of predictions as features, a final - meta estimator is trained with cross-validation and final predictions are made.\n",
    "\n",
    "This leverages the strength of each individual model in the stack and uses their output as inputs to the final estimator. This helps greatly reduce bias in the predictions.\n",
    "\n",
    "This complicated ensembling technique is implemented in its basic format in Sklearn as Stacking Classifier/Regressor. You pass a list of base estimators and one final lightweight meta estimator like Logistic Regression. Works just like any Sklearn model."
   ]
  },
  {
   "cell_type": "markdown",
   "id": "6ede11e3-a408-43f4-8309-4c1f8aa6e242",
   "metadata": {},
   "source": [
    "<div\n",
    "      style=\"\n",
    "        transform: scale(0.5);\n",
    "        transform-origin: top left;\n",
    "        margin-bottom: -300px;\n",
    "      \"\n",
    "    >\n",
    "      <iframe width=\"910\" height=\"554\" title=\"Code snippet - stack\" src=\"https://snappify.io/embed/67d4c4f7-68c7-4454-9c86-955052d2471f\" allow=\"clipboard-write\" style=\"border-radius:10px;background:linear-gradient(to left, #141e30, #243b55)\" frameborder=\"0\"></iframe>\n",
    "    </div>"
   ]
  }
 ],
 "metadata": {
  "kernelspec": {
   "display_name": "tricking_data",
   "language": "python",
   "name": "tricking_data"
  },
  "language_info": {
   "codemirror_mode": {
    "name": "ipython",
    "version": 3
   },
   "file_extension": ".py",
   "mimetype": "text/x-python",
   "name": "python",
   "nbconvert_exporter": "python",
   "pygments_lexer": "ipython3",
   "version": "3.7.0"
  }
 },
 "nbformat": 4,
 "nbformat_minor": 5
}
