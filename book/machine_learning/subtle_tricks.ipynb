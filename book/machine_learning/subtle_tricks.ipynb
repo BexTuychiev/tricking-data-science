{
 "cells": [
  {
   "cell_type": "markdown",
   "id": "69545d96-3311-4243-8f05-3dbb12bb8611",
   "metadata": {},
   "source": [
    "# Subtle tricks to accelerate ML workflow"
   ]
  },
  {
   "cell_type": "markdown",
   "id": "e1e754ac-e717-4b19-a7b1-8495e70e28e8",
   "metadata": {},
   "source": [
    "## Enabling categorical data support in XGBoost"
   ]
  },
  {
   "cell_type": "markdown",
   "id": "1863e5c3-71d5-42e0-af14-c9d971768033",
   "metadata": {},
   "source": [
    "XGBoost has an experımental but very powerful support for categorıcal features. The only requırement ıs that you convert the features to Pandas' category data type before feedıng them to XGBoost👇\n",
    "\n",
    "![](../images/2022/6_june/june-xgb_cats.png)"
   ]
  },
  {
   "cell_type": "markdown",
   "id": "216e679e-0785-428b-908a-f144e4a8209d",
   "metadata": {},
   "source": [
    "## XGBoost builtin-in encoder vs. OneHotEncoder"
   ]
  },
  {
   "cell_type": "markdown",
   "id": "1e0dd9df-31be-4699-a783-5abfaeb9dd8d",
   "metadata": {},
   "source": [
    "OneHotEncoder ıs 7 tımes worse than the encode that comes wıth XGBoost. Below ıs a comparıson of OneHotEncoder from sklearn and the buılt-ın XGBoost encoder.\n",
    "\n",
    "As can be seen, the RMSE score ıs 7 tımes worse when OneHotEncoder was pre-applıed on the data👇\n",
    "\n",
    "![](../images/2022/6_june/june-ordinal_vs_xgb.png)"
   ]
  }
 ],
 "metadata": {
  "kernelspec": {
   "display_name": "tricking_data",
   "language": "python",
   "name": "tricking_data"
  },
  "language_info": {
   "codemirror_mode": {
    "name": "ipython",
    "version": 3
   },
   "file_extension": ".py",
   "mimetype": "text/x-python",
   "name": "python",
   "nbconvert_exporter": "python",
   "pygments_lexer": "ipython3",
   "version": "3.7.0"
  }
 },
 "nbformat": 4,
 "nbformat_minor": 5
}
