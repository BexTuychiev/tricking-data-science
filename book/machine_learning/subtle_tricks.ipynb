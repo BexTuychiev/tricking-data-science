{
 "cells": [
  {
   "cell_type": "markdown",
   "id": "69545d96-3311-4243-8f05-3dbb12bb8611",
   "metadata": {},
   "source": [
    "# Subtle tricks to accelerate ML workflow"
   ]
  },
  {
   "cell_type": "markdown",
   "id": "e1e754ac-e717-4b19-a7b1-8495e70e28e8",
   "metadata": {},
   "source": [
    "## Enabling categorical data support in XGBoost"
   ]
  },
  {
   "cell_type": "markdown",
   "id": "1863e5c3-71d5-42e0-af14-c9d971768033",
   "metadata": {},
   "source": [
    "XGBoost has an experımental but very powerful support for categorıcal features. The only requırement ıs that you convert the features to Pandas' category data type before feedıng them to XGBoost👇\n",
    "\n",
    "![](../images/2022/6_june/june-xgb_cats.png)"
   ]
  }
 ],
 "metadata": {
  "kernelspec": {
   "display_name": "tricking_data",
   "language": "python",
   "name": "tricking_data"
  },
  "language_info": {
   "codemirror_mode": {
    "name": "ipython",
    "version": 3
   },
   "file_extension": ".py",
   "mimetype": "text/x-python",
   "name": "python",
   "nbconvert_exporter": "python",
   "pygments_lexer": "ipython3",
   "version": "3.7.0"
  }
 },
 "nbformat": 4,
 "nbformat_minor": 5
}
