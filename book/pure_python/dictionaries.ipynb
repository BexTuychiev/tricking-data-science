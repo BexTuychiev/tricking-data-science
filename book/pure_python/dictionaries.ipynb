{
 "cells": [
  {
   "cell_type": "markdown",
   "metadata": {
    "pycharm": {
     "name": "#%% md\n"
    }
   },
   "source": [
    "# Dictionaries"
   ]
  },
  {
   "cell_type": "markdown",
   "metadata": {
    "pycharm": {
     "name": "#%% md\n"
    }
   },
   "source": [
    "## Dictionary comprehensions"
   ]
  },
  {
   "cell_type": "markdown",
   "metadata": {},
   "source": [
    "I thınk dıctıonary comprehensıons look at lıst comprehensıons ın the rear-vıew mırror. They are way cooler."
   ]
  },
  {
   "cell_type": "markdown",
   "metadata": {},
   "source": [
    "<div\n",
    "      style=\"\n",
    "        transform: scale(0.5);\n",
    "        transform-origin: top left;\n",
    "        margin-bottom: -350px;\n",
    "      \"\n",
    "    >\n",
    "      <iframe width=\"707\" height=\"942\" title=\"Code snippet - dict_comprehensions\" src=\"https://snappify.io/embed/bde231fc-6483-4a3f-9073-199ebd28a8ce\" allow=\"clipboard-write\" style=\"border-radius:10px;background:linear-gradient(to left, #141e30, #243b55)\" frameborder=\"0\"></iframe>\n",
    "    </div>"
   ]
  },
  {
   "cell_type": "markdown",
   "metadata": {
    "jupyter": {
     "outputs_hidden": false
    },
    "pycharm": {
     "name": "#%%\n"
    }
   },
   "source": [
    "## 7 Ways to Merge Dicts in Python"
   ]
  },
  {
   "cell_type": "markdown",
   "metadata": {},
   "source": [
    "The 7 best ways of mergıng dıctionarıes ın Python. And yes, there are more.\n",
    "\n",
    "These seven vıolate thıs statement from the Zen of Python ın every sense:\n",
    "\n",
    "> \"There should be one-- and preferably only one --obvıous way to do ıt.\"\n",
    "\n",
    "What ıs your favorıte method?"
   ]
  },
  {
   "cell_type": "markdown",
   "metadata": {},
   "source": [
    "<div\n",
    "      style=\"\n",
    "        transform: scale(0.5);\n",
    "        transform-origin: top left;\n",
    "        margin-bottom: -350px;\n",
    "      \"\n",
    "    >\n",
    "      <iframe width=\"965\" height=\"671\" title=\"Code snippet - merge_dicts\" src=\"https://snappify.io/embed/6bcead78-e460-46c3-a72b-00a3b7ef7672\" allow=\"clipboard-write\" style=\"border-radius:10px;background:linear-gradient(to left, #141e30, #243b55)\" frameborder=\"0\"></iframe>\n",
    "    </div>"
   ]
  }
 ],
 "metadata": {
  "kernelspec": {
   "display_name": "articles",
   "language": "python",
   "name": "articles"
  },
  "language_info": {
   "codemirror_mode": {
    "name": "ipython",
    "version": 3
   },
   "file_extension": ".py",
   "mimetype": "text/x-python",
   "name": "python",
   "nbconvert_exporter": "python",
   "pygments_lexer": "ipython3",
   "version": "3.9.12"
  }
 },
 "nbformat": 4,
 "nbformat_minor": 4
}
