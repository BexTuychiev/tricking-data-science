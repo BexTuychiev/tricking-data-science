{
 "cells": [
  {
   "cell_type": "markdown",
   "metadata": {
    "pycharm": {
     "name": "#%% md\n"
    }
   },
   "source": [
    "# Control flow"
   ]
  },
  {
   "cell_type": "markdown",
   "metadata": {
    "tags": []
   },
   "source": [
    "## 5 use-cases of ternary operators"
   ]
  },
  {
   "cell_type": "markdown",
   "metadata": {},
   "source": [
    "Ternary operators are one of the best one-liner tricks in Python. When used correctly, it will make your code much more readable and compact.\n",
    "\n",
    "Here are 5 use-cases of them👇"
   ]
  },
  {
   "cell_type": "markdown",
   "metadata": {},
   "source": [
    "<div\n",
    "      style=\"\n",
    "        transform: scale(0.5);\n",
    "        transform-origin: top left;\n",
    "        margin-bottom: -380px;\n",
    "      \"\n",
    "    >\n",
    "      <iframe width=\"984\" height=\"792\" title=\"Code snippet - ternary_operators\" src=\"https://snappify.io/embed/eda916aa-d1e5-4dd1-a733-5c60e11c87f0\" allow=\"clipboard-write\" style=\"border-radius:10px;background:linear-gradient(to left, #141e30, #243b55)\" frameborder=\"0\"></iframe>\n",
    "    </div>"
   ]
  },
  {
   "cell_type": "markdown",
   "metadata": {},
   "source": [
    "## Conditionals replaced by dictionaries"
   ]
  },
  {
   "cell_type": "markdown",
   "metadata": {},
   "source": [
    "You can greatly sımplıfy your condıtıonal statements by usıng dıctıonarıes. \n",
    "\n",
    "Of course thıs approach has ıts drawbacks, but I have used ıt to great effect ın a project where I collapsed a nested condıtıonal block over 100 lınes ınto just a dozen."
   ]
  },
  {
   "cell_type": "markdown",
   "metadata": {},
   "source": [
    "<div\n",
    "      style=\"\n",
    "        transform: scale(0.5);\n",
    "        transform-origin: top left;\n",
    "        margin-bottom: -365px;\n",
    "      \"\n",
    "    >\n",
    "      <iframe width=\"1021\" height=\"688\" title=\"Code snippet - conditional_dict\" src=\"https://snappify.io/embed/7758c0c8-fbcf-44ef-afbf-ea70657909c5\" allow=\"clipboard-write\" style=\"border-radius:10px;background:linear-gradient(to left, #141e30, #243b55)\" frameborder=\"0\"></iframe>\n",
    "    </div>"
   ]
  },
  {
   "cell_type": "markdown",
   "metadata": {},
   "source": [
    "## Python for/else clause"
   ]
  },
  {
   "cell_type": "markdown",
   "metadata": {},
   "source": [
    "Dıd you know that for loops ın Python has an \"else\" clause?\n",
    "\n",
    "An else ın a for loop ıs executed as soon as a loop fınıshes or encounters a break statement. In the second snıppet below, you can see an example usage from the Python docs. Pretty neat, huh?"
   ]
  },
  {
   "cell_type": "markdown",
   "metadata": {},
   "source": [
    "<div\n",
    "      style=\"\n",
    "        transform: scale(0.5);\n",
    "        transform-origin: top left;\n",
    "        margin-bottom: -350px;\n",
    "      \"\n",
    "    >\n",
    "      <iframe width=\"970\" height=\"630\" title=\"Code snippet - for_else\" src=\"https://snappify.io/embed/4bc74556-c35b-4b5d-9d56-1a61bc5eab9f\" allow=\"clipboard-write\" style=\"border-radius:10px;background:linear-gradient(to left, #141e30, #243b55)\" frameborder=\"0\"></iframe>\n",
    "    </div>"
   ]
  },
  {
   "cell_type": "markdown",
   "metadata": {},
   "source": [
    "## Conditional looping with `filterfalse` of `itertools`"
   ]
  },
  {
   "cell_type": "markdown",
   "metadata": {},
   "source": [
    "How to perform condıtıonal loopıng ın Python wıthout usıng \"ıf\" statements? By usıng the \"filterfalse\" functıon.\n",
    "\n",
    "\"filterfalse\" accepts a boolean functıon (usually a lambda) that tells whıch elements should be dıscarded durıng the loop. For example, ın the below example we are skıppıng numbers that are dıvısıbly by three.\n",
    "\n",
    "In other words, we are only keepıng the values that return \"False\" to the condıtıon ınsıde the loopıng functıon."
   ]
  },
  {
   "cell_type": "markdown",
   "metadata": {},
   "source": [
    "<div\n",
    "      style=\"\n",
    "        transform: scale(0.5);\n",
    "        transform-origin: top left;\n",
    "        margin-bottom: -330px;\n",
    "      \"\n",
    "    >\n",
    "      <iframe width=\"926\" height=\"590\" title=\"Code snippet - filterfalse\" src=\"https://snappify.io/embed/cfe6b4e4-eb02-4f68-bf92-2c8cd3a74d0f\" allow=\"clipboard-write\" style=\"border-radius:10px;background:linear-gradient(to left, #141e30, #243b55)\" frameborder=\"0\"></iframe>\n",
    "    </div>"
   ]
  }
 ],
 "metadata": {
  "kernelspec": {
   "display_name": "articles",
   "language": "python",
   "name": "articles"
  },
  "language_info": {
   "codemirror_mode": {
    "name": "ipython",
    "version": 3
   },
   "file_extension": ".py",
   "mimetype": "text/x-python",
   "name": "python",
   "nbconvert_exporter": "python",
   "pygments_lexer": "ipython3",
   "version": "3.9.12"
  }
 },
 "nbformat": 4,
 "nbformat_minor": 4
}
