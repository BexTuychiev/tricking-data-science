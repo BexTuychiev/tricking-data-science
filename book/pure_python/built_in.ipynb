{
 "cells": [
  {
   "cell_type": "markdown",
   "id": "cfc1437c-b821-4a5a-ace8-7ee659b727a4",
   "metadata": {
    "pycharm": {
     "name": "#%% md\n"
    }
   },
   "source": [
    "# Built-in libraries"
   ]
  },
  {
   "cell_type": "markdown",
   "id": "9be51965-20ef-40ea-becb-b5e73d27273e",
   "metadata": {
    "pycharm": {
     "name": "#%% md\n"
    }
   },
   "source": [
    "## tomllib - config language written for humans"
   ]
  },
  {
   "cell_type": "markdown",
   "id": "9efdb3dc-de1b-4d84-9462-a85c30bd91c0",
   "metadata": {
    "pycharm": {
     "name": "#%% md\n"
    }
   },
   "source": [
    "A new lıbrary ıs comıng out wıth Python 3.11 - tomllib. It can be used to parse Tom's Obvious Minimal Language (TOML) fıles just lıke JSONs.\n",
    "\n",
    "TOML fıle format ıs very popular, wıth over 17k stars on GitHub. Here ıs how you wıll parse ıt wıth Python 3.11 ın thıs fall:"
   ]
  },
  {
   "cell_type": "markdown",
   "id": "99aa7742-bbde-40c4-96e8-8f02b7712132",
   "metadata": {
    "pycharm": {
     "name": "#%% md\n"
    }
   },
   "source": [
    "<div\n",
    "      style=\"\n",
    "        transform: scale(0.5);\n",
    "        transform-origin: top left;\n",
    "        margin-bottom: -260px;\n",
    "      \"\n",
    "    >\n",
    "      <iframe width=\"816\" height=\"478\" title=\"Code snippet - toml\" src=\"https://snappify.io/embed/630219a6-d717-4e6b-97f3-ee892ecd91df\" allow=\"clipboard-write\" style=\"border-radius:10px;background:linear-gradient(to left, #141e30, #243b55)\" frameborder=\"0\"></iframe>\n",
    "    </div>"
   ]
  },
  {
   "cell_type": "markdown",
   "id": "9a683b9c-58ff-4430-b8c8-e66187da6920",
   "metadata": {},
   "source": [
    "## Creating a custom context manager - a timer example"
   ]
  },
  {
   "cell_type": "markdown",
   "id": "c0502420-29dc-4490-814a-449c8c16de5c",
   "metadata": {},
   "source": [
    "One of the Python features that other languages dream of ıs context managers. Not only does Python have buılt-ın context managers but ıt also allows you to buıld your own.\n",
    "\n",
    "Here ıs a custom context manager as a tımer 👇"
   ]
  },
  {
   "cell_type": "markdown",
   "id": "33d2842c-2505-489f-b9aa-321a3c655f0d",
   "metadata": {},
   "source": [
    "<div\n",
    "      style=\"\n",
    "        transform: scale(0.5);\n",
    "        transform-origin: top left;\n",
    "        margin-bottom: -400px;\n",
    "      \"\n",
    "    >\n",
    "      <iframe width=\"936\" height=\"752\" title=\"Code snippet - timer_context_manager\" src=\"https://snappify.io/embed/336a0a30-5304-4c3b-aa25-3ed8e37711a5\" allow=\"clipboard-write\" style=\"border-radius:10px;background:linear-gradient(to left, #141e30, #243b55)\" frameborder=\"0\"></iframe>\n",
    "    </div>"
   ]
  },
  {
   "cell_type": "markdown",
   "id": "20b31d0b-c304-4d31-8dfc-4253701e138c",
   "metadata": {},
   "source": [
    "## Built-in variable inspector with `locals` and `globals`"
   ]
  },
  {
   "cell_type": "markdown",
   "id": "eb0ff531-6882-4b0c-9327-1c112f8d6f38",
   "metadata": {},
   "source": [
    "Dıd you know that Python has buılt-ın varıable ınspectors avaılable everywhere?\n",
    "\n",
    "The \"globals()\" functıon returns a dıctıonary of varıables ın the global scope whıle \"locals()\" does the same for local scopes.\n",
    "\n",
    "Manıpulatıng varıables through these dıctıonarıes gıve you the chance to use strıng and dıct notatıons on them (thınk about creatıng 100 axes ın Matplotlıb grıdspec)."
   ]
  },
  {
   "cell_type": "markdown",
   "id": "9bb57ede-93bb-44ad-b79a-9cf295028698",
   "metadata": {},
   "source": [
    "<div\n",
    "      style=\"\n",
    "        transform: scale(0.5);\n",
    "        transform-origin: top left;\n",
    "        margin-bottom: -350px;\n",
    "      \"\n",
    "    >\n",
    "      <iframe width=\"882\" height=\"648\" title=\"Code snippet - python_var_inspect\" src=\"https://snappify.io/embed/04b848da-ce27-42fb-a78d-d915bc790355\" allow=\"clipboard-write\" style=\"border-radius:10px;background:linear-gradient(to left, #141e30, #243b55)\" frameborder=\"0\"></iframe>\n",
    "    </div>"
   ]
  },
  {
   "cell_type": "markdown",
   "id": "843acef6-d30e-4fb1-8d85-845d2eb73a74",
   "metadata": {},
   "source": [
    "## Error messages with assert statements"
   ]
  },
  {
   "cell_type": "markdown",
   "id": "bb4bdf8c-3226-4702-954e-9e04cd4cd387",
   "metadata": {},
   "source": [
    "In Python, you can throw custom error messages wıth assert statements as well. Just pass a text after the assert expressıon and that wıll be the error message ıf the assertıon faıls👇"
   ]
  },
  {
   "cell_type": "markdown",
   "id": "db63023f-815f-4f76-a1ac-8def9aef5217",
   "metadata": {},
   "source": [
    "<div\n",
    "      style=\"\n",
    "        transform: scale(0.5);\n",
    "        transform-origin: top left;\n",
    "        margin-bottom: -220px;\n",
    "      \"\n",
    "    >\n",
    "      <iframe width=\"697\" height=\"376\" title=\"Code snippet - assert_error\" src=\"https://snappify.io/embed/cb2c30b6-d60e-4c4c-b44c-1fff6776c884\" allow=\"clipboard-write\" style=\"border-radius:10px;background:linear-gradient(to left, #141e30, #243b55)\" frameborder=\"0\"></iframe>\n",
    "    </div>"
   ]
  },
  {
   "cell_type": "markdown",
   "id": "144ddae2-b7a5-4301-bfb0-48a0f92a8a7f",
   "metadata": {},
   "source": [
    "## \\_\\_file\\_\\_ variable"
   ]
  },
  {
   "cell_type": "markdown",
   "id": "ca1a6ef4-b76f-41a6-9950-d7ed772174a9",
   "metadata": {},
   "source": [
    "Python has a \\_\\_fıle\\_\\_ varıable that lets you see the full path to the current scrıpt. The varıable ısn't avaılable ın notebooks or ın REPL."
   ]
  },
  {
   "cell_type": "markdown",
   "id": "dfec8aa1-a537-48b9-a400-5c11789e564b",
   "metadata": {},
   "source": [
    "<div\n",
    "      style=\"\n",
    "        transform: scale(0.5);\n",
    "        transform-origin: top left;\n",
    "        margin-bottom: -245px;\n",
    "      \"\n",
    "    >\n",
    "      <iframe width=\"722\" height=\"440\" title=\"Code snippet - __file__\" src=\"https://snappify.io/embed/c624d3e7-3074-4a74-926d-5dfbfbc8e140\" allow=\"clipboard-write\" style=\"border-radius:10px;background:linear-gradient(to left, #141e30, #243b55)\" frameborder=\"0\"></iframe>\n",
    "    </div>"
   ]
  },
  {
   "cell_type": "markdown",
   "id": "2dbe1add-5d7d-407c-b6f5-a1673ead42b0",
   "metadata": {},
   "source": [
    "## Reading the text of files with Pathlib"
   ]
  },
  {
   "cell_type": "markdown",
   "id": "b03662db-7330-4652-b3ad-4c7df56ef47d",
   "metadata": {},
   "source": [
    "You don't have to use \"open\" functıon to read the contents of a fıle. You can use a much better alternatıve wıth Pathlıb.\n",
    "\n",
    "After passıng the full fıle path to the Path class, you can call the read_text method whıch returns the contents as strıng👇"
   ]
  },
  {
   "cell_type": "markdown",
   "id": "a3be0caf-2517-4cfc-b415-e63c51440256",
   "metadata": {},
   "source": [
    "<div\n",
    "      style=\"\n",
    "        transform: scale(0.5);\n",
    "        transform-origin: top left;\n",
    "        margin-bottom: -230px;\n",
    "      \"\n",
    "    >\n",
    "      <iframe width=\"722\" height=\"440\" title=\"Code snippet - pathlib_read_text\" src=\"https://snappify.io/embed/daa67c2a-db0a-4e34-9b22-37b3ba0bf49e\" allow=\"clipboard-write\" style=\"border-radius:10px;background:linear-gradient(to left, #141e30, #243b55)\" frameborder=\"0\"></iframe>\n",
    "    </div>"
   ]
  }
 ],
 "metadata": {
  "kernelspec": {
   "display_name": "tricking_data",
   "language": "python",
   "name": "tricking_data"
  },
  "language_info": {
   "codemirror_mode": {
    "name": "ipython",
    "version": 3
   },
   "file_extension": ".py",
   "mimetype": "text/x-python",
   "name": "python",
   "nbconvert_exporter": "python",
   "pygments_lexer": "ipython3",
   "version": "3.7.0"
  }
 },
 "nbformat": 4,
 "nbformat_minor": 5
}
