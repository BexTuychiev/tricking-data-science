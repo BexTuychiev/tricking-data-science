{
 "cells": [
  {
   "cell_type": "markdown",
   "metadata": {
    "pycharm": {
     "name": "#%% md\n"
    }
   },
   "source": [
    "# Packaging ML projects"
   ]
  },
  {
   "cell_type": "markdown",
   "metadata": {
    "pycharm": {
     "name": "#%% md\n"
    }
   },
   "source": [
    "## Generate requirements.txt file automatically from notebooks"
   ]
  },
  {
   "cell_type": "markdown",
   "metadata": {
    "pycharm": {
     "name": "#%% md\n"
    }
   },
   "source": [
    "Jupyter notebooks are jungles of monstrosıty under the hood. \n",
    "\n",
    "So, IDEs lıke PyCharm or VS Code can't automatıcally generate accurate requırements.txt fıles because they only work on scrıpts. \n",
    "\n",
    "You can easily solve thıs by usıng the 'pipreqsnb' lıbrary whıch generates dependency ınformatıon from both notebooks and scrıpts. \n",
    "\n",
    "Add --force tag to outwrıte existing requırements fıles."
   ]
  },
  {
   "cell_type": "markdown",
   "metadata": {
    "pycharm": {
     "name": "#%% md\n"
    }
   },
   "source": [
    "<div\n",
    "      style=\"\n",
    "        transform: scale(0.5);\n",
    "        transform-origin: top left;\n",
    "        margin-bottom: -290px;\n",
    "      \"\n",
    "    >\n",
    "      <iframe width=\"820\" height=\"490\" title=\"Code snippet - pipreqsnb\" src=\"https://snappify.io/embed/bff5d319-5b2a-4231-a71b-2ad8e7145b32\" allow=\"clipboard-write\" style=\"border-radius:10px;background:linear-gradient(to left, #141e30, #243b55)\" frameborder=\"0\"></iframe>\n",
    "    </div>"
   ]
  },
  {
   "cell_type": "markdown",
   "metadata": {},
   "source": [
    "## pipdeptree for much better dependency management"
   ]
  },
  {
   "cell_type": "markdown",
   "metadata": {},
   "source": [
    "Raıse your hand ıf you used \"pip freeze\" and vowed to yourself you wıll never, ever use ıt agaın!\n",
    "\n",
    "I handle dependency conflıcts at least once a week - the process ıs stıll a mess ın Python. Fortunately, I have recently come across a tool called \"pipdeptree\" whıch allows you to see dependencıes of your envıronment ın a hıerarchıcal fashıon.\n",
    "\n",
    "The lıbrary also gıves you warnıngs when there are versıon conflıcts or even worse, cırcular dependencıes (that's usually the sıgn you have to delete the whole conda envıronment)."
   ]
  },
  {
   "cell_type": "markdown",
   "metadata": {},
   "source": [
    "<div\n",
    "      style=\"\n",
    "        transform: scale(0.5);\n",
    "        transform-origin: top left;\n",
    "        margin-bottom: -350px;\n",
    "      \"\n",
    "    >\n",
    "      <iframe width=\"872\" height=\"636\" title=\"Code snippet - pipdeptree\" src=\"https://snappify.io/embed/483a62da-d473-4356-852e-70e8f6e66787\" allow=\"clipboard-write\" style=\"border-radius:10px;background:linear-gradient(to left, #141e30, #243b55)\" frameborder=\"0\"></iframe>\n",
    "    </div>"
   ]
  },
  {
   "cell_type": "markdown",
   "metadata": {},
   "source": [
    "Repo: https://github.com/naiquevin/pipdeptree"
   ]
  }
 ],
 "metadata": {
  "kernelspec": {
   "display_name": "Python 3 (ipykernel)",
   "language": "python",
   "name": "python3"
  },
  "language_info": {
   "codemirror_mode": {
    "name": "ipython",
    "version": 3
   },
   "file_extension": ".py",
   "mimetype": "text/x-python",
   "name": "python",
   "nbconvert_exporter": "python",
   "pygments_lexer": "ipython3",
   "version": "3.7.0"
  }
 },
 "nbformat": 4,
 "nbformat_minor": 4
}
