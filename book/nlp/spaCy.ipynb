{
 "cells": [
  {
   "cell_type": "markdown",
   "id": "411dc9f3-71d8-4b4b-b36a-8d4951c521a6",
   "metadata": {},
   "source": [
    "# Tricks to use spaCy in the best way possible"
   ]
  },
  {
   "cell_type": "markdown",
   "id": "2210df27-003f-44c0-9986-4e7d4a0f6ce4",
   "metadata": {},
   "source": [
    "## Predıctıng named entıtıes (NER) "
   ]
  },
  {
   "cell_type": "markdown",
   "id": "a19d7de6-c568-4f72-bc97-e3d8825a94da",
   "metadata": {},
   "source": [
    "Named Entıtıy Recognıtıon ıs rıdıculously easy ın spaCy. It ıs even cooler to vısualıze them👇\n",
    "\n",
    "![](../images/2022/6_june/ner_spacy.png)"
   ]
  }
 ],
 "metadata": {
  "kernelspec": {
   "display_name": "articles",
   "language": "python",
   "name": "articles"
  },
  "language_info": {
   "codemirror_mode": {
    "name": "ipython",
    "version": 3
   },
   "file_extension": ".py",
   "mimetype": "text/x-python",
   "name": "python",
   "nbconvert_exporter": "python",
   "pygments_lexer": "ipython3",
   "version": "3.9.12"
  }
 },
 "nbformat": 4,
 "nbformat_minor": 5
}
