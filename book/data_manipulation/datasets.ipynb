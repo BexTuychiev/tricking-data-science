{
 "cells": [
  {
   "cell_type": "markdown",
   "metadata": {
    "pycharm": {
     "name": "#%% md\n"
    }
   },
   "source": [
    "# Getting datasets in code"
   ]
  },
  {
   "cell_type": "markdown",
   "metadata": {
    "pycharm": {
     "name": "#%% md\n"
    }
   },
   "source": [
    "## Generate a synthetic dataset with outliers"
   ]
  },
  {
   "cell_type": "markdown",
   "metadata": {
    "pycharm": {
     "name": "#%% md\n"
    }
   },
   "source": [
    "Anomaly detection is a fascinating unsupervised problem. To practice solving it, you can use the PyOD (Python Outlier Detection) library's generate_data function.\n",
    "\n",
    "Its features are:\n",
    "\n",
    "1. Controlling the proportion of outliers in the data (contamination)\n",
    "2. Choosing the number of informative and uninformative features\n",
    "3. Return the inlier/outlier labels if desired\n",
    "\n",
    "Here is an example 2-dimensional dataset generated with the function and visualized with Seaborn:"
   ]
  },
  {
   "cell_type": "markdown",
   "metadata": {
    "pycharm": {
     "name": "#%% md\n"
    }
   },
   "source": [
    "<div\n",
    "      style=\"\n",
    "        transform: scale(0.5);\n",
    "        transform-origin: top left;\n",
    "        margin-bottom: -420px;\n",
    "      \"\n",
    "    >\n",
    "      <iframe width=\"946\" height=\"805\" title=\"Code snippet - outlier_data\" src=\"https://snappify.io/embed/e900ec7e-0fb7-461c-928d-a788c36dafbe\" allow=\"clipboard-write\" style=\"border-radius:10px;background:linear-gradient(to left, #141e30, #243b55)\" frameborder=\"0\"></iframe>\n",
    "    </div>"
   ]
  },
  {
   "cell_type": "markdown",
   "metadata": {
    "pycharm": {
     "name": "#%% md\n"
    }
   },
   "source": [
    "## Generate synthetic datasets with Sklearn"
   ]
  },
  {
   "cell_type": "markdown",
   "metadata": {
    "pycharm": {
     "name": "#%% md\n"
    }
   },
   "source": [
    "You can generate synthetic data of any shape and pattern with Sklearn. The most basic functions are make_classification and make_regression.\n",
    "\n",
    "These datasets are great for proof-of-concepts or just simple practice."
   ]
  },
  {
   "cell_type": "markdown",
   "metadata": {
    "pycharm": {
     "name": "#%% md\n"
    }
   },
   "source": [
    "<div\n",
    "      style=\"\n",
    "        transform: scale(0.5);\n",
    "        transform-origin: top left;\n",
    "        margin-bottom: -280px;\n",
    "      \"\n",
    "    >\n",
    "      <iframe width=\"1006\" height=\"532\" title=\"Code snippet - make_dataset\" src=\"https://snappify.io/embed/7eaf7221-80aa-4f80-a6fd-5c0856704032\" allow=\"clipboard-write\" style=\"border-radius:10px;background:linear-gradient(to left, #141e30, #243b55)\" frameborder=\"0\"></iframe>\n",
    "    </div>"
   ]
  },
  {
   "cell_type": "markdown",
   "metadata": {
    "pycharm": {
     "name": "#%% md\n"
    }
   },
   "source": [
    "## Faker - generate fake data"
   ]
  },
  {
   "cell_type": "markdown",
   "metadata": {
    "pycharm": {
     "name": "#%% md\n"
    }
   },
   "source": [
    "As if all the data in the world is not enough, you can generate synthetic datasets as well. Faker is one of the best libraries to do this in Python.\n",
    "\n",
    "Every time you call a faker function, it returns a new random name, address, email, phone number or many dozens of other fake attributes. Below is a sample banking dataset with 10k records."
   ]
  },
  {
   "cell_type": "markdown",
   "metadata": {
    "pycharm": {
     "name": "#%% md\n"
    }
   },
   "source": [
    "<div\n",
    "      style=\"\n",
    "        transform: scale(0.5);\n",
    "        transform-origin: top left;\n",
    "        margin-bottom: -385px;\n",
    "      \"\n",
    "    >\n",
    "      <iframe width=\"818\" height=\"810\" title=\"Code snippet - faker\" src=\"https://snappify.io/embed/b4c9b3ed-e654-43ba-ad19-dbd3f77d4c1b\" allow=\"clipboard-write\" style=\"border-radius:10px;background:linear-gradient(to left, #141e30, #243b55)\" frameborder=\"0\"></iframe>\n",
    "    </div>"
   ]
  },
  {
   "cell_type": "markdown",
   "metadata": {
    "pycharm": {
     "name": "#%% md\n"
    }
   },
   "source": [
    "Link to the library: https://faker.readthedocs.io/"
   ]
  }
 ],
 "metadata": {
  "kernelspec": {
   "display_name": "Python 3 (ipykernel)",
   "language": "python",
   "name": "python3"
  },
  "language_info": {
   "codemirror_mode": {
    "name": "ipython",
    "version": 3
   },
   "file_extension": ".py",
   "mimetype": "text/x-python",
   "name": "python",
   "nbconvert_exporter": "python",
   "pygments_lexer": "ipython3",
   "version": "3.7.0"
  }
 },
 "nbformat": 4,
 "nbformat_minor": 4
}