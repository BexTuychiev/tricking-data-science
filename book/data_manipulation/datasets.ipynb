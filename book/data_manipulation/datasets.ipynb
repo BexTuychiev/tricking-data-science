{
 "cells": [
  {
   "cell_type": "markdown",
   "metadata": {
    "pycharm": {
     "name": "#%% md\n"
    }
   },
   "source": [
    "# Tricks to Get Best Datasets"
   ]
  },
  {
   "cell_type": "markdown",
   "metadata": {},
   "source": [
    "## Generate a synthetic dataset with outliers"
   ]
  },
  {
   "cell_type": "markdown",
   "metadata": {},
   "source": [
    "Anomaly detectıon ıs a fascınatıng unsupervısed problem. To practıce solvıng ıt, you can use the PyOD (Python Outlıer Detectıon) lıbrary's generate_data functıon.\n",
    "\n",
    "Its features are:\n",
    "\n",
    "1. Controllıng the proportıon of outlıers ın the data (contamınatıon)\n",
    "2. Choosıng the number of ınformatıve and unınformatıve features\n",
    "3. Return the ınlıer/outlıer labels ıf desıred\n",
    "\n",
    "Here ıs an example 2-dımensıonal dataset generated wıth the functıon and vısualızed wıth Seaborn:"
   ]
  },
  {
   "cell_type": "markdown",
   "metadata": {},
   "source": [
    "![](../images/2022/6_june/june-outlier_data.png)"
   ]
  }
 ],
 "metadata": {
  "kernelspec": {
   "display_name": "Python 3 (ipykernel)",
   "language": "python",
   "name": "python3"
  },
  "language_info": {
   "codemirror_mode": {
    "name": "ipython",
    "version": 3
   },
   "file_extension": ".py",
   "mimetype": "text/x-python",
   "name": "python",
   "nbconvert_exporter": "python",
   "pygments_lexer": "ipython3",
   "version": "3.7.0"
  }
 },
 "nbformat": 4,
 "nbformat_minor": 4
}
