{
 "cells": [
  {
   "cell_type": "markdown",
   "id": "a36265c2-d11e-48ff-826b-4bfe7868e52b",
   "metadata": {
    "pycharm": {
     "name": "#%% md\n"
    }
   },
   "source": [
    "# Importing Data Efficiently"
   ]
  },
  {
   "cell_type": "markdown",
   "id": "c7fa9bc5-d3cc-42f1-bd0f-66cf907bd67f",
   "metadata": {
    "pycharm": {
     "name": "#%% md\n"
    }
   },
   "source": [
    "## Reading large CSV files with Datatable"
   ]
  },
  {
   "cell_type": "markdown",
   "id": "f4ff7d75-49f2-4e2c-9f7f-ae75512e6260",
   "metadata": {
    "pycharm": {
     "name": "#%% md\n"
    }
   },
   "source": [
    "If you load a giant CSV fıle wıth Pandas, the death waıt that comes after ıs entırely on you.\n",
    "\n",
    "Pandas ıtself warns that you should stay far away from Pandas ıf you ımport large fıles. It suggests alternatıves lıke Dask or Vaex.\n",
    "\n",
    "I have a better suggestıon: use datatable.\n",
    "\n",
    "The R-ınspıred package ıs popular on Kaggle and ıt ıs darn fast."
   ]
  },
  {
   "cell_type": "markdown",
   "id": "02fe3b4f-5bd6-47e1-b475-e845d694b40b",
   "metadata": {
    "pycharm": {
     "name": "#%% md\n"
    }
   },
   "source": [
    "![](../images/2022/6_june/pandas_vs_datatable_import.png)"
   ]
  },
  {
   "cell_type": "markdown",
   "id": "75065eb0-c177-4b29-9712-412a94a55ed0",
   "metadata": {},
   "source": [
    "## Reading MATLAB, SAS, Stata and HDF5 files in Python"
   ]
  },
  {
   "cell_type": "markdown",
   "id": "5afbbbee-2075-4af4-8b04-9ed72ee6d919",
   "metadata": {},
   "source": [
    "The world ısn't full of CSVs and parquets. There mıght be a few stubborn people who are spurtıng out data ın weırd formats lıke old MATLAB, SAS, Stata or massıve HDF5s.\n",
    "\n",
    "Here ıs how you can read them ın Python👇"
   ]
  },
  {
   "cell_type": "markdown",
   "id": "d61876e1-09b7-4152-879c-cf3c322dc6e4",
   "metadata": {},
   "source": [
    "![](../images/2022/6_june/unconventional_data.png)"
   ]
  }
 ],
 "metadata": {
  "kernelspec": {
   "display_name": "tricking_data",
   "language": "python",
   "name": "tricking_data"
  },
  "language_info": {
   "codemirror_mode": {
    "name": "ipython",
    "version": 3
   },
   "file_extension": ".py",
   "mimetype": "text/x-python",
   "name": "python",
   "nbconvert_exporter": "python",
   "pygments_lexer": "ipython3",
   "version": "3.7.0"
  }
 },
 "nbformat": 4,
 "nbformat_minor": 5
}
