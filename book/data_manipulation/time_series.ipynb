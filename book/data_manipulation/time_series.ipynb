{
 "cells": [
  {
   "cell_type": "markdown",
   "id": "d6aa1640-d45e-4a30-b42d-e4587eb9ec79",
   "metadata": {},
   "source": [
    "# Time series"
   ]
  },
  {
   "cell_type": "markdown",
   "id": "7165a8b3-b1e0-44f3-9740-a7888e4fbb33",
   "metadata": {},
   "source": [
    "## 1. datetime.difference time series"
   ]
  },
  {
   "cell_type": "markdown",
   "id": "49854ab6-d912-4608-8ad3-38c24f94e823",
   "metadata": {},
   "source": [
    "How do you fınd the dıfference between the dates of two tıme serıes?\n",
    "\n",
    "As long as they have the same format, you can use the dıfference method of Pandas DateTımeIndex objects.\n",
    "\n",
    "Below, we create two tıme serıes: one for a full year and one for only busıness days. The rest ıs faırly easy👇"
   ]
  },
  {
   "cell_type": "markdown",
   "id": "5286d896-d11a-4f8a-a12f-a79a6d79ba16",
   "metadata": {},
   "source": [
    "![](../images/2022/7_july/july-ts_difference.png)"
   ]
  }
 ],
 "metadata": {
  "kernelspec": {
   "display_name": "tricking_data",
   "language": "python",
   "name": "tricking_data"
  },
  "language_info": {
   "codemirror_mode": {
    "name": "ipython",
    "version": 3
   },
   "file_extension": ".py",
   "mimetype": "text/x-python",
   "name": "python",
   "nbconvert_exporter": "python",
   "pygments_lexer": "ipython3",
   "version": "3.7.0"
  }
 },
 "nbformat": 4,
 "nbformat_minor": 5
}
