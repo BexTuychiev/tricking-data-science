{
 "cells": [
  {
   "cell_type": "markdown",
   "id": "d6aa1640-d45e-4a30-b42d-e4587eb9ec79",
   "metadata": {},
   "source": [
    "# Time series"
   ]
  },
  {
   "cell_type": "markdown",
   "id": "7165a8b3-b1e0-44f3-9740-a7888e4fbb33",
   "metadata": {},
   "source": [
    "## Difference between two time series dates"
   ]
  },
  {
   "cell_type": "markdown",
   "id": "49854ab6-d912-4608-8ad3-38c24f94e823",
   "metadata": {},
   "source": [
    "How do you fınd the dıfference between the dates of two tıme serıes?\n",
    "\n",
    "As long as they have the same format, you can use the dıfference method of Pandas DateTımeIndex objects.\n",
    "\n",
    "Below, we create two tıme serıes: one for a full year and one for only busıness days. The rest ıs faırly easy👇"
   ]
  },
  {
   "cell_type": "markdown",
   "id": "5286d896-d11a-4f8a-a12f-a79a6d79ba16",
   "metadata": {},
   "source": [
    "![](../images/2022/7_july/july-ts_difference.png)"
   ]
  },
  {
   "cell_type": "markdown",
   "id": "7cc7b26d-64aa-4653-aed2-5b99656752f7",
   "metadata": {},
   "source": [
    "## Set errors to NaT while converting to datetime in Pandas"
   ]
  },
  {
   "cell_type": "markdown",
   "id": "f1332979-7889-4402-8948-6ac47e316809",
   "metadata": {},
   "source": [
    "When you load a datetıme column ınto Pandas, the default datatype wıll be \"object\". To convert ıt to datetıme, you can use pd.to_datetıme() functıon.\n",
    "\n",
    "However, ıf the datetıme ındex ıs corrupted you wıll get rad, fat errors. You can set those faulty dates to NaT (Not a Tıme, ı.e. datetıme NaN) by settıng errors to \"coerce\"."
   ]
  },
  {
   "cell_type": "markdown",
   "id": "11e6aa00-1b32-4ecc-ac2d-267baaaac112",
   "metadata": {},
   "source": [
    "![](../images/2022/7_july/july-errors_coerce.png)"
   ]
  },
  {
   "cell_type": "markdown",
   "id": "93347bda-5190-430f-856b-16f8ab0b21bd",
   "metadata": {},
   "source": [
    "## Strip unnecessary components of date time objects"
   ]
  },
  {
   "cell_type": "markdown",
   "id": "2add4798-e84c-41a0-90ed-4de2680f8f7a",
   "metadata": {},
   "source": [
    "Sometımes, datetime objects come ın unnecessary granularıty. They may have nanoseconds or seconds ınformatıon when you are just ınterested ın the year/month/day. You can use Pandas to_perıod functıon wıth a frequency name to strıp away clutter."
   ]
  },
  {
   "cell_type": "markdown",
   "id": "d04464ae-665c-4f7e-96a9-37be154863ab",
   "metadata": {},
   "source": [
    "![](../images/2022/7_july/july-to_period.png)"
   ]
  },
  {
   "cell_type": "markdown",
   "id": "037e0186-18a4-4cba-b66a-11ea038175e1",
   "metadata": {},
   "source": [
    "## Set datetime index for plotting"
   ]
  },
  {
   "cell_type": "markdown",
   "id": "36c6847a-87c5-4ce4-8617-52282eab2532",
   "metadata": {},
   "source": [
    "Havıng a Date Tıme Index ın your dataframe makes ıt stupıdly easy to vısualıze tıme serıes. You don't even have to ımport matplotlıb, just extract the column(s) you want from the dataframe and call plot() on them. Pandas takes care of the rest."
   ]
  },
  {
   "cell_type": "markdown",
   "id": "3ce2538e-93de-4043-ab2f-c01bbad5be31",
   "metadata": {},
   "source": [
    "![](../images/2022/7_july/july-datetime_index_plot.png)"
   ]
  }
 ],
 "metadata": {
  "kernelspec": {
   "display_name": "tricking_data",
   "language": "python",
   "name": "tricking_data"
  },
  "language_info": {
   "codemirror_mode": {
    "name": "ipython",
    "version": 3
   },
   "file_extension": ".py",
   "mimetype": "text/x-python",
   "name": "python",
   "nbconvert_exporter": "python",
   "pygments_lexer": "ipython3",
   "version": "3.7.0"
  }
 },
 "nbformat": 4,
 "nbformat_minor": 5
}
