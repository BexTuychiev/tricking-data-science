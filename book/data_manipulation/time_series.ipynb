{
 "cells": [
  {
   "cell_type": "markdown",
   "id": "d6aa1640-d45e-4a30-b42d-e4587eb9ec79",
   "metadata": {},
   "source": [
    "# Time series data manipulation"
   ]
  },
  {
   "cell_type": "markdown",
   "id": "7165a8b3-b1e0-44f3-9740-a7888e4fbb33",
   "metadata": {},
   "source": [
    "## Difference between two time series dates"
   ]
  },
  {
   "cell_type": "markdown",
   "id": "49854ab6-d912-4608-8ad3-38c24f94e823",
   "metadata": {},
   "source": [
    "How do you find the difference between the dates of two time series?\n",
    "\n",
    "As long as they have the same format, you can use the difference method of Pandas DateTimeIndex objects.\n",
    "\n",
    "Below, we create two time series: one for a full year and one for only business days. The rest is fairly easy👇"
   ]
  },
  {
   "cell_type": "markdown",
   "id": "5286d896-d11a-4f8a-a12f-a79a6d79ba16",
   "metadata": {},
   "source": [
    "<div\n",
    "      style=\"\n",
    "        transform: scale(0.5);\n",
    "        transform-origin: top left;\n",
    "        margin-bottom: -310px;\n",
    "      \"\n",
    "    >\n",
    "      <iframe width=\"724\" height=\"536\" title=\"Code snippet - ts_difference\" src=\"https://snappify.io/embed/1116d7c2-e8f3-41a5-9bb1-6561a7fc6c59\" allow=\"clipboard-write\" style=\"border-radius:10px;background:linear-gradient(to left, #141e30, #243b55)\" frameborder=\"0\"></iframe>\n",
    "    </div>"
   ]
  },
  {
   "cell_type": "markdown",
   "id": "7cc7b26d-64aa-4653-aed2-5b99656752f7",
   "metadata": {},
   "source": [
    "## Set errors to NaT while converting to datetime in Pandas"
   ]
  },
  {
   "cell_type": "markdown",
   "id": "f1332979-7889-4402-8948-6ac47e316809",
   "metadata": {},
   "source": [
    "When you load a datetime column into Pandas, the default datatype will be \"object\". To convert it to datetime, you can use pd.to_datetime() function.\n",
    "\n",
    "However, if the datetime index is corrupted you will get rad, fat errors. You can set those faulty dates to NaT (Not a Time, i.e. datetime NaN) by setting errors to \"coerce\"."
   ]
  },
  {
   "cell_type": "markdown",
   "id": "11e6aa00-1b32-4ecc-ac2d-267baaaac112",
   "metadata": {},
   "source": [
    "<div\n",
    "      style=\"\n",
    "        transform: scale(0.5);\n",
    "        transform-origin: top left;\n",
    "        margin-bottom: -260px;\n",
    "      \"\n",
    "    >\n",
    "      <iframe width=\"784\" height=\"438\" title=\"Code snippet - errors_coerce\" src=\"https://snappify.io/embed/3d409422-69dc-44f5-938c-014e15d3a501\" allow=\"clipboard-write\" style=\"border-radius:10px;background:linear-gradient(to left, #141e30, #243b55)\" frameborder=\"0\"></iframe>\n",
    "    </div>"
   ]
  },
  {
   "cell_type": "markdown",
   "id": "93347bda-5190-430f-856b-16f8ab0b21bd",
   "metadata": {},
   "source": [
    "## Strip unnecessary components of date time objects"
   ]
  },
  {
   "cell_type": "markdown",
   "id": "2add4798-e84c-41a0-90ed-4de2680f8f7a",
   "metadata": {},
   "source": [
    "Sometimes, datetime objects come in unnecessary granularity. They may have nanoseconds or seconds information when you are just interested in the year/month/day. You can use Pandas to_period function with a frequency name to strip away clutter."
   ]
  },
  {
   "cell_type": "markdown",
   "id": "d04464ae-665c-4f7e-96a9-37be154863ab",
   "metadata": {},
   "source": [
    "<div\n",
    "      style=\"\n",
    "        transform: scale(0.5);\n",
    "        transform-origin: top left;\n",
    "        margin-bottom: -350px;\n",
    "      \"\n",
    "    >\n",
    "      <iframe width=\"934\" height=\"664\" title=\"Code snippet - to_period\" src=\"https://snappify.io/embed/4f359ece-5ccf-4d4c-8cec-8439d103d756\" allow=\"clipboard-write\" style=\"border-radius:10px;background:linear-gradient(to left, #141e30, #243b55)\" frameborder=\"0\"></iframe>\n",
    "    </div>"
   ]
  },
  {
   "cell_type": "markdown",
   "id": "037e0186-18a4-4cba-b66a-11ea038175e1",
   "metadata": {},
   "source": [
    "## Set datetime index for plotting"
   ]
  },
  {
   "cell_type": "markdown",
   "id": "36c6847a-87c5-4ce4-8617-52282eab2532",
   "metadata": {},
   "source": [
    "Having a Date Time Index in your dataframe makes it stupidly easy to visualize time series. You don't even have to import matplotlib, just extract the column(s) you want from the dataframe and call plot() on them. Pandas takes care of the rest."
   ]
  },
  {
   "cell_type": "markdown",
   "id": "3ce2538e-93de-4043-ab2f-c01bbad5be31",
   "metadata": {},
   "source": [
    "<div\n",
    "      style=\"\n",
    "        transform: scale(0.5);\n",
    "        transform-origin: top left;\n",
    "        margin-bottom: -365px;\n",
    "      \"\n",
    "    >\n",
    "      <iframe width=\"984\" height=\"680\" title=\"Code snippet - datetime_index_plot\" src=\"https://snappify.io/embed/20675bd2-57b9-4f4e-a143-aae8d056d313\" allow=\"clipboard-write\" style=\"border-radius:10px;background:linear-gradient(to left, #141e30, #243b55)\" frameborder=\"0\"></iframe>\n",
    "    </div>"
   ]
  },
  {
   "cell_type": "markdown",
   "id": "14568027-da3f-4217-a15a-2a1580e3d275",
   "metadata": {},
   "source": [
    "## Generate business-day frequency time series with certain workweeks"
   ]
  },
  {
   "cell_type": "markdown",
   "id": "818751d1-cd1a-493e-8f6a-b99799cde324",
   "metadata": {},
   "source": [
    "How to generate a business-day frequency time series with only certain workweeks?\n",
    "\n",
    "Use the bdate_range function of Pandas and its weekmask parameter. Below, we create a time series from 2020 to 2022, with only Mondays, Wednesdays and Fridays as working weeks.\n",
    "\n",
    "Such time series can be useful when analyzing data from financial sources."
   ]
  },
  {
   "cell_type": "markdown",
   "id": "63eef201-144d-4fff-afc1-13616a65fe2d",
   "metadata": {},
   "source": [
    "<div\n",
    "      style=\"\n",
    "        transform: scale(0.5);\n",
    "        transform-origin: top left;\n",
    "        margin-bottom: -350px;\n",
    "      \"\n",
    "    >\n",
    "      <iframe width=\"820\" height=\"628\" title=\"Code snippet - bdate_workweeks\" src=\"https://snappify.io/embed/2737b7dd-05ba-42f0-a28a-5802f3c7d986\" allow=\"clipboard-write\" style=\"border-radius:10px;background:linear-gradient(to left, #141e30, #243b55)\" frameborder=\"0\"></iframe>\n",
    "    </div>"
   ]
  },
  {
   "cell_type": "markdown",
   "id": "4fd98fcb-b424-43ea-a8e3-6a8ad6a3952c",
   "metadata": {},
   "source": [
    "## Time series offset aliases"
   ]
  },
  {
   "cell_type": "markdown",
   "id": "c88b012f-c020-4946-b203-49a557c7dbf5",
   "metadata": {},
   "source": [
    "There are no less than 27 time series offset aliases. What are they?\n",
    "\n",
    "Many Pandas functions like date_range have a parameter called freq (frequency) - it denotes how often each data point should occur in a time series. \n",
    "\n",
    "Possible values are daily, hourly, weekly, all work days, month start and end, quarterly, yearly, etc. Check out the link below to learn more about them.\n",
    "\n",
    "List of offset aliases: https://bit.ly/3Roy7Rb\n",
    "\n",
    "Image credit: Pexels\n",
    "\n",
    "![](../images/2022/7_july/time.jpg)"
   ]
  },
  {
   "cell_type": "markdown",
   "id": "cdd021fa-2941-429d-8172-c757293b2eb3",
   "metadata": {},
   "source": [
    "## Filtering by partial date components"
   ]
  },
  {
   "cell_type": "markdown",
   "id": "ec84ee81-3487-448c-afc7-fcd4b0610142",
   "metadata": {},
   "source": [
    "If you have a DateTimeIndex in your Pandas dataframes, you can filter it by partial date components.\n",
    "\n",
    "For example, from 1995 to 1997, from 5th month of 1995 to the end of 2000, from the beginning of 2015 to 17th of July of 2018, etc.\n",
    "\n",
    "And these all work regardless of the time series index granularity. All courtesy of Pandas."
   ]
  },
  {
   "cell_type": "markdown",
   "id": "02d40c81-eae5-42c7-ba68-4e668663fcfc",
   "metadata": {},
   "source": [
    "<div\n",
    "      style=\"\n",
    "        transform: scale(0.5);\n",
    "        transform-origin: top left;\n",
    "        margin-bottom: -350px;\n",
    "      \"\n",
    "    >\n",
    "      <iframe width=\"820\" height=\"628\" title=\"Code snippet - partial_filtering\" src=\"https://snappify.io/embed/a2574ec5-8963-4ca5-9ca4-a32f956a5b3c\" allow=\"clipboard-write\" style=\"border-radius:10px;background:linear-gradient(to left, #141e30, #243b55)\" frameborder=\"0\"></iframe>\n",
    "    </div>"
   ]
  },
  {
   "cell_type": "markdown",
   "id": "fdf608ed-cd79-4605-9c06-402337c56a1b",
   "metadata": {},
   "source": [
    "## Full list of datetime format strings"
   ]
  },
  {
   "cell_type": "markdown",
   "id": "e24e2ba6-e51d-4fec-95b6-ef901bf8c168",
   "metadata": {},
   "source": [
    "Do you know all the TWENTY FOUR datetime format codes? Of course not and neither do I! But I know where to look.\n",
    "\n",
    "Format codes are those little strings you pass into Python datetime functions like %H, %m, %D, %c, %j, etc. They can denote everything from nanoseconds to whole years and with different name representations in string dates.\n",
    "\n",
    "Here is the full list from the Python docs: https://bit.ly/3uzMuYT\n",
    "\n",
    "Image credit: Pexels\n",
    "\n",
    "![](../images/2022/7_july/time_2.jpg)"
   ]
  },
  {
   "cell_type": "markdown",
   "id": "69edd5a6-3ec4-4b6f-a4c2-dc083d6126ce",
   "metadata": {},
   "source": [
    "## Time series index with holidays"
   ]
  },
  {
   "cell_type": "markdown",
   "id": "2acb8b25-ca55-4583-a865-0e010ca6a615",
   "metadata": {},
   "source": [
    "How do you leave out holidays in a time series and still keep its frequency intact? \n",
    "\n",
    "Pandas bdate_range function has a \"holidays\" parameter that accepts a list of datetime objects as holiday dates. The result is a time series with daily frequency with weekends and provided holidays ignored👇"
   ]
  },
  {
   "cell_type": "markdown",
   "id": "66b606e8-4b0b-47bb-aa21-e79b7bdebffb",
   "metadata": {},
   "source": [
    "<div\n",
    "      style=\"\n",
    "        transform: scale(0.5);\n",
    "        transform-origin: top left;\n",
    "        margin-bottom: -290px;\n",
    "      \"\n",
    "    >\n",
    "      <iframe width=\"864\" height=\"518\" title=\"Code snippet - holiday_ts\" src=\"https://snappify.io/embed/39190d8a-9b66-47db-b14c-90beb66c62d0\" allow=\"clipboard-write\" style=\"border-radius:10px;background:linear-gradient(to left, #141e30, #243b55)\" frameborder=\"0\"></iframe>\n",
    "    </div>"
   ]
  }
 ],
 "metadata": {
  "kernelspec": {
   "display_name": "tricking_data",
   "language": "python",
   "name": "tricking_data"
  },
  "language_info": {
   "codemirror_mode": {
    "name": "ipython",
    "version": 3
   },
   "file_extension": ".py",
   "mimetype": "text/x-python",
   "name": "python",
   "nbconvert_exporter": "python",
   "pygments_lexer": "ipython3",
   "version": "3.7.0"
  }
 },
 "nbformat": 4,
 "nbformat_minor": 5
}
