{
 "cells": [
  {
   "cell_type": "markdown",
   "metadata": {
    "pycharm": {
     "name": "#%% md\n"
    }
   },
   "source": [
    "# Pandas - neat tricks"
   ]
  },
  {
   "cell_type": "markdown",
   "metadata": {
    "pycharm": {
     "name": "#%% md\n"
    }
   },
   "source": [
    "## Setting Plotly as Pandas plotting backend"
   ]
  },
  {
   "cell_type": "markdown",
   "metadata": {
    "pycharm": {
     "name": "#%% md\n"
    }
   },
   "source": [
    "How to make Pandas shake hands with Plotly and deeply insult Matplotlib.\n",
    "\n",
    "Or in other words, let's break up the dream duo:"
   ]
  },
  {
   "cell_type": "markdown",
   "metadata": {
    "pycharm": {
     "name": "#%% md\n"
    }
   },
   "source": [
    "<div\n",
    "      style=\"\n",
    "        transform: scale(0.5);\n",
    "        transform-origin: top left;\n",
    "        margin-bottom: -350px;\n",
    "      \"\n",
    "    >\n",
    "      <iframe width=\"1078\" height=\"632\" title=\"Code snippet - pandas_plotly_backend\" src=\"https://snappify.io/embed/3b430cfc-7cc3-4acd-ab37-2fab0dfeb1d9\" allow=\"clipboard-write\" style=\"border-radius:10px;background:linear-gradient(to left, #141e30, #243b55)\" frameborder=\"0\"></iframe>\n",
    "    </div>"
   ]
  },
  {
   "cell_type": "markdown",
   "metadata": {
    "pycharm": {
     "name": "#%%\n"
    }
   },
   "source": [
    "## Styling Pandas DataFrames"
   ]
  },
  {
   "cell_type": "markdown",
   "metadata": {},
   "source": [
    "Did you know you could make your Pandas DataFrames much fancier with a bit of styling?\n",
    "\n",
    "As Jupyter has deep roots in HTML and CSS, you have full control over the look of df outputs.\n",
    "\n",
    "It is one of those Pandas functions that amazes you at first, then you try it a couple times and forget that it exists after a while."
   ]
  },
  {
   "cell_type": "markdown",
   "metadata": {},
   "source": [
    "<div\n",
    "      style=\"\n",
    "        transform: scale(0.5);\n",
    "        transform-origin: top left;\n",
    "        margin-bottom: -350px;\n",
    "      \"\n",
    "    >\n",
    "      <iframe width=\"1038\" height=\"660\" title=\"Code snippet - pandas_styling\" src=\"https://snappify.io/embed/b84f45a1-5c5d-412a-bb08-e0cbf6e5287a\" allow=\"clipboard-write\" style=\"border-radius:10px;background:linear-gradient(to left, #141e30, #243b55)\" frameborder=\"0\"></iframe>\n",
    "    </div>"
   ]
  },
  {
   "cell_type": "markdown",
   "metadata": {
    "pycharm": {
     "name": "#%% md\n"
    }
   },
   "source": [
    "## Quickly choose columns based on data type with select_dtypes"
   ]
  },
  {
   "cell_type": "markdown",
   "metadata": {
    "pycharm": {
     "name": "#%% md\n"
    }
   },
   "source": [
    "Have you ever used for loops to filter Pandas columns based on data type? Well, those days are over.\n",
    "\n",
    "From now on, use select_dtypes method of DataFrames👇"
   ]
  },
  {
   "cell_type": "markdown",
   "metadata": {
    "pycharm": {
     "name": "#%% md\n"
    }
   },
   "source": [
    "<div\n",
    "      style=\"\n",
    "        transform: scale(0.5);\n",
    "        transform-origin: top left;\n",
    "        margin-bottom: -338px;\n",
    "      \"\n",
    "    >\n",
    "      <iframe width=\"926\" height=\"578\" title=\"Code snippet - pandas_cols_data_type\" src=\"https://snappify.io/embed/a88bca10-7129-4f98-951c-0e8731c1379d\" allow=\"clipboard-write\" style=\"border-radius:10px;background:linear-gradient(to left, #141e30, #243b55)\" frameborder=\"0\"></iframe>\n",
    "    </div>"
   ]
  },
  {
   "cell_type": "markdown",
   "metadata": {},
   "source": [
    "## Set numeric display precision in Pandas"
   ]
  },
  {
   "cell_type": "markdown",
   "metadata": {},
   "source": [
    "It is very annoying when Pandas shows long floats in scientific notation. I usually struggle with approximating close-to-zero floats. \n",
    "\n",
    "To prevent this, you can change the display option of Pandas to limit the floating point precision👇"
   ]
  },
  {
   "cell_type": "markdown",
   "metadata": {},
   "source": [
    "<div\n",
    "      style=\"\n",
    "        transform: scale(0.5);\n",
    "        transform-origin: top left;\n",
    "        margin-bottom: -338px;\n",
    "      \"\n",
    "    >\n",
    "      <iframe width=\"971\" height=\"585\" title=\"Code snippet - pandas_precision\" src=\"https://snappify.io/embed/f689e554-22f0-47ce-872b-aeb93cecbd9f\" allow=\"clipboard-write\" style=\"border-radius:10px;background:linear-gradient(to left, #141e30, #243b55)\" frameborder=\"0\"></iframe>\n",
    "    </div>"
   ]
  },
  {
   "cell_type": "markdown",
   "metadata": {},
   "source": [
    "## Pandas explode"
   ]
  },
  {
   "cell_type": "markdown",
   "metadata": {},
   "source": [
    "What do you do if a dataframe cell contains a list of values? Well, you explode💣 them!\n",
    "\n",
    "Pandas' explode function takes a column and expands it vertically so that any cells that contain more than one value is stretched across multiple rows. "
   ]
  },
  {
   "cell_type": "markdown",
   "metadata": {},
   "source": [
    "<div\n",
    "      style=\"\n",
    "        transform: scale(0.5);\n",
    "        transform-origin: top left;\n",
    "        margin-bottom: -385px;\n",
    "      \"\n",
    "    >\n",
    "      <iframe width=\"864\" height=\"748\" title=\"Code snippet - pandas_explode\" src=\"https://snappify.io/embed/b9026971-6600-4070-8bbf-8172451df0af\" allow=\"clipboard-write\" style=\"border-radius:10px;background:linear-gradient(to left, #141e30, #243b55)\" frameborder=\"0\"></iframe>\n",
    "    </div>"
   ]
  },
  {
   "cell_type": "markdown",
   "metadata": {},
   "source": [
    "## Pandas pipe"
   ]
  },
  {
   "cell_type": "markdown",
   "metadata": {},
   "source": [
    "Pandas has a similar \"pipeline\" feature like in Sklearn. By chaining multiple \"pipe\" functions together, you can call multiple preprocessing functions in a single line of code. Makes your code much more readable and easier to debug."
   ]
  },
  {
   "cell_type": "markdown",
   "metadata": {},
   "source": [
    "<div\n",
    "      style=\"\n",
    "        transform: scale(0.5);\n",
    "        transform-origin: top left;\n",
    "        margin-bottom: -350px;\n",
    "      \"\n",
    "    >\n",
    "      <iframe width=\"634\" height=\"610\" title=\"Code snippet - pandas_pipe\" src=\"https://snappify.io/embed/a4f44421-d049-42c0-8e4c-6e960448b15e\" allow=\"clipboard-write\" style=\"border-radius:10px;background:linear-gradient(to left, #141e30, #243b55)\" frameborder=\"0\"></iframe>\n",
    "    </div>"
   ]
  },
  {
   "cell_type": "markdown",
   "metadata": {
    "tags": []
   },
   "source": [
    "## Encoding categorical features with `pd.factorize`"
   ]
  },
  {
   "cell_type": "markdown",
   "metadata": {},
   "source": [
    "You don't need to import Sklearn to encode categorical features if you are just data cleaning. Pandas will take care of you, as always!\n",
    "\n",
    "Using the \"factorize\" function, you can encode orindal categorical features (categories with orderding) into numeric and get a numeric array as well as the unique values in a series.\n",
    "\n",
    "Missing values gets encoded as -1 and they won't be considered a new category. However, don't use this function after you've split the data into training and test sets. The encoding of categories happens on a \"meet-first\" basis, so the same category can be assigned a different number from the training set depending on where it first appears."
   ]
  },
  {
   "cell_type": "markdown",
   "metadata": {},
   "source": [
    "<div\n",
    "      style=\"\n",
    "        transform: scale(0.5);\n",
    "        transform-origin: top left;\n",
    "        margin-bottom: -350px;\n",
    "      \"\n",
    "    >\n",
    "      <iframe width=\"1002\" height=\"652\" title=\"Code snippet - factorize\" src=\"https://snappify.io/embed/b5842562-e843-49b8-9e54-52a263f50171\" allow=\"clipboard-write\" style=\"border-radius:10px;background:linear-gradient(to left, #141e30, #243b55)\" frameborder=\"0\"></iframe>\n",
    "    </div>"
   ]
  }
 ],
 "metadata": {
  "kernelspec": {
   "display_name": "articles",
   "language": "python",
   "name": "articles"
  },
  "language_info": {
   "codemirror_mode": {
    "name": "ipython",
    "version": 3
   },
   "file_extension": ".py",
   "mimetype": "text/x-python",
   "name": "python",
   "nbconvert_exporter": "python",
   "pygments_lexer": "ipython3",
   "version": "3.9.12"
  }
 },
 "nbformat": 4,
 "nbformat_minor": 4
}
