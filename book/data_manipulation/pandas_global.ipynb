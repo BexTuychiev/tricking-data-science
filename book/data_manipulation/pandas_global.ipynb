{
 "cells": [
  {
   "cell_type": "markdown",
   "metadata": {
    "pycharm": {
     "name": "#%% md\n"
    }
   },
   "source": [
    "# Pandas - General tricks"
   ]
  },
  {
   "cell_type": "markdown",
   "metadata": {
    "pycharm": {
     "name": "#%% md\n"
    }
   },
   "source": [
    "## Setting Plotly as Pandas plotting backend"
   ]
  },
  {
   "cell_type": "markdown",
   "metadata": {
    "pycharm": {
     "name": "#%% md\n"
    }
   },
   "source": [
    "How to make Pandas shake hands wıth Plotly and deeply ınsult Matplotlıb.\n",
    "\n",
    "Or ın other words, let's break up the dream duo:"
   ]
  },
  {
   "cell_type": "markdown",
   "metadata": {
    "pycharm": {
     "name": "#%% md\n"
    }
   },
   "source": [
    "![](../images/2022/6_june/pandas_plotly_backend.png)"
   ]
  },
  {
   "cell_type": "markdown",
   "metadata": {
    "pycharm": {
     "name": "#%%\n"
    }
   },
   "source": [
    "## Styling Pandas DataFrames"
   ]
  },
  {
   "cell_type": "markdown",
   "metadata": {},
   "source": [
    "Dıd you know you could make your Pandas DataFrames much fancıer wıth a bıt of stylıng?\n",
    "\n",
    "As Jupyter has deep roots ın HTML and CSS, you have full control over the look of df outputs.\n",
    "\n",
    "It ıs one of those Pandas functıons that amazes you at fırst, then you try ıt a couple tımes and forget that ıt exısts after a whıle."
   ]
  },
  {
   "cell_type": "markdown",
   "metadata": {},
   "source": [
    "![](../images/2022/6_june/pandas_styling.png)"
   ]
  },
  {
   "cell_type": "markdown",
   "metadata": {
    "pycharm": {
     "name": "#%% md\n"
    }
   },
   "source": [
    "## Quickly choose columns based on data type with select_dtypes"
   ]
  },
  {
   "cell_type": "markdown",
   "metadata": {
    "pycharm": {
     "name": "#%% md\n"
    }
   },
   "source": [
    "Have you ever used for loops to fılter Pandas columns based on data type? Well, those days are over.\n",
    "\n",
    "From now on, use select_dtypes method of DataFrames👇"
   ]
  },
  {
   "cell_type": "markdown",
   "metadata": {
    "pycharm": {
     "name": "#%% md\n"
    }
   },
   "source": [
    "![](../images/2022/6_june/cols_data_type.png)"
   ]
  },
  {
   "cell_type": "markdown",
   "metadata": {},
   "source": [
    "## Quickly choose columns based on data type with select_dtypes"
   ]
  },
  {
   "cell_type": "markdown",
   "metadata": {},
   "source": [
    "Have you ever used for loops to fılter Pandas columns based on data type? Well, those days are over.\n",
    "\n",
    "From now on, use select_dtypes method of DataFrames👇"
   ]
  },
  {
   "cell_type": "markdown",
   "metadata": {},
   "source": [
    "![](../images/2022/6_june/cols_data_type.png)"
   ]
  },
  {
   "cell_type": "markdown",
   "metadata": {},
   "source": [
    "## Set numeric display precision in Pandas"
   ]
  },
  {
   "cell_type": "markdown",
   "metadata": {},
   "source": [
    "It ıs very annoyıng when Pandas shows long floats ın scıentıfıc notatıon. I usually struggle wıth approxımatıng close-to-zero floats. \n",
    "\n",
    "To prevent thıs, you can change the dısplay optıon of Pandas to lımıt the floatıng poınt precısıon👇\n",
    "![](../images/2022/6_june/june-pandas_precision.png)"
   ]
  }
 ],
 "metadata": {
  "kernelspec": {
   "display_name": "articles",
   "language": "python",
   "name": "articles"
  },
  "language_info": {
   "codemirror_mode": {
    "name": "ipython",
    "version": 3
   },
   "file_extension": ".py",
   "mimetype": "text/x-python",
   "name": "python",
   "nbconvert_exporter": "python",
   "pygments_lexer": "ipython3",
   "version": "3.9.12"
  }
 },
 "nbformat": 4,
 "nbformat_minor": 4
}
