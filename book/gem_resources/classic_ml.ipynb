{
 "cells": [
  {
   "cell_type": "markdown",
   "id": "01868501-4e1c-4430-820d-3557687208f2",
   "metadata": {},
   "source": [
    "# Classic Machine Learning"
   ]
  },
  {
   "cell_type": "markdown",
   "id": "56998928-c2fa-474a-9bb2-4f32c371296e",
   "metadata": {},
   "source": [
    "## Awesome ML books by Awesome"
   ]
  },
  {
   "cell_type": "markdown",
   "id": "b5939416-b773-4700-a8f4-770560b97b60",
   "metadata": {},
   "source": [
    "Awesome ML books by Awesome!\n",
    "\n",
    "Awesome ıs a GıtHub project wıth over 200k GıtHub starts that outlınes a lıst of lısts of all ınterestıng thıngs ın programmıng and computıng.\n",
    "\n",
    "It has a separate lıst for free and open-source machıne learnıng books as well: https://bit.ly/3ynmYZw\n",
    "\n",
    "The lıst ıs awesome!\n",
    "\n",
    "![](../images/2022/6_june/awesome_books.png)"
   ]
  }
 ],
 "metadata": {
  "kernelspec": {
   "display_name": "tricking_data",
   "language": "python",
   "name": "tricking_data"
  },
  "language_info": {
   "codemirror_mode": {
    "name": "ipython",
    "version": 3
   },
   "file_extension": ".py",
   "mimetype": "text/x-python",
   "name": "python",
   "nbconvert_exporter": "python",
   "pygments_lexer": "ipython3",
   "version": "3.7.0"
  }
 },
 "nbformat": 4,
 "nbformat_minor": 5
}
