{
 "cells": [
  {
   "cell_type": "markdown",
   "id": "1cdf464f-52e0-4d1b-8a3e-8417c34d51a9",
   "metadata": {},
   "source": [
    "# Command line (CLI)"
   ]
  },
  {
   "cell_type": "markdown",
   "id": "8e602837-c58f-45fb-ba5a-9c3e599b72d4",
   "metadata": {},
   "source": [
    "## Download anything with you-get"
   ]
  },
  {
   "cell_type": "markdown",
   "id": "30440cbd-017b-4132-8053-67b86d8db3eb",
   "metadata": {},
   "source": [
    "You can download virtually anything with the you-get command-line utilitly.\n",
    "\n",
    "Features:\n",
    "\n",
    "✅ Download media from +30 social media sites\n",
    "\n",
    "✅ Any file with a direct URL\n",
    "\n",
    "✅ Find and download the best matching video based on a query\n",
    "\n",
    "✅ Stream videos locally\n",
    "\n",
    "✅ Select download resolutions\n",
    "\n",
    "Here is a link to the library: https://bit.ly/3ycduA8"
   ]
  },
  {
   "cell_type": "markdown",
   "id": "754efcb6-1331-4fa6-992a-34e8bab66e8d",
   "metadata": {},
   "source": [
    "<div\n",
    "      style=\"\n",
    "        transform: scale(0.5);\n",
    "        transform-origin: top left;\n",
    "        margin-bottom: -300px;\n",
    "      \"\n",
    "    >\n",
    "      <iframe width=\"1006\" height=\"532\" title=\"Code snippet - you-get\" src=\"https://snappify.io/embed/8664d1d0-682e-439a-bec6-50114229ab51\" allow=\"clipboard-write\" style=\"border-radius:10px;background:linear-gradient(to left, #141e30, #243b55)\" frameborder=\"0\"></iframe>\n",
    "    </div>"
   ]
  },
  {
   "cell_type": "markdown",
   "id": "6eb01131-e54c-426a-b1bc-9817877be684",
   "metadata": {},
   "source": [
    "## Rich library for CLI color formatting"
   ]
  },
  {
   "cell_type": "markdown",
   "id": "ddc2db69-a324-4258-98d2-130f7617e1cc",
   "metadata": {},
   "source": [
    "Rich is one of the most beautiful and useful Python libraries. Put simply, it makes terminal output awesome!\n",
    "\n",
    "Its features are:\n",
    "\n",
    "✅ Python code formatting in REPL\n",
    "\n",
    "✅ Text markup (bold, italic, underline)\n",
    "\n",
    "✅ +16.7 MILLION truecolors\n",
    "\n",
    "✅ Logging\n",
    "\n",
    "✅ Markdown support\n",
    "\n",
    "✅ Progress bars (in Jupyter as well)\n",
    "\n",
    "Check out the library link down below👇"
   ]
  },
  {
   "cell_type": "markdown",
   "id": "8863996f-fbde-4ee5-b800-749da3cca122",
   "metadata": {},
   "source": [
    "![](../images/2022/7_july/rich_progress.gif)"
   ]
  },
  {
   "cell_type": "markdown",
   "id": "4ce41292-0814-4d8d-9745-9111ba9f8c31",
   "metadata": {},
   "source": [
    "Link to Rich: https://github.com/Textualize/rich"
   ]
  }
 ],
 "metadata": {
  "kernelspec": {
   "display_name": "tricking_data",
   "language": "python",
   "name": "tricking_data"
  },
  "language_info": {
   "codemirror_mode": {
    "name": "ipython",
    "version": 3
   },
   "file_extension": ".py",
   "mimetype": "text/x-python",
   "name": "python",
   "nbconvert_exporter": "python",
   "pygments_lexer": "ipython3",
   "version": "3.7.0"
  }
 },
 "nbformat": 4,
 "nbformat_minor": 5
}
