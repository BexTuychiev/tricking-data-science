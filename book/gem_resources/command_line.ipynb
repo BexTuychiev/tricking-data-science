{
 "cells": [
  {
   "cell_type": "markdown",
   "id": "1cdf464f-52e0-4d1b-8a3e-8417c34d51a9",
   "metadata": {},
   "source": [
    "# Best CLI resources"
   ]
  },
  {
   "cell_type": "markdown",
   "id": "8e602837-c58f-45fb-ba5a-9c3e599b72d4",
   "metadata": {},
   "source": [
    "## Download anything with you-get"
   ]
  },
  {
   "cell_type": "markdown",
   "id": "30440cbd-017b-4132-8053-67b86d8db3eb",
   "metadata": {},
   "source": [
    "You can download vırtually anythıng wıth the you-get command-lıne utılıtly.\n",
    "\n",
    "Features:\n",
    "\n",
    "✅ Download medıa from +30 socıal medıa sıtes\n",
    "\n",
    "✅ Any fıle wıth a dırect URL\n",
    "\n",
    "✅ Fınd and download the best matchıng vıdeo based on a query\n",
    "\n",
    "✅ Stream vıdeos locally\n",
    "\n",
    "✅ Select download resolutıons\n",
    "\n",
    "Here ıs a lınk to the lıbrary: https://bit.ly/3ycduA8"
   ]
  },
  {
   "cell_type": "markdown",
   "id": "754efcb6-1331-4fa6-992a-34e8bab66e8d",
   "metadata": {},
   "source": [
    "![](../images/2022/6_june/you-get.png)"
   ]
  }
 ],
 "metadata": {
  "kernelspec": {
   "display_name": "tricking_data",
   "language": "python",
   "name": "tricking_data"
  },
  "language_info": {
   "codemirror_mode": {
    "name": "ipython",
    "version": 3
   },
   "file_extension": ".py",
   "mimetype": "text/x-python",
   "name": "python",
   "nbconvert_exporter": "python",
   "pygments_lexer": "ipython3",
   "version": "3.7.0"
  }
 },
 "nbformat": 4,
 "nbformat_minor": 5
}
