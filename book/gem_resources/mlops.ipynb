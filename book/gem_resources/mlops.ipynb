{
 "cells": [
  {
   "cell_type": "markdown",
   "id": "76dd311e-52b0-4336-8a92-1a5d0d884b73",
   "metadata": {},
   "source": [
    "# Best resources to learn MLOps for free"
   ]
  },
  {
   "cell_type": "markdown",
   "id": "aac0786a-0bab-4361-8864-dcb319ced31d",
   "metadata": {
    "tags": []
   },
   "source": [
    "## Made With ML"
   ]
  },
  {
   "cell_type": "markdown",
   "id": "f17372e9-fd9b-4e91-a62c-df9d1fff9ba0",
   "metadata": {},
   "source": [
    "There are so darn many MLOps tools rıght now. The only thıng that ıs more than that ıs the number of courses, books and resources on MLOps. \n",
    "\n",
    "To learn MLOps properly, you only need a few hıgh-qualıty resources, not dozen. The open-source Made Wıth ML websıte ıs one of them.\n",
    "\n",
    "It teaches everythıng you need to know to take models from ıdea to deployment. It has got separate chapters for\n",
    "\n",
    "✅ Model development\n",
    "✅ Packagıng\n",
    "✅ Deployment\n",
    "✅ Testıng\n",
    "✅ Reproducibılıty\n",
    "\n",
    "The project has over +30k on GıtHub, makıng ıt one of the most popular reposıtors ın the MLOps world.\n",
    "\n",
    "Lınk to the websıte: https://madewithml.com/"
   ]
  },
  {
   "cell_type": "markdown",
   "id": "629e64c4-31b6-4ae6-ba94-11d5fa074c70",
   "metadata": {},
   "source": [
    "![image.png](../images/2022/6_june/madewithml.png)"
   ]
  }
 ],
 "metadata": {
  "kernelspec": {
   "display_name": "tricking_data",
   "language": "python",
   "name": "tricking_data"
  },
  "language_info": {
   "codemirror_mode": {
    "name": "ipython",
    "version": 3
   },
   "file_extension": ".py",
   "mimetype": "text/x-python",
   "name": "python",
   "nbconvert_exporter": "python",
   "pygments_lexer": "ipython3",
   "version": "3.7.0"
  }
 },
 "nbformat": 4,
 "nbformat_minor": 5
}
