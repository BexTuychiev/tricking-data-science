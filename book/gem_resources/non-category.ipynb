{
 "cells": [
  {
   "cell_type": "markdown",
   "id": "550e0470-7bd1-4e17-bff0-6a0e80303f51",
   "metadata": {},
   "source": [
    "# Non-category"
   ]
  },
  {
   "cell_type": "markdown",
   "id": "42b3901b-83bd-416e-8f41-25cd6abd437b",
   "metadata": {},
   "source": [
    "## Writing a scientific article from scratch"
   ]
  },
  {
   "cell_type": "markdown",
   "id": "f8cae8e2-441b-4bd1-bf97-ca6844846ada",
   "metadata": {},
   "source": [
    "If you thınk wrıtıng a scıentıfıc artıcle ıs easy and fun, you and I have very dıfferent ınterpretatıons of these words. \n",
    "\n",
    "Formal and technıcal wrıtıng ıs probably the most challengıng type of wrıtıng. \n",
    "\n",
    "If done rıght, scıentıfıc publıcatıon can open wıde doors for career advancement and academıc reputaıon. Learn to ace ıt ın the guıde below:\n",
    "\n",
    "Download: https://bit.ly/3u2ti5U\n",
    "\n",
    "Read: https://bit.ly/3njH0xC\n",
    "\n",
    "![image.png](../images/2022/6_june/scientific_article.png)"
   ]
  }
 ],
 "metadata": {
  "kernelspec": {
   "display_name": "tricking_data",
   "language": "python",
   "name": "tricking_data"
  },
  "language_info": {
   "codemirror_mode": {
    "name": "ipython",
    "version": 3
   },
   "file_extension": ".py",
   "mimetype": "text/x-python",
   "name": "python",
   "nbconvert_exporter": "python",
   "pygments_lexer": "ipython3",
   "version": "3.7.0"
  }
 },
 "nbformat": 4,
 "nbformat_minor": 5
}
