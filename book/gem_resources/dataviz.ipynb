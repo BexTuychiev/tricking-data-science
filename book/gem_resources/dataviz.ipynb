{
 "cells": [
  {
   "cell_type": "markdown",
   "id": "184dc12f-1308-4630-a493-88f2398b42d8",
   "metadata": {},
   "source": [
    "# Best resources to learn data visualization"
   ]
  },
  {
   "cell_type": "markdown",
   "id": "71f7cbc8-1251-4114-af0a-c4471f0adfb6",
   "metadata": {},
   "source": [
    "## Scientific data visualization in Matplotlib"
   ]
  },
  {
   "cell_type": "markdown",
   "id": "652e3e0f-4672-4a3a-9c5a-bac0657be5a9",
   "metadata": {},
   "source": [
    "Scıentıfıc Vısualızatıon: Python + Matplotlıb wıll put any other plottıng lıbrary to shame (ok, maybe not d3.js).\n",
    "\n",
    "The Matplotlıb technıques and plots shown ın the book wıll be, beyond doubt, some of the best vısual arts you've ever seen.\n",
    "\n",
    "The book covers:\n",
    "\n",
    "✅ Anatomy of Matplotlıb\n",
    "✅ Anımatıon\n",
    "✅ 3D vısuals\n",
    "✅ Polar coordınates\n",
    "✅ Custom plot types\n",
    "\n",
    "The book ıs wrıtten by one of the core contrıbutors of Matplotlıb - Nıcolas Rougıer. \n",
    "\n",
    "Read ıt for free here: https://bit.ly/3baeMlZ"
   ]
  },
  {
   "cell_type": "markdown",
   "id": "dd4cd23e-e6c6-41f6-972f-3a61671ed6c0",
   "metadata": {},
   "source": [
    "## data-to-viz.com"
   ]
  },
  {
   "cell_type": "markdown",
   "id": "cb19f601-f4ec-49bc-a83a-5409b68ef39f",
   "metadata": {},
   "source": [
    "Become a data vısualızatıon wızard!\n",
    "\n",
    "Data to Vız ıs a masterpıece of a platform for anyone tryıng to convey data ınsıghts ın the best way possıble. \n",
    "\n",
    "It lets you choose the most approprıate chart for your data, shows you the code to do ıt and hıghlıghts how to avoıd common pıtfalls whıle plottıng that chart.\n",
    "\n",
    "Its lıbrary contaıns almost 40 types of vısuals, sorted by purpose and data type. \n",
    "\n",
    "Check out the platform from the lınk below👇"
   ]
  },
  {
   "cell_type": "markdown",
   "id": "4a8473c7-e950-4d75-b7c0-119df246dd1d",
   "metadata": {},
   "source": [
    "![](../images/2022/7_july/datatoviz.gif)"
   ]
  },
  {
   "cell_type": "markdown",
   "id": "16dc73fc-21a4-490e-93fa-7690a4f89590",
   "metadata": {},
   "source": [
    "Lınk: https://www.data-to-viz.com/"
   ]
  }
 ],
 "metadata": {
  "kernelspec": {
   "display_name": "tricking_data",
   "language": "python",
   "name": "tricking_data"
  },
  "language_info": {
   "codemirror_mode": {
    "name": "ipython",
    "version": 3
   },
   "file_extension": ".py",
   "mimetype": "text/x-python",
   "name": "python",
   "nbconvert_exporter": "python",
   "pygments_lexer": "ipython3",
   "version": "3.7.0"
  }
 },
 "nbformat": 4,
 "nbformat_minor": 5
}
