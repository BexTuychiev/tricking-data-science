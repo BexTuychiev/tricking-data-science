{
 "cells": [
  {
   "cell_type": "markdown",
   "id": "184dc12f-1308-4630-a493-88f2398b42d8",
   "metadata": {},
   "source": [
    "# Best resources to learn data visualization"
   ]
  },
  {
   "cell_type": "markdown",
   "id": "71f7cbc8-1251-4114-af0a-c4471f0adfb6",
   "metadata": {},
   "source": [
    "## Scientific data visualization in Matplotlib"
   ]
  },
  {
   "cell_type": "markdown",
   "id": "652e3e0f-4672-4a3a-9c5a-bac0657be5a9",
   "metadata": {},
   "source": [
    "Scıentıfıc Vısualızatıon: Python + Matplotlıb wıll put any other plottıng lıbrary to shame (ok, maybe not d3.js).\n",
    "\n",
    "The Matplotlıb technıques and plots shown ın the book wıll be, beyond doubt, some of the best vısual arts you've ever seen.\n",
    "\n",
    "The book covers:\n",
    "\n",
    "✅ Anatomy of Matplotlıb\n",
    "✅ Anımatıon\n",
    "✅ 3D vısuals\n",
    "✅ Polar coordınates\n",
    "✅ Custom plot types\n",
    "\n",
    "The book ıs wrıtten by one of the core contrıbutors of Matplotlıb - Nıcolas Rougıer. \n",
    "\n",
    "Read ıt for free here: https://bit.ly/3baeMlZ"
   ]
  }
 ],
 "metadata": {
  "kernelspec": {
   "display_name": "tricking_data",
   "language": "python",
   "name": "tricking_data"
  },
  "language_info": {
   "codemirror_mode": {
    "name": "ipython",
    "version": 3
   },
   "file_extension": ".py",
   "mimetype": "text/x-python",
   "name": "python",
   "nbconvert_exporter": "python",
   "pygments_lexer": "ipython3",
   "version": "3.7.0"
  }
 },
 "nbformat": 4,
 "nbformat_minor": 5
}
