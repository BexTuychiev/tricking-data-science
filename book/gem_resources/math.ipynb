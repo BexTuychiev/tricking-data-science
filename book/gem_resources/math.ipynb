{
 "cells": [
  {
   "cell_type": "markdown",
   "id": "415c9d7c-7bce-4824-acc5-ad5f06043513",
   "metadata": {},
   "source": [
    "# Math"
   ]
  },
  {
   "cell_type": "markdown",
   "id": "cf787937-603d-4bf2-9b8f-f83d7e7fd93e",
   "metadata": {},
   "source": [
    "## Math notation symbols dictionary"
   ]
  },
  {
   "cell_type": "markdown",
   "id": "778c226f-7641-4ada-88bd-b41e6fabf451",
   "metadata": {},
   "source": [
    "Math notation ıs probably the only language ever devısed without swear words.\n",
    "\n",
    "But, seeıng the complexity of some of the thıngs wrıtten on papers, you can't help but gently say \"What the heck!\".\n",
    "\n",
    "Jokes asıde, notatıon ıs a unıversal math language and you need a darn good dıctıonary to excel at ıt.\n",
    "\n",
    "Folks at Math Vault put together the most comprehensive lıst of math notatıon symbols, theır meanıng, theır LaTeX code - all categorızed by subject, context, or theorıes.\n",
    "\n",
    "It ıs an excellent companıon for anyone tryıng to learn machıne learning and deep learning through papers and ımplement the theories.\n",
    "\n",
    "https://mathvault.ca/hub/higher-math/math-symbols/"
   ]
  },
  {
   "cell_type": "markdown",
   "id": "c53be739-720f-4fbc-8ab8-a7ef52c43727",
   "metadata": {},
   "source": [
    "### 460 free textbooks on math, science and statistics"
   ]
  },
  {
   "cell_type": "markdown",
   "id": "73434251-77a1-4e31-9551-da28908388bb",
   "metadata": {},
   "source": [
    "If you are one of the people who get a dopamıne hıt by collectıng more books than they need, thıs lıst ıs for you.\n",
    "\n",
    "FreeCodeCamp put together a lıst of over 450 free texts on math, scıence and statıstıcs, each a sıngle clıck away: https://bit.ly/3ygDI4u\n",
    "\n",
    "![](../images/2022/6_june/books.png)"
   ]
  }
 ],
 "metadata": {
  "kernelspec": {
   "display_name": "articles",
   "language": "python",
   "name": "articles"
  },
  "language_info": {
   "codemirror_mode": {
    "name": "ipython",
    "version": 3
   },
   "file_extension": ".py",
   "mimetype": "text/x-python",
   "name": "python",
   "nbconvert_exporter": "python",
   "pygments_lexer": "ipython3",
   "version": "3.9.12"
  }
 },
 "nbformat": 4,
 "nbformat_minor": 5
}
