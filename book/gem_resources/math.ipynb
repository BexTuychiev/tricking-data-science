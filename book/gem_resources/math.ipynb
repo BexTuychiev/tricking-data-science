{
 "cells": [
  {
   "cell_type": "markdown",
   "id": "415c9d7c-7bce-4824-acc5-ad5f06043513",
   "metadata": {},
   "source": [
    "# Math"
   ]
  },
  {
   "cell_type": "markdown",
   "id": "cf787937-603d-4bf2-9b8f-f83d7e7fd93e",
   "metadata": {},
   "source": [
    "## Math notation symbols dictionary"
   ]
  },
  {
   "cell_type": "markdown",
   "id": "778c226f-7641-4ada-88bd-b41e6fabf451",
   "metadata": {},
   "source": [
    "Math notation is probably the only language ever devised without swear words.\n",
    "\n",
    "But, seeing the complexity of some of the things written on papers, you can't help but gently say \"What the heck!\".\n",
    "\n",
    "Jokes aside, notation is a universal math language and you need a darn good dictionary to excel at it.\n",
    "\n",
    "Folks at Math Vault put together the most comprehensive list of math notation symbols, their meaning, their LaTeX code - all categorized by subject, context, or theories.\n",
    "\n",
    "It is an excellent companion for anyone trying to learn machine learning and deep learning through papers and implement the theories.\n",
    "\n",
    "https://mathvault.ca/hub/higher-math/math-symbols/"
   ]
  },
  {
   "cell_type": "markdown",
   "id": "c53be739-720f-4fbc-8ab8-a7ef52c43727",
   "metadata": {},
   "source": [
    "## 460 free textbooks on math, science and statistics"
   ]
  },
  {
   "cell_type": "markdown",
   "id": "73434251-77a1-4e31-9551-da28908388bb",
   "metadata": {},
   "source": [
    "If you are one of the people who get a dopamine hit by collecting more books than they need, this list is for you.\n",
    "\n",
    "FreeCodeCamp put together a list of over 450 free texts on math, science and statistics, each a single click away: https://bit.ly/3ygDI4u\n",
    "\n",
    "![](../images/2022/6_june/books.png)"
   ]
  },
  {
   "cell_type": "markdown",
   "id": "2eb2a7d9-21f3-49d8-95c6-1cd73aa37952",
   "metadata": {
    "pycharm": {
     "name": "#%% md\n"
    }
   },
   "source": [
    "## Handcalcs library in Python"
   ]
  },
  {
   "cell_type": "markdown",
   "id": "c07ee985-d929-42d8-91ab-dfe1bca15c4a",
   "metadata": {
    "tags": []
   },
   "source": [
    "Handcalcs is a nifty Python library that converts math code into formulas that look like they were written by hand.\n",
    "\n",
    "It has got %%render magic command that automatically converts a cell's code into written LaTeX output, which you can save as PDF later.\n",
    "\n",
    "Handcalcs also exposes a decorator that show the calculation of custom functions with user-provided values just like you would use substitute variables in a formula while solving a problem.\n",
    "\n",
    "Link to handcalcs in the first comment!"
   ]
  },
  {
   "cell_type": "markdown",
   "id": "8047a81c-f3be-450e-bbde-633b0efe64f8",
   "metadata": {
    "pycharm": {
     "name": "#%% md\n"
    }
   },
   "source": [
    "![](../images/2022/7_july/handcalcs.gif)"
   ]
  },
  {
   "cell_type": "markdown",
   "id": "92f3bf47-32ff-4efb-9334-105f537c69d7",
   "metadata": {
    "pycharm": {
     "name": "#%% md\n"
    }
   },
   "source": [
    "Link to handcalcs: https://github.com/connorferster/handcalcs"
   ]
  },
  {
   "cell_type": "markdown",
   "id": "baec390b-c552-4ed0-9d5b-1f1e98d75ce1",
   "metadata": {
    "pycharm": {
     "name": "#%% md\n"
    }
   },
   "source": [
    "## Rachel Thomas's Computational Linear Algebra"
   ]
  },
  {
   "cell_type": "markdown",
   "id": "808705a2-1975-4847-9ff0-fdf0cfb9d7b4",
   "metadata": {},
   "source": [
    "YouTube gems: Computational Linear Algebra Course taught by Rachel Thomas, co-founder of Fast AI with Jeremy Howard.\n",
    "\n",
    "According to Forbes, Rachel Thomas is one of the 20 most incredible women in AI. And if she is teaching a course for free on YouTube, you better take it.\n",
    "\n",
    "Her Computational Linear Algebra course will give you hands-on practice in implementing the theory of matrix computations in code. The topics covered are: \n",
    "\n",
    "- Parallelization\n",
    "- SVD - Singular Value Decomposition\n",
    "- PCA - Principle Component Analysis\n",
    "- LU-factorization\n",
    "- PageRank\n",
    "\n",
    "Linear Algebra is one of the core components of ML math and being able to understand its concepts at a level where you can implement them in code goes a long way.\n",
    "\n",
    "Link to the course in the first comment."
   ]
  },
  {
   "cell_type": "markdown",
   "id": "2e8f85b8-6f82-4e7f-92b2-4b52a1b879b5",
   "metadata": {
    "pycharm": {
     "name": "#%% md\n"
    }
   },
   "source": [
    "![](../images/2022/7_july/linalg.png)"
   ]
  },
  {
   "cell_type": "markdown",
   "id": "2d4f1692-1bee-4f5c-81a1-729e75e323ba",
   "metadata": {},
   "source": [
    "Link to the course: https://bit.ly/3vmMBHN"
   ]
  },
  {
   "cell_type": "markdown",
   "id": "cca18c78-285e-4da0-a922-9ad73aabe15c",
   "metadata": {
    "pycharm": {
     "name": "#%% md\n"
    }
   },
   "source": [
    "## 3Blue1Brown blogs on math"
   ]
  },
  {
   "cell_type": "markdown",
   "id": "523a3304-0f89-43cc-a163-97558b656759",
   "metadata": {
    "pycharm": {
     "name": "#%% md\n"
    }
   },
   "source": [
    "Love 3Blue1Brown videos? Wait till you read the articles!\n",
    "\n",
    "I recently discovered that 3Blue1Brown website features written lessons of Grant Sanderson's most popular videos. Given that all his videos are exceptional, the number of articles (with play-with-it-yourself animations) is roughly around 100, grouped into 16 categories."
   ]
  },
  {
   "cell_type": "markdown",
   "id": "c4e4213a-52c2-460b-830c-81421957d151",
   "metadata": {
    "pycharm": {
     "name": "#%% md\n"
    }
   },
   "source": [
    "![](../images/2022/7_july/3b1b_articles.gif)"
   ]
  },
  {
   "cell_type": "markdown",
   "id": "34d8565e-f449-45ad-835a-9e4f0f7b5df0",
   "metadata": {
    "pycharm": {
     "name": "#%% md\n"
    }
   },
   "source": [
    "## ML pen and paper exercises"
   ]
  },
  {
   "cell_type": "markdown",
   "id": "4963c966-1a8a-4dec-b7bd-ba79ba78eceb",
   "metadata": {},
   "source": [
    "If you keep relearning math concepts for ML, you need some solid deliberate practice.\n",
    "\n",
    "Watching YouTube videos and reading articles on math concepts gives you the comfortable illusion of \"making progress\" and \"learning something worthwhile\". In reality, you are just sitting inside your comfort zone, learning things you know you will inevitable relearn.\n",
    "\n",
    "Give yourself some serious challenge by solving ML exercises which can mostly be done using pen and paper. You can download them from Arxiv or from the GitHub repo.\n",
    "\n",
    "Links to both in the first comment👇"
   ]
  },
  {
   "cell_type": "markdown",
   "id": "a7ccc2d0-f2f5-4275-a2fe-d985bd2fde61",
   "metadata": {
    "pycharm": {
     "name": "#%% md\n"
    }
   },
   "source": [
    "![](../images/2022/7_july/pen_paper.png)"
   ]
  },
  {
   "cell_type": "markdown",
   "id": "a8fccef2-5c46-4b6f-8f32-eadb5d827521",
   "metadata": {},
   "source": [
    "Exercises (GitHub): https://github.com/michaelgutmann/ml-pen-and-paper-exercises\n",
    "\n",
    "Exercises (Arxiv): https://arxiv.org/abs/2206.13446"
   ]
  },
  {
   "cell_type": "markdown",
   "id": "fcf62bcf-935b-4a08-9b9d-d67e3fe63cbd",
   "metadata": {},
   "source": [
    "## ForAllPeople - universal metrics library in Python"
   ]
  },
  {
   "cell_type": "markdown",
   "id": "c4428869-ab4a-44b5-8069-44e623a4f3a4",
   "metadata": {},
   "source": [
    "ForAllPeople is a one-of-a-kind Python library that implements all the units in SI (International System of Units).\n",
    "\n",
    "All the common and uncommon units in math, physics and chemistry are implemented as variable names and are calculation-aware. In other words, correctly using different units in a single calculation can give totally different units as you would have gotten by using a sample physics formula."
   ]
  },
  {
   "cell_type": "markdown",
   "id": "b5d34b95-c3d2-4a16-87a3-293c1e2e9a44",
   "metadata": {},
   "source": [
    "![](../images/2022/8_august/forallpeople.gif)"
   ]
  },
  {
   "cell_type": "markdown",
   "id": "3c005930-1cee-40b6-9df2-8c5b0e2dde81",
   "metadata": {},
   "source": [
    "Link to the library: https://github.com/connorferster/forallpeople"
   ]
  }
 ],
 "metadata": {
  "kernelspec": {
   "display_name": "articles",
   "language": "python",
   "name": "articles"
  },
  "language_info": {
   "codemirror_mode": {
    "name": "ipython",
    "version": 3
   },
   "file_extension": ".py",
   "mimetype": "text/x-python",
   "name": "python",
   "nbconvert_exporter": "python",
   "pygments_lexer": "ipython3",
   "version": "3.9.12"
  }
 },
 "nbformat": 4,
 "nbformat_minor": 5
}
