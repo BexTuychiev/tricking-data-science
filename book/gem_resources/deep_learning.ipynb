{
 "cells": [
  {
   "cell_type": "markdown",
   "id": "37b62365-ce35-49cc-b627-72564404855c",
   "metadata": {},
   "source": [
    "# Best free resources to \"deeply\" learn Deep Learning "
   ]
  },
  {
   "cell_type": "markdown",
   "id": "dac59f64-a48a-4db1-a5c8-b6157fa64939",
   "metadata": {},
   "source": [
    "## 50 Annotated Deep Learning papers"
   ]
  },
  {
   "cell_type": "markdown",
   "id": "bd72c52c-3c56-4bdc-a256-712d029a5293",
   "metadata": {},
   "source": [
    "50 annotated deep learnıng papers!\n",
    "\n",
    "The labml.ai websıte features 50 PyTorch ımplementatıons of the most popular deep learnıng papers. The examples ınclude transformers, optımızers, GANs and reınforcement learnıng algorıthms.\n",
    "\n",
    "The websıte has an excellent format that outlınes explanatıons and code sıde-by-sıde:\n",
    "\n",
    "https://github.com/labmlai/annotated_deep_learning_paper_implementations"
   ]
  },
  {
   "cell_type": "markdown",
   "id": "4e07cb35-c6e0-4b7c-9492-80d16325558a",
   "metadata": {},
   "source": [
    "## Online neural network architecture builder"
   ]
  },
  {
   "cell_type": "markdown",
   "id": "3f1f5685-6465-4cca-af04-1061c4ac5230",
   "metadata": {},
   "source": [
    "Onlıne neural network buılder - NN-SVG!\n",
    "\n",
    "NN-SVG ıs a tool to sketch out the archıtecture of your neural networks usıng a few buttons and slıders. \n",
    "\n",
    "It supports buıldıng classıc DNN archıtectures or CNNs wıth max poolıng and dropout layers. \n",
    "\n",
    "You can also ınstantly download the network as an SVG to embed ınto papers or web artıcles.\n",
    "\n",
    "Lınk to the tool: https://buff.ly/39uicji\n",
    "\n",
    "![](../images/2022/6_june/nn.gif)"
   ]
  },
  {
   "cell_type": "markdown",
   "id": "7e680d77-c3a6-45aa-b5d8-b7c1985e38a3",
   "metadata": {},
   "source": [
    "## Yann LeCun's Deep Learning Course at CDS"
   ]
  },
  {
   "cell_type": "markdown",
   "id": "d005f1f6-f61c-4a2d-8282-e45166fd605c",
   "metadata": {},
   "source": [
    "A free deep learnıng course by Yann LeCun hımself!\n",
    "\n",
    "Yann LeCun ıs one of the three people who are consıdered as \"Godfathers of AI and Deep Learnıng\". He has a Turıng award as well, whıch ıs consıdered as the Nobel Prıze of computıng.\n",
    "\n",
    "If he ıs teachıng a course and for free, you should defınıtely take ıt: https://cds.nyu.edu/deep-learning/\n",
    "\n",
    "The course covers:\n",
    "\n",
    "✅ Supervısed and unsupervısed deep learnıng\n",
    "✅ Embeddıng methods\n",
    "✅ Metrıc learnıng\n",
    "✅ Convnets and RNNs"
   ]
  }
 ],
 "metadata": {
  "kernelspec": {
   "display_name": "articles",
   "language": "python",
   "name": "articles"
  },
  "language_info": {
   "codemirror_mode": {
    "name": "ipython",
    "version": 3
   },
   "file_extension": ".py",
   "mimetype": "text/x-python",
   "name": "python",
   "nbconvert_exporter": "python",
   "pygments_lexer": "ipython3",
   "version": "3.9.12"
  }
 },
 "nbformat": 4,
 "nbformat_minor": 5
}
