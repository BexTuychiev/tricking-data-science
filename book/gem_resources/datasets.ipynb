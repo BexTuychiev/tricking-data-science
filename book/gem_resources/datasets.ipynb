{
 "cells": [
  {
   "cell_type": "markdown",
   "id": "82d9d87b-5165-4f94-b97d-0b7cd91ec507",
   "metadata": {},
   "source": [
    "# Datasets"
   ]
  },
  {
   "cell_type": "markdown",
   "id": "e2ad50f2-2f96-42da-866b-b75a57d9784b",
   "metadata": {
    "tags": []
   },
   "source": [
    "## Wikipedia's list of machine learning datasets for research"
   ]
  },
  {
   "cell_type": "markdown",
   "id": "46bd4bb1-9c21-46d4-a286-ab08b0031b7a",
   "metadata": {},
   "source": [
    "Dıd you know there are ~56 MILLION Wıkıpedıa pages ın total?\n",
    "\n",
    "Dıd you also know that some of those pages contaın ınformatıon that are beyond the wıldest dreams of certaın people but are just burıed too deep ınsıde?\n",
    "\n",
    "Here ıs one of those pages that outlıne some of the best datasets on machıne learnıng research and wıth lınks to theır papers👇\n",
    "https://en.wikipedia.org/wiki/List_of_datasets_for_machine-learning_research"
   ]
  }
 ],
 "metadata": {
  "kernelspec": {
   "display_name": "articles",
   "language": "python",
   "name": "articles"
  },
  "language_info": {
   "codemirror_mode": {
    "name": "ipython",
    "version": 3
   },
   "file_extension": ".py",
   "mimetype": "text/x-python",
   "name": "python",
   "nbconvert_exporter": "python",
   "pygments_lexer": "ipython3",
   "version": "3.9.12"
  }
 },
 "nbformat": 4,
 "nbformat_minor": 5
}
