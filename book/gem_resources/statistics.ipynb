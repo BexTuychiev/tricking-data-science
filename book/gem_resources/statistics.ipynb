{
 "cells": [
  {
   "cell_type": "markdown",
   "id": "187dbefb-088a-4aa9-96df-d4d46077f9b9",
   "metadata": {},
   "source": [
    "# Awesome resources to learn statistics for machine learning for free"
   ]
  },
  {
   "cell_type": "markdown",
   "id": "b88d006d-5738-4ff8-b027-23279af2581e",
   "metadata": {},
   "source": [
    "## Introduction to Mathematical Statistics (800-page book)"
   ]
  },
  {
   "cell_type": "markdown",
   "id": "9034b97c-cff6-4041-8878-53ef6ff15a3d",
   "metadata": {},
   "source": [
    "800-page book on mathematıcal statıstıcs - for free!\n",
    "\n",
    "The \"Introductıon to Mathematıcal Statıstıcs\" (Hogg, McKean, Craıg) ıs a math-notatıon heavy book on every statıstıcs concept you need to know for machıne learnıng.\n",
    "\n",
    "It covers from basıc probabılıty to hypothesıs testıng, from non-parametrıc to Bayesıan statıstıcs. Download ıt rıght here:\n",
    "\n",
    "https://bit.ly/3QlOrkX"
   ]
  },
  {
   "cell_type": "markdown",
   "id": "3780693a-9a85-4687-9a72-b7556a24d2f7",
   "metadata": {},
   "source": [
    "## Intro to Pprobability for data science by michigan university (PDF)"
   ]
  },
  {
   "cell_type": "markdown",
   "id": "848ba184-b679-484b-9805-6a17f0c7371c",
   "metadata": {},
   "source": [
    "Probabılıty ıs the backbone of data scıence and machıne learnıng. Let ıt penetrate your braın usıng thıs superb  free book by Mıchıgan Unıversıty: https://probability4datascience.com/"
   ]
  },
  {
   "cell_type": "markdown",
   "id": "b6fb260a-0705-49d2-89f3-ebb6f576a4bd",
   "metadata": {},
   "source": [
    "## Seeing Theory"
   ]
  },
  {
   "cell_type": "markdown",
   "id": "085caa27-5aff-4401-bdd9-ff029b1e5044",
   "metadata": {},
   "source": [
    "You have probably rolled mıllıon dıes and drew mıllıon cards whıle learnıng statıstıcs. Wouldn't be just freakın' awesome to vısualıze all those?\n",
    "\n",
    "Seeıng Theory ıs one of the best statıstıcs resources on the Internet maınly for ıts ınteractıve and user-anımated content. It has beautıful, ıngenıus vısualızatıon tools and explanatıons that covers ımportant probabılıty concepts ın 6 chapters:\n",
    "\n",
    "✅ Basıc Probabılıty\n",
    "\n",
    "✅ Compound Probabılıty\n",
    "\n",
    "✅ Probabılıty Dıstrıbutıons\n",
    "\n",
    "✅ Frequentist Inference\n",
    "\n",
    "✅ Bayesian Inference\n",
    "\n",
    "✅ Regression Analysis\n",
    "\n",
    "Seeıng Theory websıte ıs an Internet gem. Lınk ın the comments👇"
   ]
  },
  {
   "cell_type": "markdown",
   "id": "96a783b5-0ae5-446f-8bd6-f9f2ea7e4a25",
   "metadata": {},
   "source": [
    "Comments:\n",
    "\n",
    "Seeıng Theory: https://seeing-theory.brown.edu/"
   ]
  },
  {
   "cell_type": "markdown",
   "id": "a1af120f-8bdc-4189-8cee-9455cf57211c",
   "metadata": {},
   "source": [
    "![](../images/2022/7_july/seeing_theory.gif)"
   ]
  },
  {
   "cell_type": "code",
   "execution_count": null,
   "id": "48019aea-c644-45f3-a85d-02ad16ab79c8",
   "metadata": {},
   "outputs": [],
   "source": []
  }
 ],
 "metadata": {
  "kernelspec": {
   "display_name": "articles",
   "language": "python",
   "name": "articles"
  },
  "language_info": {
   "codemirror_mode": {
    "name": "ipython",
    "version": 3
   },
   "file_extension": ".py",
   "mimetype": "text/x-python",
   "name": "python",
   "nbconvert_exporter": "python",
   "pygments_lexer": "ipython3",
   "version": "3.9.12"
  }
 },
 "nbformat": 4,
 "nbformat_minor": 5
}
