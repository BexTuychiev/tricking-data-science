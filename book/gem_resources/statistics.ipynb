{
 "cells": [
  {
   "cell_type": "markdown",
   "id": "187dbefb-088a-4aa9-96df-d4d46077f9b9",
   "metadata": {},
   "source": [
    "# Statistics"
   ]
  },
  {
   "cell_type": "markdown",
   "id": "b88d006d-5738-4ff8-b027-23279af2581e",
   "metadata": {},
   "source": [
    "## Introduction to Mathematical Statistics (800-page book)"
   ]
  },
  {
   "cell_type": "markdown",
   "id": "9034b97c-cff6-4041-8878-53ef6ff15a3d",
   "metadata": {},
   "source": [
    "800-page book on mathematical statistics - for free!\n",
    "\n",
    "The \"Introduction to Mathematical Statistics\" (Hogg, McKean, Craig) is a math-notation heavy book on every statistics concept you need to know for machine learning.\n",
    "\n",
    "It covers from basic probability to hypothesis testing, from non-parametric to Bayesian statistics. Download it right here:\n",
    "\n",
    "https://bit.ly/3QlOrkX"
   ]
  },
  {
   "cell_type": "markdown",
   "id": "3780693a-9a85-4687-9a72-b7556a24d2f7",
   "metadata": {},
   "source": [
    "## Intro to Pprobability for data science by michigan university (PDF)"
   ]
  },
  {
   "cell_type": "markdown",
   "id": "848ba184-b679-484b-9805-6a17f0c7371c",
   "metadata": {},
   "source": [
    "Probability is the backbone of data science and machine learning. Let it penetrate your brain using this superb  free book by Michigan University: https://probability4datascience.com/"
   ]
  },
  {
   "cell_type": "markdown",
   "id": "b6fb260a-0705-49d2-89f3-ebb6f576a4bd",
   "metadata": {},
   "source": [
    "## Seeing Theory"
   ]
  },
  {
   "cell_type": "markdown",
   "id": "085caa27-5aff-4401-bdd9-ff029b1e5044",
   "metadata": {},
   "source": [
    "You have probably rolled million dies and drew million cards while learning statistics. Wouldn't be just freakin' awesome to visualize all those?\n",
    "\n",
    "Seeing Theory is one of the best statistics resources on the Internet mainly for its interactive and user-animated content. It has beautiful, ingenius visualization tools and explanations that covers important probability concepts in 6 chapters:\n",
    "\n",
    "✅ Basic Probability\n",
    "\n",
    "✅ Compound Probability\n",
    "\n",
    "✅ Probability Distributions\n",
    "\n",
    "✅ Frequentist Inference\n",
    "\n",
    "✅ Bayesian Inference\n",
    "\n",
    "✅ Regression Analysis\n",
    "\n",
    "Seeing Theory website is an Internet gem. Link in the comments👇"
   ]
  },
  {
   "cell_type": "markdown",
   "id": "96a783b5-0ae5-446f-8bd6-f9f2ea7e4a25",
   "metadata": {},
   "source": [
    "Comments:\n",
    "\n",
    "Seeing Theory: https://seeing-theory.brown.edu/"
   ]
  },
  {
   "cell_type": "markdown",
   "id": "a1af120f-8bdc-4189-8cee-9455cf57211c",
   "metadata": {},
   "source": [
    "![](../images/2022/7_july/seeing_theory.gif)"
   ]
  },
  {
   "cell_type": "markdown",
   "id": "2e337c92-d0c7-4e93-823e-a037e88d37c5",
   "metadata": {},
   "source": [
    "## Type I and Type II errors in statistics"
   ]
  },
  {
   "cell_type": "markdown",
   "id": "a7c0c7e0-16a2-457f-8536-78928eb42fbd",
   "metadata": {},
   "source": [
    "If you need help remembering the difference between Type I and Type II errors, here is a helpful meme. You probably won't forget the difference for the rest of your life.\n",
    "\n",
    "Source: effectsizefaq \\[dot\\] com"
   ]
  },
  {
   "cell_type": "markdown",
   "id": "4f1c4b0d-6101-4786-905a-8c0b1488383a",
   "metadata": {},
   "source": [
    "![](../images/2022/8_august/errors_stats.jpg)"
   ]
  }
 ],
 "metadata": {
  "kernelspec": {
   "display_name": "articles",
   "language": "python",
   "name": "articles"
  },
  "language_info": {
   "codemirror_mode": {
    "name": "ipython",
    "version": 3
   },
   "file_extension": ".py",
   "mimetype": "text/x-python",
   "name": "python",
   "nbconvert_exporter": "python",
   "pygments_lexer": "ipython3",
   "version": "3.9.12"
  }
 },
 "nbformat": 4,
 "nbformat_minor": 5
}
