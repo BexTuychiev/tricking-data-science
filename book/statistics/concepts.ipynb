{
 "cells": [
  {
   "cell_type": "markdown",
   "id": "29616070-ff0d-47ca-ba0e-9b5ceb46b4bb",
   "metadata": {},
   "source": [
    "# Statistics concepts"
   ]
  },
  {
   "cell_type": "markdown",
   "id": "21174e57-38e2-473a-a6b1-ef4b448001f3",
   "metadata": {},
   "source": [
    "## Distfit"
   ]
  },
  {
   "cell_type": "markdown",
   "id": "4398ec77-48a9-4a4c-963f-06390b15727e",
   "metadata": {},
   "source": [
    "People fear the unknown - darkness, death, unfamiliar distributions in the data...\n",
    "\n",
    "Well, that's no longer the case (at least for distributions). Using the distfit library, you can test any distribution against 89 known distributions in SciPy. The resulting visual tells the best theoretical fit on your empirical data. You can throw in some values to check whether they are outliers or not, as well.\n",
    "\n",
    "The code to generate the plot and distfit library in the comments👇"
   ]
  },
  {
   "cell_type": "markdown",
   "id": "e37fe9d5-7647-49dd-8b26-1c1c0032ec42",
   "metadata": {},
   "source": [
    "![](../images/2022/7_july/distfit.png)"
   ]
  },
  {
   "cell_type": "markdown",
   "id": "c2343143-f5e3-4d09-8a9c-246d3efe0a35",
   "metadata": {},
   "source": [
    "Link to distfit: https://bit.ly/3Rdn2SW\n",
    "\n",
    "Link to the code that generated the plot: https://bit.ly/3nJMFgM"
   ]
  }
 ],
 "metadata": {
  "kernelspec": {
   "display_name": "tricking_data",
   "language": "python",
   "name": "tricking_data"
  },
  "language_info": {
   "codemirror_mode": {
    "name": "ipython",
    "version": 3
   },
   "file_extension": ".py",
   "mimetype": "text/x-python",
   "name": "python",
   "nbconvert_exporter": "python",
   "pygments_lexer": "ipython3",
   "version": "3.7.0"
  }
 },
 "nbformat": 4,
 "nbformat_minor": 5
}
