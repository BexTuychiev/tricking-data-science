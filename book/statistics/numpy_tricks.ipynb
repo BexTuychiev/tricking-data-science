{
 "cells": [
  {
   "cell_type": "markdown",
   "id": "c1f6e7cd-7976-40e2-b418-16ed9bab0f90",
   "metadata": {},
   "source": [
    "# Numpy"
   ]
  },
  {
   "cell_type": "markdown",
   "id": "7e024431-cda1-4c08-9102-ff4ee72425d2",
   "metadata": {},
   "source": [
    "## np.logspace"
   ]
  },
  {
   "cell_type": "markdown",
   "id": "f2392607-639a-4d36-8dca-dd799ed2f54e",
   "metadata": {},
   "source": [
    "np.lınspace has a younger brother ın NumPy. Whıle lınspace generates evenly-spaced numbers, logspace returns evenly-spaced numbers on a log scale. You can choose any base you want."
   ]
  },
  {
   "cell_type": "markdown",
   "id": "c5275ce0-ae31-4911-8e0a-b4c9be9341fc",
   "metadata": {},
   "source": [
    "<div\n",
    "      style=\"\n",
    "        transform: scale(0.5);\n",
    "        transform-origin: top left;\n",
    "        margin-bottom: -330px;\n",
    "      \"\n",
    "    >\n",
    "      <iframe width=\"820\" height=\"632\" title=\"Code snippet - np.logspace\" src=\"https://snappify.io/embed/dc777568-f64c-4f80-9953-8ff5b1c25019\" allow=\"clipboard-write\" style=\"border-radius:10px;background:linear-gradient(to left, #141e30, #243b55)\" frameborder=\"0\"></iframe>\n",
    "    </div>"
   ]
  }
 ],
 "metadata": {
  "kernelspec": {
   "display_name": "tricking_data",
   "language": "python",
   "name": "tricking_data"
  },
  "language_info": {
   "codemirror_mode": {
    "name": "ipython",
    "version": 3
   },
   "file_extension": ".py",
   "mimetype": "text/x-python",
   "name": "python",
   "nbconvert_exporter": "python",
   "pygments_lexer": "ipython3",
   "version": "3.7.0"
  }
 },
 "nbformat": 4,
 "nbformat_minor": 5
}
