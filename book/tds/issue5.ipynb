{
 "cells": [
  {
   "cell_type": "markdown",
   "id": "fc1a16d1-e3f6-4f10-a9f4-fa420143304b",
   "metadata": {},
   "source": [
    "# Code"
   ]
  },
  {
   "cell_type": "markdown",
   "id": "038da6b7-2de2-406f-8a10-1e65f8762465",
   "metadata": {
    "tags": []
   },
   "source": [
    "## 1. Encoding categorical features with `pd.factorize`"
   ]
  },
  {
   "cell_type": "markdown",
   "id": "fbf0da05-39bc-4ac3-bfe5-33944dabe3e1",
   "metadata": {},
   "source": [
    "You don't need to import Sklearn to encode categorical features if you are just data cleaning. Pandas will take care of you, as always!\n",
    "\n",
    "Using the \"factorize\" function, you can encode orindal categorical features (categories with orderding) into numeric and get a numeric array as well as the unique values in a series.\n",
    "\n",
    "Missing values gets encoded as -1 and they won't be considered a new category. However, don't use this function after you've split the data into training and test sets. The encoding of categories happens on a \"meet-first\" basis, so the same category can be assigned a different number from the training set depending on where it first appears."
   ]
  },
  {
   "cell_type": "markdown",
   "id": "34bfbd22-5e38-4e68-b4f8-5a8ffd5cf07f",
   "metadata": {},
   "source": [
    "![](../images/2022/8_august/august-factorize.png)"
   ]
  },
  {
   "cell_type": "markdown",
   "id": "3d36d45f-70e4-46aa-b4b6-f1991b7188b1",
   "metadata": {},
   "source": [
    "## 2. ForAllPeople - universal metrics library in Python"
   ]
  },
  {
   "cell_type": "markdown",
   "id": "96745cdd-4741-4bfa-b795-0939549f8977",
   "metadata": {},
   "source": [
    "ForAllPeople is a one-of-a-kind Python library that implements all the units in SI (International System of Units).\n",
    "\n",
    "All the common and uncommon units in math, physics and chemistry are implemented as variable names and are calculation-aware. In other words, correctly using different units in a single calculation can give totally different units as you would have gotten by using a sample physics formula."
   ]
  },
  {
   "cell_type": "markdown",
   "id": "26edd4d8-c15e-4383-84b3-ca117cf76776",
   "metadata": {},
   "source": [
    "![](../images/2022/8_august/forallpeople.gif)"
   ]
  },
  {
   "cell_type": "markdown",
   "id": "93cea0ac-a895-43f8-848e-649cb806c291",
   "metadata": {},
   "source": [
    "Link to the library: https://github.com/connorferster/forallpeople"
   ]
  },
  {
   "cell_type": "markdown",
   "id": "d2f484f3-a292-4a27-91ee-f16c48d00aeb",
   "metadata": {},
   "source": [
    "## 3. Lovely Matplotlib Plots GitHub - library"
   ]
  },
  {
   "cell_type": "markdown",
   "id": "896cf6f9-518e-414f-8219-d308a8865fd6",
   "metadata": {},
   "source": [
    "How to make Matplotlib default styles unsuck, so you can boldly use the library anywhere? Use the \"ipynb\" style.\n",
    "\n",
    "LovelyPlots is a package that loads a new \"ipynb\" Matplotlib them into the installation. The purpose of this theme is to convert horrendous default Matplotlib styles to publication-level format for scientific paper, thesis and presentations.\n",
    "\n",
    "Just install it with \"pip install LovelyPlots\" and write \"ply.style.use('ipynb')\"\n",
    "\n",
    "![](../images/2022/8_august/lovely1.png)"
   ]
  },
  {
   "cell_type": "markdown",
   "id": "9257179f-d3ab-4b42-8fe8-b853b82610a1",
   "metadata": {},
   "source": [
    "## 4. UMAP vs. tSNE vs. PCA"
   ]
  },
  {
   "cell_type": "markdown",
   "id": "12ed4f17-61df-4e3d-9d7f-4bba1aa40da5",
   "metadata": {},
   "source": [
    "Which one is the fastest - PCA, tSNE or UMAP?\n",
    "\n",
    "Each dimensionality reduction algorithm preserve the underlying structure of the data differently. But sometimes, you only care about reducing the dimensions of the dataset as fast as possible. \n",
    "\n",
    "Below is a speed comparison of the three most-common reduction algorithms. As you can see, tSNE is orders of magnitude slower than others and PCA computes almost instantaneously. \n",
    "\n",
    "However, I would advise to use UMAP for most of your use-cases, as it offers a nice middle-ground between performance and the quality of the reduction."
   ]
  },
  {
   "cell_type": "markdown",
   "id": "59549c28-6209-400f-9bab-d4996d1ca02b",
   "metadata": {},
   "source": [
    "![](../images/2022/8_august/august-pca_tsne_umap.png)"
   ]
  },
  {
   "cell_type": "markdown",
   "id": "472506ee-f9fd-43e2-a466-3ed710fd2e2d",
   "metadata": {},
   "source": [
    "## 5. MLOps.org"
   ]
  },
  {
   "cell_type": "markdown",
   "id": "a548c67b-8c16-4b70-93a4-2cd78bffee14",
   "metadata": {},
   "source": [
    "The official MLOps website - ml-ops \\[dot\\] org.\n",
    "\n",
    "Most of us still don't have a crystal clear idea of the global MLOps landscape. There are so many tools with overlapping features that claim to work for one area of the field but actually ends up disrupting the clear distinctions between each sub-field of MLOps. \n",
    "\n",
    "This official website will help you navigate the complex world of MLOps by outlining all the terminology, technology and processes that go into it. There are 9 guides on end-to-end ML lifecycles, levels and design principles of MLOps software.\n",
    "\n",
    "Definitely check it out!"
   ]
  },
  {
   "cell_type": "markdown",
   "id": "7b326a01-9585-4066-a8d3-aeb72c3bc623",
   "metadata": {},
   "source": [
    "![](../images/2022/8_august/mlopsorg.png)"
   ]
  },
  {
   "cell_type": "markdown",
   "id": "430942c2-4479-4ad6-9627-06a0c3afd05c",
   "metadata": {},
   "source": [
    "## 6. More compressed file saving with Joblib"
   ]
  },
  {
   "cell_type": "markdown",
   "id": "ab8b871a-af54-4986-b097-2c24ab01886f",
   "metadata": {},
   "source": [
    "You are wasting precious memory resources if you are still using vanilla Joblib.\n",
    "\n",
    "The \"dump\" function of the Joblib library has a \"compress\" parameter that lets you specify 9 levels of file compression. The higher the number, the more compressed the file is, thus taking up much smaller size.\n",
    "\n",
    "However, as you increase compression, the read and write times increase accordingly. So, a common middleground is to use 3 or 4, with 0 being the default (no compression).\n",
    "\n",
    "Below is an example of how you can save 50% memory resources by going from 0 to 4th level of compression in Joblib."
   ]
  },
  {
   "cell_type": "markdown",
   "id": "a0eb3741-91bd-49c1-b711-3ac69fe7d8d3",
   "metadata": {},
   "source": [
    "![](../images/2022/8_august/august-joblib_compression.png)"
   ]
  },
  {
   "cell_type": "markdown",
   "id": "e04ebce0-e7cb-4a2b-a9c1-d7f7ec7d7557",
   "metadata": {},
   "source": [
    "## 7. How to get a total control over randomness in Python"
   ]
  },
  {
   "cell_type": "markdown",
   "id": "b396910a-5494-4939-a65f-55650123feca",
   "metadata": {},
   "source": [
    "How do you get a total control over the randomness in your scripts and notebooks? It is not by using np.random.seed! \n",
    "\n",
    "According to Robert Kern (a major NumPy contributor) and the Sklearn official user guide, you should use RNG instances for totally reproducible results.\n",
    "\n",
    "You should replace every mention of \"random_state=None\" with an instance of np.random.RandomState so that results across all script runs across all threads share the same random state. The behavior of RandomState (RNG) instances is particularly important when you use CV splitters.\n",
    "\n",
    "You can read more about this from a StackOverflow discussion or a pretty detailed guide on controlling randomness by Sklearn:\n",
    "\n",
    "SO thread: https://bit.ly/3A2hW5i\n",
    "Sklearn guide: https://bit.ly/3SwbLh9"
   ]
  },
  {
   "cell_type": "markdown",
   "id": "b543d530-5e51-4116-a4eb-32fbf1131663",
   "metadata": {},
   "source": [
    "## 8. There are no pure Python software engineers..."
   ]
  },
  {
   "cell_type": "markdown",
   "id": "b0b890e6-ca2f-49a2-b68a-c345152cb280",
   "metadata": {},
   "source": [
    "There are almost no pure Python software engineers...\n",
    "\n",
    "All the rockstar contributors of popular packages like TensorFlow, Sklearn or NumPy have solid backgrounds from other OOP languages like C#, Java or C++. They know the design patterns of OOP code like the back of their hands and can apply those concepts abstractly to any other OOP language without a hitch.\n",
    "\n",
    "That's why there is such a quality gap between everyday Python code and the code written on popular GitHub repos. You can't write that kind of quality software if you are coming from a pure Python background. \n",
    "\n",
    "That's also why there is such a shortage of good software engineering resources designed purely for Python. People who got their software engineering knowledge from other languages can apply their expertise to Python easily without needing to consult a book or a course.\n",
    "\n",
    "As an example, the most popular book on OOP design principles in C++ has over 2000 ratings on Amazon while the same book on Python has measly 46 ratings. "
   ]
  },
  {
   "cell_type": "markdown",
   "id": "8b248314-d1ef-4d87-ae3b-2d814507642d",
   "metadata": {},
   "source": [
    "## 9. Hyperparameter tuning for multiple metrics with Optuna"
   ]
  },
  {
   "cell_type": "markdown",
   "id": "e38231c4-5811-415d-bbea-0fad93e2e228",
   "metadata": {},
   "source": [
    "It is a giant waste if you are hyperparameter tuning for multiple metrics in separate sessions.\n",
    "\n",
    "Optuna allows you to create tuning sessions that enables you to tune for as many metrics as you want. Inside your Optuna objective function, simply measure your model using the metrics you want like precision, recall and logloss and return them separately.\n",
    "\n",
    "Then, when you initialize a study object, specify whether you want Optuna to minimize or maximize each metric by providing a list of values to \"directions\"."
   ]
  },
  {
   "cell_type": "markdown",
   "id": "ab17569f-6791-4395-9b2b-411845603316",
   "metadata": {},
   "source": [
    "![](../images/2022/8_august/august-optuna_multiple_metrics.png)"
   ]
  },
  {
   "cell_type": "markdown",
   "id": "5e44e680-df4e-4eed-89c1-92d9a6efe631",
   "metadata": {},
   "source": [
    "## 10. changedetection.io for web scraping"
   ]
  },
  {
   "cell_type": "markdown",
   "id": "47b69c54-fa65-4b5e-a6a3-15d5e2297311",
   "metadata": {},
   "source": [
    "One of the heavy challenges of web scraping in data science is websites changing their HTML/JavaScript code.\n",
    "\n",
    "A single class name change or the introduction of a new tag can totally break your scheduled web scrapers. And the hardest part is that the website change their internal markup so frequently that you don't even know what broke your scraper.\n",
    "\n",
    "For such cases, you can use the open-source changedetection \\[dot\\] io to watch out for website changes. By simply clicking the \"Diff\" button you can see what changes and update your code accordingly.\n",
    "\n",
    "Link to the tool in the comments."
   ]
  },
  {
   "cell_type": "markdown",
   "id": "5bc693d2-2fc0-4475-94f9-da908b3be08e",
   "metadata": {},
   "source": [
    "![](../images/2022/8_august/changedetection_sample.png)"
   ]
  },
  {
   "cell_type": "markdown",
   "id": "915f9acf-efe2-4a20-9ac3-92f8ba80e382",
   "metadata": {},
   "source": [
    "Link to the tool: https://changedetection.io/"
   ]
  },
  {
   "cell_type": "markdown",
   "id": "adb42ca7-4780-4002-90f1-8563c8e41876",
   "metadata": {},
   "source": [
    "## 11. GitHub README stats"
   ]
  },
  {
   "cell_type": "markdown",
   "id": "6aeeb383-70d5-4b8e-9ea3-f59dca9a3f68",
   "metadata": {},
   "source": [
    "GitHub profile stats for your READMEs!\n",
    "\n",
    "If you always wondered how people generate those nice-looking profile stats, then you are in luck. Generating those stats is as easy as adding a single line of Markdown code with a link to your GitHub profile.\n",
    "\n",
    "Link to the tool's repository (has 44k stars) in the first comment. "
   ]
  },
  {
   "cell_type": "markdown",
   "id": "b18e44d9-6960-477b-b1f7-57331d9a0f17",
   "metadata": {},
   "source": [
    "![](../images/2022/8_august/readme_stats.png)"
   ]
  },
  {
   "cell_type": "markdown",
   "id": "2745d8f3-7d79-46a0-ad25-295a9ee81f21",
   "metadata": {},
   "source": [
    "Link to the repo: https://github.com/anuraghazra/github-readme-stats"
   ]
  },
  {
   "cell_type": "markdown",
   "id": "15b3d548-fa72-436c-9f1a-d8e710d12f44",
   "metadata": {},
   "source": [
    "## 12. Type I and Type II errors in statistics"
   ]
  },
  {
   "cell_type": "markdown",
   "id": "4431d980-eec7-4130-8346-1cf3b3bb75dc",
   "metadata": {},
   "source": [
    "If you need help remembering the difference between Type I and Type II errors, here is a helpful meme. You probably won't forget the difference for the rest of your life.\n",
    "\n",
    "Source: effectsizefaq \\[dot\\] com"
   ]
  },
  {
   "cell_type": "markdown",
   "id": "d3f79d84-6a35-46aa-9d62-a0ded1663696",
   "metadata": {},
   "source": [
    "![](../images/2022/8_august/errors_stats.jpg)"
   ]
  },
  {
   "cell_type": "markdown",
   "id": "ecf0dd74-00e2-4a0c-bb06-99ba2698db3c",
   "metadata": {},
   "source": [
    "## 13. Using z-scores for outlier detection is paradoxical"
   ]
  },
  {
   "cell_type": "markdown",
   "id": "bd74dbde-0c0d-4a57-92fb-05d77dda82ae",
   "metadata": {},
   "source": [
    "I find using z-scores for outlier detection quite paradoxical. \n",
    "\n",
    "In the center of z-scores is the mean, which is a number that is most heavily influenced by extreme values. That's why I can't understand why z-score filtering became the most popular method for anomaly detection.\n",
    "\n",
    "It is true that when your extreme values lie just outside the 1.5IQR range, the z-scores might be useful. However, who has the time to check that? \n",
    "\n",
    "To be absolutely safe, you can use the Median Absolute Deviation (MAD) which uses the median and how much distance the samples are away from the mean. MAD doesn't have distribution assumptions either, while z-scores need normal distribution to work as expected."
   ]
  },
  {
   "cell_type": "markdown",
   "id": "3d11b1b7-f92d-4054-8139-ac7c52d3cfbf",
   "metadata": {},
   "source": [
    "![](../images/2022/8_august/august-mad.png)"
   ]
  },
  {
   "cell_type": "markdown",
   "id": "f1ad4cef-f8f4-4282-a4d7-abebec31ed63",
   "metadata": {},
   "source": [
    "## 14. I love `git stash` now"
   ]
  },
  {
   "cell_type": "markdown",
   "id": "ffb3a646-86fb-405c-bd97-c3cb55cd5363",
   "metadata": {},
   "source": [
    "Recently, I came to love the \"git stash\" command. Here is how I am using it and how you can as well:\n",
    "\n",
    "1. Put uncommitted changes to \"shelf\" so you can come to them later in your project. Such an awesome feature for quickly trying out new ideas without forgetting them and messing up the work you have done.\n",
    "\n",
    "2. Removing uncommitted changes - you add something new but it doesn't work as expected. You have come far along that you can't remember all the lines and files you have changed. Simply call \"git stash -u\" which quitely removes all changes in tracked, untracked and added files.\n",
    "\n",
    "3. Switch branches without that pesky error that says you have uncommitted changes. Git loves to tell that you can't change branches unless you save the updates on the current branch. To get around this, I used to make temporary commits with a message that says \"temp\" (I think I would be fired for this in a real job). Now, I just stash the changes, switch branches to check something out, come back to the original branch and pop the stash! So easy."
   ]
  },
  {
   "cell_type": "markdown",
   "id": "d5cb835d-a97f-4016-9377-0d21e1972462",
   "metadata": {},
   "source": [
    "## 15. Zipping arrays with varying lengths using `zip_longest`"
   ]
  },
  {
   "cell_type": "markdown",
   "id": "ab8394b8-ac56-4be6-bec2-7d99aa286eb2",
   "metadata": {},
   "source": [
    "If you want to zip two arrays with different lengths, use the \"zip_longest\" function from itertools.\n",
    "\n",
    "The main \"zip\" function in Python will discard the elements of the larger array so that arrays match during the loop. By using zip_longest, you ensure that no element is omitted and you can use a custom fill value to pad the shorter array."
   ]
  },
  {
   "cell_type": "markdown",
   "id": "801de785-2a80-461e-a6ab-57a230284d12",
   "metadata": {},
   "source": [
    "![](../images/2022/8_august/august-zip_longest.png)"
   ]
  },
  {
   "cell_type": "markdown",
   "id": "cbb68287-0e35-4728-9442-7e83d8251993",
   "metadata": {},
   "source": [
    "## 16. Conditional looping with `filterfalse` of `itertools`"
   ]
  },
  {
   "cell_type": "markdown",
   "id": "a8349e94-3f86-45c5-b7b5-7a1200054505",
   "metadata": {},
   "source": [
    "How to perform conditional looping in Python without using \"if\" statements? By using the \"filterfalse\" function.\n",
    "\n",
    "\"filterfalse\" accepts a boolean function (usually a lambda) that tells which elements should be discarded during the loop. For example, in the below example we are skipping numbers that are divisibly by three.\n",
    "\n",
    "In other words, we are only keeping the values that return \"False\" to the condition inside the looping function."
   ]
  },
  {
   "cell_type": "markdown",
   "id": "11392688-abb5-4559-9b73-81f0b6b79174",
   "metadata": {},
   "source": [
    "![](../images/2022/8_august/august-filterfalse.png)"
   ]
  },
  {
   "cell_type": "markdown",
   "id": "86873a50-8367-42e1-b0ba-6c2df37ecfb8",
   "metadata": {
    "tags": []
   },
   "source": [
    "## 17. Speed comparison of the fastest dimensionality reduction algorithms"
   ]
  },
  {
   "cell_type": "markdown",
   "id": "0b05822c-8aca-4ad7-8d23-e08d753db11a",
   "metadata": {},
   "source": [
    "Building on my earlier post this week, here is a more detailed comparison of the speed of the fastest dimensionality reduction algorithms.\n",
    "\n",
    "As you can see, tough-old PCA needs almost the same execution time even if you increase the dataset size 5 times. As for the tSNEs, they are embarrassing."
   ]
  },
  {
   "cell_type": "markdown",
   "id": "a8511b9b-c4c8-4d21-add0-7cfebeac4644",
   "metadata": {},
   "source": [
    "![](../images/2022/8_august/umap_pca_comparison.png)"
   ]
  },
  {
   "cell_type": "markdown",
   "id": "aab35d3f-3505-43b1-bd55-ddbe0aadaf1f",
   "metadata": {},
   "source": [
    "Source: https://bit.ly/3JAN4fj"
   ]
  },
  {
   "cell_type": "markdown",
   "id": "8f6abbf7-050f-475e-8897-cfdf49d0b5e1",
   "metadata": {},
   "source": [
    "## 18. Anatomy of Matplotlib"
   ]
  },
  {
   "cell_type": "markdown",
   "id": "af3c2e40-e668-402f-8d66-4519a32007a0",
   "metadata": {},
   "source": [
    "A plot that is worth a thousand plots.\n",
    "\n",
    "![](../images/2022/8_august/matplotlib_anatomy.png)"
   ]
  },
  {
   "cell_type": "markdown",
   "id": "3e6b737b-d36f-454b-becc-262e887cef05",
   "metadata": {},
   "source": [
    "Source: https://bit.ly/3P6gq6H"
   ]
  },
  {
   "cell_type": "markdown",
   "id": "09392661-592e-4dd0-877e-4c670d03f401",
   "metadata": {},
   "source": [
    "## 19. First swiss army knife of Matplotlib"
   ]
  },
  {
   "cell_type": "markdown",
   "id": "ef428623-29b8-420a-8028-388f9a56a234",
   "metadata": {},
   "source": [
    "The first swiss army knife of Matplotlib - plt.getp\n",
    "\n",
    "The \"plt.getp\" function is one of the most flexible and useful functions in all of Matplotlib. And yet, so few use it.\n",
    "\n",
    "When you call \"plt.getp\" on any Matplotlib object, it returns the current values of its attributes. You can call it on literally anything - the dots of scatterplots, the lines of bar charts, the spines of axes, the tick locators, the figure itself and it lists all the things you can change about that plot."
   ]
  },
  {
   "cell_type": "markdown",
   "id": "ea1c2dc3-f675-43ff-992e-5c836788539b",
   "metadata": {},
   "source": [
    "![](../images/2022/8_august/august-getp.png)"
   ]
  },
  {
   "cell_type": "markdown",
   "id": "22e47c89-c805-42a2-b674-5e045af073f6",
   "metadata": {},
   "source": [
    "## 20. Second swiss army knife of Matplotlib"
   ]
  },
  {
   "cell_type": "markdown",
   "id": "142ba4cd-4c0c-4e2f-860b-d02512a46069",
   "metadata": {},
   "source": [
    "The second swiss army knife of Matplotlib - plt.setp\n",
    "\n",
    "\"plt.setp\" is one of the most flexible and useful functions in all of Matplotlib. And yet, so few use it (yep, that is a shameless \"almost\" duplicate of my last post :)\n",
    "\n",
    "Calling \"setp\" on any Matploltib object without any arguments will print a list of all its attributes and what values they accept. Based on that information, you can change whatever aspect of your plot using only a single function.\n",
    "\n",
    "Combine it with \"plt.getp\" and you have almost everything you need to infinitely customize your plots."
   ]
  },
  {
   "cell_type": "markdown",
   "id": "e44b74c9-20ee-4fac-a9c3-7350685bcb23",
   "metadata": {},
   "source": [
    "![](../images/2022/8_august/august-setp.png)"
   ]
  },
  {
   "cell_type": "markdown",
   "id": "eda211c1-de7c-41df-89ed-1a790345a5e4",
   "metadata": {},
   "source": [
    "## 21. Creating function clones with certain arguments fixed"
   ]
  },
  {
   "cell_type": "markdown",
   "id": "fbb35eaf-10d6-4637-9b45-e29a021f14d5",
   "metadata": {},
   "source": [
    "How can you literally freeze a Python function? By using functools.partial!\n",
    "\n",
    "The \"partial\" function from functools can freeze certain arguments of a function and create a new instance with a much simplified signature. For example, below we are \"cloning\" the \"read_csv\" function so that 4 of its arguments are always fixed at custom values.\n",
    "\n",
    "Now, you can use the \"partial_read_csv\" just like pd.read_csv - you can even ovverride those arguments you specified while copying the function."
   ]
  },
  {
   "cell_type": "markdown",
   "id": "59652c0b-9a5a-4ae7-9fb3-7f40da23bd38",
   "metadata": {},
   "source": [
    "![](../images/2022/8_august/august-partial.png)"
   ]
  },
  {
   "cell_type": "markdown",
   "id": "a5241af5-60bc-46df-994e-ee0e96f99d84",
   "metadata": {},
   "source": [
    "# Resources"
   ]
  },
  {
   "cell_type": "markdown",
   "id": "201bc454-14e4-4e70-8f61-33d1b67c8576",
   "metadata": {},
   "source": [
    "## 22. 43 machine learning rules and best practices for ML Engineers by Google"
   ]
  },
  {
   "cell_type": "markdown",
   "id": "7680729f-5be8-49d1-b7a2-88537dba891d",
   "metadata": {},
   "source": [
    "> Do machine learning like the great engineer you are, not like the great machine learning expert you aren’t.\n",
    "\n",
    "That is a quote from the awesome article by Google Developers that outlines 43 machine learning rules and best practices. Among the 43, there are great advice like:\n",
    "\n",
    "1. You don't always have to use machine learning.\n",
    "2. Watch for silent failures (and what they are).\n",
    "3. Design and implement the metrics before the models.\n",
    "4. You first model should be stupidly simple like LogReg or LinReg\n",
    "\n",
    "Read the article in the first comment!"
   ]
  },
  {
   "cell_type": "markdown",
   "id": "11f90aba-90e9-481b-8cc5-3f4a863a60f2",
   "metadata": {},
   "source": [
    "Link: https://bit.ly/3A1JszN"
   ]
  },
  {
   "cell_type": "markdown",
   "id": "a0ae4b73-dc09-4c3b-9934-56b3b9d20df2",
   "metadata": {},
   "source": [
    "## 23. How to remember all classification metrics forever?"
   ]
  },
  {
   "cell_type": "markdown",
   "id": "487fecb4-b2f2-4f02-95cc-ce5e9eb6c693",
   "metadata": {},
   "source": [
    "Awesome article on how to remember the difference between classification metrics forever. Now, you don't have to inwardly curse sensitivity and specificity. \n",
    "\n",
    "Link to the article: https://bit.ly/3bx7Sbf"
   ]
  },
  {
   "cell_type": "markdown",
   "id": "1fc89056-aee9-4f4f-871a-f89ca5d79ba1",
   "metadata": {},
   "source": [
    "## 24. OpenImages - GoogleAPIs"
   ]
  },
  {
   "cell_type": "markdown",
   "id": "8abcd616-4df2-4532-bdae-db53493c2b60",
   "metadata": {},
   "source": [
    "Close to 100 million images, with ~20k categories annotated!\n",
    "\n",
    "Open Images Dataset V6+ is an open-source repository of almost 100 million high-quality images with over 20k categories annotated for image classification. There are also special images for instance segmentation, object detection (wrapping boxes), etc.\n",
    "\n",
    "The website has filters for keyword search and download. "
   ]
  },
  {
   "cell_type": "markdown",
   "id": "b1089fa7-698e-4b3b-9fbe-e541ec2335b8",
   "metadata": {},
   "source": [
    "![](../images/2022/8_august/opemimages.png)"
   ]
  },
  {
   "cell_type": "markdown",
   "id": "ed06806a-9e06-45f9-97d4-a9ae88f04e89",
   "metadata": {},
   "source": [
    "Link: https://bit.ly/3Q1Nu0K"
   ]
  },
  {
   "cell_type": "markdown",
   "id": "7e076c11-f4df-4e7c-bba2-347d5e016ba0",
   "metadata": {},
   "source": [
    "## 25. PySnooper - never use another logging library ever again!"
   ]
  },
  {
   "cell_type": "markdown",
   "id": "0ab636f3-926b-4e3a-a82c-4f1acd6ebbf0",
   "metadata": {},
   "source": [
    "With PySnooper, you won't ever have to use print statements or logging functions ever again!\n",
    "\n",
    "As you can in the image, PySnooper profiles every line of your script and detects new variables and how they change as they go through loops.\n",
    "\n",
    "Tools like this are super helpful when working with loooong loops."
   ]
  },
  {
   "cell_type": "markdown",
   "id": "c77aec80-9344-442d-9fc8-e6bd760f7cc6",
   "metadata": {},
   "source": [
    "![](../images/2022/8_august/pysnooper.png)"
   ]
  },
  {
   "cell_type": "markdown",
   "id": "7b421321-835b-4029-a339-6a1314aa57c6",
   "metadata": {},
   "source": [
    "Link to the library: https://github.com/cool-RR/PySnooper"
   ]
  },
  {
   "cell_type": "markdown",
   "id": "0daec6f4-0a11-42e2-b1e5-77c2bb87fda1",
   "metadata": {},
   "source": [
    "## 26. Hundreds of Jupyter notebook templates for various tasks"
   ]
  },
  {
   "cell_type": "markdown",
   "id": "4a1ff299-d8e6-4a7c-8b47-f65fa8819651",
   "metadata": {},
   "source": [
    "Naas Jupyter Notebook templates - the largest repository of hundreds of production-ready Jupyter Notebook templates.\n",
    "\n",
    "The GitHub repo is part of the \"Awesome\" project series on GitHub and collects useful, ready-to-run notebooks on various petty tasks that would otherwise have been to cumbersome to implement yourself.\n",
    "\n",
    "The only disadvantage is scrolling through the categories to find what you are looking for. They should put up a webiste with a search (at least GitHub pages) - it is the 21st century!"
   ]
  },
  {
   "cell_type": "markdown",
   "id": "701be8d0-49f3-438d-a088-68b86eaba7a9",
   "metadata": {},
   "source": [
    "![](../images/2022/8_august/naas.png)"
   ]
  },
  {
   "cell_type": "markdown",
   "id": "6880b849-eb67-4621-82bd-67b3eec37467",
   "metadata": {},
   "source": [
    "Repo: https://github.com/jupyter-naas/awesome-notebooks"
   ]
  },
  {
   "cell_type": "markdown",
   "id": "d828db6b-de2c-4abd-84bb-b02553a8d24a",
   "metadata": {},
   "source": [
    "## 27. pipdeptree for much better dependency management"
   ]
  },
  {
   "cell_type": "markdown",
   "id": "67e67c47-d8a6-41d1-afa5-cd97dfda0d2b",
   "metadata": {},
   "source": [
    "Raise your hand if you used \"pip freeze\" and vowed to yourself you will never, ever use it again!\n",
    "\n",
    "I handle dependency conflicts at least once a week - the process is still a mess in Python. Fortunately, I have recently come across a tool called \"pipdeptree\" which allows you to see dependencies of your environment in a hierarchical fashion.\n",
    "\n",
    "The library also gives you warnings when there are version conflicts or even worse, circular dependencies (that's usually the sign you have to delete the whole conda environment)."
   ]
  },
  {
   "cell_type": "markdown",
   "id": "451c68fc-efb5-4f00-900c-fbef724074f0",
   "metadata": {},
   "source": [
    "![](../images/2022/8_august/august-pipdeptree.png)"
   ]
  },
  {
   "cell_type": "markdown",
   "id": "892b5569-aff5-4eb4-8dd4-c8bcdebf176e",
   "metadata": {},
   "source": [
    "Repo: https://github.com/naiquevin/pipdeptree"
   ]
  },
  {
   "cell_type": "markdown",
   "id": "735c5a3d-8dcf-4f6b-92ec-3dc26f99954b",
   "metadata": {},
   "source": [
    "## 28. nbdime for diffing notebooks"
   ]
  },
  {
   "cell_type": "markdown",
   "id": "127194e0-8bc7-4875-810b-656e21307100",
   "metadata": {},
   "source": [
    "I am terribly sorry you had to see that. Calling \"git diff\" when there are changes to jupyter notebooks is one of the ugliest things you will on terminal.\n",
    "\n",
    "Notebooks are thousands of lines of JSON under the hood. There is structure to them, but that's not something you want to see on the terminal in black and white with no formatting.\n",
    "\n",
    "Fortunately, there is nbdime for diffing your notebooks. Nbdime is content aware, it shows different output based on the content of notebook cells in a web view.\n",
    "\n",
    "Here is an example that shows how a change in code leads to a different plot with different colors.\n",
    "\n",
    "Link to nbdime in the comments."
   ]
  },
  {
   "cell_type": "markdown",
   "id": "d1fed411-4b02-40c7-a773-07abb106fb66",
   "metadata": {},
   "source": [
    "![](../images/2022/8_august/nbdime_example.png)"
   ]
  },
  {
   "cell_type": "markdown",
   "id": "c70a7a52-cad7-476b-a5ad-5a638d5ca35d",
   "metadata": {},
   "source": [
    "Repo: https://bit.ly/3d6drxz"
   ]
  }
 ],
 "metadata": {
  "kernelspec": {
   "display_name": "articles",
   "language": "python",
   "name": "articles"
  },
  "language_info": {
   "codemirror_mode": {
    "name": "ipython",
    "version": 3
   },
   "file_extension": ".py",
   "mimetype": "text/x-python",
   "name": "python",
   "nbconvert_exporter": "python",
   "pygments_lexer": "ipython3",
   "version": "3.9.12"
  }
 },
 "nbformat": 4,
 "nbformat_minor": 5
}
