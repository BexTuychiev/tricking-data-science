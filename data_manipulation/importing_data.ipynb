{
 "cells": [
  {
   "cell_type": "markdown",
   "id": "a36265c2-d11e-48ff-826b-4bfe7868e52b",
   "metadata": {
    "pycharm": {
     "name": "#%% md\n"
    }
   },
   "source": [
    "# Importing Data Efficiently"
   ]
  },
  {
   "cell_type": "markdown",
   "id": "c7fa9bc5-d3cc-42f1-bd0f-66cf907bd67f",
   "metadata": {},
   "source": [
    "## Reading large CSV files with Datatable"
   ]
  },
  {
   "cell_type": "markdown",
   "id": "f4ff7d75-49f2-4e2c-9f7f-ae75512e6260",
   "metadata": {},
   "source": [
    "If you load a giant CSV fıle wıth Pandas, the death waıt that comes after ıs entırely on you.\n",
    "\n",
    "Pandas ıtself warns that you should stay far away from Pandas ıf you ımport large fıles. It suggests alternatıves lıke Dask or Vaex.\n",
    "\n",
    "I have a better suggestıon: use datatable.\n",
    "\n",
    "The R-ınspıred package ıs popular on Kaggle and ıt ıs darn fast."
   ]
  },
  {
   "cell_type": "markdown",
   "id": "02fe3b4f-5bd6-47e1-b475-e845d694b40b",
   "metadata": {
    "pycharm": {
     "name": "#%% md\n"
    }
   },
   "source": [
    "![](../images/pandas_vs_datatable_import.png)"
   ]
  },
  {
   "cell_type": "code",
   "execution_count": 11,
   "id": "0ef7d60d-e1d7-49f5-9f04-e17f2f27f1fa",
   "metadata": {
    "tags": [
     "hide-cell"
    ]
   },
   "outputs": [
    {
     "name": "stdout",
     "output_type": "stream",
     "text": [
      "The file size is 0.9038 GB.\n"
     ]
    }
   ],
   "source": [
    "import os\n",
    "\n",
    "data_size = os.path.getsize(\"../data/tps_sep_2021_train.csv\") / 1e9\n",
    "\n",
    "print(f\"The file size is {data_size:.4f} GB.\")"
   ]
  },
  {
   "cell_type": "code",
   "execution_count": 1,
   "id": "4bc82a97-e3ba-46ba-a4c7-968097a956ac",
   "metadata": {
    "pycharm": {
     "name": "#%%\n"
    }
   },
   "outputs": [
    {
     "name": "stdout",
     "output_type": "stream",
     "text": [
      "Wall time: 9.73 s\n"
     ]
    }
   ],
   "source": [
    "%%time\n",
    "\n",
    "import pandas as pd\n",
    "\n",
    "df = pd.read_csv(\"../data/tps_sep_2021_train.csv\")"
   ]
  },
  {
   "cell_type": "code",
   "execution_count": 2,
   "id": "f2b84ade-5d23-4078-9bba-68de5e4317d1",
   "metadata": {
    "tags": [
     "hide-cell"
    ]
   },
   "outputs": [
    {
     "name": "stdout",
     "output_type": "stream",
     "text": [
      "Wall time: 703 ms\n"
     ]
    }
   ],
   "source": [
    "%%time\n",
    "\n",
    "import datatable as dt\n",
    "\n",
    "dt_df = dt.fread(\"../data/tps_sep_2021_train.csv\")\n",
    "\n",
    "pd_df = dt_df.to_pandas()"
   ]
  }
 ],
 "metadata": {
  "kernelspec": {
   "display_name": "tricking_data",
   "language": "python",
   "name": "tricking_data"
  },
  "language_info": {
   "codemirror_mode": {
    "name": "ipython",
    "version": 3
   },
   "file_extension": ".py",
   "mimetype": "text/x-python",
   "name": "python",
   "nbconvert_exporter": "python",
   "pygments_lexer": "ipython3",
   "version": "3.7.0"
  }
 },
 "nbformat": 4,
 "nbformat_minor": 5
}