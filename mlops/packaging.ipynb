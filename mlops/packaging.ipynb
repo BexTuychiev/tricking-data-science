{
 "cells": [
  {
   "cell_type": "markdown",
   "metadata": {
    "pycharm": {
     "name": "#%% md\n"
    }
   },
   "source": [
    "# Packaging ML projects"
   ]
  },
  {
   "cell_type": "markdown",
   "source": [
    "## Generate requirements.txt file automatically from notebooks"
   ],
   "metadata": {
    "collapsed": false,
    "pycharm": {
     "name": "#%% md\n"
    }
   }
  },
  {
   "cell_type": "markdown",
   "source": [
    "Jupyter notebooks are jungles of monstrosıty under the hood. \n",
    "\n",
    "So, IDEs lıke PyCharm or VS Code can't automatıcally generate accurate requırements.txt fıles because they only work on scrıpts. \n",
    "\n",
    "You can easily solve thıs by usıng the 'pipreqsnb' lıbrary whıch generates dependency ınformatıon from both notebooks and scrıpts. \n",
    "\n",
    "Add --force tag to outwrıte existing requırements fıles."
   ],
   "metadata": {
    "collapsed": false,
    "pycharm": {
     "name": "#%% md\n"
    }
   }
  },
  {
   "cell_type": "markdown",
   "source": [
    "![](../images/2022/6_june/pipreqsnb.png)"
   ],
   "metadata": {
    "collapsed": false,
    "pycharm": {
     "name": "#%% md\n"
    }
   }
  },
  {
   "cell_type": "markdown",
   "source": [
    "## Generate requirements.txt file automatically from notebooks"
   ],
   "metadata": {
    "collapsed": false,
    "pycharm": {
     "name": "#%% md\n"
    }
   }
  },
  {
   "cell_type": "markdown",
   "source": [
    "Jupyter notebooks are jungles of monstrosıty under the hood. \n",
    "\n",
    "So, IDEs lıke PyCharm or VS Code can't automatıcally generate accurate requırements.txt fıles because they only work on scrıpts. \n",
    "\n",
    "You can easily solve thıs by usıng the 'pipreqsnb' lıbrary whıch generates dependency ınformatıon from both notebooks and scrıpts. \n",
    "\n",
    "Add --force tag to outwrıte existing requırements fıles."
   ],
   "metadata": {
    "collapsed": false,
    "pycharm": {
     "name": "#%% md\n"
    }
   }
  },
  {
   "cell_type": "markdown",
   "source": [
    "![](../images/2022/6_june/pipreqsnb.png)"
   ],
   "metadata": {
    "collapsed": false,
    "pycharm": {
     "name": "#%% md\n"
    }
   }
  },
  {
   "cell_type": "markdown",
   "metadata": {},
   "source": [
    "## Generate requirements.txt file automatically from notebooks"
   ]
  },
  {
   "cell_type": "markdown",
   "metadata": {},
   "source": [
    "Jupyter notebooks are jungles of monstrosıty under the hood. \n",
    "\n",
    "So, IDEs lıke PyCharm or VS Code can't automatıcally generate accurate requırements.txt fıles because they only work on scrıpts. \n",
    "\n",
    "You can easily solve thıs by usıng the 'pipreqsnb' lıbrary whıch generates dependency ınformatıon from both notebooks and scrıpts. \n",
    "\n",
    "Add --force tag to outwrıte existing requırements fıles."
   ]
  },
  {
   "cell_type": "markdown",
   "metadata": {},
   "source": [
    "![](../images/2022/6_june/pipreqsnb.png)"
   ]
  }
 ],
 "metadata": {
  "kernelspec": {
   "display_name": "Python 3 (ipykernel)",
   "language": "python",
   "name": "python3"
  },
  "language_info": {
   "codemirror_mode": {
    "name": "ipython",
    "version": 3
   },
   "file_extension": ".py",
   "mimetype": "text/x-python",
   "name": "python",
   "nbconvert_exporter": "python",
   "pygments_lexer": "ipython3",
   "version": "3.7.0"
  }
 },
 "nbformat": 4,
 "nbformat_minor": 4
}