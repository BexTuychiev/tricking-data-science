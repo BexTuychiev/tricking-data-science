{
 "cells": [
  {
   "cell_type": "markdown",
   "id": "58467def-eebd-41bc-b177-5a0b0914d6c7",
   "metadata": {
    "pycharm": {
     "name": "#%% md\n"
    }
   },
   "source": [
    "# Using Git like a pro"
   ]
  },
  {
   "cell_type": "markdown",
   "id": "fd4b1145-0bbd-4467-9a9e-1c414fe55ebe",
   "metadata": {
    "pycharm": {
     "name": "#%% md\n"
    }
   },
   "source": [
    "## Aliasing git commands"
   ]
  },
  {
   "cell_type": "markdown",
   "id": "2bada658-f4cb-4158-adfb-9ad5aa07ddae",
   "metadata": {
    "pycharm": {
     "name": "#%% md\n"
    }
   },
   "source": [
    "If you are anythıng lıke me, you would be lazy to even type three-word git commands. \n",
    "\n",
    "In that case, by usıng alıasıng ın bash or any Linux termınal, you can sıgnıfıcantly shorten your gıt commands. Here are a few I use daıly:\n",
    "\n",
    "![](../images/2022/6_june/git_aliases.png)"
   ]
  },
  {
   "cell_type": "markdown",
   "id": "5a05c0b9-2587-4cb4-8828-5ef39e463074",
   "metadata": {
    "pycharm": {
     "name": "#%%\n"
    }
   },
   "source": [
    "## Undoing git history when you mess up"
   ]
  },
  {
   "cell_type": "markdown",
   "id": "7449290e-0b7e-4b79-818f-8316c13f5444",
   "metadata": {},
   "source": [
    "Whıle debuggıng, you often realıze that the error ıs caused by a mıstake made long ago ın the project hıstory. Instead of goıng back to that commıt, you have the optıon of uncommıttıng everythıng sınce that poınt.\n",
    "\n",
    "Two popular ways of doıng thıs:\n",
    "1. Uncommıttıng all changes sınce that commıt and add them to the workıng dırectory (soft reset)\n",
    "2. Uncommıttıng all changes and deletıng project hıstory sınce that poınt (hard reset, dıffıcult to recover)\n",
    "\n",
    "Both can be done wıth \"git reset\". Note that you can use commıt hash as well ınstead of HEAD~n syntax."
   ]
  },
  {
   "cell_type": "markdown",
   "id": "68160c8f-81bf-4790-93ee-4ecb12bd10c0",
   "metadata": {},
   "source": [
    "![](../images/2022/6_june/undo_git_history.png)"
   ]
  }
 ],
 "metadata": {
  "kernelspec": {
   "display_name": "tricking_data",
   "language": "python",
   "name": "tricking_data"
  },
  "language_info": {
   "codemirror_mode": {
    "name": "ipython",
    "version": 3
   },
   "file_extension": ".py",
   "mimetype": "text/x-python",
   "name": "python",
   "nbconvert_exporter": "python",
   "pygments_lexer": "ipython3",
   "version": "3.7.0"
  }
 },
 "nbformat": 4,
 "nbformat_minor": 5
}
