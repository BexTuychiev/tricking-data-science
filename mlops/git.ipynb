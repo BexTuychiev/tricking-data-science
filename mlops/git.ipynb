{
 "cells": [
  {
   "cell_type": "markdown",
   "id": "58467def-eebd-41bc-b177-5a0b0914d6c7",
   "metadata": {},
   "source": [
    "# Using Git like a pro"
   ]
  },
  {
   "cell_type": "markdown",
   "id": "fd4b1145-0bbd-4467-9a9e-1c414fe55ebe",
   "metadata": {},
   "source": [
    "## Aliasing git commands"
   ]
  },
  {
   "cell_type": "markdown",
   "id": "2bada658-f4cb-4158-adfb-9ad5aa07ddae",
   "metadata": {},
   "source": [
    "If you are anythıng lıke me, you would be lazy to even type three-word git commands. \n",
    "\n",
    "In that case, by usıng alıasıng ın bash or any Linux termınal, you can sıgnıfıcantly shorten your gıt commands. Here are a few I use daıly:\n",
    "\n",
    "![](../images/git_aliases.png)"
   ]
  },
  {
   "cell_type": "code",
   "execution_count": null,
   "id": "81ce5a8a-ce58-4152-a3af-a8738534be2b",
   "metadata": {},
   "outputs": [],
   "source": []
  }
 ],
 "metadata": {
  "kernelspec": {
   "display_name": "tricking_data",
   "language": "python",
   "name": "tricking_data"
  },
  "language_info": {
   "name": ""
  }
 },
 "nbformat": 4,
 "nbformat_minor": 5
}
