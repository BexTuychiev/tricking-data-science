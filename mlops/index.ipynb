{
 "cells": [
  {
   "cell_type": "markdown",
   "id": "abe88ee5-d4e0-457f-8019-fc6b88d5bf9d",
   "metadata": {},
   "source": [
    "# Machine Learning Operations (MLOps) tools"
   ]
  }
 ],
 "metadata": {
  "kernelspec": {
   "display_name": "kaggle_comp",
   "language": "python",
   "name": "kaggle_comp"
  },
  "language_info": {
   "codemirror_mode": {
    "name": "ipython",
    "version": 3
   },
   "file_extension": ".py",
   "mimetype": "text/x-python",
   "name": "python",
   "nbconvert_exporter": "python",
   "pygments_lexer": "ipython3",
   "version": "3.9.7"
  }
 },
 "nbformat": 4,
 "nbformat_minor": 5
}
