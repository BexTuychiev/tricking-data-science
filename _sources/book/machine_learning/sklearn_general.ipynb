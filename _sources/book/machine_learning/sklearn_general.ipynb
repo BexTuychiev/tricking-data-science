{
 "cells": [
  {
   "cell_type": "markdown",
   "id": "4beab675-c420-47c2-bff0-c82daa839c36",
   "metadata": {},
   "source": [
    "# Sklearn - neat tricks"
   ]
  },
  {
   "cell_type": "markdown",
   "id": "398c1ddc-08b0-411a-b8c1-e9629a56c7a7",
   "metadata": {},
   "source": [
    "## `make_pipeline` and `make_column_transformer` - shorter pipelines"
   ]
  },
  {
   "cell_type": "markdown",
   "id": "1e465306-f521-4b3f-b094-58c22ea9598a",
   "metadata": {},
   "source": [
    "When your Sklearn pipeline is finished, it can become quite humongous and unreadable.\n",
    "\n",
    "Using `make_pipeline` and `make_column_transformer` can collapse all those into a few lines👇:"
   ]
  },
  {
   "cell_type": "markdown",
   "id": "1061b218-77e6-411c-a5fe-dd46589aa897",
   "metadata": {},
   "source": [
    "<div\n",
    "      style=\"\n",
    "        transform: scale(0.5);\n",
    "        transform-origin: top left;\n",
    "        margin-bottom: -365px;\n",
    "      \"\n",
    "    >\n",
    "      <iframe width=\"1168\" height=\"696\" title=\"Code snippet - make_pipe_transformer\" src=\"https://snappify.io/embed/1922052b-f090-4b65-9c29-8d297876b5ba\" allow=\"clipboard-write\" style=\"border-radius:10px;background:linear-gradient(to left, #141e30, #243b55)\" frameborder=\"0\"></iframe>\n",
    "    </div>"
   ]
  },
  {
   "cell_type": "markdown",
   "id": "9e4edbbc-d7fa-4e29-811a-048f90e5dad1",
   "metadata": {},
   "source": [
    "## Function and class transformer for custom preprocessing steps"
   ]
  },
  {
   "cell_type": "markdown",
   "id": "809d0a7b-b81e-4cfb-b6c2-db68fb923cd1",
   "metadata": {},
   "source": [
    "Sklearn transformers and pipelines are powerful. They make preprocessing data much easier. But Sklearn doesn't implement transformers for all preprocessing scenarios.\n",
    "\n",
    "What if you need to include a custom feature engineering step? Or use a custom algorithm to encode categorical values? If you can't add these steps to your pipeline, the whole idea of atomic, flat pipelines break down.\n",
    "\n",
    "Fortunately, Sklearn provides classes like FunctionTransform to convert any preprocessing function to an Sklearn estimator and pass it into a pipeline."
   ]
  },
  {
   "cell_type": "markdown",
   "id": "84e48858-e030-4bf7-88aa-94d1501257ca",
   "metadata": {},
   "source": [
    "<div\n",
    "      style=\"\n",
    "        transform: scale(0.5);\n",
    "        transform-origin: top left;\n",
    "        margin-bottom: -350px;\n",
    "      \"\n",
    "    >\n",
    "      <iframe width=\"1124\" height=\"616\" title=\"Code snippet - sklearn_custom_transformer\" src=\"https://snappify.io/embed/77b8c4e2-4b11-43fb-b1cd-772544759020\" allow=\"clipboard-write\" style=\"border-radius:10px;background:linear-gradient(to left, #141e30, #243b55)\" frameborder=\"0\"></iframe>\n",
    "    </div>"
   ]
  },
  {
   "cell_type": "markdown",
   "id": "6a8dc265-f437-431f-a6e9-46060e1a8494",
   "metadata": {},
   "source": [
    "## Choose columns automatically with make_column_selector"
   ]
  },
  {
   "cell_type": "markdown",
   "id": "b8e0fd9c-97d4-4bae-8ca4-23d0fb2aa56c",
   "metadata": {},
   "source": [
    "Sklearn has an automatic column selector - `make_column_selector`.\n",
    "\n",
    "It can filter columns by including or excluding numeric/categorical data types or it accepts a regex string if you want to capture more complex patterns.\n",
    "\n",
    "Sklearn solutions are always more elegant."
   ]
  },
  {
   "cell_type": "markdown",
   "id": "a6a409b7-6ae3-40d5-9105-5cb4ca5045dc",
   "metadata": {},
   "source": [
    "<div\n",
    "      style=\"\n",
    "        transform: scale(0.5);\n",
    "        transform-origin: top left;\n",
    "        margin-bottom: -380px;\n",
    "      \"\n",
    "    >\n",
    "      <iframe width=\"1000\" height=\"724\" title=\"Code snippet - make_col_selector\" src=\"https://snappify.io/embed/8232af30-fd7e-42cc-8969-9211f0ed672c\" allow=\"clipboard-write\" style=\"border-radius:10px;background:linear-gradient(to left, #141e30, #243b55)\" frameborder=\"0\"></iframe>\n",
    "    </div>"
   ]
  },
  {
   "cell_type": "markdown",
   "id": "ff688a9a-f740-4a6e-a90b-34de61d6e9cb",
   "metadata": {},
   "source": [
    "## Logistic Regression on multi-class problems?"
   ]
  },
  {
   "cell_type": "markdown",
   "id": "c6d79048-1a99-47f1-b0b5-3785c0622733",
   "metadata": {},
   "source": [
    "Ever wondered why logistic regression works on multi-class problems even though it is strictly binary classification algorithm?\n",
    "\n",
    "There are three methods to modify logistic regression so that it works on mutli-class problems as well:\n",
    "\n",
    "1. One-vs-rest (OVR) or one-vs-all (OVA)\n",
    "When logistic regression is used with OVR or OVA approaches on a multi-class case, the problem is divided into N binary classification problems. \n",
    "\n",
    "If there are three classes (a, b, c), three LogReg models will be fit on a vs. not a, b vs. not b and c vs. not c problems. The results will be averaged (simple or weighted averages) to calculate a membership probability.\n",
    "\n",
    "2. One-vs-one (OVO)\n",
    "In this approach, n-class multi-class problem is divided into n*(n-1)/2 binary classification problems. The results are averaged in the same manner. This is the less popular approach as it is computation-heavy when you have many classes in the target.\n",
    "\n",
    "3. Multinomial logistic regression\n",
    "By changing the loss function from log loss to cross-entropy loss, we get a multinomial logistic regression model that can calculate membership probabilities to all classes in the target. This is the default in Sklearn."
   ]
  },
  {
   "cell_type": "markdown",
   "id": "1c1575b3-4695-48f5-9877-9b15ac986cd0",
   "metadata": {},
   "source": [
    "<div\n",
    "      style=\"\n",
    "        transform: scale(0.5);\n",
    "        transform-origin: top left;\n",
    "        margin-bottom: -220px;\n",
    "      \"\n",
    "    >\n",
    "      <iframe width=\"719\" height=\"352\" title=\"Code snippet - log_reg_multi\" src=\"https://snappify.io/embed/8f2ebf33-929c-4b18-b381-d60a5ccde2bb\" allow=\"clipboard-write\" style=\"border-radius:10px;background:linear-gradient(to left, #141e30, #243b55)\" frameborder=\"0\"></iframe>\n",
    "    </div>"
   ]
  },
  {
   "cell_type": "markdown",
   "id": "bccceec1-1e11-4d38-8b43-9f62a0404d78",
   "metadata": {},
   "source": [
    "## ConfusionMatrix display for better confusion matrix"
   ]
  },
  {
   "cell_type": "markdown",
   "id": "9e6b98c8-b6f8-42ed-a1d7-39b45408581c",
   "metadata": {},
   "source": [
    "If you want much more control over how you display your confusion matrix in Sklearn, use ConfusionMatrixDisplay class.\n",
    "\n",
    "With the class, you can control how X and Y labels look, what texts they display, the colormap of the matrix and much more.\n",
    "\n",
    "Besides, it has a from_estimator function that enables you to plot the matrix without having to generate predictions beforehand."
   ]
  },
  {
   "cell_type": "markdown",
   "id": "8b9f384c-3419-47fd-8be6-60fd9789b1d4",
   "metadata": {},
   "source": [
    "<div\n",
    "      style=\"\n",
    "        transform: scale(0.5);\n",
    "        transform-origin: top left;\n",
    "        margin-bottom: -330px;\n",
    "      \"\n",
    "    >\n",
    "      <iframe width=\"1129\" height=\"560\" title=\"Code snippet - matrix_display\" src=\"https://snappify.io/embed/c1e4a126-e4ff-4f70-ae58-28395b182c7f\" allow=\"clipboard-write\" style=\"border-radius:10px;background:linear-gradient(to left, #141e30, #243b55)\" frameborder=\"0\"></iframe>\n",
    "    </div>"
   ]
  },
  {
   "cell_type": "markdown",
   "id": "0d2144be-8650-43ee-bd5a-8f2278e9de40",
   "metadata": {
    "tags": []
   },
   "source": [
    "## Text representation of a decision tree"
   ]
  },
  {
   "cell_type": "markdown",
   "id": "e4b1196d-46fb-4856-8ca5-c4aae039f61e",
   "metadata": {},
   "source": [
    "Sklearn allows you to print a text representation of a decision tree. Here is an example👇\n",
    "\n",
    "After taking a minute reading the output, you can easily build a prediction path for any sample in your dataset:"
   ]
  },
  {
   "cell_type": "markdown",
   "id": "6aa36712-145e-4085-a405-ce764ac99ddf",
   "metadata": {},
   "source": [
    "<div\n",
    "      style=\"\n",
    "        transform: scale(0.5);\n",
    "        transform-origin: top left;\n",
    "        margin-bottom: -365px;\n",
    "      \"\n",
    "    >\n",
    "      <iframe width=\"1060\" height=\"684\" title=\"Code snippet - text_tree\" src=\"https://snappify.io/embed/2a7bf1f0-9647-4f38-b9d8-b7ca7ceff2e1\" allow=\"clipboard-write\" style=\"border-radius:10px;background:linear-gradient(to left, #141e30, #243b55)\" frameborder=\"0\"></iframe>\n",
    "    </div>"
   ]
  },
  {
   "cell_type": "markdown",
   "id": "f1c20fb2-2e2b-4527-809d-bc7cf5b07c9f",
   "metadata": {},
   "source": [
    "## Default RMSE in Sklearn"
   ]
  },
  {
   "cell_type": "markdown",
   "id": "f0f2a0cc-9ec5-4412-a485-31a52bd567a5",
   "metadata": {},
   "source": [
    "I always found it strange that Room Mean Squared Error wasn't available in Sklearn given that it was such a popular metric. \n",
    "\n",
    "Later, I found that I didn't look long enough because it was available as a parameter inside mean_squared_error (squared=False)👇"
   ]
  },
  {
   "cell_type": "markdown",
   "id": "41c5141e-5285-4912-a449-556d93414c93",
   "metadata": {},
   "source": [
    "<div\n",
    "      style=\"\n",
    "        transform: scale(0.5);\n",
    "        transform-origin: top left;\n",
    "        margin-bottom: -240px;\n",
    "      \"\n",
    "    >\n",
    "      <iframe width=\"615\" height=\"303\" title=\"Code snippet - rmse\" src=\"https://snappify.io/embed/640677f3-a473-4357-ad9b-f57a26cd0059\" allow=\"clipboard-write\" style=\"border-radius:10px;background:linear-gradient(to left, #141e30, #243b55)\" frameborder=\"0\"></iframe>\n",
    "    </div>"
   ]
  },
  {
   "cell_type": "markdown",
   "id": "687fdf64-1769-499d-85a6-fc0c0f85013b",
   "metadata": {},
   "source": [
    "## Plotting decision trees in Sklearn"
   ]
  },
  {
   "cell_type": "markdown",
   "id": "614774c9-1b92-4b16-80c8-35a610be93ed",
   "metadata": {},
   "source": [
    "Decision trees are everywhere. It has many variations with applications - CART boosted tree in XGBoost, regular and extremely random trees of Sklearn, trees of IsolationForest for outlier detection, etc.\n",
    "\n",
    "So, it is crucial that you understand how they work. One way you can do this is by visualizing them via Sklearn:"
   ]
  },
  {
   "cell_type": "markdown",
   "id": "1ef49580-c28d-4b76-b9ad-ff2319bd1ba3",
   "metadata": {},
   "source": [
    "<div\n",
    "      style=\"\n",
    "        transform: scale(0.5);\n",
    "        transform-origin: top left;\n",
    "        margin-bottom: -375px;\n",
    "      \"\n",
    "    >\n",
    "      <iframe width=\"1060\" height=\"684\" title=\"Code snippet - viz_tree\" src=\"https://snappify.io/embed/dca9db00-9f25-4521-8f6e-b8650311a9e3\" allow=\"clipboard-write\" style=\"border-radius:10px;background:linear-gradient(to left, #141e30, #243b55)\" frameborder=\"0\"></iframe>\n",
    "    </div>"
   ]
  },
  {
   "cell_type": "markdown",
   "id": "f6923fae-5f92-4dea-bd8e-9ee36448c0a4",
   "metadata": {},
   "source": [
    "## Rule of thumb for fit/predict/fit_transform"
   ]
  },
  {
   "cell_type": "markdown",
   "id": "2a8c92ab-fddb-4116-90b1-2a1e2a3dab11",
   "metadata": {},
   "source": [
    "Rules of thumb to differentiate between fit/transform/fit_transform functions of Sklearn.\n",
    "\n",
    "1. All sklearn transformers (e.g. OneHotEncoder, StandardScaler) must be fitted to the training data. When the \"fit\" function is called, the transformers learn statistical properties of the features like mean, median, variance, quartiles, etc. That's why any function that has \"fit\" in the name must be called on training data first.\n",
    "\n",
    "2. The transform function behaves differently based on the estimator's purpose. It is called only after the \"fit\" function is run because most \"transform\" functions need the information learned from \"fit\". \"transform\" can be used on all sets as long as the \"fit\" function is called on training.\n",
    "\n",
    "3. \"fit_transform\" should also be used only on training data. The only difference is that it simultaneously learns and transforms the statistical properties of the training features."
   ]
  },
  {
   "cell_type": "markdown",
   "id": "e99b6a20-81fe-471a-8179-31e30b23677c",
   "metadata": {},
   "source": [
    "## The difference between micro, macro, weighted averages"
   ]
  },
  {
   "cell_type": "markdown",
   "id": "4a4f57c6-0082-4a2d-b9b1-32d1e482b8f3",
   "metadata": {},
   "source": [
    "What are the differences between micro, macro and weighted averages and why should you care?\n",
    "\n",
    "In multi-class classification problems, models often compute a metric for each class. For example, in a 3-class problem, 3 precision scores are returned. We don't care for three, we just need a single global metric. That's where averaging methods come into play.\n",
    "\n",
    "1. Macro average\n",
    "\n",
    "This is a simple arithmetic mean. For example, if precision scores are 0.7, 0.8, 0.9, macro average would be their mean - 0.8. \n",
    "\n",
    "2. Weighted average\n",
    "\n",
    "This method takes into account the class imbalance as metrics for each class are multiplied by the proportion of that class. For example, if there are 100 samples (30, 45, 25 for each class respectively) and the precision scores are .7, .8, .9, the weighted average would be:\n",
    "\n",
    "0.3 * 0.7 + 0.45 * 0.8 + 0.25 * 0.9 = 0.795\n",
    "\n",
    "3. Micro average\n",
    "\n",
    "Micro average is the same as accuracy - it is calculated by dividing the number of all correctly classified samples (true positives) by the total number of correctly and incorrectly (true positives + false positives) classified samples of each class.\n",
    "\n",
    "You should avoid micro average when you have an imbalanced problem. Instead, use macro if you don't care much for class contributions or weighted average when you do."
   ]
  },
  {
   "cell_type": "markdown",
   "id": "07e12339-f87c-4796-a39e-854ec6b5c964",
   "metadata": {},
   "source": [
    "## Getting a scorer object from just the name"
   ]
  },
  {
   "cell_type": "markdown",
   "id": "3381917d-78b0-4a1b-a4ed-4bb29354580f",
   "metadata": {},
   "source": [
    "In a single project, you may evaluate your models using multiple metrics. Instead of importing them one by one from sklearn and pollute your namespace, you can use the \"get_scorer\" function of the metrics module.\n",
    "\n",
    "Just pass the name of the metric you want and you get a scorer object ready to use👇"
   ]
  },
  {
   "cell_type": "markdown",
   "id": "a4430882-f21e-495a-9907-2a6de4d2d66d",
   "metadata": {},
   "source": [
    "<div\n",
    "      style=\"\n",
    "        transform: scale(0.5);\n",
    "        transform-origin: top left;\n",
    "        margin-bottom: -270px;\n",
    "      \"\n",
    "    >\n",
    "      <iframe width=\"689\" height=\"468\" title=\"Code snippet - get_scorer\" src=\"https://snappify.io/embed/dcfded5a-b95b-4766-b099-1f643c8437fd\" allow=\"clipboard-write\" style=\"border-radius:10px;background:linear-gradient(to left, #141e30, #243b55)\" frameborder=\"0\"></iframe>\n",
    "    </div>"
   ]
  },
  {
   "cell_type": "markdown",
   "id": "f3cf1fd8-071b-46f5-8151-0cee9814a7ee",
   "metadata": {},
   "source": [
    "## Get all scorer's names in Sklearn"
   ]
  },
  {
   "cell_type": "markdown",
   "id": "69aa492d-ca29-4b5a-8694-a17b9e4d824a",
   "metadata": {},
   "source": [
    "Sklearn has over 50 metrics to evaluate the performance of its models. To pass those metrics inside pipelines or GridSearch instances, you have to remember their text names. \n",
    "\n",
    "If you forget any of them, here is how you can print out the names of all the metrics👇"
   ]
  },
  {
   "cell_type": "markdown",
   "id": "05e1e964-1549-468d-b923-36eef151e9db",
   "metadata": {},
   "source": [
    "<div\n",
    "      style=\"\n",
    "        transform: scale(0.5);\n",
    "        transform-origin: top left;\n",
    "        margin-bottom: -270px;\n",
    "      \"\n",
    "    >\n",
    "      <iframe width=\"888\" height=\"452\" title=\"Code snippet - all_scorers\" src=\"https://snappify.io/embed/41e4bb95-7608-4a34-b38d-f13bbea9a028\" allow=\"clipboard-write\" style=\"border-radius:10px;background:linear-gradient(to left, #141e30, #243b55)\" frameborder=\"0\"></iframe>\n",
    "    </div>"
   ]
  },
  {
   "cell_type": "markdown",
   "id": "e179bdc9-6946-4ed4-a569-1b51b6d52800",
   "metadata": {},
   "source": [
    "## Displaying ROC Curve without generating predictions"
   ]
  },
  {
   "cell_type": "markdown",
   "id": "f87bc20e-1279-4567-8112-9cd84a1fbe56",
   "metadata": {},
   "source": [
    "Can you spell out ROC curve without looking it up? If yes, don't flatter yourself, because a lot of people can😁.\n",
    "\n",
    "But not a lot of people know that you can draw the ROC curve without even generating predictions. Just use the RocCurveDisplay class and its from_estimator method👇"
   ]
  },
  {
   "cell_type": "markdown",
   "id": "6d713bff-3984-4a06-a59a-069d9e7ded6f",
   "metadata": {},
   "source": [
    "<div\n",
    "      style=\"\n",
    "        transform: scale(0.5);\n",
    "        transform-origin: top left;\n",
    "        margin-bottom: -350px;\n",
    "      \"\n",
    "    >\n",
    "      <iframe width=\"820\" height=\"616\" title=\"Code snippet - roc_curve\" src=\"https://snappify.io/embed/1626354f-35db-4b6c-9127-0c39e85278de\" allow=\"clipboard-write\" style=\"border-radius:10px;background:linear-gradient(to left, #141e30, #243b55)\" frameborder=\"0\"></iframe>\n",
    "    </div>"
   ]
  },
  {
   "cell_type": "markdown",
   "id": "b79062f6-e8a0-4b3a-b156-7103485f463f",
   "metadata": {},
   "source": [
    "## HTML representation of an Sklearn pipeline"
   ]
  },
  {
   "cell_type": "markdown",
   "id": "bd1806cb-9731-4415-9276-a2098fbdd0cc",
   "metadata": {},
   "source": [
    "You can get an interactive HTML representation of your Sklearn pipeline right inside a notebook.\n",
    "\n",
    "Just import set_config function from Sklearn and set display to \"diagram\"👇"
   ]
  },
  {
   "cell_type": "markdown",
   "id": "79c6987e-f6cb-444f-9683-a4a007cc1617",
   "metadata": {},
   "source": [
    "![](../images/2022/7_july/sklearn_pipe.gif)"
   ]
  },
  {
   "cell_type": "markdown",
   "id": "3d40148d-6027-45b1-b439-0a4a78cdd484",
   "metadata": {},
   "source": [
    "## Displaying Precision/Recall curve without generating predictions"
   ]
  },
  {
   "cell_type": "markdown",
   "id": "ae26e610-b9be-4d23-864b-7689904bc2ad",
   "metadata": {},
   "source": [
    "Area under the Precision/Recall curve is one of the best metrics to evaluate the performance of models in imbalanced classification problems.\n",
    "\n",
    "Precision measures the percentage of true predictions (true positives / (true positives + false positives)).\n",
    "\n",
    "Recall is the same as sensitivity (true positives / (true positives + false negatives)).\n",
    "\n",
    "In an imbalanced problem, we are interested in correctly classifying as much of the minority class (positive class or 1) as possible - i.e. true positives. As both the above metrics focus on true positives and don't care about correctly classifying the majority class (true negatives), they are one of the best metrics in this context. \n",
    "\n",
    "By varying the decision threshold of the classifier and plotting precision and recall for each threshold, we get a Precision/Recall curve. \n",
    "\n",
    "A perfect classifier for an imbalanced problem would have area of 1.\n",
    "\n",
    "Below is how you can plot the curve in the easiest way possible in Sklearn👇"
   ]
  },
  {
   "cell_type": "markdown",
   "id": "022baa54-bd36-4730-b462-69d52b211980",
   "metadata": {},
   "source": [
    "<div\n",
    "      style=\"\n",
    "        transform: scale(0.5);\n",
    "        transform-origin: top left;\n",
    "        margin-bottom: -365px;\n",
    "      \"\n",
    "    >\n",
    "      <iframe width=\"946\" height=\"672\" title=\"Code snippet - precision/recall_display\" src=\"https://snappify.io/embed/0a7f6811-4080-4753-a195-37bc38683872\" allow=\"clipboard-write\" style=\"border-radius:10px;background:linear-gradient(to left, #141e30, #243b55)\" frameborder=\"0\"></iframe>\n",
    "    </div>"
   ]
  },
  {
   "cell_type": "markdown",
   "id": "5a75f815-fcc9-4dd3-88f3-49634e37c460",
   "metadata": {
    "pycharm": {
     "name": "#%% md\n"
    }
   },
   "source": [
    "## Group KFold"
   ]
  },
  {
   "cell_type": "markdown",
   "id": "b1e4f4d7-eadf-4e70-a506-804220cbb2ab",
   "metadata": {},
   "source": [
    "What is a Group KFold cross validation and when should you use it? Hint: non-IID data.\n",
    "\n",
    "Traditional CV techniques like KFold are all designed for IID data - independent and identically distributed. In other words, the process that generates each row of the dataset does not have a memory of the past samples. \n",
    "\n",
    "But, what if the data is non-IID?\n",
    "\n",
    "For example, in the Google Brain Ventilator Pressure competiton on Kaggle, participants worked with a simulated dataset of lung pressure of sedated patients connected to a breathing pump.\n",
    "\n",
    "Each row records several physical attributes of lungs as oxygen goes in and out. So, each \"breath\" of oxygen into the lungs has over 50 rows of measurements with a timestamp.\n",
    "\n",
    "Here, we can't use plain-old KFold because the dataset is grouped into thousands of breaths and each breath has more than 50 records. Using KFold has the danger of cutting the dataset \"mid-breath\".\n",
    "\n",
    "As a solution, you can use a CV technique called GroupKFold which accepts an additional \"groups\" argument that tells the estimator where the group IDs are stored in the dataset. \n",
    "\n",
    "For the lungs dataset, the \"groups\" argument would accept the \"breath_id\" column.\n",
    "\n",
    "Below is an example of GroupKFold in Sklearn.\n",
    "\n",
    "To learn more about such CV techniques, you can check out my latest article: https://bit.ly/3z5e02c"
   ]
  },
  {
   "cell_type": "markdown",
   "id": "460e6d90-aa81-4d9c-a31d-b26ef37c798c",
   "metadata": {
    "pycharm": {
     "name": "#%% md\n"
    }
   },
   "source": [
    "<div\n",
    "      style=\"\n",
    "        transform: scale(0.5);\n",
    "        transform-origin: top left;\n",
    "        margin-bottom: -330px;\n",
    "      \"\n",
    "    >\n",
    "      <iframe width=\"878\" height=\"578\" title=\"Code snippet - groupkfold\" src=\"https://snappify.io/embed/9e19dbc7-b1a9-40a1-90c5-f59e2f20736e\" allow=\"clipboard-write\" style=\"border-radius:10px;background:linear-gradient(to left, #141e30, #243b55)\" frameborder=\"0\"></iframe>\n",
    "    </div>"
   ]
  },
  {
   "cell_type": "markdown",
   "id": "dc9cb479-39d7-4a73-b44a-0974d9e53a43",
   "metadata": {
    "pycharm": {
     "name": "#%% md\n"
    }
   },
   "source": [
    "## Shuffle CV"
   ]
  },
  {
   "cell_type": "markdown",
   "id": "b702f43f-bfbe-488e-9e0b-53e19a4a8286",
   "metadata": {},
   "source": [
    "How can you flirt with the idea of cross validation and yet, still not do it? Hint: Use ShuffleSplit. \n",
    "\n",
    "ShuffleSplit is an Sklearn CV estimator that does the following:\n",
    "\n",
    "It accepts an integer for its n_splits argument and each time, returns shuffled versions of the dataset with custom training/test set proportions.\n",
    "\n",
    "It is a great alternative to KFold CV because it allows a finer control on the number of folds and samples on in train/test sets. It is also a better choice than KFold for when you have limited data.\n",
    "\n",
    "To learn more about such CV techniques, you can check out my latest article: https://bit.ly/3z5e02c"
   ]
  },
  {
   "cell_type": "markdown",
   "id": "23799e98-fa7d-43a8-a79b-5e65095961b9",
   "metadata": {},
   "source": [
    "<div\n",
    "      style=\"\n",
    "        transform: scale(0.5);\n",
    "        transform-origin: top left;\n",
    "        margin-bottom: -320px;\n",
    "      \"\n",
    "    >\n",
    "      <iframe width=\"878\" height=\"578\" title=\"Code snippet - shufflecv\" src=\"https://snappify.io/embed/075ebd29-9a64-4a26-94f8-af82e9c8751b\" allow=\"clipboard-write\" style=\"border-radius:10px;background:linear-gradient(to left, #141e30, #243b55)\" frameborder=\"0\"></iframe>\n",
    "    </div>"
   ]
  }
 ],
 "metadata": {
  "kernelspec": {
   "display_name": "tricking_data",
   "language": "python",
   "name": "tricking_data"
  },
  "language_info": {
   "codemirror_mode": {
    "name": "ipython",
    "version": 3
   },
   "file_extension": ".py",
   "mimetype": "text/x-python",
   "name": "python",
   "nbconvert_exporter": "python",
   "pygments_lexer": "ipython3",
   "version": "3.7.0"
  }
 },
 "nbformat": 4,
 "nbformat_minor": 5
}
