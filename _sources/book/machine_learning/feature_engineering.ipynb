{
 "cells": [
  {
   "cell_type": "markdown",
   "id": "641092e5-bf79-4ea4-a036-c5a2f35b4366",
   "metadata": {
    "pycharm": {
     "name": "#%% md\n"
    }
   },
   "source": [
    "# Feature engineering"
   ]
  },
  {
   "cell_type": "markdown",
   "id": "7b4b6423",
   "metadata": {
    "pycharm": {
     "name": "#%% md\n"
    }
   },
   "source": [
    "## Transforming two types of numeric features with Scikit-learn"
   ]
  },
  {
   "cell_type": "markdown",
   "id": "0d384e1c-89da-447b-a69a-d2a821021d34",
   "metadata": {
    "pycharm": {
     "name": "#%% md\n"
    }
   },
   "source": [
    "Standardization vs. Log Transforms: when to use one over the other?\n",
    "\n",
    "A look at a simple histogram is enough: if a feature has a \"general-shaped\" distribution, standardization maps it to a normal distribution as closely as possible.\n",
    "\n",
    "How? Subtracts the mean of the feature from each element and divides by the variance.\n",
    "\n",
    "If a feature is skewed to either side, use a logarithmic transform like PowerTransformer. \n",
    "\n",
    "It is the same as calling \"np.log\" on the feature but offers more functionality."
   ]
  },
  {
   "cell_type": "markdown",
   "id": "23b00017-606c-4356-b3ba-46e4e6893423",
   "metadata": {
    "pycharm": {
     "name": "#%% md\n"
    }
   },
   "source": [
    "<div\n",
    "      style=\"\n",
    "        transform: scale(0.5);\n",
    "        transform-origin: top left;\n",
    "        margin-bottom: -385px;\n",
    "      \"\n",
    "    >\n",
    "      <iframe width=\"1456\" height=\"757\" title=\"Code snippet - three_types_of_numeric_scaling\" src=\"https://snappify.io/embed/6ae3c70c-1820-4312-9ee4-cae8d0876d75\" allow=\"clipboard-write\" style=\"border-radius:10px;background:linear-gradient(to left, #141e30, #243b55)\" frameborder=\"0\"></iframe>\n",
    "    </div>"
   ]
  },
  {
   "cell_type": "markdown",
   "id": "ca642fb2-472d-4281-9334-97eebf05b16b",
   "metadata": {
    "tags": []
   },
   "source": [
    "## Model-based imputation techniques - KNN Imputer and Iterative Imputer"
   ]
  },
  {
   "cell_type": "markdown",
   "id": "234002d3-bfa6-4878-843d-42b10e0ce8ea",
   "metadata": {},
   "source": [
    "Missing data imputation doesn't stop at simple techniques like mean/median/mode filling. Real-world missing data is nasty. You gotta add a few missiles to your arsenal to deal with them. \n",
    "\n",
    "For example, Sklearn provides two awesome model-based imputation estimators:\n",
    "\n",
    "1. KNNImputer - classic KNN but for missing data. Data points are imputed by averaging the value of its n-neighbors or by taking their mode if categorical.\n",
    "\n",
    "2. IterativeImputer - accepts any model as an estimater and models missing values as a function existing features. In other words, training data becomes all the rows without missing data and the test set is all those that are. \n",
    "\n",
    "Obviously, there is much more to these algorithms, so I also wrote a comprehensive guide on how to use them: https://bit.ly/3xDHfZf"
   ]
  },
  {
   "cell_type": "markdown",
   "id": "b66c7baf-5f68-45e0-9f54-5207d500382c",
   "metadata": {},
   "source": [
    "<div\n",
    "      style=\"\n",
    "        transform: scale(0.5);\n",
    "        transform-origin: top left;\n",
    "        margin-bottom: -360px;\n",
    "      \"\n",
    "    >\n",
    "      <iframe width=\"928\" height=\"666\" title=\"Code snippet - advanced_impute\" src=\"https://snappify.io/embed/3fcdd9bd-e52a-4ddf-b322-3eaf56c09638\" allow=\"clipboard-write\" style=\"border-radius:10px;background:linear-gradient(to left, #141e30, #243b55)\" frameborder=\"0\"></iframe>\n",
    "    </div>"
   ]
  },
  {
   "cell_type": "markdown",
   "id": "211286e0-12b9-4c3d-a356-aa52f911d16d",
   "metadata": {},
   "source": [
    "## Use OrdinalEncoder instead of LabelEncoder"
   ]
  },
  {
   "cell_type": "markdown",
   "id": "e13f3ea8-5152-4caf-8522-c5a180e0eb20",
   "metadata": {},
   "source": [
    "Have you ever got annoyed that LabelEncoder transforms columns one at a time? Well, your anger isn't justified because you have been using the wrong transformer.\n",
    "\n",
    "To convert categorical columns that have inherent ordering (e.g. bad, medium, good) to numeric, people often use LabelEncoder.\n",
    "\n",
    "Unlike most of other Sklearn transformers, it only works with one column at a time and can't be inserted into pipelines. Why?\n",
    "\n",
    "If you read its documentation, Sklearn states that LabelEncoder is only designed to convert target array (Y).\n",
    "\n",
    "To convert multiple categorical features, you should use OrdinalEncoder, which works as expected👇"
   ]
  },
  {
   "cell_type": "markdown",
   "id": "3bd27110-6602-4afc-9a11-a12ba6ef220b",
   "metadata": {},
   "source": [
    "<div\n",
    "      style=\"\n",
    "        transform: scale(0.5);\n",
    "        transform-origin: top left;\n",
    "        margin-bottom: -400px;\n",
    "      \"\n",
    "    >\n",
    "      <iframe width=\"892\" height=\"766\" title=\"Code snippet - ordinal_encoder\" src=\"https://snappify.io/embed/a9cd571b-0256-4b71-83ac-9063c0b3e83a\" allow=\"clipboard-write\" style=\"border-radius:10px;background:linear-gradient(to left, #141e30, #243b55)\" frameborder=\"0\"></iframe>\n",
    "    </div>"
   ]
  },
  {
   "cell_type": "markdown",
   "id": "e2f84d35-d06f-49e4-a4a8-45bac45bd6b2",
   "metadata": {},
   "source": [
    "## How to check the effectiveness of an imputation technique"
   ]
  },
  {
   "cell_type": "markdown",
   "id": "03d7599e-99c2-4967-8f18-63ece16cc2a7",
   "metadata": {},
   "source": [
    "How do you check if an imputation method was effective? \n",
    "\n",
    "The harder and more time-consuming way would be fitting a model before and after the imputation to see if it increases the score.\n",
    "\n",
    "But there is a more statistically sound way of check this. And it is much faster.\n",
    "\n",
    "Simply plot the KDE of the original unimputed distribution. Then, impute that distribution and plot its KDE once again on top of the previous plot.\n",
    "\n",
    "The closer the new density curve comes to the unimputed one, the more effective it is. \n",
    "\n",
    "What other methods do you use?"
   ]
  },
  {
   "cell_type": "markdown",
   "id": "850b023f-b4d4-42ff-81bb-c732766b80c7",
   "metadata": {},
   "source": [
    "<div\n",
    "      style=\"\n",
    "        transform: scale(0.5);\n",
    "        transform-origin: top left;\n",
    "        margin-bottom: -480px;\n",
    "      \"\n",
    "    >\n",
    "      <iframe width=\"806\" height=\"946\" title=\"Code snippet - imputation_check\" src=\"https://snappify.io/embed/2e874044-86d3-418a-9ffe-5b0e94607b48\" allow=\"clipboard-write\" style=\"border-radius:10px;background:linear-gradient(to left, #141e30, #243b55)\" frameborder=\"0\"></iframe>\n",
    "    </div>"
   ]
  },
  {
   "cell_type": "markdown",
   "id": "19275d6a-8e48-4713-88d3-d367949d994d",
   "metadata": {
    "pycharm": {
     "name": "#%% md\n"
    }
   },
   "source": [
    "## Encoding rare labels with RareLabelEncoder"
   ]
  },
  {
   "cell_type": "markdown",
   "id": "5e2c19a6-338a-46e8-abd1-df3874f2cc8d",
   "metadata": {},
   "source": [
    "Often, when a categorical variable has a high cardinality (too many categories), many of the categories represent only a small proportion of the total. \n",
    "\n",
    "Having too many classes with very few samples is noise. For ML models to generalize well for all classes, each class must have enough samples.\n",
    "\n",
    "One solution to the problem is to group rare categories into a single category called \"rare\" or \"other\". The \"rarity\" can be chosen by selecting a proportion threshold.\n",
    "\n",
    "You can do this manually in Python but there is a better way. Using the feature-engine library, you can perform the operation using a Sklearn-like transformer.\n",
    "\n",
    "Useful parameters of RareLabelEncoder:\n",
    "\n",
    "- tol: threshold\n",
    "- replace_with: custom text to replace rare categories\n",
    "- ignore_format: when True, the transformer will work on numerically-encoded features as well. By default, it only works on Pandas \"other\" or \"category\" data types.\n",
    "\n",
    "Link to the transformer docs in the comments👇"
   ]
  },
  {
   "cell_type": "markdown",
   "id": "b0e0c2fc-2a3d-4b56-8cc0-7cecfd099890",
   "metadata": {},
   "source": [
    "RareLabelEncoder: https://bit.ly/3vfjNkv"
   ]
  },
  {
   "cell_type": "markdown",
   "id": "6333b082-7b30-4a80-8793-167fb2177ff4",
   "metadata": {},
   "source": [
    "<div\n",
    "      style=\"\n",
    "        transform: scale(0.5);\n",
    "        transform-origin: top left;\n",
    "        margin-bottom: -250px;\n",
    "      \"\n",
    "    >\n",
    "      <iframe width=\"840\" height=\"414\" title=\"Code snippet - rare_label\" src=\"https://snappify.io/embed/73d77d47-0dc4-46e4-a16b-10f9805912bd\" allow=\"clipboard-write\" style=\"border-radius:10px;background:linear-gradient(to left, #141e30, #243b55)\" frameborder=\"0\"></iframe>\n",
    "    </div>"
   ]
  },
  {
   "cell_type": "markdown",
   "id": "31190fb4-e38e-47b9-83a1-59e6040a5298",
   "metadata": {},
   "source": [
    "## UMAP vs. tSNE vs. PCA"
   ]
  },
  {
   "cell_type": "markdown",
   "id": "79e07f1b-0739-4c67-9cfb-30768a38fcb8",
   "metadata": {},
   "source": [
    "Which one is the fastest - PCA, tSNE or UMAP?\n",
    "\n",
    "Each dimensionality reduction algorithm preserve the underlying structure of the data differently. But sometimes, you only care about reducing the dimensions of the dataset as fast as possible. \n",
    "\n",
    "Below is a speed comparison of the three most-common reduction algorithms. As you can see, tSNE is orders of magnitude slower than others and PCA computes almost instantaneously. \n",
    "\n",
    "However, I would advise to use UMAP for most of your use-cases, as it offers a nice middle-ground between performance and the quality of the reduction."
   ]
  },
  {
   "cell_type": "markdown",
   "id": "72455161-711e-4e8d-9a49-f7a745b5cda9",
   "metadata": {},
   "source": [
    "<div\n",
    "      style=\"\n",
    "        transform: scale(0.5);\n",
    "        transform-origin: top left;\n",
    "        margin-bottom: -370px;\n",
    "      \"\n",
    "    >\n",
    "      <iframe width=\"962\" height=\"712\" title=\"Code snippet - pca_tsne_umap\" src=\"https://snappify.io/embed/151d1de3-b241-4910-be39-715aea320513\" allow=\"clipboard-write\" style=\"border-radius:10px;background:linear-gradient(to left, #141e30, #243b55)\" frameborder=\"0\"></iframe>\n",
    "    </div>"
   ]
  },
  {
   "cell_type": "markdown",
   "id": "fcf44950-7c62-44ad-9301-f240fcbb37f3",
   "metadata": {
    "tags": []
   },
   "source": [
    "## Speed comparison of the fastest dimensionality reduction algorithms"
   ]
  },
  {
   "cell_type": "markdown",
   "id": "222f7131-a8a0-4686-b47a-5f7d11006c8d",
   "metadata": {},
   "source": [
    "Building on my earlier post this week, here is a more detailed comparison of the speed of the fastest dimensionality reduction algorithms.\n",
    "\n",
    "As you can see, tough-old PCA needs almost the same execution time even if you increase the dataset size 5 times. As for the tSNEs, they are embarrassing."
   ]
  },
  {
   "cell_type": "markdown",
   "id": "d66c257b-200d-40d3-8b85-f38d772d93cb",
   "metadata": {},
   "source": [
    "![](../images/2022/8_august/umap_pca_comparison.png)"
   ]
  },
  {
   "cell_type": "markdown",
   "id": "1b39f21b-00bd-4304-bbfc-f42ade8534f5",
   "metadata": {},
   "source": [
    "Source: https://bit.ly/3JAN4fj"
   ]
  }
 ],
 "metadata": {
  "kernelspec": {
   "display_name": "articles",
   "language": "python",
   "name": "articles"
  },
  "language_info": {
   "codemirror_mode": {
    "name": "ipython",
    "version": 3
   },
   "file_extension": ".py",
   "mimetype": "text/x-python",
   "name": "python",
   "nbconvert_exporter": "python",
   "pygments_lexer": "ipython3",
   "version": "3.9.12"
  }
 },
 "nbformat": 4,
 "nbformat_minor": 5
}
