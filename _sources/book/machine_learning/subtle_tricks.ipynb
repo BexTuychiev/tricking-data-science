{
 "cells": [
  {
   "cell_type": "markdown",
   "id": "69545d96-3311-4243-8f05-3dbb12bb8611",
   "metadata": {},
   "source": [
    "# Subtle tricks for ML"
   ]
  },
  {
   "cell_type": "markdown",
   "id": "e1e754ac-e717-4b19-a7b1-8495e70e28e8",
   "metadata": {},
   "source": [
    "## Enabling categorical data support in XGBoost"
   ]
  },
  {
   "cell_type": "markdown",
   "id": "1863e5c3-71d5-42e0-af14-c9d971768033",
   "metadata": {},
   "source": [
    "XGBoost has an experimental but very powerful support for categorical features. The only requirement is that you convert the features to Pandas' category data type before feeding them to XGBoost👇"
   ]
  },
  {
   "cell_type": "markdown",
   "id": "e7aac5ce-a4ce-48c4-9808-35e8c30a8b20",
   "metadata": {},
   "source": [
    "<div\n",
    "      style=\"\n",
    "        transform: scale(0.5);\n",
    "        transform-origin: top left;\n",
    "        margin-bottom: -350px;\n",
    "      \"\n",
    "    >\n",
    "      <iframe width=\"844\" height=\"663\" title=\"Code snippet - xgb_cats\" src=\"https://snappify.io/embed/079d1cc4-aaa1-4234-9afe-4a33cbbde581\" allow=\"clipboard-write\" style=\"border-radius:10px;background:linear-gradient(to left, #141e30, #243b55)\" frameborder=\"0\"></iframe>\n",
    "    </div>"
   ]
  },
  {
   "cell_type": "markdown",
   "id": "216e679e-0785-428b-908a-f144e4a8209d",
   "metadata": {},
   "source": [
    "## XGBoost builtin-in encoder vs. OneHotEncoder"
   ]
  },
  {
   "cell_type": "markdown",
   "id": "1e0dd9df-31be-4699-a783-5abfaeb9dd8d",
   "metadata": {},
   "source": [
    "OneHotEncoder is 7 times worse than the encode that comes with XGBoost. Below is a comparison of OneHotEncoder from sklearn and the built-in XGBoost encoder.\n",
    "\n",
    "As can be seen, the RMSE score is 7 times worse when OneHotEncoder was pre-applied on the data👇"
   ]
  },
  {
   "cell_type": "markdown",
   "id": "68fccbd1-cc1a-417f-8192-0a796c1269aa",
   "metadata": {},
   "source": [
    "<div\n",
    "      style=\"\n",
    "        transform: scale(0.5);\n",
    "        transform-origin: top left;\n",
    "        margin-bottom: -385px;\n",
    "      \"\n",
    "    >\n",
    "      <iframe width=\"1190\" height=\"772\" title=\"Code snippet - ordinal_vs_xgb\" src=\"https://snappify.io/embed/e64ad17d-4b58-488e-9860-650f06cc0e63\" allow=\"clipboard-write\" style=\"border-radius:10px;background:linear-gradient(to left, #141e30, #243b55)\" frameborder=\"0\"></iframe>\n",
    "    </div>"
   ]
  },
  {
   "cell_type": "markdown",
   "id": "209ecc90-7f75-4130-b432-42d8939c154c",
   "metadata": {},
   "source": [
    "## Switch the APIs in XGBoost"
   ]
  },
  {
   "cell_type": "markdown",
   "id": "2f139dba-90ca-452c-9769-79f49b3a2271",
   "metadata": {},
   "source": [
    "If you use the Scikit-learn API of XGBoost, you might lose some of the advantages that comes with its core training API.\n",
    "\n",
    "For example, the models of the training API enable you to calculate Shapley values on GPUs, a feature that isn't availabe in XGBRegressor or XGBClassifier.\n",
    "\n",
    "Here is how you can get around this problem by extracting the booster object👇"
   ]
  },
  {
   "cell_type": "markdown",
   "id": "cf82cad0-1c9a-4718-b2d1-c58edba46005",
   "metadata": {},
   "source": [
    "<div\n",
    "      style=\"\n",
    "        transform: scale(0.5);\n",
    "        transform-origin: top left;\n",
    "        margin-bottom: -325px;\n",
    "      \"\n",
    "    >\n",
    "      <iframe width=\"735\" height=\"524\" title=\"Code snippet - xgb_api\" src=\"https://snappify.io/embed/21ef7546-9cf8-4a81-a1a5-f630f6232777\" allow=\"clipboard-write\" style=\"border-radius:10px;background:linear-gradient(to left, #141e30, #243b55)\" frameborder=\"0\"></iframe>\n",
    "    </div>"
   ]
  },
  {
   "cell_type": "markdown",
   "id": "0f20e2ca-54ce-43eb-9db6-c06e2709703b",
   "metadata": {},
   "source": [
    "## Hyperparameter tuning for multiple metrics with Optuna"
   ]
  },
  {
   "cell_type": "markdown",
   "id": "d6e43159-312b-4f03-b31b-5721e82690f3",
   "metadata": {},
   "source": [
    "It is a giant waste if you are hyperparameter tuning for multiple metrics in separate sessions.\n",
    "\n",
    "Optuna allows you to create tuning sessions that enables you to tune for as many metrics as you want. Inside your Optuna objective function, simply measure your model using the metrics you want like precision, recall and logloss and return them separately.\n",
    "\n",
    "Then, when you initialize a study object, specify whether you want Optuna to minimize or maximize each metric by providing a list of values to \"directions\"."
   ]
  },
  {
   "cell_type": "markdown",
   "id": "867d4293-d9ab-4597-80dc-e4fc840f4f44",
   "metadata": {},
   "source": [
    "<div\n",
    "      style=\"\n",
    "        transform: scale(0.5);\n",
    "        transform-origin: top left;\n",
    "        margin-bottom: -400px;\n",
    "      \"\n",
    "    >\n",
    "      <iframe width=\"902\" height=\"828\" title=\"Code snippet - optuna_multiple_metrics\" src=\"https://snappify.io/embed/33ce3d85-440e-472b-8d87-507e86295dcf\" allow=\"clipboard-write\" style=\"border-radius:10px;background:linear-gradient(to left, #141e30, #243b55)\" frameborder=\"0\"></iframe>\n",
    "    </div>"
   ]
  }
 ],
 "metadata": {
  "kernelspec": {
   "display_name": "tricking_data",
   "language": "python",
   "name": "tricking_data"
  },
  "language_info": {
   "codemirror_mode": {
    "name": "ipython",
    "version": 3
   },
   "file_extension": ".py",
   "mimetype": "text/x-python",
   "name": "python",
   "nbconvert_exporter": "python",
   "pygments_lexer": "ipython3",
   "version": "3.7.0"
  }
 },
 "nbformat": 4,
 "nbformat_minor": 5
}
