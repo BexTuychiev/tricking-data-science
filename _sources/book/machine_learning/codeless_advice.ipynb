{
 "cells": [
  {
   "cell_type": "markdown",
   "id": "ad069ca1-e33c-4f8b-827e-e874dd31e8db",
   "metadata": {},
   "source": [
    "# Codeless advice"
   ]
  },
  {
   "cell_type": "markdown",
   "id": "d50ba2fb-34d9-4865-80f3-b24900d5591c",
   "metadata": {},
   "source": [
    "## Best overfitting advice"
   ]
  },
  {
   "cell_type": "markdown",
   "id": "ef4d96af-5443-4588-a96b-0fc6a895cbd1",
   "metadata": {},
   "source": [
    "This is the best advice I read on combatting overfitting:\n",
    "\n",
    "\"To achieve the perfect fit, you must first overfit\".\n",
    "\n",
    "Here are the reasons why:\n",
    "\n",
    "First, it makes sense - you can't fight overfitting without a model that overfits.\n",
    "\n",
    "Second, it is a sign of power - if a model is overfitting or perfectly memorizing the training data, it is a sign that model has enough optimization power to learn the patterns in the training data. \n",
    "\n",
    "Solving ML problems is all about the tension between optimization (how well the model learns from training data) and generalization (how well the model performs on unseen data). \n",
    "\n",
    "After you can build a model that is able to overfit, you should focus on generalization because too much optimization hurts it. You should try less complex model architectures, apply regularization, add random dropout layers (DART trees of XGBoost or DropOut layers in TensorFlow) to tune optimization and increase generalization.\n",
    "\n",
    "You won't be able to do any of them unless you have a model that overfits."
   ]
  },
  {
   "cell_type": "markdown",
   "id": "c0214919-213c-4d38-ac19-140498841da8",
   "metadata": {},
   "source": [
    "## Why beginners won't do LR and keep choosing XGBoost"
   ]
  },
  {
   "cell_type": "markdown",
   "id": "366ba643-47a0-47e6-824a-35e571a32dcb",
   "metadata": {},
   "source": [
    "Last year, I saw that a tabular competition on Kaggle was won by an ensemble of Quadratic Discriminant Analysis models. What is QDA, you ask? I had no idea either.\n",
    "\n",
    "It was a very eye-opening experience for me as a beginner, because I have thought having learned XGBoost, I could just ignore any other older models. \n",
    "\n",
    "I was disctracted by the hot tools. Turns out, it isn't about the tool but how quickly and efficiently you can solve a problem.\n",
    "\n",
    "Later, I found that for that particular competition's data, QDA was orders of magnitude faster than any tree-based models and could easily beat them in terms of performance.\n",
    "\n",
    "So, the moral here is that don't approach problems with tools-first mindset. Rather, find the best way to solve it in the simplest way possible. Don't try to look \"cool\" by using whatever is being popular at the time."
   ]
  },
  {
   "cell_type": "markdown",
   "id": "f94444d8-4abb-4818-9006-885c040de6fe",
   "metadata": {
    "pycharm": {
     "name": "#%% md\n"
    }
   },
   "source": [
    "## Should you always cross-validate? "
   ]
  },
  {
   "cell_type": "markdown",
   "id": "dc6f6dd8-109e-43d2-8685-887b07a95057",
   "metadata": {},
   "source": [
    "Is it a requirement to use cross-validation every time? The answer is a tentative \"Yes\".\n",
    "\n",
    "When your dataset is sufficiently large, every random split of train/test sets should resemble the original data well. However, each model comes with its inherent bias and it will have samples that it favors over others. \n",
    "\n",
    "That's why it is always recommended to use CV techniques. Even when the data is large, you should at least go for 2-3 fold CV. \n",
    "\n",
    "As the dataset size gets smaller, you can increase the folds. When it is dangerously small, like below 100 rows, you can go for extreme CV techniques such as LeaveOneOut or LeavePOut. \n",
    "\n",
    "I have talked about CV techniques in detail in one of my recent articles. Give it a read!\n",
    "\n",
    "https://bit.ly/3z5e02c"
   ]
  },
  {
   "cell_type": "markdown",
   "id": "8d43b3b1-f97d-4fcf-8a4e-499d807f51ba",
   "metadata": {
    "pycharm": {
     "name": "#%% md\n"
    }
   },
   "source": [
    "## Why does ensembling work better than single models?"
   ]
  },
  {
   "cell_type": "markdown",
   "id": "fc171db1-86ee-4452-a403-ab04097f8c00",
   "metadata": {},
   "source": [
    "Why does ensembling work better than single models?\n",
    "\n",
    "########\n",
    "\n",
    "Reason 1\n",
    "\n",
    "########\n",
    "\n",
    "Members of the ensemble learn different mapping functions from input to output. A good ensemble contains members with as different learning functions as possible that explore the information space created by the data from all angles. They make different assumptions about the structure and make errors in different cases.\n",
    "\n",
    "########\n",
    "\n",
    "Reason 2\n",
    "\n",
    "########\n",
    "\n",
    "The predictions are always combined in some way. This allows the ensemble to exploit the differences of predictions in all members. In other words, you don't just have to take the word of one model but get a collective opinion on each case, lowering the risk of making an inaccurate prediction.\n",
    "\n",
    "########\n",
    "\n",
    "Reason 3\n",
    "\n",
    "########\n",
    "\n",
    "There is also a beautiful probabilistic reason why ensemble of models with different scores beat another set of models with similar scores. The prove is a bit long but I will definitely talk about it next week.\n",
    "\n",
    "We have a heated debate on whether the benefits gained from ensembles outweigh their advantages but that's also topic for another post."
   ]
  },
  {
   "cell_type": "markdown",
   "id": "dc87ec2e-e399-40c4-923c-56b6a340fd8c",
   "metadata": {},
   "source": [
    "## How to get a total control over randomness in Python"
   ]
  },
  {
   "cell_type": "markdown",
   "id": "964027a9-7da6-46ee-bf64-072fc691192f",
   "metadata": {},
   "source": [
    "How do you get a total control over the randomness in your scripts and notebooks? It is not by using np.random.seed! \n",
    "\n",
    "According to Robert Kern (a major NumPy contributor) and the Sklearn official user guide, you should use RNG instances for totally reproducible results.\n",
    "\n",
    "You should replace every mention of \"random_state=None\" with an instance of np.random.RandomState so that results across all script runs across all threads share the same random state. The behavior of RandomState (RNG) instances is particularly important when you use CV splitters.\n",
    "\n",
    "You can read more about this from a StackOverflow discussion or a pretty detailed guide on controlling randomness by Sklearn:\n",
    "\n",
    "SO thread: https://bit.ly/3A2hW5i\n",
    "Sklearn guide: https://bit.ly/3SwbLh9"
   ]
  }
 ],
 "metadata": {
  "kernelspec": {
   "display_name": "tricking_data",
   "language": "python",
   "name": "tricking_data"
  },
  "language_info": {
   "codemirror_mode": {
    "name": "ipython",
    "version": 3
   },
   "file_extension": ".py",
   "mimetype": "text/x-python",
   "name": "python",
   "nbconvert_exporter": "python",
   "pygments_lexer": "ipython3",
   "version": "3.7.0"
  }
 },
 "nbformat": 4,
 "nbformat_minor": 5
}
