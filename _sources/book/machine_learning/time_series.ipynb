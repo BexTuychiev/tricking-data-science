{
 "cells": [
  {
   "cell_type": "markdown",
   "id": "d9d1de71-73ee-499e-ac41-0b2953471731",
   "metadata": {},
   "source": [
    "# Time series forecasting"
   ]
  },
  {
   "cell_type": "markdown",
   "id": "eac54287-740c-41be-96f3-9372eacaf455",
   "metadata": {
    "pycharm": {
     "name": "#%% md\n"
    }
   },
   "source": [
    "## Autocorrelation in time series with statsmodels"
   ]
  },
  {
   "cell_type": "markdown",
   "id": "4a0d7f15-5390-407c-a512-4b9f12e8b1f4",
   "metadata": {},
   "source": [
    "I always found time series analysis fascinating. Especially, autocorrelation.\n",
    "\n",
    "Autocorrelation is the same as correlation coefficient but it is calculated between a series and its lagging version. Here, lagging means shifting the series a few periods behind, so the present values can be compared to their past. \n",
    "\n",
    "Autocorrelation can help discover great insights about the time series, such as:\n",
    "\n",
    "1. Trend - when a clear trend exists in time series, autocorrelation goes up or down as you further shift the series\n",
    "2. Seasonality - if autocorrelation goes up and down in fixed periods, seasonality exists in the series.\n",
    "3. Predictability - high autocorrelation suggests strong predictive power of the series, meaning you can train on the past samples to predict the future.\n",
    "\n",
    "To make autocorrelation analysis easier, you can plot it using statsmodels. Below is an example autocorrelation plot of temperature in Celcius. As you would expect, there is a strong seasonality in the series, occuring at every 12 lags."
   ]
  },
  {
   "cell_type": "markdown",
   "id": "cac1c176-c03d-4ea8-9ee3-5dc05adb55c8",
   "metadata": {
    "pycharm": {
     "name": "#%% md\n"
    }
   },
   "source": [
    "<div\n",
    "      style=\"\n",
    "        transform: scale(0.5);\n",
    "        transform-origin: top left;\n",
    "        margin-bottom: -380px;\n",
    "      \"\n",
    "    >\n",
    "      <iframe width=\"820\" height=\"800\" title=\"Code snippet - autocorr\" src=\"https://snappify.io/embed/b391b32b-4a25-44d1-9f07-e2018b72af6a\" allow=\"clipboard-write\" style=\"border-radius:10px;background:linear-gradient(to left, #141e30, #243b55)\" frameborder=\"0\"></iframe>\n",
    "    </div>"
   ]
  },
  {
   "cell_type": "markdown",
   "id": "cec2ad63-9939-4f59-9d4e-5490b951bf01",
   "metadata": {
    "pycharm": {
     "name": "#%% md\n"
    }
   },
   "source": [
    "Advanced time series analysis article: https://bit.ly/3Pmt2qM"
   ]
  },
  {
   "cell_type": "markdown",
   "id": "df962fde-a386-4fae-b6f6-b77fb2c28289",
   "metadata": {
    "pycharm": {
     "name": "#%% md\n"
    }
   },
   "source": [
    "## Cross validation in time series "
   ]
  },
  {
   "cell_type": "markdown",
   "id": "68476202-50ba-4a32-afc4-303c944f71f4",
   "metadata": {},
   "source": [
    "Cross validating using time series data is tricky. You can't use traditional KFold because you will end up training on \"future\" samples and predicting on the \"past\". Instead, use TimeSeriesSplit of Sklearn.\n",
    "\n",
    "The syntax is the same as other CV estimators but with one major difference:\n",
    "\n",
    "In each fold, the training indices will always come before the test indices. So, each successive train set is a superset of previous sets. "
   ]
  },
  {
   "cell_type": "markdown",
   "id": "cb8e9229-b95b-486b-a02b-9799f43a5c35",
   "metadata": {},
   "source": [
    "<div\n",
    "      style=\"\n",
    "        transform: scale(0.5);\n",
    "        transform-origin: top left;\n",
    "        margin-bottom: -390px;\n",
    "      \"\n",
    "    >\n",
    "      <iframe width=\"824\" height=\"758\" title=\"Code snippet - time_series_cv\" src=\"https://snappify.io/embed/c9220b04-52de-4725-a3f7-100ef59e5c24\" allow=\"clipboard-write\" style=\"border-radius:10px;background:linear-gradient(to left, #141e30, #243b55)\" frameborder=\"0\"></iframe>\n",
    "    </div>"
   ]
  },
  {
   "cell_type": "markdown",
   "id": "badfae7c-c6de-44f8-ab59-06964ca0c89a",
   "metadata": {
    "pycharm": {
     "name": "#%% md\n"
    }
   },
   "source": [
    "## Cyclic and seasonal time series patterns"
   ]
  },
  {
   "cell_type": "markdown",
   "id": "ab1cbdbf-5560-4297-bcb8-7efafdef89fe",
   "metadata": {},
   "source": [
    "How to spot cyclic and seasonal time series patterns from a mile away?\n",
    "\n",
    "If the pattern is repeating with a fixed period frequency or connected to the calendar in some way, the pattern is seasonal or periodic. Examples are temperature between seasons, retail sales, economic data, etc.\n",
    "\n",
    "If the ups and downs of the series are irregular and resemble random fluctuations, the pattern is cyclic. Usually, the duration of these fluctuations last at least 2 years and you can't reasonably predict when the next spike will occur based on the previous ones. \n",
    "\n",
    "Cyclic patterns are usually associated with four phases of the business cycle - prosperity or boom, recession, depression and recovery."
   ]
  }
 ],
 "metadata": {
  "kernelspec": {
   "display_name": "tricking_data",
   "language": "python",
   "name": "tricking_data"
  },
  "language_info": {
   "codemirror_mode": {
    "name": "ipython",
    "version": 3
   },
   "file_extension": ".py",
   "mimetype": "text/x-python",
   "name": "python",
   "nbconvert_exporter": "python",
   "pygments_lexer": "ipython3",
   "version": "3.7.0"
  }
 },
 "nbformat": 4,
 "nbformat_minor": 5
}
