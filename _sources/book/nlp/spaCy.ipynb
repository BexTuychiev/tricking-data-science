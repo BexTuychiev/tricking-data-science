{
 "cells": [
  {
   "cell_type": "markdown",
   "id": "411dc9f3-71d8-4b4b-b36a-8d4951c521a6",
   "metadata": {},
   "source": [
    "# spaCy"
   ]
  },
  {
   "cell_type": "markdown",
   "id": "2210df27-003f-44c0-9986-4e7d4a0f6ce4",
   "metadata": {},
   "source": [
    "## Predicting named entities (NER) "
   ]
  },
  {
   "cell_type": "markdown",
   "id": "a19d7de6-c568-4f72-bc97-e3d8825a94da",
   "metadata": {},
   "source": [
    "Named Entitiy Recognition is ridiculously easy in spaCy. It is even cooler to visualize them👇"
   ]
  },
  {
   "cell_type": "markdown",
   "id": "d3d5908e-0c71-4740-b17b-15fa23df3414",
   "metadata": {},
   "source": [
    "<div\n",
    "      style=\"\n",
    "        transform: scale(0.5);\n",
    "        transform-origin: top left;\n",
    "        margin-bottom: -350px;\n",
    "      \"\n",
    "    >\n",
    "      <iframe width=\"984\" height=\"646\" title=\"Code snippet - ner_spacy\" src=\"https://snappify.io/embed/ffb6f4ae-765b-4e66-8fa5-4f82f2161d02\" allow=\"clipboard-write\" style=\"border-radius:10px;background:linear-gradient(to left, #141e30, #243b55)\" frameborder=\"0\"></iframe>\n",
    "    </div>"
   ]
  }
 ],
 "metadata": {
  "kernelspec": {
   "display_name": "articles",
   "language": "python",
   "name": "articles"
  },
  "language_info": {
   "codemirror_mode": {
    "name": "ipython",
    "version": 3
   },
   "file_extension": ".py",
   "mimetype": "text/x-python",
   "name": "python",
   "nbconvert_exporter": "python",
   "pygments_lexer": "ipython3",
   "version": "3.9.12"
  }
 },
 "nbformat": 4,
 "nbformat_minor": 5
}
