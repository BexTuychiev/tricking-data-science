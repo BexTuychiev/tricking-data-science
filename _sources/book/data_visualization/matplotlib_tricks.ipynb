{
 "cells": [
  {
   "cell_type": "markdown",
   "metadata": {
    "pycharm": {
     "name": "#%% md\n"
    }
   },
   "source": [
    "# Matplotlib"
   ]
  },
  {
   "cell_type": "markdown",
   "metadata": {},
   "source": [
    "## Twin axes in Matplotlib"
   ]
  },
  {
   "cell_type": "markdown",
   "metadata": {},
   "source": [
    "Did you know that you can have twin axes in Matplotlib? Adding a second XAxis or YAxis can take your time series plots to a whole new level👇"
   ]
  },
  {
   "cell_type": "markdown",
   "metadata": {},
   "source": [
    "<div\n",
    "      style=\"\n",
    "        transform: scale(0.5);\n",
    "        transform-origin: top left;\n",
    "        margin-bottom: -375px;\n",
    "      \"\n",
    "    >\n",
    "      <iframe width=\"1016\" height=\"702\" title=\"Code snippet - matplotlib_twin_axes\" src=\"https://snappify.io/embed/8585e983-69d4-4576-beda-d95881714f25\" allow=\"clipboard-write\" style=\"border-radius:10px;background:linear-gradient(to left, #141e30, #243b55)\" frameborder=\"0\"></iframe>\n",
    "    </div>"
   ]
  },
  {
   "cell_type": "markdown",
   "metadata": {},
   "source": [
    "## Scatterplot masterclass"
   ]
  },
  {
   "cell_type": "markdown",
   "metadata": {},
   "source": [
    "Matplotlib default styles suck. Especially, the look of the left one is revolting.\n",
    "\n",
    "But, you can take some steps to transform it completely.\n",
    "\n",
    "Here are they:\n",
    "\n",
    "1. Lower opacity - alpha\n",
    "2. Lower marker size - only accessible through the \"plot\" function\n",
    "\n",
    "Here, you will see that values were rounded off at integer values so, the data is grouped into rows and columns. So, step 3 would be:\n",
    "\n",
    "3. Jittering the heights and weights.\n",
    "4. Zooming into the center of the plot.\n",
    "\n",
    "Jittering is a nifty little trick to introduce some noise to the data and prevent overplotting. I learned this scatterplot example in one of DataCamp's excellent courses."
   ]
  },
  {
   "cell_type": "markdown",
   "metadata": {},
   "source": [
    "<div\n",
    "      style=\"\n",
    "        transform: scale(0.5);\n",
    "        transform-origin: top left;\n",
    "        margin-bottom: -470px;\n",
    "      \"\n",
    "    >\n",
    "      <iframe width=\"960\" height=\"920\" title=\"Code snippet - master_scatterplot\" src=\"https://snappify.io/embed/7fe07f00-29c1-457d-8e8e-2744c958e27c\" allow=\"clipboard-write\" style=\"border-radius:10px;background:linear-gradient(to left, #141e30, #243b55)\" frameborder=\"0\"></iframe>\n",
    "    </div>"
   ]
  },
  {
   "cell_type": "markdown",
   "metadata": {},
   "source": [
    "## Labelling the heights of bars in bar charts"
   ]
  },
  {
   "cell_type": "markdown",
   "metadata": {},
   "source": [
    "Most of the details on a bar chart is clutter. \n",
    "\n",
    "Bar charts only need one of the axis labels, an informative title and the height of the bars. The rest goes to the bin. Here is a trick to label the heights of bars in Matplotlib. The rest should be easy👇"
   ]
  },
  {
   "cell_type": "markdown",
   "metadata": {},
   "source": [
    "<div\n",
    "      style=\"\n",
    "        transform: scale(0.5);\n",
    "        transform-origin: top left;\n",
    "        margin-bottom: -380px;\n",
    "      \"\n",
    "    >\n",
    "      <iframe width=\"1054\" height=\"740\" title=\"Code snippet - bar_label\" src=\"https://snappify.io/embed/a9c1d496-fa70-4de3-b1b7-ab6406e8045d\" allow=\"clipboard-write\" style=\"border-radius:10px;background:linear-gradient(to left, #141e30, #243b55)\" frameborder=\"0\"></iframe>\n",
    "    </div>"
   ]
  },
  {
   "cell_type": "markdown",
   "metadata": {},
   "source": [
    "## autofmt_xdate() to automatically format dates in Matplotlib "
   ]
  },
  {
   "cell_type": "markdown",
   "metadata": {},
   "source": [
    "Did it ever happen to you when you visualized a time series, the dates on the XAxis got smooshed together making them illegible? You can avoid that by calling the \"autofmt_xdate()\" function on the figure object to automatically format date labels in Matplotlib."
   ]
  },
  {
   "cell_type": "markdown",
   "metadata": {},
   "source": [
    "<div\n",
    "      style=\"\n",
    "        transform: scale(0.5);\n",
    "        transform-origin: top left;\n",
    "        margin-bottom: -380px;\n",
    "      \"\n",
    "    >\n",
    "      <iframe width=\"812\" height=\"742\" title=\"Code snippet - autofmt_xdate\" src=\"https://snappify.io/embed/58cf768f-a9d1-4549-b877-bf09fa4c2281\" allow=\"clipboard-write\" style=\"border-radius:10px;background:linear-gradient(to left, #141e30, #243b55)\" frameborder=\"0\"></iframe>\n",
    "    </div>"
   ]
  },
  {
   "cell_type": "markdown",
   "metadata": {},
   "source": [
    "## How to choose correct DPI and figure size in Matplotlib"
   ]
  },
  {
   "cell_type": "markdown",
   "metadata": {},
   "source": [
    "How to choose a correct DPI and figure size in Matplotlib so you don't lose quality by zooming in?\n",
    "\n",
    "Matplotlib sets figure size in inches - figsize of (12, 6) is 12 inches wide and 6 inches tall. \n",
    "\n",
    "The DPI represents dots or pixels per inch. The default DPI of 100 means for a figsize of (12, 6), the image resolution will be 1200x600 pixels. \n",
    "\n",
    "Now, there is also the size of the points, lines or other elements in a plot. Those are measured in points per inch - there are 72 points in an inch. So, in a DPI of 72, a single dot would have the area of a single pixel.\n",
    "\n",
    "At 144 DPI, the dot would be two pixels or a line would be two pixels thick. So, DPI is like a magnifying glass - a higher DPI scales all elements in a plot.\n",
    "\n",
    "So, to not lose image quality when zooming in, increase DPI while keeping the figsize constant.\n",
    "\n",
    "Image and content credit: an SO thread down below👇\n",
    "\n",
    "![](../images/2022/7_july/dpi.png)"
   ]
  },
  {
   "cell_type": "markdown",
   "metadata": {},
   "source": [
    "StackOverflow thread on the topic: https://bit.ly/3IrsLjY"
   ]
  },
  {
   "cell_type": "markdown",
   "metadata": {},
   "source": [
    "## Visualize all trees of RandomForest"
   ]
  },
  {
   "cell_type": "markdown",
   "metadata": {},
   "source": [
    "It would be freakishly cool to visualize all the trees in a Random Forest. But how?\n",
    "\n",
    "Last time, I showed how you can draw a single Decision Tree using PyBaobabdt package using Sankey diagrams. To visualize multiple trees of a RandomForest, we can use Matplotlib subplots like below.\n",
    "\n",
    "Just remember to set high DPI and high figure size before saving.\n",
    "\n",
    "Image credit: Pybaobabdt docs. Code to create the plot is down below👇"
   ]
  },
  {
   "cell_type": "markdown",
   "metadata": {},
   "source": [
    "![](../images/2022/7_july/trees_forest.png)"
   ]
  },
  {
   "cell_type": "markdown",
   "metadata": {},
   "source": [
    "Pybaobabdt docs: https://bit.ly/3unYtJc\n",
    "\n",
    "Code to generate the plot: https://bit.ly/3yT9CUV"
   ]
  },
  {
   "cell_type": "markdown",
   "metadata": {
    "pycharm": {
     "name": "#%% md\n"
    },
    "tags": []
   },
   "source": [
    "## Venn diagrams in Python"
   ]
  },
  {
   "cell_type": "markdown",
   "metadata": {},
   "source": [
    "Drawing Venn diagrams in Matplotlib!\n",
    "\n",
    "Matplotlib is built upon tiny moving classes called Artists. Everything is an artist in Matplotlib - each dot, circle, line, text, spine, etc. They all inherit from a base class called Artist.\n",
    "\n",
    "If you use these Artists correctly you can draw practically everything in Matplotlib (even the Mandelbrot set). matplotlib_venn is a library that takes advantage of this feature and allows you to plot Venn diagrams.\n",
    "\n",
    "Link to the library in the first comment."
   ]
  },
  {
   "cell_type": "markdown",
   "metadata": {},
   "source": [
    "<div\n",
    "      style=\"\n",
    "        transform: scale(0.5);\n",
    "        transform-origin: top left;\n",
    "        margin-bottom: -420px;\n",
    "      \"\n",
    "    >\n",
    "      <iframe width=\"898\" height=\"874\" title=\"Code snippet - venn\" src=\"https://snappify.io/embed/c169488f-2933-47a5-95c0-b29af5a28160\" allow=\"clipboard-write\" style=\"border-radius:10px;background:linear-gradient(to left, #141e30, #243b55)\" frameborder=\"0\"></iframe>\n",
    "    </div>"
   ]
  },
  {
   "cell_type": "markdown",
   "metadata": {},
   "source": [
    "The library: https://github.com/konstantint/matplotlib-venn"
   ]
  },
  {
   "cell_type": "markdown",
   "metadata": {},
   "source": [
    "## Anatomy of Matplotlib"
   ]
  },
  {
   "cell_type": "markdown",
   "metadata": {},
   "source": [
    "A plot that is worth a thousand plots.\n",
    "\n",
    "![](../images/2022/8_august/matplotlib_anatomy.png)"
   ]
  },
  {
   "cell_type": "markdown",
   "metadata": {},
   "source": [
    "Source: https://bit.ly/3P6gq6H"
   ]
  }
 ],
 "metadata": {
  "kernelspec": {
   "display_name": "articles",
   "language": "python",
   "name": "articles"
  },
  "language_info": {
   "codemirror_mode": {
    "name": "ipython",
    "version": 3
   },
   "file_extension": ".py",
   "mimetype": "text/x-python",
   "name": "python",
   "nbconvert_exporter": "python",
   "pygments_lexer": "ipython3",
   "version": "3.9.12"
  }
 },
 "nbformat": 4,
 "nbformat_minor": 4
}
