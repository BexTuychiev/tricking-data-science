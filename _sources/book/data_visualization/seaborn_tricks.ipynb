{
 "cells": [
  {
   "cell_type": "markdown",
   "metadata": {
    "pycharm": {
     "name": "#%% md\n"
    }
   },
   "source": [
    "# Seaborn"
   ]
  },
  {
   "cell_type": "markdown",
   "metadata": {
    "pycharm": {
     "name": "#%% md\n"
    }
   },
   "source": [
    "## Removing the top half of a heatmap"
   ]
  },
  {
   "cell_type": "markdown",
   "metadata": {
    "pycharm": {
     "name": "#%% md\n"
    }
   },
   "source": [
    "Half of a heatmap is useless. Anything distracting should be obliterated from a plot. \n",
    "\n",
    "Duplicate cells of a heatmap are certainly such a case as they appear to hold valuable information.\n",
    "\n",
    "Here is how to get rid of the clutter. "
   ]
  },
  {
   "cell_type": "markdown",
   "metadata": {
    "pycharm": {
     "name": "#%% md\n"
    }
   },
   "source": [
    "<div\n",
    "      style=\"\n",
    "        transform: scale(0.5);\n",
    "        transform-origin: top left;\n",
    "        margin-bottom: -400px;\n",
    "      \"\n",
    "    >\n",
    "      <iframe width=\"934\" height=\"780\" title=\"Code snippet - heatmap_half_off\" src=\"https://snappify.io/embed/af2c6d2b-fb42-4997-ba9c-1526e6de6701\" allow=\"clipboard-write\" style=\"border-radius:10px;background:linear-gradient(to left, #141e30, #243b55)\" frameborder=\"0\"></iframe>\n",
    "    </div>"
   ]
  },
  {
   "cell_type": "markdown",
   "metadata": {
    "pycharm": {
     "name": "#%% md\n"
    }
   },
   "source": [
    "## Clustermaps - big brother of heatmaps"
   ]
  },
  {
   "cell_type": "markdown",
   "metadata": {
    "pycharm": {
     "name": "#%% md\n"
    }
   },
   "source": [
    "Heatmaps have a bigger brother in Seaborn - clustermap. \n",
    "\n",
    "When passed a rectangular data, it hierarchically groups values with dendrograms.\n",
    "\n",
    "Makes it much easier to see similar correlations when used on a correlation matrix."
   ]
  },
  {
   "cell_type": "markdown",
   "metadata": {
    "pycharm": {
     "name": "#%% md\n"
    }
   },
   "source": [
    "<div\n",
    "      style=\"\n",
    "        transform: scale(0.5);\n",
    "        transform-origin: top left;\n",
    "        margin-bottom: -400px;\n",
    "      \"\n",
    "    >\n",
    "      <iframe width=\"934\" height=\"780\" title=\"Code snippet - heatmap_half_off\" src=\"https://snappify.io/embed/af2c6d2b-fb42-4997-ba9c-1526e6de6701\" allow=\"clipboard-write\" style=\"border-radius:10px;background:linear-gradient(to left, #141e30, #243b55)\" frameborder=\"0\"></iframe>\n",
    "    </div>"
   ]
  }
 ],
 "metadata": {
  "kernelspec": {
   "display_name": "tricking_data",
   "language": "python",
   "name": "tricking_data"
  },
  "language_info": {
   "codemirror_mode": {
    "name": "ipython",
    "version": 3
   },
   "file_extension": ".py",
   "mimetype": "text/x-python",
   "name": "python",
   "nbconvert_exporter": "python",
   "pygments_lexer": "ipython3",
   "version": "3.7.0"
  }
 },
 "nbformat": 4,
 "nbformat_minor": 4
}
