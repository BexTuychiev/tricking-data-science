{
 "cells": [
  {
   "cell_type": "markdown",
   "id": "18c6747e-bfba-4b75-b229-ece2bb1b57b2",
   "metadata": {
    "pycharm": {
     "name": "#%% md\n"
    }
   },
   "source": [
    "# JupyterLab"
   ]
  },
  {
   "cell_type": "markdown",
   "id": "a6dea604-82d1-4ddc-a663-aecaf8482676",
   "metadata": {
    "pycharm": {
     "name": "#%% md\n"
    }
   },
   "source": [
    "## Add a conda environment to Jupyter"
   ]
  },
  {
   "cell_type": "markdown",
   "id": "3dba7d05-88db-4ea7-9189-d53c46a709f2",
   "metadata": {
    "pycharm": {
     "name": "#%% md\n"
    }
   },
   "source": [
    "Here is how to a conda environment to Jupyter lab in a jiffy:"
   ]
  },
  {
   "cell_type": "markdown",
   "id": "1295ff32-05fe-4163-906c-7fdefc513cc3",
   "metadata": {
    "pycharm": {
     "name": "#%% md\n"
    }
   },
   "source": [
    "<div\n",
    "      style=\"\n",
    "        transform: scale(0.5);\n",
    "        transform-origin: top left;\n",
    "        margin-bottom: -280px;\n",
    "      \"\n",
    "    >\n",
    "      <iframe width=\"888\" height=\"466\" title=\"Code snippet - conda_to_jupyterlab\" src=\"https://snappify.io/embed/2af2fa92-59f0-41c4-a575-d18799e210b1\" allow=\"clipboard-write\" style=\"border-radius:10px;background:linear-gradient(to left, #141e30, #243b55)\" frameborder=\"0\"></iframe>\n",
    "    </div>"
   ]
  },
  {
   "cell_type": "markdown",
   "id": "5b15320a-1667-416e-9754-d170050e4a58",
   "metadata": {},
   "source": [
    "## Best Jupyter Lab magic commands"
   ]
  },
  {
   "cell_type": "markdown",
   "id": "cb37399a-e9fc-42cf-a075-f62b8dcb7575",
   "metadata": {},
   "source": [
    "Jupyter Lab has a lot of tricks up its sleeve and only the people that used it for a long time know them.\n",
    "\n",
    "Here are 5 of such tricks from its list of magic commands:\n",
    "\n",
    "1. autoreload - if you use scipts in notebooks a lot, you know what a pain it is to restart the kernel every time you make a change to your script. Not anymore.\n",
    "2. run - another command for scripts - execute and get the output of a script right inside a cell\n",
    "3. who - a variable inspector. Best part is that you can filter variables based on class name.\n",
    "4. pinfo - no need to check out the docs. This will do for any name in the notebook.\n",
    "5. pycat - Linux's cat command in the notebooks."
   ]
  },
  {
   "cell_type": "markdown",
   "id": "b22450ee-2996-4fc7-ae9f-149d60087b20",
   "metadata": {},
   "source": [
    "<div\n",
    "      style=\"\n",
    "        transform: scale(0.5);\n",
    "        transform-origin: top left;\n",
    "        margin-bottom: -360px;\n",
    "      \"\n",
    "    >\n",
    "      <iframe width=\"926\" height=\"702\" title=\"Code snippet - jlab_magic_commands\" src=\"https://snappify.io/embed/ae192aae-5128-48ec-b2af-17694ba3159c\" allow=\"clipboard-write\" style=\"border-radius:10px;background:linear-gradient(to left, #141e30, #243b55)\" frameborder=\"0\"></iframe>\n",
    "    </div>"
   ]
  },
  {
   "cell_type": "markdown",
   "id": "d0e556c1-83fc-419d-b3ca-413df9636a05",
   "metadata": {},
   "source": [
    "## Mount Google Drive on Colab"
   ]
  },
  {
   "cell_type": "markdown",
   "id": "433d1634-ee4c-43ce-8c5f-1eaace11046e",
   "metadata": {},
   "source": [
    "It is infuriating that once a session is ended, Google Colab discards uploaded files. So, instead of uploading your CSVs directly to Colab, you can store them in your Google Drive and access them from your notebooks. Here is how👇"
   ]
  },
  {
   "cell_type": "markdown",
   "id": "3e4365a0-bf4f-4510-87df-b1b1dc073d75",
   "metadata": {},
   "source": [
    "<div\n",
    "      style=\"\n",
    "        transform: scale(0.5);\n",
    "        transform-origin: top left;\n",
    "        margin-bottom: -280px;\n",
    "      \"\n",
    "    >\n",
    "      <iframe width=\"566\" height=\"482\" title=\"Code snippet - gdrive_mount\" src=\"https://snappify.io/embed/02b1e1b6-ea18-4ea5-8000-eaa7e8a7fdce\" allow=\"clipboard-write\" style=\"border-radius:10px;background:linear-gradient(to left, #141e30, #243b55)\" frameborder=\"0\"></iframe>\n",
    "    </div>"
   ]
  },
  {
   "cell_type": "markdown",
   "id": "c53f3c54-8838-4e57-a431-8af062d2fad3",
   "metadata": {
    "pycharm": {
     "name": "#%% md\n"
    }
   },
   "source": [
    "## Progress bars with Rich"
   ]
  },
  {
   "cell_type": "markdown",
   "id": "a5fdd801-988d-4386-8656-bc2f803aeba7",
   "metadata": {
    "pycharm": {
     "name": "#%% md\n"
    }
   },
   "source": [
    "TQDM for progress bars in Jupyter is outdated. Instead, go with Rich!\n",
    "\n",
    "Apart from being an excellent CLI tool, Rich works greatly with Jupyter Lab as well. \n",
    "\n",
    "The display is fully customizable. You can tweak the text labels, the width and ordering of the bars and much more.\n",
    "\n",
    "Check out the docs for more details in the first comment."
   ]
  },
  {
   "cell_type": "markdown",
   "id": "1fd4b74e-0890-466d-ac64-17f34d06ed9a",
   "metadata": {
    "pycharm": {
     "name": "#%% md\n"
    }
   },
   "source": [
    "![](../images/2022/7_july/progress_bar_2.gif)"
   ]
  },
  {
   "cell_type": "markdown",
   "id": "1db5495d-b2c6-43d5-82f3-6c45af10b17c",
   "metadata": {
    "pycharm": {
     "name": "#%% md\n"
    }
   },
   "source": [
    "Rich progress bar display: https://bit.ly/3vdDw3U"
   ]
  },
  {
   "cell_type": "markdown",
   "id": "b29ac295-ab19-48f1-9e1d-6d87cf960b4f",
   "metadata": {
    "pycharm": {
     "name": "#%% md\n"
    }
   },
   "source": [
    "## Session expiry trick in Colab"
   ]
  },
  {
   "cell_type": "markdown",
   "id": "425ad425-b0f5-47f6-b4ce-5cc2e2cafab8",
   "metadata": {},
   "source": [
    "What kind of dirty tricks do you use in Colab?\n",
    "\n",
    "For me, If I have to get away from my computer and am worried about losing the session, I just import the time module and set the cell to sleep for a few hours - 60 * 60 * 10.\n",
    "\n",
    "That way, the session will never go idle even if the previous cells finish execution. "
   ]
  }
 ],
 "metadata": {
  "kernelspec": {
   "display_name": "articles",
   "language": "python",
   "name": "articles"
  },
  "language_info": {
   "codemirror_mode": {
    "name": "ipython",
    "version": 3
   },
   "file_extension": ".py",
   "mimetype": "text/x-python",
   "name": "python",
   "nbconvert_exporter": "python",
   "pygments_lexer": "ipython3",
   "version": "3.9.12"
  }
 },
 "nbformat": 4,
 "nbformat_minor": 5
}
