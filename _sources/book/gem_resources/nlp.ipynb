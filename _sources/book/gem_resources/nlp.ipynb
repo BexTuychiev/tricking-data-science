{
 "cells": [
  {
   "cell_type": "markdown",
   "id": "5d83ad1e-9e8a-4520-bb6a-41955664f9c5",
   "metadata": {},
   "source": [
    "# Natural Language Processing (NLP)"
   ]
  },
  {
   "cell_type": "markdown",
   "id": "19b3f365-3772-44e5-b455-44cbe8b035f1",
   "metadata": {},
   "source": [
    "## Speech and language processing - Dan Jurafsky"
   ]
  },
  {
   "cell_type": "markdown",
   "id": "9f8c4d79-28df-4f73-8bf4-12147087c575",
   "metadata": {},
   "source": [
    "Speech and Language Processıng ıs one of the most comprehensıve books on NLP theory. \n",
    "\n",
    "Even though the books claıms to be ıntroductory, ıt spans over 27 chapters and 600 pages coverıng NLP technıques from basıc reGex to Chatbot & Dıalogue systems. It ıs a great book for anyone tryıng to get to the bottom of NLP theory.\n",
    "\n",
    "Download lınk ın the commets👇"
   ]
  },
  {
   "cell_type": "markdown",
   "id": "0b29dc78-0822-4ed3-9b06-1e41e8d25791",
   "metadata": {},
   "source": [
    "![](../images/2022/7_july/dan_jurafsky.jpg)"
   ]
  },
  {
   "cell_type": "markdown",
   "id": "b880f847-feaf-4b54-a474-ee681835f901",
   "metadata": {},
   "source": [
    "Download lınk: https://stanford.io/3yIUTf9"
   ]
  }
 ],
 "metadata": {
  "kernelspec": {
   "display_name": "tricking_data",
   "language": "python",
   "name": "tricking_data"
  },
  "language_info": {
   "codemirror_mode": {
    "name": "ipython",
    "version": 3
   },
   "file_extension": ".py",
   "mimetype": "text/x-python",
   "name": "python",
   "nbconvert_exporter": "python",
   "pygments_lexer": "ipython3",
   "version": "3.7.0"
  }
 },
 "nbformat": 4,
 "nbformat_minor": 5
}
