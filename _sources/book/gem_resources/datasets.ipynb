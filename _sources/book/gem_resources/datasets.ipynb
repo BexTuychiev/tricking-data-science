{
 "cells": [
  {
   "cell_type": "markdown",
   "id": "82d9d87b-5165-4f94-b97d-0b7cd91ec507",
   "metadata": {},
   "source": [
    "# Datasets"
   ]
  },
  {
   "cell_type": "markdown",
   "id": "e2ad50f2-2f96-42da-866b-b75a57d9784b",
   "metadata": {
    "tags": []
   },
   "source": [
    "## Wikipedia's list of machine learning datasets for research"
   ]
  },
  {
   "cell_type": "markdown",
   "id": "46bd4bb1-9c21-46d4-a286-ab08b0031b7a",
   "metadata": {},
   "source": [
    "Did you know there are ~56 MILLION Wikipedia pages in total?\n",
    "\n",
    "Did you also know that some of those pages contain information that are beyond the wildest dreams of certain people but are just buried too deep inside?\n",
    "\n",
    "Here is one of those pages that outline some of the best datasets on machine learning research and with links to their papers👇\n",
    "https://en.wikipedia.org/wiki/List_of_datasets_for_machine-learning_research"
   ]
  },
  {
   "cell_type": "markdown",
   "id": "d1d42b53-4ced-4b46-8cee-7b169f08a529",
   "metadata": {},
   "source": [
    "## Papers with Code datasets"
   ]
  },
  {
   "cell_type": "markdown",
   "id": "2e80091a-3f06-4b00-92f4-f3274075ff7d",
   "metadata": {},
   "source": [
    "Want to get your hands on high-quality datasets used in cutting-edge research?\n",
    "\n",
    "The Papers with Code dataset has a curated list of over 6500 such datasets with controls to filter by data type, task and language.\n",
    "\n",
    "Link to the source: https://bit.ly/3QP50pH\n",
    "\n",
    "![](../images/2022/6_june/datasets_pwc.gif)"
   ]
  },
  {
   "cell_type": "markdown",
   "id": "737ac2bb-5390-4751-9757-52788f0a8fb1",
   "metadata": {},
   "source": [
    "## CT-GAN - generate synthetic data from existing sources"
   ]
  },
  {
   "cell_type": "markdown",
   "id": "84631565-e34b-4e0a-b7c5-b8a4ec37d021",
   "metadata": {},
   "source": [
    "There are so much more private datasets than open-source. But private datasets can be shared too, if you make sure to preserve the anonymity and fidelity of the data.\n",
    "\n",
    "One of the best tools to do this is the CTGAN library, which when fit to a dataset, can generate a synthetic dataset with the same distributions and features as the original but hiding any sensitive information. \n",
    "\n",
    "The resulting dataset would be completely unrecognizable but still have the statistical properties of the original. \n",
    "\n",
    "The CTGAN library is based on the \"Modeling Tabular using Conditional GAN\" paper. Link to the Python API and paper in the comments👇"
   ]
  },
  {
   "cell_type": "markdown",
   "id": "6abdbab3-ff49-4e0b-b12b-36371d38ef8e",
   "metadata": {},
   "source": [
    "![](../images/2022/7_july/ctgan.png)"
   ]
  },
  {
   "cell_type": "markdown",
   "id": "8381d72e-2429-4344-9ecd-132414cdda82",
   "metadata": {},
   "source": [
    "CTGAN Python package: https://github.com/sdv-dev/CTGAN\n",
    "\n",
    "CTGAN paper: https://bit.ly/3RgoPXw"
   ]
  },
  {
   "cell_type": "markdown",
   "id": "98d75e1f-5df3-46bc-a272-322ad4616f31",
   "metadata": {
    "pycharm": {
     "name": "#%% md\n"
    }
   },
   "source": [
    "## Google dataset search"
   ]
  },
  {
   "cell_type": "markdown",
   "id": "4d5a6513-b440-490b-bdfd-368780e83912",
   "metadata": {},
   "source": [
    "Google has a custom domain for dataset search!\n",
    "\n",
    "Once you type in a keyword, the search will crawl across hundreds of dataset sources to find the best matches. It has got filters for data format (structured, unstructured), usage rights, topics and when it was last updated.\n",
    "\n",
    "I found the results of this sub-domain much cleaner than plain old Google Search, which always contains unnecessary pages and slows down your dataset search.\n",
    "\n",
    "Link to the tool in the first comment👇"
   ]
  },
  {
   "cell_type": "markdown",
   "id": "067e628a-306c-436d-8068-6f3e6e44879e",
   "metadata": {
    "pycharm": {
     "name": "#%% md\n"
    }
   },
   "source": [
    "![](../images/2022/7_july/google_data_search.gif)"
   ]
  },
  {
   "cell_type": "markdown",
   "id": "8bdb6122-83bb-466f-808a-5e0c5317efe5",
   "metadata": {},
   "source": [
    "Link to the tool: https://datasetsearch.research.google.com/"
   ]
  },
  {
   "cell_type": "markdown",
   "id": "0a5251dc-9a30-4331-90c9-01c268df9250",
   "metadata": {},
   "source": [
    "## OpenImages - GoogleAPIs"
   ]
  },
  {
   "cell_type": "markdown",
   "id": "fff5d7e7-6252-4a0e-9c50-d9a08f758a12",
   "metadata": {},
   "source": [
    "Close to 100 million images, with ~20k categories annotated!\n",
    "\n",
    "Open Images Dataset V6+ is an open-source repository of almost 100 million high-quality images with over 20k categories annotated for image classification. There are also special images for instance segmentation, object detection (wrapping boxes), etc.\n",
    "\n",
    "The website has filters for keyword search and download. "
   ]
  },
  {
   "cell_type": "markdown",
   "id": "647a08e5-00f3-4033-a922-83f15004fd74",
   "metadata": {},
   "source": [
    "![](../images/2022/8_august/opemimages.png)"
   ]
  },
  {
   "cell_type": "markdown",
   "id": "cb9b8a3b-a1da-4178-aae6-991578550389",
   "metadata": {},
   "source": [
    "Link: https://bit.ly/3Q1Nu0K"
   ]
  },
  {
   "cell_type": "markdown",
   "id": "3fdc2085-70f6-456b-949f-e2e775faca80",
   "metadata": {},
   "source": [
    "## changedetection.io for web scraping"
   ]
  },
  {
   "cell_type": "markdown",
   "id": "00dbad3f-6dd2-4659-b795-bcac42c5ec77",
   "metadata": {},
   "source": [
    "One of the heavy challenges of web scraping in data science is websites changing their HTML/JavaScript code.\n",
    "\n",
    "A single class name change or the introduction of a new tag can totally break your scheduled web scrapers. And the hardest part is that the website change their internal markup so frequently that you don't even know what broke your scraper.\n",
    "\n",
    "For such cases, you can use the open-source changedetection \\[dot\\] io to watch out for website changes. By simply clicking the \"Diff\" button you can see what changes and update your code accordingly.\n",
    "\n",
    "Link to the tool in the comments."
   ]
  },
  {
   "cell_type": "markdown",
   "id": "42f99f04-c548-411a-a898-7f44b513a803",
   "metadata": {},
   "source": [
    "![](../images/2022/8_august/changedetection_sample.png)"
   ]
  },
  {
   "cell_type": "markdown",
   "id": "f0525ee8-fb27-467f-bba5-cf5e6ed6ac55",
   "metadata": {},
   "source": [
    "Link to the tool: https://changedetection.io/"
   ]
  }
 ],
 "metadata": {
  "kernelspec": {
   "display_name": "articles",
   "language": "python",
   "name": "articles"
  },
  "language_info": {
   "codemirror_mode": {
    "name": "ipython",
    "version": 3
   },
   "file_extension": ".py",
   "mimetype": "text/x-python",
   "name": "python",
   "nbconvert_exporter": "python",
   "pygments_lexer": "ipython3",
   "version": "3.9.12"
  }
 },
 "nbformat": 4,
 "nbformat_minor": 5
}
