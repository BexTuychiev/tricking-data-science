{
 "cells": [
  {
   "cell_type": "markdown",
   "id": "37b62365-ce35-49cc-b627-72564404855c",
   "metadata": {},
   "source": [
    "# General deep learning"
   ]
  },
  {
   "cell_type": "markdown",
   "id": "dac59f64-a48a-4db1-a5c8-b6157fa64939",
   "metadata": {},
   "source": [
    "## 50 Annotated Deep Learning papers"
   ]
  },
  {
   "cell_type": "markdown",
   "id": "bd72c52c-3c56-4bdc-a256-712d029a5293",
   "metadata": {},
   "source": [
    "50 annotated deep learning papers!\n",
    "\n",
    "The labml.ai website features 50 PyTorch implementations of the most popular deep learning papers. The examples include transformers, optimizers, GANs and reinforcement learning algorithms.\n",
    "\n",
    "The website has an excellent format that outlines explanations and code side-by-side:\n",
    "\n",
    "https://github.com/labmlai/annotated_deep_learning_paper_implementations"
   ]
  },
  {
   "cell_type": "markdown",
   "id": "4e07cb35-c6e0-4b7c-9492-80d16325558a",
   "metadata": {},
   "source": [
    "## Online neural network architecture builder"
   ]
  },
  {
   "cell_type": "markdown",
   "id": "3f1f5685-6465-4cca-af04-1061c4ac5230",
   "metadata": {},
   "source": [
    "Online neural network builder - NN-SVG!\n",
    "\n",
    "NN-SVG is a tool to sketch out the architecture of your neural networks using a few buttons and sliders. \n",
    "\n",
    "It supports building classic DNN architectures or CNNs with max pooling and dropout layers. \n",
    "\n",
    "You can also instantly download the network as an SVG to embed into papers or web articles.\n",
    "\n",
    "Link to the tool: https://buff.ly/39uicji\n",
    "\n",
    "![](../images/2022/6_june/nn.gif)"
   ]
  },
  {
   "cell_type": "markdown",
   "id": "7e680d77-c3a6-45aa-b5d8-b7c1985e38a3",
   "metadata": {},
   "source": [
    "## Yann LeCun's Deep Learning Course at CDS"
   ]
  },
  {
   "cell_type": "markdown",
   "id": "d005f1f6-f61c-4a2d-8282-e45166fd605c",
   "metadata": {},
   "source": [
    "A free deep learning course by Yann LeCun himself!\n",
    "\n",
    "Yann LeCun is one of the three people who are considered as \"Godfathers of AI and Deep Learning\". He has a Turing award as well, which is considered as the Nobel Prize of computing.\n",
    "\n",
    "If he is teaching a course and for free, you should definitely take it: https://cds.nyu.edu/deep-learning/\n",
    "\n",
    "The course covers:\n",
    "\n",
    "✅ Supervised and unsupervised deep learning\n",
    "\n",
    "✅ Embedding methods\n",
    "\n",
    "✅ Metric learning\n",
    "\n",
    "✅ Convnets and RNNs"
   ]
  },
  {
   "cell_type": "markdown",
   "id": "072e5c37-e079-4e6b-8c72-1c3786bdee75",
   "metadata": {
    "pycharm": {
     "name": "#%% md\n"
    }
   },
   "source": [
    "## Avatarify Python"
   ]
  },
  {
   "cell_type": "markdown",
   "id": "4c7a3d78-838b-4d0d-9924-c1db54aebc9d",
   "metadata": {},
   "source": [
    "Photorealistic avatars for video conferencing with Python Avatarify.\n",
    "\n",
    "Avatarify is a project for swapping your face with anyone you like on Zoom and Skype. Apart from the initial fun of it, you might be interested in the implementation of the project.\n",
    "\n",
    "The animation engine is based on the First Order Motion Model paper by Aliaksandr Siarohin. I am not gonna pretend I am smart enough to understand what that is but you can check out the first comment for the paper link and the desktop app of the project."
   ]
  },
  {
   "cell_type": "markdown",
   "id": "284ad692-8ab5-4b09-a38a-a5b2cca6a0a4",
   "metadata": {
    "pycharm": {
     "name": "#%% md\n"
    }
   },
   "source": [
    "![](../images/2022/7_july/avatarify.gif)"
   ]
  },
  {
   "cell_type": "markdown",
   "id": "6753b9d6-2d12-4fb6-a4d8-b24973dde585",
   "metadata": {},
   "source": [
    "Avatirfy GitHub (Desktop app): https://github.com/alievk/avatarify-python\n",
    "\n",
    "Paper: https://bit.ly/3PIOxmj"
   ]
  },
  {
   "cell_type": "markdown",
   "id": "fb1c8ca5-eb75-4270-96ee-499ecd4b298f",
   "metadata": {
    "pycharm": {
     "name": "#%% md\n"
    }
   },
   "source": [
    "## Andrey Karpathy blog on recipe for training neural networks"
   ]
  },
  {
   "cell_type": "markdown",
   "id": "afc363d4-30c2-4ff1-b4ea-4fa58acf8cfb",
   "metadata": {},
   "source": [
    "The secret recipe for training neural networks - by the former director of AI @Tesla.\n",
    "\n",
    "In one of his articles, Anrej Karapathy shares his valuable knowledge on how best train neural nets and the common mistakes to avoid. It covers:\n",
    "\n",
    "- why neural networks are not easy \"plug and play\" software code\n",
    "- how networks fail silently\n",
    "- 6-step detailed recipe on applying neural nets to any problem\n",
    "\n",
    "Check out the article in the first comment."
   ]
  },
  {
   "cell_type": "markdown",
   "id": "10413a3f-310e-4b23-aed0-9a4e3ca8fd8f",
   "metadata": {
    "pycharm": {
     "name": "#%% md\n"
    }
   },
   "source": [
    "The secret recipe for training neural networs - Andrej Karapathy: https://bit.ly/3PtCZTE"
   ]
  }
 ],
 "metadata": {
  "kernelspec": {
   "display_name": "articles",
   "language": "python",
   "name": "articles"
  },
  "language_info": {
   "codemirror_mode": {
    "name": "ipython",
    "version": 3
   },
   "file_extension": ".py",
   "mimetype": "text/x-python",
   "name": "python",
   "nbconvert_exporter": "python",
   "pygments_lexer": "ipython3",
   "version": "3.9.12"
  }
 },
 "nbformat": 4,
 "nbformat_minor": 5
}
