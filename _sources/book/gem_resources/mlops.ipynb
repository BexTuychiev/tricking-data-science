{
 "cells": [
  {
   "cell_type": "markdown",
   "id": "76dd311e-52b0-4336-8a92-1a5d0d884b73",
   "metadata": {},
   "source": [
    "# MLOps"
   ]
  },
  {
   "cell_type": "markdown",
   "id": "aac0786a-0bab-4361-8864-dcb319ced31d",
   "metadata": {
    "tags": []
   },
   "source": [
    "## Made With ML"
   ]
  },
  {
   "cell_type": "markdown",
   "id": "f17372e9-fd9b-4e91-a62c-df9d1fff9ba0",
   "metadata": {},
   "source": [
    "There are so darn many MLOps tools right now. The only thing that is more than that is the number of courses, books and resources on MLOps. \n",
    "\n",
    "To learn MLOps properly, you only need a few high-quality resources, not dozen. The open-source Made With ML website is one of them.\n",
    "\n",
    "It teaches everything you need to know to take models from idea to deployment. It has got separate chapters for\n",
    "\n",
    "✅ Model development\n",
    "✅ Packaging\n",
    "✅ Deployment\n",
    "✅ Testing\n",
    "✅ Reproducibility\n",
    "\n",
    "The project has over +30k on GitHub, making it one of the most popular repositors in the MLOps world.\n",
    "\n",
    "Link to the website: https://madewithml.com/"
   ]
  },
  {
   "cell_type": "markdown",
   "id": "629e64c4-31b6-4ae6-ba94-11d5fa074c70",
   "metadata": {},
   "source": [
    "![image.png](../images/2022/6_june/madewithml.png)"
   ]
  },
  {
   "cell_type": "markdown",
   "id": "08d8972d-d862-4f62-97f8-113e62c3b441",
   "metadata": {
    "pycharm": {
     "name": "#%% md\n"
    }
   },
   "source": [
    "## Git-story"
   ]
  },
  {
   "cell_type": "markdown",
   "id": "c770f0ea-732e-4e82-8f4b-61335f11e1f5",
   "metadata": {
    "pycharm": {
     "name": "#%% md\n"
    }
   },
   "source": [
    "A project's Git tree can become quite complex. To explain how the commits, branchs and tags criss-cross in the repo, use new tool called Git-story to animate the tree. \n",
    "\n",
    "Under the hood, Git-story uses Manim, the same animation engine used in 3Blue1Brown videos. Features of Git-story:\n",
    "\n",
    "1. Single command to create an .mp4 video of git history\n",
    "2. Move the animation start to any commit\n",
    "3. Different labels for commits, branch and tags\n",
    "4. Dark and light mode\n",
    "\n",
    "Git-story can be a great tool to lower the barriers to contributing many open-source projects by displaying the animation history."
   ]
  },
  {
   "cell_type": "markdown",
   "id": "0fd16f28-59ec-4b03-93bf-32326e4c6f2b",
   "metadata": {
    "pycharm": {
     "name": "#%% md\n"
    }
   },
   "source": [
    "![](../images/2022/7_july/git_story.gif)"
   ]
  },
  {
   "cell_type": "markdown",
   "id": "6984cf6b-bd7b-4ef8-928d-82fabd95c7d8",
   "metadata": {
    "pycharm": {
     "name": "#%% md\n"
    }
   },
   "source": [
    "Link to git-story: https://initialcommit.com/tools/git-story"
   ]
  },
  {
   "cell_type": "markdown",
   "id": "f989017d-d55b-4857-b9b0-741375b62f0c",
   "metadata": {},
   "source": [
    "## MLOps.org"
   ]
  },
  {
   "cell_type": "markdown",
   "id": "9d2e91e4-8c78-4ad5-9a46-0d9672c8b1f4",
   "metadata": {},
   "source": [
    "The official MLOps website - ml-ops \\[dot\\] org.\n",
    "\n",
    "Most of us still don't have a crystal clear idea of the global MLOps landscape. There are so many tools with overlapping features that claim to work for one area of the field but actually ends up disrupting the clear distinctions between each sub-field of MLOps. \n",
    "\n",
    "This official website will help you navigate the complex world of MLOps by outlining all the terminology, technology and processes that go into it. There are 9 guides on end-to-end ML lifecycles, levels and design principles of MLOps software.\n",
    "\n",
    "Definitely check it out!"
   ]
  },
  {
   "cell_type": "markdown",
   "id": "fe863ee6-5e86-4032-8d04-39c77979b750",
   "metadata": {},
   "source": [
    "![](../images/2022/8_august/mlopsorg.png)"
   ]
  }
 ],
 "metadata": {
  "kernelspec": {
   "display_name": "tricking_data",
   "language": "python",
   "name": "tricking_data"
  },
  "language_info": {
   "codemirror_mode": {
    "name": "ipython",
    "version": 3
   },
   "file_extension": ".py",
   "mimetype": "text/x-python",
   "name": "python",
   "nbconvert_exporter": "python",
   "pygments_lexer": "ipython3",
   "version": "3.7.0"
  }
 },
 "nbformat": 4,
 "nbformat_minor": 5
}
