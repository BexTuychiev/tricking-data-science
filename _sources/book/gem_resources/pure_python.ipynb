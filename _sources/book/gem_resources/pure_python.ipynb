{
 "cells": [
  {
   "cell_type": "markdown",
   "id": "bf9e6a5f-485e-449b-84ba-34c82ea24050",
   "metadata": {},
   "source": [
    "# Pure Python"
   ]
  },
  {
   "cell_type": "markdown",
   "id": "a41fc93a-30f2-4d09-b656-10ac446ac657",
   "metadata": {},
   "source": [
    "## Implementation of virtually any algorithm in Python:"
   ]
  },
  {
   "cell_type": "markdown",
   "id": "bd449747-8679-4ff8-aedd-7a7011223f9b",
   "metadata": {},
   "source": [
    "If this mind-blowing repository was for sale for a MILLION dollars, I would have bought it no questions asked.\n",
    "\n",
    "With over 137k GitHub stars, the repo outlines the implementation of over 800 algorithms from all of pure math (calculus, linear algebra, complex analysis) to statistics, from core algorithms to blockchain, from dynamic programming to machine learning algos (trees, gradient-boosted machines, KNN, SVM), etc.\n",
    "\n",
    "It is a dream come true for anyone trying to get to the root of ML, statistics and interview preparation:\n",
    "https://github.com/TheAlgorithms/Python"
   ]
  },
  {
   "cell_type": "markdown",
   "id": "50149f23-965f-4f35-b562-375cbf1b81bb",
   "metadata": {},
   "source": [
    "## Intermediate Python - the book"
   ]
  },
  {
   "cell_type": "markdown",
   "id": "4805349b-c67f-4fa7-951a-62c39f5cb7ad",
   "metadata": {},
   "source": [
    "Most people are at Python standstill. What is that?\n",
    "\n",
    "When learning data science, beginners learn the basics of Python just enough to move on to fancier stuff like visualization and ML algorithms. Distracted by the vast data science stack, they never go back to strengthening their Python background.\n",
    "\n",
    "The open-source book - \"Intermediate Python\" is designed solely to fill in the gaps of your Python knowledge. With over 20 chapters, the book covers some cool Python concepts you never knew existed like:\n",
    "\n",
    "✅ Decorators\n",
    "✅ for/else blocks\n",
    "✅ Coroutines\n",
    "✅ Generators\n",
    "✅ Hidden gems from the built-in libraries\n",
    "\n",
    "and many more. Read it online in the link below👇"
   ]
  },
  {
   "cell_type": "markdown",
   "id": "a9576eb2-db6a-416e-bc62-83256f6e8ebc",
   "metadata": {},
   "source": [
    "Link: https://bit.ly/3yinAy9"
   ]
  },
  {
   "cell_type": "markdown",
   "id": "96217f92-0841-44e7-872f-e4f04312b69e",
   "metadata": {},
   "source": [
    "## PySnooper - never use another logging library ever again!"
   ]
  },
  {
   "cell_type": "markdown",
   "id": "b7a11216-1a80-4376-91f8-e068d237c8dc",
   "metadata": {},
   "source": [
    "With PySnooper, you won't ever have to use print statements or logging functions ever again!\n",
    "\n",
    "As you can in the image, PySnooper profiles every line of your script and detects new variables and how they change as they go through loops.\n",
    "\n",
    "Tools like this are super helpful when working with loooong loops."
   ]
  },
  {
   "cell_type": "markdown",
   "id": "97c6e41f-acb0-49ba-ab73-dacf4f87b2d9",
   "metadata": {},
   "source": [
    "![](../images/2022/8_august/pysnooper.png)"
   ]
  },
  {
   "cell_type": "markdown",
   "id": "137c4659-c068-4421-b398-ff056ca264d8",
   "metadata": {},
   "source": [
    "Link to the library: https://github.com/cool-RR/PySnooper"
   ]
  }
 ],
 "metadata": {
  "kernelspec": {
   "display_name": "articles",
   "language": "python",
   "name": "articles"
  },
  "language_info": {
   "codemirror_mode": {
    "name": "ipython",
    "version": 3
   },
   "file_extension": ".py",
   "mimetype": "text/x-python",
   "name": "python",
   "nbconvert_exporter": "python",
   "pygments_lexer": "ipython3",
   "version": "3.9.12"
  }
 },
 "nbformat": 4,
 "nbformat_minor": 5
}
