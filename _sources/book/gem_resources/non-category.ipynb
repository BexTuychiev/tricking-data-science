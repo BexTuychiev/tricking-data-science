{
 "cells": [
  {
   "cell_type": "markdown",
   "id": "550e0470-7bd1-4e17-bff0-6a0e80303f51",
   "metadata": {},
   "source": [
    "# Arbitrary resources"
   ]
  },
  {
   "cell_type": "markdown",
   "id": "42b3901b-83bd-416e-8f41-25cd6abd437b",
   "metadata": {},
   "source": [
    "## Writing a scientific article from scratch"
   ]
  },
  {
   "cell_type": "markdown",
   "id": "f8cae8e2-441b-4bd1-bf97-ca6844846ada",
   "metadata": {},
   "source": [
    "If you think writing a scientific article is easy and fun, you and I have very different interpretations of these words. \n",
    "\n",
    "Formal and technical writing is probably the most challenging type of writing. \n",
    "\n",
    "If done right, scientific publication can open wide doors for career advancement and academic reputaion. Learn to ace it in the guide below:\n",
    "\n",
    "Download: https://bit.ly/3u2ti5U\n",
    "\n",
    "Read: https://bit.ly/3njH0xC\n",
    "\n",
    "![image.png](../images/2022/6_june/scientific_article.png)"
   ]
  },
  {
   "cell_type": "markdown",
   "id": "312307e3-e212-473d-8be1-acf89853cf64",
   "metadata": {},
   "source": [
    "## Discoart by Jina AI"
   ]
  },
  {
   "cell_type": "markdown",
   "id": "9b962b59-4fe8-4755-b5c6-77fe6cda1b6d",
   "metadata": {},
   "source": [
    "High-quality image generation right from Google Colab🔥\n",
    "\n",
    "@Jina AI recently released Discoart - an open-source project for generating Disco Diffusion artworks based on text prompts.\n",
    "\n",
    "Unlike many other image generating models, the library is fully optimized to work with Google Colab's free tier. It has a stupidly simple API allowing you to generate complex images in a single line of code.\n",
    "\n",
    "Link to the library in the comments👇"
   ]
  },
  {
   "cell_type": "markdown",
   "id": "bc4708b8-7a99-4731-ad7b-ce1c07d7f536",
   "metadata": {},
   "source": [
    "![](../images/2022/7_july/discoart.gif)"
   ]
  },
  {
   "cell_type": "markdown",
   "id": "8fc844d5-2fd0-49b2-8c24-46f078938dc0",
   "metadata": {},
   "source": [
    "Link to Discoart: https://github.com/jina-ai/discoart"
   ]
  },
  {
   "cell_type": "markdown",
   "id": "73e7ffe3-6e92-4a20-8448-bdb1a0546208",
   "metadata": {},
   "source": [
    "## Resume guide and template by Terence Kuo to get a job from FAANG"
   ]
  },
  {
   "cell_type": "markdown",
   "id": "0cf73218-24e7-4d2b-82f9-43155686713e",
   "metadata": {},
   "source": [
    "Here is a CV guide and template that got offers from five of the FAANG companies by Terence Kuo.\n",
    "\n",
    "The article is for all types of programmers alike and is one the most viral posts I've seen on Medium.\n",
    "\n",
    "![](../images/2022/7_july/resume.png)\n",
    "\n",
    "https://bit.ly/3OQcgQV"
   ]
  },
  {
   "cell_type": "markdown",
   "id": "1557bca0-dfd6-462c-a7c8-6e95282b8ffa",
   "metadata": {
    "pycharm": {
     "name": "#%% md\n"
    }
   },
   "source": [
    "## Workera.ai for individuals"
   ]
  },
  {
   "cell_type": "markdown",
   "id": "1dc5b485-efe0-4315-9ce9-cfcdc9497997",
   "metadata": {},
   "source": [
    "How are your data compared to employees' of FAANG companies?\n",
    "\n",
    "You can easily find out by taking a skill assessment on Workera AI. The platform offers 10 different AI-based tests for your domain. Example tests are:\n",
    "\n",
    "- AI Fluent/Literate (decision making and communication)\n",
    "- Data analyst\n",
    "- Data engineer\n",
    "- ML and deep learning engineer, etc.\n",
    "\n",
    "Each skill assessment have separate tests for sub-skills and return a score out of 300. Then, you can compare your score against others who have taken the tests in other companies.\n",
    "\n",
    "It is free for individuals: https://workera.ai/"
   ]
  },
  {
   "cell_type": "markdown",
   "id": "c6bec9d8-a565-440b-b284-47b83eb89d15",
   "metadata": {
    "pycharm": {
     "name": "#%% md\n"
    }
   },
   "source": [
    "![](../images/2022/7_july/workera.png)"
   ]
  },
  {
   "cell_type": "markdown",
   "id": "5a65d3d3-128d-4822-8ded-e6188e3df1db",
   "metadata": {},
   "source": [
    "## GitHub README stats"
   ]
  },
  {
   "cell_type": "markdown",
   "id": "1ecb7b7e-879b-460b-a537-1522597380db",
   "metadata": {},
   "source": [
    "GitHub profile stats for your READMEs!\n",
    "\n",
    "If you always wondered how people generate those nice-looking profile stats, then you are in luck. Generating those stats is as easy as adding a single line of Markdown code with a link to your GitHub profile.\n",
    "\n",
    "Link to the tool's repository (has 44k stars) in the first comment. "
   ]
  },
  {
   "cell_type": "markdown",
   "id": "3501c939-ef4f-4d65-9eba-b895875c7444",
   "metadata": {},
   "source": [
    "![](../images/2022/8_august/readme_stats.png)"
   ]
  },
  {
   "cell_type": "markdown",
   "id": "7643772f-c7a1-4268-b877-4d2f9c8f870e",
   "metadata": {},
   "source": [
    "Link to the repo: https://github.com/anuraghazra/github-readme-stats"
   ]
  }
 ],
 "metadata": {
  "kernelspec": {
   "display_name": "tricking_data",
   "language": "python",
   "name": "tricking_data"
  },
  "language_info": {
   "codemirror_mode": {
    "name": "ipython",
    "version": 3
   },
   "file_extension": ".py",
   "mimetype": "text/x-python",
   "name": "python",
   "nbconvert_exporter": "python",
   "pygments_lexer": "ipython3",
   "version": "3.7.0"
  }
 },
 "nbformat": 4,
 "nbformat_minor": 5
}
