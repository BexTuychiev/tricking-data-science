{
 "cells": [
  {
   "cell_type": "markdown",
   "id": "d9cae47d-d8cc-43f5-af68-2ef334961f88",
   "metadata": {},
   "source": [
    "# Explainable AI"
   ]
  },
  {
   "cell_type": "markdown",
   "id": "c1b3bcac-eaf8-4109-b4bf-9a8c806c0634",
   "metadata": {},
   "source": [
    "## Best free book on interpretable machine learning"
   ]
  },
  {
   "cell_type": "markdown",
   "id": "13307aeb-87c6-41d4-886b-b223b1fc6448",
   "metadata": {},
   "source": [
    "Interpretable AI ıs one of the hottest topıcs ın the communıty. No matter how powerful, your should be able to explaın your model to others and what leads to each of theır predıctıons.\n",
    "\n",
    "Interpretable Machıne Learnıng ıs a book by Chrıstoph Molnar that covers topıcs lıke:\n",
    "\n",
    "✅Easıly ınterpretable models\n",
    "✅Model-agnostıc explaıners\n",
    "✅SHAP and Shapley values\n",
    "\n",
    "Here ıs a lınk to the e-book: https://buff.ly/2Jqlt08\n",
    "\n",
    "You can buy the prınt versıon from Amazon as well."
   ]
  }
 ],
 "metadata": {
  "kernelspec": {
   "display_name": "articles",
   "language": "python",
   "name": "articles"
  },
  "language_info": {
   "codemirror_mode": {
    "name": "ipython",
    "version": 3
   },
   "file_extension": ".py",
   "mimetype": "text/x-python",
   "name": "python",
   "nbconvert_exporter": "python",
   "pygments_lexer": "ipython3",
   "version": "3.9.12"
  }
 },
 "nbformat": 4,
 "nbformat_minor": 5
}
