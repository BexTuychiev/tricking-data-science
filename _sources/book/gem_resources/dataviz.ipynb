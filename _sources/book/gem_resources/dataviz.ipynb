{
 "cells": [
  {
   "cell_type": "markdown",
   "id": "184dc12f-1308-4630-a493-88f2398b42d8",
   "metadata": {},
   "source": [
    "# Data visualization"
   ]
  },
  {
   "cell_type": "markdown",
   "id": "71f7cbc8-1251-4114-af0a-c4471f0adfb6",
   "metadata": {},
   "source": [
    "## Scientific data visualization in Matplotlib"
   ]
  },
  {
   "cell_type": "markdown",
   "id": "652e3e0f-4672-4a3a-9c5a-bac0657be5a9",
   "metadata": {},
   "source": [
    "Scientific Visualization: Python + Matplotlib will put any other plotting library to shame (ok, maybe not d3.js).\n",
    "\n",
    "The Matplotlib techniques and plots shown in the book will be, beyond doubt, some of the best visual arts you've ever seen.\n",
    "\n",
    "The book covers:\n",
    "\n",
    "✅ Anatomy of Matplotlib\n",
    "✅ Animation\n",
    "✅ 3D visuals\n",
    "✅ Polar coordinates\n",
    "✅ Custom plot types\n",
    "\n",
    "The book is written by one of the core contributors of Matplotlib - Nicolas Rougier. \n",
    "\n",
    "Read it for free here: https://bit.ly/3baeMlZ"
   ]
  },
  {
   "cell_type": "markdown",
   "id": "dd4cd23e-e6c6-41f6-972f-3a61671ed6c0",
   "metadata": {},
   "source": [
    "## data-to-viz.com"
   ]
  },
  {
   "cell_type": "markdown",
   "id": "cb19f601-f4ec-49bc-a83a-5409b68ef39f",
   "metadata": {},
   "source": [
    "Become a data visualization wizard!\n",
    "\n",
    "Data to Viz is a masterpiece of a platform for anyone trying to convey data insights in the best way possible. \n",
    "\n",
    "It lets you choose the most appropriate chart for your data, shows you the code to do it and highlights how to avoid common pitfalls while plotting that chart.\n",
    "\n",
    "Its library contains almost 40 types of visuals, sorted by purpose and data type. \n",
    "\n",
    "Check out the platform from the link below👇"
   ]
  },
  {
   "cell_type": "markdown",
   "id": "4a8473c7-e950-4d75-b7c0-119df246dd1d",
   "metadata": {},
   "source": [
    "![](../images/2022/7_july/datatoviz.gif)"
   ]
  },
  {
   "cell_type": "markdown",
   "id": "16dc73fc-21a4-490e-93fa-7690a4f89590",
   "metadata": {},
   "source": [
    "Link: https://www.data-to-viz.com/"
   ]
  },
  {
   "cell_type": "markdown",
   "id": "1320f242-8bc4-4daf-ad50-54c156acb068",
   "metadata": {},
   "source": [
    "## Lovely Matplotlib Plots GitHub - library"
   ]
  },
  {
   "cell_type": "markdown",
   "id": "26b1f81e-9738-4c08-8513-a15df089bcdd",
   "metadata": {},
   "source": [
    "How to make Matplotlib default styles unsuck, so you can boldly use the library anywhere? Use the \"ipynb\" style.\n",
    "\n",
    "LovelyPlots is a package that loads a new \"ipynb\" Matplotlib them into the installation. The purpose of this theme is to convert horrendous default Matplotlib styles to publication-level format for scientific paper, thesis and presentations.\n",
    "\n",
    "Just install it with \"pip install LovelyPlots\" and write \"ply.style.use('ipynb')\"\n",
    "\n",
    "![](../images/2022/8_august/lovely1.png)"
   ]
  }
 ],
 "metadata": {
  "kernelspec": {
   "display_name": "tricking_data",
   "language": "python",
   "name": "tricking_data"
  },
  "language_info": {
   "codemirror_mode": {
    "name": "ipython",
    "version": 3
   },
   "file_extension": ".py",
   "mimetype": "text/x-python",
   "name": "python",
   "nbconvert_exporter": "python",
   "pygments_lexer": "ipython3",
   "version": "3.7.0"
  }
 },
 "nbformat": 4,
 "nbformat_minor": 5
}
