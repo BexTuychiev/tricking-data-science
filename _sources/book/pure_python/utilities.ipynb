{
 "cells": [
  {
   "cell_type": "markdown",
   "id": "052cd218-5485-4023-8d83-7775ba7d4a96",
   "metadata": {},
   "source": [
    "# Utility libraries"
   ]
  },
  {
   "cell_type": "markdown",
   "id": "173d8610-948b-4d70-9cb1-0a37dfa48b2c",
   "metadata": {},
   "source": [
    "## Parallel execution with joblib"
   ]
  },
  {
   "cell_type": "markdown",
   "id": "dd143638-0199-483d-8f2e-a4b4acb75634",
   "metadata": {},
   "source": [
    "Below is an example of how you can send a thousand HTTP requests in just 2.5 minutes with joblib👇\n",
    "\n",
    "joblib enables you to fully utilize the cores in your CPU by writing parallel code for your large loops. As a result, you can execute a single function in multiple threads, without wasting time and idle resources.\n",
    "\n",
    "The library accepts any picklable function, like functions for image resizing, web scraping, file operations, etc."
   ]
  },
  {
   "cell_type": "markdown",
   "id": "0a7d6fda-ae00-4987-b117-4fd984dd4c2e",
   "metadata": {},
   "source": [
    "<div\n",
    "      style=\"\n",
    "        transform: scale(0.5);\n",
    "        transform-origin: top left;\n",
    "        margin-bottom: -350px;\n",
    "      \"\n",
    "    >\n",
    "      <iframe width=\"1110\" height=\"627\" title=\"Code snippet - joblib_parallel\" src=\"https://snappify.io/embed/5bb6a81b-d209-4741-bcca-aae7c2bf62e2\" allow=\"clipboard-write\" style=\"border-radius:10px;background:linear-gradient(to left, #141e30, #243b55)\" frameborder=\"0\"></iframe>\n",
    "    </div>"
   ]
  },
  {
   "cell_type": "markdown",
   "id": "532778e4-eb36-4da2-8abf-bff51daa9658",
   "metadata": {},
   "source": [
    "## PReGex - human-readable RegEx"
   ]
  },
  {
   "cell_type": "markdown",
   "id": "4d4c4472-0c62-41c0-993e-21776159e26d",
   "metadata": {},
   "source": [
    "Human-readable RegEx is finally here! Using the PReGex library, you don't have to use a single RegEx character. \n",
    "\n",
    "Below is an example Pregex pattern for matching an email, one of the most common RegEx operations. \n",
    "\n",
    "Pregex exposes classes for almost all RegEx characters such as quantifiers, groups, operators, character classes, assertions, etc. Pregex stands for Programmable regex and rightly so, all its classes can be combined into more complex patterns using Python operators.\n",
    "\n",
    "You can learn more about Pregex in an article written by Khuyen Tran and from the official docs in the first comment."
   ]
  },
  {
   "cell_type": "markdown",
   "id": "927231f9-61e4-424b-aa24-764472511b79",
   "metadata": {},
   "source": [
    "<div\n",
    "      style=\"\n",
    "        transform: scale(0.5);\n",
    "        transform-origin: top left;\n",
    "        margin-bottom: -350px;\n",
    "      \"\n",
    "    >\n",
    "      <iframe width=\"1064\" height=\"702\" title=\"Code snippet - pregex\" src=\"https://snappify.io/embed/342a308a-4afc-4131-851b-15f4f9269491\" allow=\"clipboard-write\" style=\"border-radius:10px;background:linear-gradient(to left, #141e30, #243b55)\" frameborder=\"0\"></iframe>\n",
    "    </div>"
   ]
  },
  {
   "cell_type": "markdown",
   "id": "a87abdac-097f-4c19-a7cf-385fb914a614",
   "metadata": {},
   "source": [
    "Article by Khuyen Tran: https://bit.ly/3S6Q6fh\n",
    "\n",
    "Pregex docs: https://pregex.readthedocs.io/en/latest/"
   ]
  }
 ],
 "metadata": {
  "kernelspec": {
   "display_name": "tricking_data",
   "language": "python",
   "name": "tricking_data"
  },
  "language_info": {
   "codemirror_mode": {
    "name": "ipython",
    "version": 3
   },
   "file_extension": ".py",
   "mimetype": "text/x-python",
   "name": "python",
   "nbconvert_exporter": "python",
   "pygments_lexer": "ipython3",
   "version": "3.7.0"
  }
 },
 "nbformat": 4,
 "nbformat_minor": 5
}
