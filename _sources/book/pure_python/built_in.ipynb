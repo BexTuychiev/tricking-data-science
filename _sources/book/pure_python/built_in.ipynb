{
 "cells": [
  {
   "cell_type": "markdown",
   "id": "cfc1437c-b821-4a5a-ace8-7ee659b727a4",
   "metadata": {
    "pycharm": {
     "name": "#%% md\n"
    }
   },
   "source": [
    "# Built-in libraries"
   ]
  },
  {
   "cell_type": "markdown",
   "id": "9be51965-20ef-40ea-becb-b5e73d27273e",
   "metadata": {
    "pycharm": {
     "name": "#%% md\n"
    }
   },
   "source": [
    "## tomllib - config language written for humans"
   ]
  },
  {
   "cell_type": "markdown",
   "id": "9efdb3dc-de1b-4d84-9462-a85c30bd91c0",
   "metadata": {
    "pycharm": {
     "name": "#%% md\n"
    }
   },
   "source": [
    "A new library is coming out with Python 3.11 - tomllib. It can be used to parse Tom's Obvious Minimal Language (TOML) files just like JSONs.\n",
    "\n",
    "TOML file format is very popular, with over 17k stars on GitHub. Here is how you will parse it with Python 3.11 in this fall:"
   ]
  },
  {
   "cell_type": "markdown",
   "id": "99aa7742-bbde-40c4-96e8-8f02b7712132",
   "metadata": {
    "pycharm": {
     "name": "#%% md\n"
    }
   },
   "source": [
    "<div\n",
    "      style=\"\n",
    "        transform: scale(0.5);\n",
    "        transform-origin: top left;\n",
    "        margin-bottom: -260px;\n",
    "      \"\n",
    "    >\n",
    "      <iframe width=\"816\" height=\"478\" title=\"Code snippet - toml\" src=\"https://snappify.io/embed/630219a6-d717-4e6b-97f3-ee892ecd91df\" allow=\"clipboard-write\" style=\"border-radius:10px;background:linear-gradient(to left, #141e30, #243b55)\" frameborder=\"0\"></iframe>\n",
    "    </div>"
   ]
  },
  {
   "cell_type": "markdown",
   "id": "9a683b9c-58ff-4430-b8c8-e66187da6920",
   "metadata": {},
   "source": [
    "## Creating a custom context manager - a timer example"
   ]
  },
  {
   "cell_type": "markdown",
   "id": "c0502420-29dc-4490-814a-449c8c16de5c",
   "metadata": {},
   "source": [
    "One of the Python features that other languages dream of is context managers. Not only does Python have built-in context managers but it also allows you to build your own.\n",
    "\n",
    "Here is a custom context manager as a timer 👇"
   ]
  },
  {
   "cell_type": "markdown",
   "id": "33d2842c-2505-489f-b9aa-321a3c655f0d",
   "metadata": {},
   "source": [
    "<div\n",
    "      style=\"\n",
    "        transform: scale(0.5);\n",
    "        transform-origin: top left;\n",
    "        margin-bottom: -400px;\n",
    "      \"\n",
    "    >\n",
    "      <iframe width=\"936\" height=\"752\" title=\"Code snippet - timer_context_manager\" src=\"https://snappify.io/embed/336a0a30-5304-4c3b-aa25-3ed8e37711a5\" allow=\"clipboard-write\" style=\"border-radius:10px;background:linear-gradient(to left, #141e30, #243b55)\" frameborder=\"0\"></iframe>\n",
    "    </div>"
   ]
  },
  {
   "cell_type": "markdown",
   "id": "20b31d0b-c304-4d31-8dfc-4253701e138c",
   "metadata": {},
   "source": [
    "## Built-in variable inspector with `locals` and `globals`"
   ]
  },
  {
   "cell_type": "markdown",
   "id": "eb0ff531-6882-4b0c-9327-1c112f8d6f38",
   "metadata": {},
   "source": [
    "Did you know that Python has built-in variable inspectors available everywhere?\n",
    "\n",
    "The \"globals()\" function returns a dictionary of variables in the global scope while \"locals()\" does the same for local scopes.\n",
    "\n",
    "Manipulating variables through these dictionaries give you the chance to use string and dict notations on them (think about creating 100 axes in Matplotlib gridspec)."
   ]
  },
  {
   "cell_type": "markdown",
   "id": "9bb57ede-93bb-44ad-b79a-9cf295028698",
   "metadata": {},
   "source": [
    "<div\n",
    "      style=\"\n",
    "        transform: scale(0.5);\n",
    "        transform-origin: top left;\n",
    "        margin-bottom: -350px;\n",
    "      \"\n",
    "    >\n",
    "      <iframe width=\"882\" height=\"648\" title=\"Code snippet - python_var_inspect\" src=\"https://snappify.io/embed/04b848da-ce27-42fb-a78d-d915bc790355\" allow=\"clipboard-write\" style=\"border-radius:10px;background:linear-gradient(to left, #141e30, #243b55)\" frameborder=\"0\"></iframe>\n",
    "    </div>"
   ]
  },
  {
   "cell_type": "markdown",
   "id": "843acef6-d30e-4fb1-8d85-845d2eb73a74",
   "metadata": {},
   "source": [
    "## Error messages with assert statements"
   ]
  },
  {
   "cell_type": "markdown",
   "id": "bb4bdf8c-3226-4702-954e-9e04cd4cd387",
   "metadata": {},
   "source": [
    "In Python, you can throw custom error messages with assert statements as well. Just pass a text after the assert expression and that will be the error message if the assertion fails👇"
   ]
  },
  {
   "cell_type": "markdown",
   "id": "db63023f-815f-4f76-a1ac-8def9aef5217",
   "metadata": {},
   "source": [
    "<div\n",
    "      style=\"\n",
    "        transform: scale(0.5);\n",
    "        transform-origin: top left;\n",
    "        margin-bottom: -220px;\n",
    "      \"\n",
    "    >\n",
    "      <iframe width=\"697\" height=\"376\" title=\"Code snippet - assert_error\" src=\"https://snappify.io/embed/cb2c30b6-d60e-4c4c-b44c-1fff6776c884\" allow=\"clipboard-write\" style=\"border-radius:10px;background:linear-gradient(to left, #141e30, #243b55)\" frameborder=\"0\"></iframe>\n",
    "    </div>"
   ]
  },
  {
   "cell_type": "markdown",
   "id": "144ddae2-b7a5-4301-bfb0-48a0f92a8a7f",
   "metadata": {},
   "source": [
    "## \\_\\_file\\_\\_ variable"
   ]
  },
  {
   "cell_type": "markdown",
   "id": "ca1a6ef4-b76f-41a6-9950-d7ed772174a9",
   "metadata": {},
   "source": [
    "Python has a \\_\\_file\\_\\_ variable that lets you see the full path to the current script. The variable isn't available in notebooks or in REPL."
   ]
  },
  {
   "cell_type": "markdown",
   "id": "dfec8aa1-a537-48b9-a400-5c11789e564b",
   "metadata": {},
   "source": [
    "<div\n",
    "      style=\"\n",
    "        transform: scale(0.5);\n",
    "        transform-origin: top left;\n",
    "        margin-bottom: -245px;\n",
    "      \"\n",
    "    >\n",
    "      <iframe width=\"722\" height=\"440\" title=\"Code snippet - __file__\" src=\"https://snappify.io/embed/c624d3e7-3074-4a74-926d-5dfbfbc8e140\" allow=\"clipboard-write\" style=\"border-radius:10px;background:linear-gradient(to left, #141e30, #243b55)\" frameborder=\"0\"></iframe>\n",
    "    </div>"
   ]
  },
  {
   "cell_type": "markdown",
   "id": "2dbe1add-5d7d-407c-b6f5-a1673ead42b0",
   "metadata": {},
   "source": [
    "## Reading the text of files with Pathlib"
   ]
  },
  {
   "cell_type": "markdown",
   "id": "b03662db-7330-4652-b3ad-4c7df56ef47d",
   "metadata": {},
   "source": [
    "You don't have to use \"open\" function to read the contents of a file. You can use a much better alternative with Pathlib.\n",
    "\n",
    "After passing the full file path to the Path class, you can call the read_text method which returns the contents as string👇"
   ]
  },
  {
   "cell_type": "markdown",
   "id": "a3be0caf-2517-4cfc-b415-e63c51440256",
   "metadata": {},
   "source": [
    "<div\n",
    "      style=\"\n",
    "        transform: scale(0.5);\n",
    "        transform-origin: top left;\n",
    "        margin-bottom: -230px;\n",
    "      \"\n",
    "    >\n",
    "      <iframe width=\"722\" height=\"440\" title=\"Code snippet - pathlib_read_text\" src=\"https://snappify.io/embed/daa67c2a-db0a-4e34-9b22-37b3ba0bf49e\" allow=\"clipboard-write\" style=\"border-radius:10px;background:linear-gradient(to left, #141e30, #243b55)\" frameborder=\"0\"></iframe>\n",
    "    </div>"
   ]
  }
 ],
 "metadata": {
  "kernelspec": {
   "display_name": "tricking_data",
   "language": "python",
   "name": "tricking_data"
  },
  "language_info": {
   "codemirror_mode": {
    "name": "ipython",
    "version": 3
   },
   "file_extension": ".py",
   "mimetype": "text/x-python",
   "name": "python",
   "nbconvert_exporter": "python",
   "pygments_lexer": "ipython3",
   "version": "3.7.0"
  }
 },
 "nbformat": 4,
 "nbformat_minor": 5
}
