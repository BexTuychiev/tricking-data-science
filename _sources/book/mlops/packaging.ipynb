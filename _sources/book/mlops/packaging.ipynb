{
 "cells": [
  {
   "cell_type": "markdown",
   "metadata": {
    "pycharm": {
     "name": "#%% md\n"
    }
   },
   "source": [
    "# Packaging ML projects"
   ]
  },
  {
   "cell_type": "markdown",
   "metadata": {
    "pycharm": {
     "name": "#%% md\n"
    }
   },
   "source": [
    "## Generate requirements.txt file automatically from notebooks"
   ]
  },
  {
   "cell_type": "markdown",
   "metadata": {
    "pycharm": {
     "name": "#%% md\n"
    }
   },
   "source": [
    "Jupyter notebooks are jungles of monstrosity under the hood. \n",
    "\n",
    "So, IDEs like PyCharm or VS Code can't automatically generate accurate requirements.txt files because they only work on scripts. \n",
    "\n",
    "You can easily solve this by using the 'pipreqsnb' library which generates dependency information from both notebooks and scripts. \n",
    "\n",
    "Add --force tag to outwrite existing requirements files."
   ]
  },
  {
   "cell_type": "markdown",
   "metadata": {
    "pycharm": {
     "name": "#%% md\n"
    }
   },
   "source": [
    "<div\n",
    "      style=\"\n",
    "        transform: scale(0.5);\n",
    "        transform-origin: top left;\n",
    "        margin-bottom: -290px;\n",
    "      \"\n",
    "    >\n",
    "      <iframe width=\"820\" height=\"490\" title=\"Code snippet - pipreqsnb\" src=\"https://snappify.io/embed/bff5d319-5b2a-4231-a71b-2ad8e7145b32\" allow=\"clipboard-write\" style=\"border-radius:10px;background:linear-gradient(to left, #141e30, #243b55)\" frameborder=\"0\"></iframe>\n",
    "    </div>"
   ]
  },
  {
   "cell_type": "markdown",
   "metadata": {},
   "source": [
    "## pipdeptree for much better dependency management"
   ]
  },
  {
   "cell_type": "markdown",
   "metadata": {},
   "source": [
    "Raise your hand if you used \"pip freeze\" and vowed to yourself you will never, ever use it again!\n",
    "\n",
    "I handle dependency conflicts at least once a week - the process is still a mess in Python. Fortunately, I have recently come across a tool called \"pipdeptree\" which allows you to see dependencies of your environment in a hierarchical fashion.\n",
    "\n",
    "The library also gives you warnings when there are version conflicts or even worse, circular dependencies (that's usually the sign you have to delete the whole conda environment)."
   ]
  },
  {
   "cell_type": "markdown",
   "metadata": {},
   "source": [
    "<div\n",
    "      style=\"\n",
    "        transform: scale(0.5);\n",
    "        transform-origin: top left;\n",
    "        margin-bottom: -350px;\n",
    "      \"\n",
    "    >\n",
    "      <iframe width=\"872\" height=\"636\" title=\"Code snippet - pipdeptree\" src=\"https://snappify.io/embed/483a62da-d473-4356-852e-70e8f6e66787\" allow=\"clipboard-write\" style=\"border-radius:10px;background:linear-gradient(to left, #141e30, #243b55)\" frameborder=\"0\"></iframe>\n",
    "    </div>"
   ]
  },
  {
   "cell_type": "markdown",
   "metadata": {},
   "source": [
    "Repo: https://github.com/naiquevin/pipdeptree"
   ]
  }
 ],
 "metadata": {
  "kernelspec": {
   "display_name": "Python 3 (ipykernel)",
   "language": "python",
   "name": "python3"
  },
  "language_info": {
   "codemirror_mode": {
    "name": "ipython",
    "version": 3
   },
   "file_extension": ".py",
   "mimetype": "text/x-python",
   "name": "python",
   "nbconvert_exporter": "python",
   "pygments_lexer": "ipython3",
   "version": "3.7.0"
  }
 },
 "nbformat": 4,
 "nbformat_minor": 4
}
