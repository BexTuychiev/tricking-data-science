{
 "cells": [
  {
   "cell_type": "markdown",
   "id": "58467def-eebd-41bc-b177-5a0b0914d6c7",
   "metadata": {
    "pycharm": {
     "name": "#%% md\n"
    }
   },
   "source": [
    "# Git"
   ]
  },
  {
   "cell_type": "markdown",
   "id": "fd4b1145-0bbd-4467-9a9e-1c414fe55ebe",
   "metadata": {
    "pycharm": {
     "name": "#%% md\n"
    }
   },
   "source": [
    "## Aliasing git commands"
   ]
  },
  {
   "cell_type": "markdown",
   "id": "2bada658-f4cb-4158-adfb-9ad5aa07ddae",
   "metadata": {
    "pycharm": {
     "name": "#%% md\n"
    }
   },
   "source": [
    "If you are anything like me, you would be lazy to even type three-word git commands. \n",
    "\n",
    "In that case, by using aliasing in bash or any Linux terminal, you can significantly shorten your git commands. Here are a few I use daily:"
   ]
  },
  {
   "cell_type": "markdown",
   "id": "b83d704b-3f37-45e8-9e3e-54c3212b0034",
   "metadata": {},
   "source": [
    "<div\n",
    "      style=\"\n",
    "        transform: scale(0.5);\n",
    "        transform-origin: top left;\n",
    "        margin-bottom: -350px;\n",
    "      \"\n",
    "    >\n",
    "      <iframe width=\"912\" height=\"672\" title=\"Code snippet - git_aliases\" src=\"https://snappify.io/embed/4ed25744-e847-4ed9-9ba7-0389cfe1a642\" allow=\"clipboard-write\" style=\"border-radius:10px;background:linear-gradient(to left, #141e30, #243b55)\" frameborder=\"0\"></iframe>\n",
    "    </div>"
   ]
  },
  {
   "cell_type": "markdown",
   "id": "5a05c0b9-2587-4cb4-8828-5ef39e463074",
   "metadata": {
    "pycharm": {
     "name": "#%%\n"
    }
   },
   "source": [
    "## Undoing git history when you mess up"
   ]
  },
  {
   "cell_type": "markdown",
   "id": "7449290e-0b7e-4b79-818f-8316c13f5444",
   "metadata": {},
   "source": [
    "While debugging, you often realize that the error is caused by a mistake made long ago in the project history. Instead of going back to that commit, you have the option of uncommitting everything since that point.\n",
    "\n",
    "Two popular ways of doing this:\n",
    "1. Uncommitting all changes since that commit and add them to the working directory (soft reset)\n",
    "2. Uncommitting all changes and deleting project history since that point (hard reset, difficult to recover)\n",
    "\n",
    "Both can be done with \"git reset\". Note that you can use commit hash as well instead of HEAD~n syntax."
   ]
  },
  {
   "cell_type": "markdown",
   "id": "68160c8f-81bf-4790-93ee-4ecb12bd10c0",
   "metadata": {},
   "source": [
    "<div\n",
    "      style=\"\n",
    "        transform: scale(0.5);\n",
    "        transform-origin: top left;\n",
    "        margin-bottom: -250px;\n",
    "      \"\n",
    "    >\n",
    "      <iframe width=\"854\" height=\"420\" title=\"Code snippet - undo_git_history\" src=\"https://snappify.io/embed/5a28fc4e-488b-4afb-beeb-4dfc04c0fc7f\" allow=\"clipboard-write\" style=\"border-radius:10px;background:linear-gradient(to left, #141e30, #243b55)\" frameborder=\"0\"></iframe>\n",
    "    </div>"
   ]
  },
  {
   "cell_type": "markdown",
   "id": "fe0d84e9-6bb7-4681-b0f4-b4d84f9df848",
   "metadata": {},
   "source": [
    "## Removing large files from git history"
   ]
  },
  {
   "cell_type": "markdown",
   "id": "7bf6b2e7-04f8-4f46-816e-bc3dc3bfba59",
   "metadata": {},
   "source": [
    "Accidentally committing a large CSV file to Git is practically a rite of passage for data scientists. We have all done it at least once in our life. \n",
    "\n",
    "That feeling of horror as you watch \"git push\" never actually pushing anything and you saying, \"oh, not again!\". That isn't fun.\n",
    "\n",
    "For situations like this, I have a StackOverflow thread bookmarked which links directly to the trick below. Running it will eradicate any record of a file or folder from Git history - across all commits and branches. \n",
    "\n",
    "Be aware that it will take longer if your repo is large. "
   ]
  },
  {
   "cell_type": "markdown",
   "id": "d6acb206-f41c-467a-94b1-a0a271657eba",
   "metadata": {},
   "source": [
    "<div\n",
    "      style=\"\n",
    "        transform: scale(0.5);\n",
    "        transform-origin: top left;\n",
    "        margin-bottom: -335px;\n",
    "      \"\n",
    "    >\n",
    "      <iframe width=\"948\" height=\"596\" title=\"Code snippet - git_remove_large_files\" src=\"https://snappify.io/embed/87cecf35-4003-4343-87f4-bcff5ae75cb8\" allow=\"clipboard-write\" style=\"border-radius:10px;background:linear-gradient(to left, #141e30, #243b55)\" frameborder=\"0\"></iframe>\n",
    "    </div>"
   ]
  },
  {
   "cell_type": "markdown",
   "id": "ebd45af9-a7ba-4d5b-bf8b-8a816d78aff5",
   "metadata": {},
   "source": [
    "## Reviewing commit history without losing changes"
   ]
  },
  {
   "cell_type": "markdown",
   "id": "fbeecc19-e845-4e8a-8e50-6ae269499918",
   "metadata": {},
   "source": [
    "While working on a new feature, sometimes you want to go for a quick peek into project history.\n",
    "\n",
    "Unfortunately, Git doesn't allow moving the HEAD without forcing you to commit the changes in the working directory. You can get around this pesky problem with a simple stashing trick:"
   ]
  },
  {
   "cell_type": "markdown",
   "id": "22835c20-8837-4307-a050-a01d54a511ac",
   "metadata": {},
   "source": [
    "<div\n",
    "      style=\"\n",
    "        transform: scale(0.5);\n",
    "        transform-origin: top left;\n",
    "        margin-bottom: -300px;\n",
    "      \"\n",
    "    >\n",
    "      <iframe width=\"878\" height=\"552\" title=\"Code snippet - git_stash_trick\" src=\"https://snappify.io/embed/7bdc9564-6af3-414d-95d1-38084c86594b\" allow=\"clipboard-write\" style=\"border-radius:10px;background:linear-gradient(to left, #141e30, #243b55)\" frameborder=\"0\"></iframe>\n",
    "    </div>"
   ]
  }
 ],
 "metadata": {
  "kernelspec": {
   "display_name": "tricking_data",
   "language": "python",
   "name": "tricking_data"
  },
  "language_info": {
   "codemirror_mode": {
    "name": "ipython",
    "version": 3
   },
   "file_extension": ".py",
   "mimetype": "text/x-python",
   "name": "python",
   "nbconvert_exporter": "python",
   "pygments_lexer": "ipython3",
   "version": "3.7.0"
  }
 },
 "nbformat": 4,
 "nbformat_minor": 5
}
