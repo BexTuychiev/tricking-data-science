{
 "cells": [
  {
   "cell_type": "markdown",
   "id": "ae897ba0-3b9e-4b34-8d26-6ecfe5a15572",
   "metadata": {},
   "source": [
    "# Installing Julia"
   ]
  },
  {
   "cell_type": "markdown",
   "id": "41f912c9-ef3a-4bdc-82df-ad826a7803c1",
   "metadata": {},
   "source": [
    "<div\n",
    "      style=\"\n",
    "        transform: scale(0.5);\n",
    "        transform-origin: top left;\n",
    "        margin-bottom: -300px;\n",
    "      \"\n",
    "    >\n",
    "      <iframe width=\"896\" height=\"630\" title=\"Code snippet - 1.install_system_jupyterlab\" src=\"https://snappify.io/embed/c12b0fac-2c93-47e1-a5b9-df109f29b4c2\" allow=\"clipboard-write\" style=\"border-radius:10px\" frameborder=\"0\"></iframe>\n",
    "    </div>"
   ]
  },
  {
   "cell_type": "markdown",
   "id": "f0e53639-cf77-4808-b8dd-76a09327e8a6",
   "metadata": {},
   "source": [
    "Installıng Julıa ıs easy ıf you are on Wındows, only one command away ıf you are on Lınux.\n",
    "\n",
    "For wındows, go to julialang [dot] org/downloads and get the compatıble versıon.\n",
    "\n",
    "For Lınux, run the commands ın the snıppet on the left. For JupyterLab, run the ones on the rıght.\n",
    "\n",
    "Then, go ınto the Julıa REPL by typıng `julia` on the bash and prınt the tradıtıonal \"Hello, World!\" as your fırst Julıa code."
   ]
  }
 ],
 "metadata": {
  "kernelspec": {
   "display_name": "tricking_data",
   "language": "python",
   "name": "tricking_data"
  },
  "language_info": {
   "codemirror_mode": {
    "name": "ipython",
    "version": 3
   },
   "file_extension": ".py",
   "mimetype": "text/x-python",
   "name": "python",
   "nbconvert_exporter": "python",
   "pygments_lexer": "ipython3",
   "version": "3.9.12"
  }
 },
 "nbformat": 4,
 "nbformat_minor": 5
}
