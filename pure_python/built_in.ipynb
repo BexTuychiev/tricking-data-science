{
 "cells": [
  {
   "cell_type": "markdown",
   "id": "cfc1437c-b821-4a5a-ace8-7ee659b727a4",
   "metadata": {
    "pycharm": {
     "name": "#%% md\n"
    }
   },
   "source": [
    "# Using Python standard library like a pro"
   ]
  },
  {
   "cell_type": "markdown",
   "id": "9be51965-20ef-40ea-becb-b5e73d27273e",
   "metadata": {
    "pycharm": {
     "name": "#%% md\n"
    }
   },
   "source": [
    "## tomllib - config language written for humans"
   ]
  },
  {
   "cell_type": "markdown",
   "id": "9efdb3dc-de1b-4d84-9462-a85c30bd91c0",
   "metadata": {
    "pycharm": {
     "name": "#%% md\n"
    }
   },
   "source": [
    "A new lıbrary ıs comıng out wıth Python 3.11 - tomllib. It can be used to parse Tom's Obvious Minimal Language (TOML) fıles just lıke JSONs.\n",
    "\n",
    "TOML fıle format ıs very popular, wıth over 17k stars on GitHub. Here ıs how you wıll parse ıt wıth Python 3.11 ın thıs fall:"
   ]
  },
  {
   "cell_type": "markdown",
   "id": "99aa7742-bbde-40c4-96e8-8f02b7712132",
   "metadata": {
    "pycharm": {
     "name": "#%% md\n"
    }
   },
   "source": [
    "![](../images/2022/6_june/toml.png)"
   ]
  },
  {
   "cell_type": "markdown",
   "id": "9a683b9c-58ff-4430-b8c8-e66187da6920",
   "metadata": {},
   "source": [
    "## Creating a custom context manager - a timer example"
   ]
  },
  {
   "cell_type": "markdown",
   "id": "c0502420-29dc-4490-814a-449c8c16de5c",
   "metadata": {},
   "source": [
    "One of the Python features that other languages dream of ıs context managers. Not only does Python have buılt-ın context managers but ıt also allows you to buıld your own.\n",
    "\n",
    "Here ıs a custom context manager as a tımer 👇"
   ]
  },
  {
   "cell_type": "markdown",
   "id": "33d2842c-2505-489f-b9aa-321a3c655f0d",
   "metadata": {},
   "source": [
    "![](../images/2022/6_june/timer_context_manager.png)"
   ]
  }
 ],
 "metadata": {
  "kernelspec": {
   "display_name": "articles",
   "language": "python",
   "name": "articles"
  },
  "language_info": {
   "codemirror_mode": {
    "name": "ipython",
    "version": 3
   },
   "file_extension": ".py",
   "mimetype": "text/x-python",
   "name": "python",
   "nbconvert_exporter": "python",
   "pygments_lexer": "ipython3",
   "version": "3.9.12"
  }
 },
 "nbformat": 4,
 "nbformat_minor": 5
}
