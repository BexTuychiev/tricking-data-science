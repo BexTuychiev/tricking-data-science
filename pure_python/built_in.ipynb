{
 "cells": [
  {
   "cell_type": "markdown",
   "id": "cfc1437c-b821-4a5a-ace8-7ee659b727a4",
   "metadata": {},
   "source": [
    "# Using Python standard library like a pro"
   ]
  },
  {
   "cell_type": "markdown",
   "id": "9be51965-20ef-40ea-becb-b5e73d27273e",
   "metadata": {},
   "source": [
    "## tomllib - config language written for humans"
   ]
  },
  {
   "cell_type": "markdown",
   "id": "9efdb3dc-de1b-4d84-9462-a85c30bd91c0",
   "metadata": {},
   "source": [
    "A new lıbrary ıs comıng out wıth Python 3.11 - tomllib. It can be used to parse Tom's Obvious Minimal Language (TOML) fıles just lıke JSONs.\n",
    "\n",
    "TOML fıle format ıs very popular, wıth over 17k stars on GitHub. Here ıs how you wıll parse ıt wıth Python 3.11 ın thıs fall:"
   ]
  },
  {
   "cell_type": "markdown",
   "id": "99aa7742-bbde-40c4-96e8-8f02b7712132",
   "metadata": {},
   "source": [
    "![](../images/2022/6_june/toml.png)"
   ]
  }
 ],
 "metadata": {
  "kernelspec": {
   "display_name": "tricking_data",
   "language": "python",
   "name": "tricking_data"
  },
  "language_info": {
   "name": ""
  }
 },
 "nbformat": 4,
 "nbformat_minor": 5
}
