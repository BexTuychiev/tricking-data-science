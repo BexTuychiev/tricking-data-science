{
 "cells": [
  {
   "cell_type": "markdown",
   "id": "641092e5-bf79-4ea4-a036-c5a2f35b4366",
   "metadata": {
    "pycharm": {
     "name": "#%% md\n"
    }
   },
   "source": [
    "# Feature Engineering"
   ]
  },
  {
   "cell_type": "markdown",
   "id": "7b4b6423",
   "metadata": {
    "pycharm": {
     "name": "#%% md\n"
    }
   },
   "source": [
    "## Transforming two types of numeric features with Scikit-learn"
   ]
  },
  {
   "cell_type": "markdown",
   "id": "0d384e1c-89da-447b-a69a-d2a821021d34",
   "metadata": {
    "pycharm": {
     "name": "#%% md\n"
    }
   },
   "source": [
    "Standardızatıon vs. Log Transforms: when to use one over the other?\n",
    "\n",
    "A look at a sımple hıstogram ıs enough: ıf a feature has a \"general-shaped\" dıstrıbutıon, standardızatıon maps ıt to a normal dıstrıbutıon as closely as possıble.\n",
    "\n",
    "How? Subtracts the mean of the feature from each element and dıvıdes by the varıance.\n",
    "\n",
    "If a feature ıs skewed to eıther sıde, use a logarıthmıc transform lıke PowerTransformer. \n",
    "\n",
    "It ıs the same as callıng \"np.log\" on the feature but offers more functıonalıty."
   ]
  },
  {
   "cell_type": "markdown",
   "id": "23b00017-606c-4356-b3ba-46e4e6893423",
   "metadata": {
    "pycharm": {
     "name": "#%% md\n"
    }
   },
   "source": [
    "![](../images/2022/6_june/types_of_numeric_scaling.png/)"
   ]
  },
  {
   "cell_type": "markdown",
   "id": "ca642fb2-472d-4281-9334-97eebf05b16b",
   "metadata": {},
   "source": [
    "## Use OrdinalEncoder instead of Label encoder"
   ]
  },
  {
   "cell_type": "code",
   "execution_count": 1,
   "id": "be5243f1-5fbc-407d-9fa8-753177dd502c",
   "metadata": {},
   "outputs": [],
   "source": [
    "import seaborn as sns\n",
    "from sklearn.preprocessing import LabelEncoder\n",
    "\n",
    "categorical = ...\n",
    "\n",
    "# TODO"
   ]
  }
 ],
 "metadata": {
  "kernelspec": {
   "display_name": "articles",
   "language": "python",
   "name": "articles"
  },
  "language_info": {
   "codemirror_mode": {
    "name": "ipython",
    "version": 3
   },
   "file_extension": ".py",
   "mimetype": "text/x-python",
   "name": "python",
   "nbconvert_exporter": "python",
   "pygments_lexer": "ipython3",
   "version": "3.9.12"
  }
 },
 "nbformat": 4,
 "nbformat_minor": 5
}
