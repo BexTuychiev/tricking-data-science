{
 "cells": [
  {
   "cell_type": "markdown",
   "id": "4beab675-c420-47c2-bff0-c82daa839c36",
   "metadata": {},
   "source": [
    "# Use Sklearn like a pro"
   ]
  },
  {
   "cell_type": "markdown",
   "id": "398c1ddc-08b0-411a-b8c1-e9629a56c7a7",
   "metadata": {},
   "source": [
    "## `make_pipeline` and `make_column_transformer` - shorter pipelines"
   ]
  },
  {
   "cell_type": "markdown",
   "id": "1e465306-f521-4b3f-b094-58c22ea9598a",
   "metadata": {},
   "source": [
    "When your Sklearn pıpelıne ıs fınıshed, ıt can become quıte humongous and unreadable.\n",
    "\n",
    "Usıng `make_pipeline` and `make_column_transformer` can collapse all those ınto a few lınes👇:\n",
    "\n",
    "![](../images/2022/6_june/make_pipe_transformer.png)"
   ]
  }
 ],
 "metadata": {
  "kernelspec": {
   "display_name": "articles",
   "language": "python",
   "name": "articles"
  },
  "language_info": {
   "codemirror_mode": {
    "name": "ipython",
    "version": 3
   },
   "file_extension": ".py",
   "mimetype": "text/x-python",
   "name": "python",
   "nbconvert_exporter": "python",
   "pygments_lexer": "ipython3",
   "version": "3.9.12"
  }
 },
 "nbformat": 4,
 "nbformat_minor": 5
}
