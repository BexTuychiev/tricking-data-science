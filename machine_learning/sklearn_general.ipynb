{
 "cells": [
  {
   "cell_type": "markdown",
   "id": "4beab675-c420-47c2-bff0-c82daa839c36",
   "metadata": {},
   "source": [
    "# Use Sklearn like a pro"
   ]
  },
  {
   "cell_type": "markdown",
   "id": "2cd83dfd-d333-49f7-a721-63105dd70cf8",
   "metadata": {},
   "source": []
  }
 ],
 "metadata": {
  "kernelspec": {
   "display_name": "articles",
   "language": "python",
   "name": "articles"
  },
  "language_info": {
   "codemirror_mode": {
    "name": "ipython",
    "version": 3
   },
   "file_extension": ".py",
   "mimetype": "text/x-python",
   "name": "python",
   "nbconvert_exporter": "python",
   "pygments_lexer": "ipython3",
   "version": "3.9.12"
  }
 },
 "nbformat": 4,
 "nbformat_minor": 5
}
