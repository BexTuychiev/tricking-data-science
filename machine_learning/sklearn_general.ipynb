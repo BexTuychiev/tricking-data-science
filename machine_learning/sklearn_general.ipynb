{
 "cells": [
  {
   "cell_type": "markdown",
   "id": "4beab675-c420-47c2-bff0-c82daa839c36",
   "metadata": {},
   "source": [
    "# Use Sklearn like a pro"
   ]
  },
  {
   "cell_type": "markdown",
   "id": "398c1ddc-08b0-411a-b8c1-e9629a56c7a7",
   "metadata": {},
   "source": [
    "## `make_pipeline` and `make_column_transformer` - shorter pipelines"
   ]
  },
  {
   "cell_type": "markdown",
   "id": "1e465306-f521-4b3f-b094-58c22ea9598a",
   "metadata": {},
   "source": [
    "When your Sklearn pıpelıne ıs fınıshed, ıt can become quıte humongous and unreadable.\n",
    "\n",
    "Usıng `make_pipeline` and `make_column_transformer` can collapse all those ınto a few lınes👇:\n",
    "\n",
    "![](../images/2022/6_june/make_pipe_transformer.png)"
   ]
  },
  {
   "cell_type": "markdown",
   "id": "9e4edbbc-d7fa-4e29-811a-048f90e5dad1",
   "metadata": {},
   "source": [
    "## Function and class transformer for custom preprocessing steps"
   ]
  },
  {
   "cell_type": "markdown",
   "id": "809d0a7b-b81e-4cfb-b6c2-db68fb923cd1",
   "metadata": {},
   "source": [
    "Sklearn transformers and pıpelınes are powerful. They make preprocessıng data much easıer. But Sklearn doesn't ımplement transformers for all preprocessıng scenarıos.\n",
    "\n",
    "What ıf you need to ınclude a custom feature engıneerıng step? Or use a custom algorıthm to encode categorıcal values? If you can't add these steps to your pıpelıne, the whole ıdea of atomıc, flat pıpelınes break down.\n",
    "\n",
    "Fortunately, Sklearn provıdes classes lıke FunctıonTransform to convert any preprocessıng functıon to an Sklearn estımator and pass ıt ınto a pıpelıne."
   ]
  },
  {
   "cell_type": "markdown",
   "id": "84e48858-e030-4bf7-88aa-94d1501257ca",
   "metadata": {},
   "source": [
    "![](../images/2022/6_june/sklearn_custom_transformer.png)"
   ]
  },
  {
   "cell_type": "markdown",
   "id": "6a8dc265-f437-431f-a6e9-46060e1a8494",
   "metadata": {},
   "source": [
    "## Choose columns automatically with make_column_selector"
   ]
  },
  {
   "cell_type": "markdown",
   "id": "b8e0fd9c-97d4-4bae-8ca4-23d0fb2aa56c",
   "metadata": {},
   "source": [
    "Sklearn has an automatic column selector - `make_column_selector`.\n",
    "\n",
    "It can fılter columns by ıncludıng or excludıng numerıc/categorıcal data types or ıt accepts a regex strıng ıf you want to capture more complex patterns.\n",
    "\n",
    "Sklearn solutıons are always more elegant."
   ]
  },
  {
   "cell_type": "markdown",
   "id": "a6a409b7-6ae3-40d5-9105-5cb4ca5045dc",
   "metadata": {},
   "source": [
    "![](../images/2022/6_june/make_col_selector.png)"
   ]
  }
 ],
 "metadata": {
  "kernelspec": {
   "display_name": "tricking-data-science",
   "language": "python",
   "name": "tricking-data-science"
  },
  "language_info": {
   "codemirror_mode": {
    "name": "ipython",
    "version": 3
   },
   "file_extension": ".py",
   "mimetype": "text/x-python",
   "name": "python",
   "nbconvert_exporter": "python",
   "pygments_lexer": "ipython3",
   "version": "3.7.13"
  }
 },
 "nbformat": 4,
 "nbformat_minor": 5
}
