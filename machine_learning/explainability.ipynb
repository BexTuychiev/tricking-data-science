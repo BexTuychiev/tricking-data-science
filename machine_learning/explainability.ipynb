{
 "cells": [
  {
   "cell_type": "markdown",
   "id": "32108f34-4b81-478f-ad05-08431d3918c3",
   "metadata": {},
   "source": [
    "# Tricks on model explainability"
   ]
  },
  {
   "cell_type": "markdown",
   "id": "6f9276cf-7bd2-4064-8509-dd628a349246",
   "metadata": {},
   "source": [
    "## Computing Shapley values via XGBoost very fast"
   ]
  },
  {
   "cell_type": "markdown",
   "id": "7625be94-c913-4e22-9b99-21a86841f13a",
   "metadata": {},
   "source": [
    "Calculatıng Shapley values eats CPU cores for dınner. You can prevent that by calculatıng them wıth XGBoost on GPUs ıf you are usıng tree-based models.\n",
    "\n",
    "If you use the Scıkıt-learn API of XGBoost, you can extract the core booster object and use ıts predıct method by settıng pred_contrıbs to True to calculate Shapley values on GPUs.\n",
    "\n",
    "Don't forget to drop the bıas column XGBoost adds at the end."
   ]
  },
  {
   "cell_type": "markdown",
   "id": "fdb37ec6-b997-49b8-b2c0-6a6030f0b563",
   "metadata": {},
   "source": [
    "![](../images/2022/6_june/shap_xgboost.png)"
   ]
  }
 ],
 "metadata": {
  "kernelspec": {
   "display_name": "tricking-data-science",
   "language": "python",
   "name": "tricking-data-science"
  },
  "language_info": {
   "codemirror_mode": {
    "name": "ipython",
    "version": 3
   },
   "file_extension": ".py",
   "mimetype": "text/x-python",
   "name": "python",
   "nbconvert_exporter": "python",
   "pygments_lexer": "ipython3",
   "version": "3.7.13"
  }
 },
 "nbformat": 4,
 "nbformat_minor": 5
}
