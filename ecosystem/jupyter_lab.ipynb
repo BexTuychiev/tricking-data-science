{
 "cells": [
  {
   "cell_type": "markdown",
   "id": "18c6747e-bfba-4b75-b229-ece2bb1b57b2",
   "metadata": {},
   "source": [
    "# Jupyter Lab - the Ultimate IDE of Data Science"
   ]
  }
 ],
 "metadata": {
  "kernelspec": {
   "display_name": "kaggle_comp",
   "language": "python",
   "name": "kaggle_comp"
  },
  "language_info": {
   "codemirror_mode": {
    "name": "ipython",
    "version": 3
   },
   "file_extension": ".py",
   "mimetype": "text/x-python",
   "name": "python",
   "nbconvert_exporter": "python",
   "pygments_lexer": "ipython3",
   "version": "3.9.7"
  }
 },
 "nbformat": 4,
 "nbformat_minor": 5
}
