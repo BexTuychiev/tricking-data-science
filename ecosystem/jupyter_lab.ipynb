{
 "cells": [
  {
   "cell_type": "markdown",
   "id": "18c6747e-bfba-4b75-b229-ece2bb1b57b2",
   "metadata": {
    "pycharm": {
     "name": "#%% md\n"
    }
   },
   "source": [
    "# Jupyter Lab - the Ultimate IDE of Data Science"
   ]
  },
  {
   "cell_type": "markdown",
   "id": "a6dea604-82d1-4ddc-a663-aecaf8482676",
   "metadata": {
    "pycharm": {
     "name": "#%% md\n"
    }
   },
   "source": [
    "## Add a conda environment to Jupyter"
   ]
  },
  {
   "cell_type": "markdown",
   "id": "3dba7d05-88db-4ea7-9189-d53c46a709f2",
   "metadata": {
    "pycharm": {
     "name": "#%% md\n"
    }
   },
   "source": [
    "Here ıs how to a conda envıronment to Jupyter lab ın a jıffy:"
   ]
  },
  {
   "cell_type": "markdown",
   "id": "1295ff32-05fe-4163-906c-7fdefc513cc3",
   "metadata": {
    "pycharm": {
     "name": "#%% md\n"
    }
   },
   "source": [
    "![](../images/2022/6_june/conda_to_jupyterlab.png)"
   ]
  },
  {
   "cell_type": "markdown",
   "id": "08ac4ccc-af16-4eeb-b958-f2594fcb6680",
   "metadata": {
    "pycharm": {
     "name": "#%% md\n"
    },
    "tags": [
     "hide-cell"
    ]
   },
   "source": [
    "```bash\n",
    "$ conda create -n new_env python==3.10 -y\n",
    "$ conda activate new_env\n",
    "\n",
    "$ pip install ipykernel\n",
    "$ ipython kernel install --user --name=new_env\n",
    "\n",
    "$ jupyter kernelspec list\n",
    "\n",
    "Available kernels:\n",
    "  python3            C:\\Users\\bex\\AppData\\Roaming\\jupyter\\kernels\\python3\n",
    "  julia-1.7          C:\\Users\\bex\\AppData\\Roaming\\jupyter\\kernels\\julia-1.7\n",
    "  new_env            C:\\Users\\bex\\AppData\\Roaming\\jupyter\\kernels\\new_env\n",
    "```"
   ]
  }
 ],
 "metadata": {
  "kernelspec": {
   "display_name": "kaggle_comp",
   "language": "python",
   "name": "kaggle_comp"
  },
  "language_info": {
   "codemirror_mode": {
    "name": "ipython",
    "version": 3
   },
   "file_extension": ".py",
   "mimetype": "text/x-python",
   "name": "python",
   "nbconvert_exporter": "python",
   "pygments_lexer": "ipython3",
   "version": "3.9.7"
  }
 },
 "nbformat": 4,
 "nbformat_minor": 5
}