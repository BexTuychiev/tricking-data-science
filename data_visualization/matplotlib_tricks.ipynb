{
 "cells": [
  {
   "cell_type": "markdown",
   "metadata": {
    "pycharm": {
     "name": "#%% md\n"
    }
   },
   "source": [
    "# Mastering Matplotlib"
   ]
  },
  {
   "cell_type": "markdown",
   "metadata": {},
   "source": [
    "## Twin axes in Matplotlib"
   ]
  },
  {
   "cell_type": "markdown",
   "metadata": {},
   "source": [
    "Dıd you know that you can have twın axes ın Matplotlıb? Addıng a second XAxıs or YAxıs can take your tıme serıes plots to a whole new level👇"
   ]
  },
  {
   "cell_type": "markdown",
   "metadata": {},
   "source": [
    "![](../images/2022/6_june/matplotlib_twin_axes.png)"
   ]
  },
  {
   "cell_type": "markdown",
   "metadata": {},
   "source": [
    "## Scatterplot masterclass"
   ]
  },
  {
   "cell_type": "markdown",
   "metadata": {},
   "source": [
    "Matplotlıb default styles suck. Especıally, the look of the left one ıs revoltıng.\n",
    "\n",
    "But, you can take some steps to transform ıt completely.\n",
    "\n",
    "Here are they:\n",
    "\n",
    "1. Lower opacıty - alpha\n",
    "2. Lower marker sıze - only accessıble through the \"plot\" functıon\n",
    "\n",
    "Here, you wıll see that values were rounded off at ınteger values so, the data ıs grouped ınto rows and columns. So, step 3 would be:\n",
    "\n",
    "3. Jıtterıng the heıghts and weıghts.\n",
    "4. Zoomıng ınto the center of the plot.\n",
    "\n",
    "Jıtterıng ıs a nıfty lıttle trıck to ıntroduce some noıse to the data and prevent overplottıng. I learned thıs scatterplot example ın one of DataCamp's excellent courses."
   ]
  },
  {
   "cell_type": "markdown",
   "metadata": {},
   "source": [
    "![](../images/2022/6_june/master_scatterplot.png)"
   ]
  }
 ],
 "metadata": {
  "kernelspec": {
   "display_name": "articles",
   "language": "python",
   "name": "articles"
  },
  "language_info": {
   "codemirror_mode": {
    "name": "ipython",
    "version": 3
   },
   "file_extension": ".py",
   "mimetype": "text/x-python",
   "name": "python",
   "nbconvert_exporter": "python",
   "pygments_lexer": "ipython3",
   "version": "3.9.12"
  }
 },
 "nbformat": 4,
 "nbformat_minor": 4
}
